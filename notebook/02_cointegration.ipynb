{
 "cells": [
  {
   "cell_type": "markdown",
   "id": "secure-hotel",
   "metadata": {},
   "source": [
    "# Setup\n",
    "\n",
    "## Load libraries"
   ]
  },
  {
   "cell_type": "code",
   "execution_count": 1,
   "id": "royal-acting",
   "metadata": {},
   "outputs": [
    {
     "name": "stderr",
     "output_type": "stream",
     "text": [
      "Loading required package: xfun\n",
      "\n",
      "\n",
      "Attaching package: 'xfun'\n",
      "\n",
      "\n",
      "The following objects are masked from 'package:base':\n",
      "\n",
      "    attr, isFALSE\n",
      "\n",
      "\n",
      "Loading required package: MASS\n",
      "\n",
      "Loading required package: strucchange\n",
      "\n",
      "Loading required package: zoo\n",
      "\n",
      "\n",
      "Attaching package: 'zoo'\n",
      "\n",
      "\n",
      "The following objects are masked from 'package:base':\n",
      "\n",
      "    as.Date, as.Date.numeric\n",
      "\n",
      "\n",
      "Loading required package: sandwich\n",
      "\n",
      "Loading required package: lmtest\n",
      "\n",
      "\n",
      "Attaching package: 'lubridate'\n",
      "\n",
      "\n",
      "The following objects are masked from 'package:base':\n",
      "\n",
      "    date, intersect, setdiff, union\n",
      "\n",
      "\n",
      "\n",
      "Attaching package: 'tsibble'\n",
      "\n",
      "\n",
      "The following object is masked from 'package:lubridate':\n",
      "\n",
      "    interval\n",
      "\n",
      "\n",
      "The following object is masked from 'package:zoo':\n",
      "\n",
      "    index\n",
      "\n",
      "\n",
      "The following objects are masked from 'package:base':\n",
      "\n",
      "    intersect, setdiff, union\n",
      "\n",
      "\n",
      "\n",
      "Attaching package: 'mltools'\n",
      "\n",
      "\n",
      "The following object is masked from 'package:tsDyn':\n",
      "\n",
      "    mse\n",
      "\n",
      "\n",
      "-- \u001b[1mAttaching packages\u001b[22m ------------------------------------------------------------------------------- tidyverse 1.3.0 --\n",
      "\n",
      "\u001b[32m<U+221A>\u001b[39m \u001b[34mggplot2\u001b[39m 3.3.3     \u001b[32m<U+221A>\u001b[39m \u001b[34mpurrr  \u001b[39m 0.3.4\n",
      "\u001b[32m<U+221A>\u001b[39m \u001b[34mtibble \u001b[39m 3.1.0     \u001b[32m<U+221A>\u001b[39m \u001b[34mdplyr  \u001b[39m 1.0.5\n",
      "\u001b[32m<U+221A>\u001b[39m \u001b[34mtidyr  \u001b[39m 1.1.3     \u001b[32m<U+221A>\u001b[39m \u001b[34mstringr\u001b[39m 1.4.0\n",
      "\u001b[32m<U+221A>\u001b[39m \u001b[34mreadr  \u001b[39m 1.4.0     \u001b[32m<U+221A>\u001b[39m \u001b[34mforcats\u001b[39m 0.5.1\n",
      "\n",
      "-- \u001b[1mConflicts\u001b[22m ---------------------------------------------------------------------------------- tidyverse_conflicts() --\n",
      "\u001b[31mx\u001b[39m \u001b[34mlubridate\u001b[39m::\u001b[32mas.difftime()\u001b[39m masks \u001b[34mbase\u001b[39m::as.difftime()\n",
      "\u001b[31mx\u001b[39m \u001b[34mstringr\u001b[39m::\u001b[32mboundary()\u001b[39m      masks \u001b[34mstrucchange\u001b[39m::boundary()\n",
      "\u001b[31mx\u001b[39m \u001b[34mlubridate\u001b[39m::\u001b[32mdate()\u001b[39m        masks \u001b[34mbase\u001b[39m::date()\n",
      "\u001b[31mx\u001b[39m \u001b[34mdplyr\u001b[39m::\u001b[32mfilter()\u001b[39m          masks \u001b[34mstats\u001b[39m::filter()\n",
      "\u001b[31mx\u001b[39m \u001b[34mdplyr\u001b[39m::\u001b[32mfirst()\u001b[39m           masks \u001b[34mxts\u001b[39m::first()\n",
      "\u001b[31mx\u001b[39m \u001b[34mtsibble\u001b[39m::\u001b[32mintersect()\u001b[39m     masks \u001b[34mlubridate\u001b[39m::intersect(), \u001b[34mbase\u001b[39m::intersect()\n",
      "\u001b[31mx\u001b[39m \u001b[34mtsibble\u001b[39m::\u001b[32minterval()\u001b[39m      masks \u001b[34mlubridate\u001b[39m::interval()\n",
      "\u001b[31mx\u001b[39m \u001b[34mdplyr\u001b[39m::\u001b[32mlag()\u001b[39m             masks \u001b[34mstats\u001b[39m::lag()\n",
      "\u001b[31mx\u001b[39m \u001b[34mdplyr\u001b[39m::\u001b[32mlast()\u001b[39m            masks \u001b[34mxts\u001b[39m::last()\n",
      "\u001b[31mx\u001b[39m \u001b[34mtidyr\u001b[39m::\u001b[32mreplace_na()\u001b[39m      masks \u001b[34mmltools\u001b[39m::replace_na()\n",
      "\u001b[31mx\u001b[39m \u001b[34mdplyr\u001b[39m::\u001b[32mselect()\u001b[39m          masks \u001b[34mMASS\u001b[39m::select()\n",
      "\u001b[31mx\u001b[39m \u001b[34mtsibble\u001b[39m::\u001b[32msetdiff()\u001b[39m       masks \u001b[34mlubridate\u001b[39m::setdiff(), \u001b[34mbase\u001b[39m::setdiff()\n",
      "\u001b[31mx\u001b[39m \u001b[34mtsibble\u001b[39m::\u001b[32munion()\u001b[39m         masks \u001b[34mlubridate\u001b[39m::union(), \u001b[34mbase\u001b[39m::union()\n",
      "\n",
      "here() starts at C:/Users/Acer/Documents/GitHub/price_transmission\n",
      "\n",
      "\n",
      "Attaching package: 'janitor'\n",
      "\n",
      "\n",
      "The following objects are masked from 'package:stats':\n",
      "\n",
      "    chisq.test, fisher.test\n",
      "\n",
      "\n",
      "\n",
      "Attaching package: 'data.table'\n",
      "\n",
      "\n",
      "The following objects are masked from 'package:dplyr':\n",
      "\n",
      "    between, first, last\n",
      "\n",
      "\n",
      "The following object is masked from 'package:purrr':\n",
      "\n",
      "    transpose\n",
      "\n",
      "\n",
      "The following object is masked from 'package:tsibble':\n",
      "\n",
      "    key\n",
      "\n",
      "\n",
      "The following objects are masked from 'package:xts':\n",
      "\n",
      "    first, last\n",
      "\n",
      "\n",
      "The following object is masked from 'package:timetk':\n",
      "\n",
      "    :=\n",
      "\n",
      "\n",
      "The following objects are masked from 'package:lubridate':\n",
      "\n",
      "    hour, isoweek, mday, minute, month, quarter, second, wday, week,\n",
      "    yday, year\n",
      "\n",
      "\n",
      "Registering fonts with R\n",
      "\n",
      "\n",
      "Attaching package: 'patchwork'\n",
      "\n",
      "\n",
      "The following object is masked from 'package:MASS':\n",
      "\n",
      "    area\n",
      "\n",
      "\n",
      "\n",
      "Attaching package: 'scales'\n",
      "\n",
      "\n",
      "The following object is masked from 'package:vroom':\n",
      "\n",
      "    col_factor\n",
      "\n",
      "\n",
      "The following object is masked from 'package:purrr':\n",
      "\n",
      "    discard\n",
      "\n",
      "\n",
      "The following object is masked from 'package:readr':\n",
      "\n",
      "    col_factor\n",
      "\n",
      "\n",
      "\n",
      "Attaching package: 'kableExtra'\n",
      "\n",
      "\n",
      "The following object is masked from 'package:dplyr':\n",
      "\n",
      "    group_rows\n",
      "\n",
      "\n",
      "\n",
      "Attaching package: 'reshape2'\n",
      "\n",
      "\n",
      "The following objects are masked from 'package:data.table':\n",
      "\n",
      "    dcast, melt\n",
      "\n",
      "\n",
      "The following object is masked from 'package:tidyr':\n",
      "\n",
      "    smiths\n",
      "\n",
      "\n",
      "\n",
      "Attaching package: 'magrittr'\n",
      "\n",
      "\n",
      "The following object is masked from 'package:purrr':\n",
      "\n",
      "    set_names\n",
      "\n",
      "\n",
      "The following object is masked from 'package:tidyr':\n",
      "\n",
      "    extract\n",
      "\n",
      "\n"
     ]
    }
   ],
   "source": [
    "if (!require(\"xfun\")) install.packages(\"xfun\")\n",
    "\n",
    "pkgs <- c(\n",
    "  'urca', 'uroot', 'vars', 'forecast', 'dynlm', 'tsDyn', \"aod\", \n",
    "  'lubridate', 'tsbox', 'timetk', 'xts', 'tsibble', 'mltools',\n",
    "  'tidyverse', 'readr', 'vroom', 'readxl', 'writexl', \n",
    "  'rlist', 'here', 'forcats', \"janitor\", 'data.table', \n",
    "  'extrafont', 'patchwork', 'hrbrthemes', 'ggthemes', 'ggsci', 'scales',\n",
    "  'kableExtra', 'gt', 'reshape2'\n",
    ")\n",
    "xfun::pkg_attach2(pkgs, message = TRUE)\n",
    "\n",
    "loadfonts(device = \"win\", quiet = TRUE)\n",
    "setwd(here())\n",
    "\n",
    "# source(\"R/granger_ty.R\")\n",
    "source(\"R/tsa.R\")"
   ]
  },
  {
   "cell_type": "markdown",
   "id": "delayed-relationship",
   "metadata": {},
   "source": [
    "## Load data"
   ]
  },
  {
   "cell_type": "code",
   "execution_count": 2,
   "id": "spare-collector",
   "metadata": {},
   "outputs": [
    {
     "data": {
      "text/html": [
       "<table class=\"dataframe\">\n",
       "<caption>A tbl_ts: 192 × 20</caption>\n",
       "<thead>\n",
       "\t<tr><th scope=col>date</th><th scope=col>phf</th><th scope=col>phw</th><th scope=col>phx</th><th scope=col>pwf</th><th scope=col>pww</th><th scope=col>pwx</th><th scope=col>d_foodcrisis</th><th scope=col>d_pledge</th><th scope=col>month_1</th><th scope=col>month_2</th><th scope=col>month_3</th><th scope=col>month_4</th><th scope=col>month_5</th><th scope=col>month_6</th><th scope=col>month_7</th><th scope=col>month_8</th><th scope=col>month_9</th><th scope=col>month_10</th><th scope=col>month_11</th></tr>\n",
       "\t<tr><th scope=col>&lt;date&gt;</th><th scope=col>&lt;dbl&gt;</th><th scope=col>&lt;dbl&gt;</th><th scope=col>&lt;dbl&gt;</th><th scope=col>&lt;dbl&gt;</th><th scope=col>&lt;dbl&gt;</th><th scope=col>&lt;dbl&gt;</th><th scope=col>&lt;dbl&gt;</th><th scope=col>&lt;dbl&gt;</th><th scope=col>&lt;int&gt;</th><th scope=col>&lt;int&gt;</th><th scope=col>&lt;int&gt;</th><th scope=col>&lt;int&gt;</th><th scope=col>&lt;int&gt;</th><th scope=col>&lt;int&gt;</th><th scope=col>&lt;int&gt;</th><th scope=col>&lt;int&gt;</th><th scope=col>&lt;int&gt;</th><th scope=col>&lt;int&gt;</th><th scope=col>&lt;int&gt;</th></tr>\n",
       "</thead>\n",
       "<tbody>\n",
       "\t<tr><td>2004-01-01</td><td>9.077837</td><td>9.826379</td><td>9.983440</td><td>8.562167</td><td>8.956188</td><td>9.039711</td><td>0</td><td>0</td><td>1</td><td>0</td><td>0</td><td>0</td><td>0</td><td>0</td><td>0</td><td>0</td><td>0</td><td>0</td><td>0</td></tr>\n",
       "\t<tr><td>2004-02-01</td><td>9.081484</td><td>9.778774</td><td>9.977384</td><td>8.545003</td><td>8.958990</td><td>9.036398</td><td>0</td><td>0</td><td>0</td><td>1</td><td>0</td><td>0</td><td>0</td><td>0</td><td>0</td><td>0</td><td>0</td><td>0</td><td>0</td></tr>\n",
       "\t<tr><td>2004-03-01</td><td>9.111845</td><td>9.775654</td><td>9.977257</td><td>8.517193</td><td>9.073739</td><td>9.140171</td><td>0</td><td>0</td><td>0</td><td>0</td><td>1</td><td>0</td><td>0</td><td>0</td><td>0</td><td>0</td><td>0</td><td>0</td><td>0</td></tr>\n",
       "\t<tr><td>2004-04-01</td><td>9.140883</td><td>9.766252</td><td>9.978467</td><td>8.560827</td><td>9.082641</td><td>9.156982</td><td>0</td><td>0</td><td>0</td><td>0</td><td>0</td><td>1</td><td>0</td><td>0</td><td>0</td><td>0</td><td>0</td><td>0</td><td>0</td></tr>\n",
       "\t<tr><td>2004-05-01</td><td>9.127937</td><td>9.731215</td><td>9.975262</td><td>8.585226</td><td>9.082592</td><td>9.146003</td><td>0</td><td>0</td><td>0</td><td>0</td><td>0</td><td>0</td><td>1</td><td>0</td><td>0</td><td>0</td><td>0</td><td>0</td><td>0</td></tr>\n",
       "\t<tr><td>...</td><td>...</td><td>...</td><td>...</td><td>...</td><td>...</td><td>...</td><td>...</td><td>...</td><td>...</td><td>...</td><td>...</td><td>...</td><td>...</td><td>...</td><td>...</td><td>...</td><td>...</td><td>...</td><td>...</td></tr>\n",
       "\t<tr><td>2019-08-01</td><td>9.682529</td><td>10.41524</td><td>10.51372</td><td>8.974238</td><td>9.372824</td><td>9.481257</td><td>0</td><td>0</td><td>0</td><td>0</td><td>0</td><td>0</td><td>0</td><td>0</td><td>0</td><td>1</td><td>0</td><td>0</td><td>0</td></tr>\n",
       "\t<tr><td>2019-09-01</td><td>9.714866</td><td>10.45278</td><td>10.53318</td><td>8.965335</td><td>9.354441</td><td>9.464204</td><td>0</td><td>0</td><td>0</td><td>0</td><td>0</td><td>0</td><td>0</td><td>0</td><td>0</td><td>0</td><td>1</td><td>0</td><td>0</td></tr>\n",
       "\t<tr><td>2019-10-01</td><td>9.698368</td><td>10.45305</td><td>10.51031</td><td>8.977273</td><td>9.341577</td><td>9.451832</td><td>0</td><td>0</td><td>0</td><td>0</td><td>0</td><td>0</td><td>0</td><td>0</td><td>0</td><td>0</td><td>0</td><td>1</td><td>0</td></tr>\n",
       "\t<tr><td>2019-11-01</td><td>9.569552</td><td>10.39826</td><td>10.43388</td><td>8.972210</td><td>9.331393</td><td>9.443005</td><td>0</td><td>0</td><td>0</td><td>0</td><td>0</td><td>0</td><td>0</td><td>0</td><td>0</td><td>0</td><td>0</td><td>0</td><td>1</td></tr>\n",
       "\t<tr><td>2019-12-01</td><td>9.512591</td><td>10.32712</td><td>10.39968</td><td>8.949625</td><td>9.352515</td><td>9.467580</td><td>0</td><td>0</td><td>0</td><td>0</td><td>0</td><td>0</td><td>0</td><td>0</td><td>0</td><td>0</td><td>0</td><td>0</td><td>0</td></tr>\n",
       "</tbody>\n",
       "</table>\n"
      ],
      "text/latex": [
       "A tbl\\_ts: 192 × 20\n",
       "\\begin{tabular}{llllllllllllllllllll}\n",
       " date & phf & phw & phx & pwf & pww & pwx & d\\_foodcrisis & d\\_pledge & month\\_1 & month\\_2 & month\\_3 & month\\_4 & month\\_5 & month\\_6 & month\\_7 & month\\_8 & month\\_9 & month\\_10 & month\\_11\\\\\n",
       " <date> & <dbl> & <dbl> & <dbl> & <dbl> & <dbl> & <dbl> & <dbl> & <dbl> & <int> & <int> & <int> & <int> & <int> & <int> & <int> & <int> & <int> & <int> & <int>\\\\\n",
       "\\hline\n",
       "\t 2004-01-01 & 9.077837 & 9.826379 & 9.983440 & 8.562167 & 8.956188 & 9.039711 & 0 & 0 & 1 & 0 & 0 & 0 & 0 & 0 & 0 & 0 & 0 & 0 & 0\\\\\n",
       "\t 2004-02-01 & 9.081484 & 9.778774 & 9.977384 & 8.545003 & 8.958990 & 9.036398 & 0 & 0 & 0 & 1 & 0 & 0 & 0 & 0 & 0 & 0 & 0 & 0 & 0\\\\\n",
       "\t 2004-03-01 & 9.111845 & 9.775654 & 9.977257 & 8.517193 & 9.073739 & 9.140171 & 0 & 0 & 0 & 0 & 1 & 0 & 0 & 0 & 0 & 0 & 0 & 0 & 0\\\\\n",
       "\t 2004-04-01 & 9.140883 & 9.766252 & 9.978467 & 8.560827 & 9.082641 & 9.156982 & 0 & 0 & 0 & 0 & 0 & 1 & 0 & 0 & 0 & 0 & 0 & 0 & 0\\\\\n",
       "\t 2004-05-01 & 9.127937 & 9.731215 & 9.975262 & 8.585226 & 9.082592 & 9.146003 & 0 & 0 & 0 & 0 & 0 & 0 & 1 & 0 & 0 & 0 & 0 & 0 & 0\\\\\n",
       "\t ... & ... & ... & ... & ... & ... & ... & ... & ... & ... & ... & ... & ... & ... & ... & ... & ... & ... & ... & ...\\\\\n",
       "\t 2019-08-01 & 9.682529 & 10.41524 & 10.51372 & 8.974238 & 9.372824 & 9.481257 & 0 & 0 & 0 & 0 & 0 & 0 & 0 & 0 & 0 & 1 & 0 & 0 & 0\\\\\n",
       "\t 2019-09-01 & 9.714866 & 10.45278 & 10.53318 & 8.965335 & 9.354441 & 9.464204 & 0 & 0 & 0 & 0 & 0 & 0 & 0 & 0 & 0 & 0 & 1 & 0 & 0\\\\\n",
       "\t 2019-10-01 & 9.698368 & 10.45305 & 10.51031 & 8.977273 & 9.341577 & 9.451832 & 0 & 0 & 0 & 0 & 0 & 0 & 0 & 0 & 0 & 0 & 0 & 1 & 0\\\\\n",
       "\t 2019-11-01 & 9.569552 & 10.39826 & 10.43388 & 8.972210 & 9.331393 & 9.443005 & 0 & 0 & 0 & 0 & 0 & 0 & 0 & 0 & 0 & 0 & 0 & 0 & 1\\\\\n",
       "\t 2019-12-01 & 9.512591 & 10.32712 & 10.39968 & 8.949625 & 9.352515 & 9.467580 & 0 & 0 & 0 & 0 & 0 & 0 & 0 & 0 & 0 & 0 & 0 & 0 & 0\\\\\n",
       "\\end{tabular}\n"
      ],
      "text/markdown": [
       "\n",
       "A tbl_ts: 192 × 20\n",
       "\n",
       "| date &lt;date&gt; | phf &lt;dbl&gt; | phw &lt;dbl&gt; | phx &lt;dbl&gt; | pwf &lt;dbl&gt; | pww &lt;dbl&gt; | pwx &lt;dbl&gt; | d_foodcrisis &lt;dbl&gt; | d_pledge &lt;dbl&gt; | month_1 &lt;int&gt; | month_2 &lt;int&gt; | month_3 &lt;int&gt; | month_4 &lt;int&gt; | month_5 &lt;int&gt; | month_6 &lt;int&gt; | month_7 &lt;int&gt; | month_8 &lt;int&gt; | month_9 &lt;int&gt; | month_10 &lt;int&gt; | month_11 &lt;int&gt; |\n",
       "|---|---|---|---|---|---|---|---|---|---|---|---|---|---|---|---|---|---|---|---|\n",
       "| 2004-01-01 | 9.077837 | 9.826379 | 9.983440 | 8.562167 | 8.956188 | 9.039711 | 0 | 0 | 1 | 0 | 0 | 0 | 0 | 0 | 0 | 0 | 0 | 0 | 0 |\n",
       "| 2004-02-01 | 9.081484 | 9.778774 | 9.977384 | 8.545003 | 8.958990 | 9.036398 | 0 | 0 | 0 | 1 | 0 | 0 | 0 | 0 | 0 | 0 | 0 | 0 | 0 |\n",
       "| 2004-03-01 | 9.111845 | 9.775654 | 9.977257 | 8.517193 | 9.073739 | 9.140171 | 0 | 0 | 0 | 0 | 1 | 0 | 0 | 0 | 0 | 0 | 0 | 0 | 0 |\n",
       "| 2004-04-01 | 9.140883 | 9.766252 | 9.978467 | 8.560827 | 9.082641 | 9.156982 | 0 | 0 | 0 | 0 | 0 | 1 | 0 | 0 | 0 | 0 | 0 | 0 | 0 |\n",
       "| 2004-05-01 | 9.127937 | 9.731215 | 9.975262 | 8.585226 | 9.082592 | 9.146003 | 0 | 0 | 0 | 0 | 0 | 0 | 1 | 0 | 0 | 0 | 0 | 0 | 0 |\n",
       "| ... | ... | ... | ... | ... | ... | ... | ... | ... | ... | ... | ... | ... | ... | ... | ... | ... | ... | ... | ... |\n",
       "| 2019-08-01 | 9.682529 | 10.41524 | 10.51372 | 8.974238 | 9.372824 | 9.481257 | 0 | 0 | 0 | 0 | 0 | 0 | 0 | 0 | 0 | 1 | 0 | 0 | 0 |\n",
       "| 2019-09-01 | 9.714866 | 10.45278 | 10.53318 | 8.965335 | 9.354441 | 9.464204 | 0 | 0 | 0 | 0 | 0 | 0 | 0 | 0 | 0 | 0 | 1 | 0 | 0 |\n",
       "| 2019-10-01 | 9.698368 | 10.45305 | 10.51031 | 8.977273 | 9.341577 | 9.451832 | 0 | 0 | 0 | 0 | 0 | 0 | 0 | 0 | 0 | 0 | 0 | 1 | 0 |\n",
       "| 2019-11-01 | 9.569552 | 10.39826 | 10.43388 | 8.972210 | 9.331393 | 9.443005 | 0 | 0 | 0 | 0 | 0 | 0 | 0 | 0 | 0 | 0 | 0 | 0 | 1 |\n",
       "| 2019-12-01 | 9.512591 | 10.32712 | 10.39968 | 8.949625 | 9.352515 | 9.467580 | 0 | 0 | 0 | 0 | 0 | 0 | 0 | 0 | 0 | 0 | 0 | 0 | 0 |\n",
       "\n"
      ],
      "text/plain": [
       "    date       phf      phw      phx      pwf      pww      pwx     \n",
       "1   2004-01-01 9.077837 9.826379 9.983440 8.562167 8.956188 9.039711\n",
       "2   2004-02-01 9.081484 9.778774 9.977384 8.545003 8.958990 9.036398\n",
       "3   2004-03-01 9.111845 9.775654 9.977257 8.517193 9.073739 9.140171\n",
       "4   2004-04-01 9.140883 9.766252 9.978467 8.560827 9.082641 9.156982\n",
       "5   2004-05-01 9.127937 9.731215 9.975262 8.585226 9.082592 9.146003\n",
       "... ...        ...      ...      ...      ...      ...      ...     \n",
       "188 2019-08-01 9.682529 10.41524 10.51372 8.974238 9.372824 9.481257\n",
       "189 2019-09-01 9.714866 10.45278 10.53318 8.965335 9.354441 9.464204\n",
       "190 2019-10-01 9.698368 10.45305 10.51031 8.977273 9.341577 9.451832\n",
       "191 2019-11-01 9.569552 10.39826 10.43388 8.972210 9.331393 9.443005\n",
       "192 2019-12-01 9.512591 10.32712 10.39968 8.949625 9.352515 9.467580\n",
       "    d_foodcrisis d_pledge month_1 month_2 month_3 month_4 month_5 month_6\n",
       "1   0            0        1       0       0       0       0       0      \n",
       "2   0            0        0       1       0       0       0       0      \n",
       "3   0            0        0       0       1       0       0       0      \n",
       "4   0            0        0       0       0       1       0       0      \n",
       "5   0            0        0       0       0       0       1       0      \n",
       "... ...          ...      ...     ...     ...     ...     ...     ...    \n",
       "188 0            0        0       0       0       0       0       0      \n",
       "189 0            0        0       0       0       0       0       0      \n",
       "190 0            0        0       0       0       0       0       0      \n",
       "191 0            0        0       0       0       0       0       0      \n",
       "192 0            0        0       0       0       0       0       0      \n",
       "    month_7 month_8 month_9 month_10 month_11\n",
       "1   0       0       0       0        0       \n",
       "2   0       0       0       0        0       \n",
       "3   0       0       0       0        0       \n",
       "4   0       0       0       0        0       \n",
       "5   0       0       0       0        0       \n",
       "... ...     ...     ...     ...      ...     \n",
       "188 0       1       0       0        0       \n",
       "189 0       0       1       0        0       \n",
       "190 0       0       0       1        0       \n",
       "191 0       0       0       0        1       \n",
       "192 0       0       0       0        0       "
      ]
     },
     "metadata": {},
     "output_type": "display_data"
    }
   ],
   "source": [
    "price <- readRDS('data/rice/clean/rice_price.rds') %>%\n",
    "  filter(date >= '2004-01-01') %>%\n",
    "  mutate(\n",
    "    across(phf:pwx, log),\n",
    "    month = factor(month(date))\n",
    "  )\n",
    "\n",
    "price <- one_hot(as.data.table(price)) %>% \n",
    "  as_tsibble(index = date) %>% \n",
    "  select(-month_12)\n",
    "\n",
    "price"
   ]
  },
  {
   "cell_type": "code",
   "execution_count": 414,
   "id": "sixth-subject",
   "metadata": {},
   "outputs": [],
   "source": [
    "# price <- price %>%\n",
    "#   mutate(\n",
    "#     d_foodcrisis = ifelse(date >= '2007-11-01' & date <= '2008-06-01', 1, 0),\n",
    "#     d_pledge = ifelse(date >= '2011-09-01' & date <= '2014-01-01', 1, 0)\n",
    "#   )"
   ]
  },
  {
   "cell_type": "markdown",
   "id": "innovative-pipeline",
   "metadata": {},
   "source": [
    "# Hommali"
   ]
  },
  {
   "cell_type": "code",
   "execution_count": 4,
   "id": "large-fisher",
   "metadata": {},
   "outputs": [],
   "source": [
    "endo_h <- price %>% as_tibble() %>% select(phf, phw, phx)\n",
    "exo_h  <- price %>% as_tibble() %>% select(d_foodcrisis, d_pledge, starts_with(\"month\"))"
   ]
  },
  {
   "cell_type": "markdown",
   "id": "received-sight",
   "metadata": {},
   "source": [
    "## Descriptive Analysis"
   ]
  },
  {
   "cell_type": "code",
   "execution_count": 416,
   "id": "lesbian-cancellation",
   "metadata": {},
   "outputs": [],
   "source": [
    "endo_h %>% exp() %>%\n",
    "  psych::describe() %>%\n",
    "  rownames_to_column(\"varname\") %>%\n",
    "  select(varname, mean, sd, min, max) %>%\n",
    "  write_xlsx(\"results/tbl_1_desc_h.xlsx\")"
   ]
  },
  {
   "cell_type": "code",
   "execution_count": 5,
   "id": "pregnant-beach",
   "metadata": {},
   "outputs": [
    {
     "data": {
      "image/png": "[encoded data removed]",
      "text/plain": [
       "plot without title"
      ]
     },
     "metadata": {
      "image/png": {
       "height": 900,
       "width": 1500
      }
     },
     "output_type": "display_data"
    }
   ],
   "source": [
    "options(\n",
    "  repr.plot.width = 10,\n",
    "  repr.plot.height = 6 \n",
    ")\n",
    "\n",
    "price %>% \n",
    "  ggplot(aes(x=date)) +\n",
    "    geom_line( aes(y=phf %>% exp(), color = 'เกษตรกรขายได้')) +\n",
    "    geom_line( aes(y=phw %>% exp(), color = 'ขายส่ง')) +\n",
    "    geom_line( aes(y=phx %>% exp(), color = 'ส่งออก')) +\n",
    "    scale_color_d3() +\n",
    "    expand_limits(y = 0) +\n",
    "    scale_y_continuous(label = comma) +\n",
    "    labs(title = 'ราคาข้าวหอมมะลิ 3 ตลาด',\n",
    "         x =  \"ปี\",\n",
    "         y = 'บาท/ตัน'\n",
    "        ) +\n",
    "    theme_ipsum(\n",
    "      base_size = 16,\n",
    "      base_family = \"Athiti Light\",\n",
    "      axis_title_size = 16\n",
    "    ) +\n",
    "    theme(\n",
    "      legend.position = c(1, 1),\n",
    "      legend.direction = 'horizontal',\n",
    "      legend.justification = 'right',\n",
    "      legend.title = element_blank()\n",
    "    ) +\n",
    "    scale_x_date(date_breaks = '2 years',\n",
    "                 labels = function(x) year(x)+543\n",
    "                 )\n",
    "\n",
    "# ggsave('figures/fig_1_h.png', width = 10, height = 6)"
   ]
  },
  {
   "cell_type": "markdown",
   "id": "oriental-haiti",
   "metadata": {},
   "source": [
    "## Unit Root Test"
   ]
  },
  {
   "cell_type": "code",
   "execution_count": 48,
   "id": "earned-communist",
   "metadata": {},
   "outputs": [],
   "source": [
    "# urca::ur.df(\n",
    "#   price %>% select('pwx') %>% ts_ts %>% diff(), \n",
    "#   type = 'drift') %>% summary"
   ]
  },
  {
   "cell_type": "code",
   "execution_count": 89,
   "id": "generic-flavor",
   "metadata": {},
   "outputs": [
    {
     "name": "stderr",
     "output_type": "stream",
     "text": [
      "[time]: 'date' [value]: 'phf' \n",
      "\n",
      "[time]: 'date' [value]: 'phf' \n",
      "\n",
      "[time]: 'date' [value]: 'phw' \n",
      "\n",
      "[time]: 'date' [value]: 'phw' \n",
      "\n",
      "[time]: 'date' [value]: 'phx' \n",
      "\n",
      "[time]: 'date' [value]: 'phx' \n",
      "\n"
     ]
    },
    {
     "data": {
      "text/html": [
       "<table class=\"dataframe\">\n",
       "<caption>A tibble: 3 × 5</caption>\n",
       "<thead>\n",
       "\t<tr><th scope=col>variable</th><th scope=col>d0_trend</th><th scope=col>d0_constant</th><th scope=col>d1_trend</th><th scope=col>d1_constant</th></tr>\n",
       "\t<tr><th scope=col>&lt;chr&gt;</th><th scope=col>&lt;chr&gt;</th><th scope=col>&lt;chr&gt;</th><th scope=col>&lt;chr&gt;</th><th scope=col>&lt;chr&gt;</th></tr>\n",
       "</thead>\n",
       "<tbody>\n",
       "\t<tr><td>phf</td><td>-2.156   [1]</td><td>-2.153   [1]</td><td>-7.729***[1]</td><td>-7.702***[1]</td></tr>\n",
       "\t<tr><td>phw</td><td>-2.088   [1]</td><td>-2.059   [1]</td><td>-9.130***[1]</td><td>-9.105***[1]</td></tr>\n",
       "\t<tr><td>phx</td><td>-2.349   [1]</td><td>-2.281   [1]</td><td>-8.237***[1]</td><td>-8.207***[1]</td></tr>\n",
       "</tbody>\n",
       "</table>\n"
      ],
      "text/latex": [
       "A tibble: 3 × 5\n",
       "\\begin{tabular}{lllll}\n",
       " variable & d0\\_trend & d0\\_constant & d1\\_trend & d1\\_constant\\\\\n",
       " <chr> & <chr> & <chr> & <chr> & <chr>\\\\\n",
       "\\hline\n",
       "\t phf & -2.156   {[}1{]} & -2.153   {[}1{]} & -7.729***{[}1{]} & -7.702***{[}1{]}\\\\\n",
       "\t phw & -2.088   {[}1{]} & -2.059   {[}1{]} & -9.130***{[}1{]} & -9.105***{[}1{]}\\\\\n",
       "\t phx & -2.349   {[}1{]} & -2.281   {[}1{]} & -8.237***{[}1{]} & -8.207***{[}1{]}\\\\\n",
       "\\end{tabular}\n"
      ],
      "text/markdown": [
       "\n",
       "A tibble: 3 × 5\n",
       "\n",
       "| variable &lt;chr&gt; | d0_trend &lt;chr&gt; | d0_constant &lt;chr&gt; | d1_trend &lt;chr&gt; | d1_constant &lt;chr&gt; |\n",
       "|---|---|---|---|---|\n",
       "| phf | -2.156   [1] | -2.153   [1] | -7.729***[1] | -7.702***[1] |\n",
       "| phw | -2.088   [1] | -2.059   [1] | -9.130***[1] | -9.105***[1] |\n",
       "| phx | -2.349   [1] | -2.281   [1] | -8.237***[1] | -8.207***[1] |\n",
       "\n"
      ],
      "text/plain": [
       "  variable d0_trend     d0_constant  d1_trend     d1_constant \n",
       "1 phf      -2.156   [1] -2.153   [1] -7.729***[1] -7.702***[1]\n",
       "2 phw      -2.088   [1] -2.059   [1] -9.130***[1] -9.105***[1]\n",
       "3 phx      -2.349   [1] -2.281   [1] -8.237***[1] -8.207***[1]"
      ]
     },
     "metadata": {},
     "output_type": "display_data"
    }
   ],
   "source": [
    "ph_names <- c('phf', 'phw', 'phx')\n",
    "\n",
    "expand_grid(\n",
    "  'varname' = ph_names, \n",
    "  'n_diff' = c(0,1)\n",
    ") %>% \n",
    "  pmap(tsa_ur_adf, y = price, specs = c('trend', 'drift')) %>%\n",
    "  reduce(bind_rows) %>% \n",
    "  tsa_report_adf() %>% \n",
    "  write_xlsx(\"results/tbl_2_unit_root_h.xlsx\")"
   ]
  },
  {
   "cell_type": "markdown",
   "id": "suffering-imagination",
   "metadata": {},
   "source": [
    "## Optimal Lag"
   ]
  },
  {
   "cell_type": "code",
   "execution_count": 417,
   "id": "vulnerable-estate",
   "metadata": {},
   "outputs": [
    {
     "data": {
      "text/html": [
       "<dl>\n",
       "\t<dt>$selection</dt>\n",
       "\t\t<dd><style>\n",
       ".dl-inline {width: auto; margin:0; padding: 0}\n",
       ".dl-inline>dt, .dl-inline>dd {float: none; width: auto; display: inline-block}\n",
       ".dl-inline>dt::after {content: \":\\0020\"; padding-right: .5ex}\n",
       ".dl-inline>dt:not(:first-of-type) {padding-left: .5ex}\n",
       "</style><dl class=dl-inline><dt>AIC(n)</dt><dd>3</dd><dt>HQ(n)</dt><dd>1</dd><dt>SC(n)</dt><dd>1</dd><dt>FPE(n)</dt><dd>3</dd></dl>\n",
       "</dd>\n",
       "\t<dt>$criteria</dt>\n",
       "\t\t<dd><table class=\"dataframe\">\n",
       "<caption>A matrix: 4 × 10 of type dbl</caption>\n",
       "<thead>\n",
       "\t<tr><th></th><th scope=col>1</th><th scope=col>2</th><th scope=col>3</th><th scope=col>4</th><th scope=col>5</th><th scope=col>6</th><th scope=col>7</th><th scope=col>8</th><th scope=col>9</th><th scope=col>10</th></tr>\n",
       "</thead>\n",
       "<tbody>\n",
       "\t<tr><th scope=row>AIC(n)</th><td>-2.041955e+01</td><td>-2.043293e+01</td><td>-2.046425e+01</td><td>-2.038198e+01</td><td>-2.035079e+01</td><td>-2.028235e+01</td><td>-2.024015e+01</td><td>-2.019241e+01</td><td>-2.013470e+01</td><td>-2.009538e+01</td></tr>\n",
       "\t<tr><th scope=row>HQ(n)</th><td>-2.003417e+01</td><td>-1.998333e+01</td><td>-1.995042e+01</td><td>-1.980392e+01</td><td>-1.970849e+01</td><td>-1.957583e+01</td><td>-1.946940e+01</td><td>-1.935743e+01</td><td>-1.923549e+01</td><td>-1.913194e+01</td></tr>\n",
       "\t<tr><th scope=row>SC(n)</th><td>-1.946891e+01</td><td>-1.932385e+01</td><td>-1.919674e+01</td><td>-1.895602e+01</td><td>-1.876639e+01</td><td>-1.853952e+01</td><td>-1.833888e+01</td><td>-1.813269e+01</td><td>-1.791654e+01</td><td>-1.771878e+01</td></tr>\n",
       "\t<tr><th scope=row>FPE(n)</th><td> 1.357528e-09</td><td> 1.341019e-09</td><td> 1.301667e-09</td><td> 1.416098e-09</td><td> 1.464607e-09</td><td> 1.573141e-09</td><td> 1.647014e-09</td><td> 1.735153e-09</td><td> 1.847742e-09</td><td> 1.933395e-09</td></tr>\n",
       "</tbody>\n",
       "</table>\n",
       "</dd>\n",
       "</dl>\n"
      ],
      "text/latex": [
       "\\begin{description}\n",
       "\\item[\\$selection] \\begin{description*}\n",
       "\\item[AIC(n)] 3\n",
       "\\item[HQ(n)] 1\n",
       "\\item[SC(n)] 1\n",
       "\\item[FPE(n)] 3\n",
       "\\end{description*}\n",
       "\n",
       "\\item[\\$criteria] A matrix: 4 × 10 of type dbl\n",
       "\\begin{tabular}{r|llllllllll}\n",
       "  & 1 & 2 & 3 & 4 & 5 & 6 & 7 & 8 & 9 & 10\\\\\n",
       "\\hline\n",
       "\tAIC(n) & -2.041955e+01 & -2.043293e+01 & -2.046425e+01 & -2.038198e+01 & -2.035079e+01 & -2.028235e+01 & -2.024015e+01 & -2.019241e+01 & -2.013470e+01 & -2.009538e+01\\\\\n",
       "\tHQ(n) & -2.003417e+01 & -1.998333e+01 & -1.995042e+01 & -1.980392e+01 & -1.970849e+01 & -1.957583e+01 & -1.946940e+01 & -1.935743e+01 & -1.923549e+01 & -1.913194e+01\\\\\n",
       "\tSC(n) & -1.946891e+01 & -1.932385e+01 & -1.919674e+01 & -1.895602e+01 & -1.876639e+01 & -1.853952e+01 & -1.833888e+01 & -1.813269e+01 & -1.791654e+01 & -1.771878e+01\\\\\n",
       "\tFPE(n) &  1.357528e-09 &  1.341019e-09 &  1.301667e-09 &  1.416098e-09 &  1.464607e-09 &  1.573141e-09 &  1.647014e-09 &  1.735153e-09 &  1.847742e-09 &  1.933395e-09\\\\\n",
       "\\end{tabular}\n",
       "\n",
       "\\end{description}\n"
      ],
      "text/markdown": [
       "$selection\n",
       ":   AIC(n)\n",
       ":   3HQ(n)\n",
       ":   1SC(n)\n",
       ":   1FPE(n)\n",
       ":   3\n",
       "\n",
       "\n",
       "$criteria\n",
       ":   \n",
       "A matrix: 4 × 10 of type dbl\n",
       "\n",
       "| <!--/--> | 1 | 2 | 3 | 4 | 5 | 6 | 7 | 8 | 9 | 10 |\n",
       "|---|---|---|---|---|---|---|---|---|---|---|\n",
       "| AIC(n) | -2.041955e+01 | -2.043293e+01 | -2.046425e+01 | -2.038198e+01 | -2.035079e+01 | -2.028235e+01 | -2.024015e+01 | -2.019241e+01 | -2.013470e+01 | -2.009538e+01 |\n",
       "| HQ(n) | -2.003417e+01 | -1.998333e+01 | -1.995042e+01 | -1.980392e+01 | -1.970849e+01 | -1.957583e+01 | -1.946940e+01 | -1.935743e+01 | -1.923549e+01 | -1.913194e+01 |\n",
       "| SC(n) | -1.946891e+01 | -1.932385e+01 | -1.919674e+01 | -1.895602e+01 | -1.876639e+01 | -1.853952e+01 | -1.833888e+01 | -1.813269e+01 | -1.791654e+01 | -1.771878e+01 |\n",
       "| FPE(n) |  1.357528e-09 |  1.341019e-09 |  1.301667e-09 |  1.416098e-09 |  1.464607e-09 |  1.573141e-09 |  1.647014e-09 |  1.735153e-09 |  1.847742e-09 |  1.933395e-09 |\n",
       "\n",
       "\n",
       "\n",
       "\n"
      ],
      "text/plain": [
       "$selection\n",
       "AIC(n)  HQ(n)  SC(n) FPE(n) \n",
       "     3      1      1      3 \n",
       "\n",
       "$criteria\n",
       "                   1             2             3             4             5\n",
       "AIC(n) -2.041955e+01 -2.043293e+01 -2.046425e+01 -2.038198e+01 -2.035079e+01\n",
       "HQ(n)  -2.003417e+01 -1.998333e+01 -1.995042e+01 -1.980392e+01 -1.970849e+01\n",
       "SC(n)  -1.946891e+01 -1.932385e+01 -1.919674e+01 -1.895602e+01 -1.876639e+01\n",
       "FPE(n)  1.357528e-09  1.341019e-09  1.301667e-09  1.416098e-09  1.464607e-09\n",
       "                   6             7             8             9            10\n",
       "AIC(n) -2.028235e+01 -2.024015e+01 -2.019241e+01 -2.013470e+01 -2.009538e+01\n",
       "HQ(n)  -1.957583e+01 -1.946940e+01 -1.935743e+01 -1.923549e+01 -1.913194e+01\n",
       "SC(n)  -1.853952e+01 -1.833888e+01 -1.813269e+01 -1.791654e+01 -1.771878e+01\n",
       "FPE(n)  1.573141e-09  1.647014e-09  1.735153e-09  1.847742e-09  1.933395e-09\n"
      ]
     },
     "metadata": {},
     "output_type": "display_data"
    }
   ],
   "source": [
    "varselect <- VARselect(endo_h, exogen = exo_h, lag.max = 10, type = 'both')\n",
    "varselect"
   ]
  },
  {
   "cell_type": "code",
   "execution_count": 418,
   "id": "affecting-devil",
   "metadata": {},
   "outputs": [],
   "source": [
    "varselect$criteria %>% t %>% \n",
    "  as_tibble %>% \n",
    "  rownames_to_column('lag') %>%\n",
    "  write_xlsx(\"results/tbl_3_optimal_lag_h.xlsx\")"
   ]
  },
  {
   "cell_type": "markdown",
   "id": "impressive-dairy",
   "metadata": {},
   "source": [
    "## Deterministic Term"
   ]
  },
  {
   "cell_type": "code",
   "execution_count": 420,
   "id": "balanced-dublin",
   "metadata": {},
   "outputs": [],
   "source": [
    "tsa_select_DT <- function(endo, ...) {\n",
    "  \n",
    "  # estimate 5 specification of VECM\n",
    "  \n",
    "  spec1 <- tsDyn::VECM(endo, estim = \"ML\", include = 'none', ...) %>% suppressWarnings()\n",
    "  spec2 <- tsDyn::VECM(endo, estim = \"ML\", LRinclude = 'const', ...) %>% suppressWarnings()\n",
    "  spec3 <- tsDyn::VECM(endo, estim = \"ML\", include = 'const', ...) %>% suppressWarnings()\n",
    "  spec4 <- tsDyn::VECM(endo, estim = \"ML\", include = 'const', LRinclude = 'trend', ...) %>% suppressWarnings()\n",
    "  spec5 <- tsDyn::VECM(endo, estim = \"ML\", include = 'both', ...) %>% suppressWarnings()\n",
    "  \n",
    "  res <- list(spec1, spec2, spec3, spec4, spec5)\n",
    "  tibble(\n",
    "    model = 1:length(res),\n",
    "    AIC = res %>% map_dbl(AIC),\n",
    "    BIC = res %>% map_dbl(BIC)\n",
    "  )\n",
    "}\n",
    "\n",
    "tsa_select_DT(endo_h, exogen = exo_h, lag = 1) %>%\n",
    "  write_xlsx(\"results/tbl_a1_model_spec.xlsx\")"
   ]
  },
  {
   "cell_type": "markdown",
   "id": "found-swing",
   "metadata": {},
   "source": [
    "## Cointegration Test"
   ]
  },
  {
   "cell_type": "code",
   "execution_count": 49,
   "id": "engaged-columbus",
   "metadata": {},
   "outputs": [],
   "source": [
    "vecm_h <- tsDyn::VECM(\n",
    "  endo_h, exogen = exo_h, lag = 1,\n",
    "  estim = \"ML\", LRinclude = 'const',\n",
    "  ) %>% suppressWarnings()"
   ]
  },
  {
   "cell_type": "code",
   "execution_count": 61,
   "id": "engaging-community",
   "metadata": {},
   "outputs": [
    {
     "name": "stderr",
     "output_type": "stream",
     "text": [
      "Warning message in if (class(x) == \"numeric\") return(noquote(r)):\n",
      "\"the condition has length > 1 and only the first element will be used\"\n",
      "Warning message in if (class(x) == \"matrix\") return(matrix(noquote(r), ncol = ncol(x), :\n",
      "\"the condition has length > 1 and only the first element will be used\"\n",
      "Warning message in if (class(x) == \"numeric\") return(noquote(r)):\n",
      "\"the condition has length > 1 and only the first element will be used\"\n",
      "Warning message in if (class(x) == \"matrix\") return(matrix(noquote(r), ncol = ncol(x), :\n",
      "\"the condition has length > 1 and only the first element will be used\"\n"
     ]
    }
   ],
   "source": [
    "summary(vecm_h)$coefMat %>% as.data.frame %>% \n",
    "  rownames_to_column() %>%\n",
    "  write_xlsx(\"results/vecm_ph.xlsx\")"
   ]
  },
  {
   "cell_type": "code",
   "execution_count": 422,
   "id": "narrow-electric",
   "metadata": {},
   "outputs": [],
   "source": [
    "vecm_h <- tsDyn::VECM(\n",
    "  endo_h, exogen = exo_h, lag = 1,\n",
    "  estim = \"ML\", LRinclude = 'const',\n",
    "  ) %>% suppressWarnings()\n",
    "\n",
    "rank.test(vecm_h) %>% summary() %>%\n",
    "  select(-trace_pval_T) %>%\n",
    "  write_xlsx(\"results/tbl_4_rank_test.xlsx\")"
   ]
  },
  {
   "cell_type": "markdown",
   "id": "greatest-governor",
   "metadata": {},
   "source": [
    "## VECM"
   ]
  },
  {
   "cell_type": "code",
   "execution_count": 5,
   "id": "industrial-president",
   "metadata": {},
   "outputs": [],
   "source": [
    "vecm_h <- tsDyn::VECM(\n",
    "  endo_h, exogen = exo_h, lag = 1, r = 2,\n",
    "  estim = \"ML\", LRinclude = 'const',\n",
    "  ) %>% suppressWarnings()"
   ]
  },
  {
   "cell_type": "code",
   "execution_count": 6,
   "id": "nasty-configuration",
   "metadata": {},
   "outputs": [
    {
     "name": "stderr",
     "output_type": "stream",
     "text": [
      "Warning message in if (class(x) == \"numeric\") return(noquote(r)):\n",
      "\"the condition has length > 1 and only the first element will be used\"\n",
      "Warning message in if (class(x) == \"matrix\") return(matrix(noquote(r), ncol = ncol(x), :\n",
      "\"the condition has length > 1 and only the first element will be used\"\n",
      "Warning message in if (class(x) == \"numeric\") return(noquote(r)):\n",
      "\"the condition has length > 1 and only the first element will be used\"\n",
      "Warning message in if (class(x) == \"matrix\") return(matrix(noquote(r), ncol = ncol(x), :\n",
      "\"the condition has length > 1 and only the first element will be used\"\n"
     ]
    },
    {
     "data": {
      "text/plain": [
       "#############\n",
       "###Model VECM \n",
       "#############\n",
       "Full sample size: 192 \tEnd sample size: 190\n",
       "Number of variables: 3 \tNumber of estimated slope parameters 54\n",
       "AIC -3888.313 \tBIC -3706.479 \tSSR 0.8342457\n",
       "Cointegrating vector (estimated by ML):\n",
       "             phf phw        phx      const\n",
       "r1  1.000000e+00   0 -0.8632358 -0.5454575\n",
       "r2 -5.551115e-17   1 -1.0059131  0.1505543\n",
       "\n",
       "\n",
       "             ECT1               ECT2                phf -1             \n",
       "Equation phf -0.2724(0.0573)*** 0.1800(0.0685)**    0.0228(0.0922)     \n",
       "Equation phw -0.1346(0.0694).   -0.0076(0.0829)     -0.0699(0.1116)    \n",
       "Equation phx -0.1160(0.0619).   0.2182(0.0739)**    0.0545(0.0995)     \n",
       "             phw -1              phx -1            d_foodcrisis     \n",
       "Equation phf 0.0231(0.1007)      0.2776(0.1093)*   0.0620(0.0157)***\n",
       "Equation phw -0.1526(0.1219)     0.4309(0.1322)**  0.0471(0.0190)*  \n",
       "Equation phx -0.1418(0.1087)     0.3246(0.1179)**  0.0629(0.0169)***\n",
       "             d_pledge           month_1            month_2            \n",
       "Equation phf 0.0205(0.0081)*    0.0078(0.0097)     0.0172(0.0096).    \n",
       "Equation phw 0.0129(0.0099)     0.0158(0.0117)     0.0006(0.0116)     \n",
       "Equation phx 0.0052(0.0088)     0.0170(0.0104)     -0.0007(0.0104)    \n",
       "             month_3             month_4            month_5            \n",
       "Equation phf 0.0073(0.0095)      0.0201(0.0094)*    0.0006(0.0095)     \n",
       "Equation phw -0.0065(0.0115)     0.0097(0.0113)     -0.0003(0.0115)    \n",
       "Equation phx -0.0032(0.0102)     0.0179(0.0101).    0.0079(0.0103)     \n",
       "             month_6             month_7            month_8           \n",
       "Equation phf -0.0074(0.0095)     0.0044(0.0095)     0.0097(0.0094)    \n",
       "Equation phw -0.0072(0.0115)     0.0097(0.0114)     0.0041(0.0114)    \n",
       "Equation phx 0.0021(0.0102)      0.0126(0.0102)     0.0125(0.0102)    \n",
       "             month_9            month_10            month_11          \n",
       "Equation phf 0.0113(0.0094)     -0.0006(0.0095)     -0.0424(0.0094)***\n",
       "Equation phw 0.0156(0.0114)     -0.0004(0.0114)     -0.0329(0.0114)** \n",
       "Equation phx 0.0087(0.0102)     -0.0098(0.0102)     -0.0277(0.0102)** "
      ]
     },
     "metadata": {},
     "output_type": "display_data"
    }
   ],
   "source": [
    "vecm_h %>% summary"
   ]
  },
  {
   "cell_type": "code",
   "execution_count": 424,
   "id": "artistic-welsh",
   "metadata": {},
   "outputs": [
    {
     "data": {
      "text/html": [
       "<table class=\"dataframe\">\n",
       "<caption>A matrix: 4 × 2 of type dbl</caption>\n",
       "<thead>\n",
       "\t<tr><th></th><th scope=col>r1</th><th scope=col>r2</th></tr>\n",
       "</thead>\n",
       "<tbody>\n",
       "\t<tr><th scope=row>phf</th><td> 1.0000000</td><td>-5.551115e-17</td></tr>\n",
       "\t<tr><th scope=row>phw</th><td> 0.0000000</td><td> 1.000000e+00</td></tr>\n",
       "\t<tr><th scope=row>phx</th><td>-0.8632358</td><td>-1.005913e+00</td></tr>\n",
       "\t<tr><th scope=row>const</th><td>-0.5454575</td><td> 1.505543e-01</td></tr>\n",
       "</tbody>\n",
       "</table>\n"
      ],
      "text/latex": [
       "A matrix: 4 × 2 of type dbl\n",
       "\\begin{tabular}{r|ll}\n",
       "  & r1 & r2\\\\\n",
       "\\hline\n",
       "\tphf &  1.0000000 & -5.551115e-17\\\\\n",
       "\tphw &  0.0000000 &  1.000000e+00\\\\\n",
       "\tphx & -0.8632358 & -1.005913e+00\\\\\n",
       "\tconst & -0.5454575 &  1.505543e-01\\\\\n",
       "\\end{tabular}\n"
      ],
      "text/markdown": [
       "\n",
       "A matrix: 4 × 2 of type dbl\n",
       "\n",
       "| <!--/--> | r1 | r2 |\n",
       "|---|---|---|\n",
       "| phf |  1.0000000 | -5.551115e-17 |\n",
       "| phw |  0.0000000 |  1.000000e+00 |\n",
       "| phx | -0.8632358 | -1.005913e+00 |\n",
       "| const | -0.5454575 |  1.505543e-01 |\n",
       "\n"
      ],
      "text/plain": [
       "      r1         r2           \n",
       "phf    1.0000000 -5.551115e-17\n",
       "phw    0.0000000  1.000000e+00\n",
       "phx   -0.8632358 -1.005913e+00\n",
       "const -0.5454575  1.505543e-01"
      ]
     },
     "metadata": {},
     "output_type": "display_data"
    }
   ],
   "source": [
    "vecm_h$model.specific$beta"
   ]
  },
  {
   "cell_type": "code",
   "execution_count": 426,
   "id": "designing-shipping",
   "metadata": {},
   "outputs": [],
   "source": [
    "# vecm_h %>% summary %>% suppressWarnings()"
   ]
  },
  {
   "cell_type": "code",
   "execution_count": 427,
   "id": "corporate-defensive",
   "metadata": {},
   "outputs": [],
   "source": [
    "vecm_h %>% \n",
    "  summary %>% suppressWarnings() %>% \n",
    "  '[['('bigcoefficients') %>% \n",
    "  t %>% \n",
    "  as.data.frame %>%\n",
    "  rownames_to_column() %>%\n",
    "  write_xlsx(\"results/tbl_5_vecm_h.xlsx\")"
   ]
  },
  {
   "cell_type": "code",
   "execution_count": 64,
   "id": "portable-understanding",
   "metadata": {},
   "outputs": [],
   "source": [
    "# vecm_h_cajo <- ca.jo(endo_h, dumvar = exo_h, ecdet = \"const\", type=\"eigen\", K=2, spec=\"transitory\")\n",
    "# vecm_h_ols <- cajools(vecm_h_cajo)\n",
    "# vecm_h_ols %>% summary()"
   ]
  },
  {
   "cell_type": "markdown",
   "id": "hollywood-scotland",
   "metadata": {},
   "source": [
    "### Test"
   ]
  },
  {
   "cell_type": "code",
   "execution_count": 428,
   "id": "accessible-cardiff",
   "metadata": {},
   "outputs": [],
   "source": [
    "vecm_h_var <- tsDyn:::vec2var.tsDyn(vecm_h)\n",
    "tsa_VAR_diag(vecm_h_var) %>%\n",
    "  write_xlsx(\"results/tbl_a2_model_diag_h.xlsx\")"
   ]
  },
  {
   "cell_type": "code",
   "execution_count": 429,
   "id": "signal-proposition",
   "metadata": {},
   "outputs": [],
   "source": [
    "bound_unit_circle <- function(x) {\n",
    "  x <- ifelse(x > 1, 1, x)\n",
    "  x <- ifelse(x < -1, -1, x)\n",
    "  return(x)\n",
    "}\n",
    "\n",
    "# bound_unit_circle(Re(eigen(vecm_h_var$A$A1)$values))"
   ]
  },
  {
   "cell_type": "code",
   "execution_count": 430,
   "id": "special-tournament",
   "metadata": {},
   "outputs": [
    {
     "data": {
      "text/html": [
       "<strong>png:</strong> 2"
      ],
      "text/latex": [
       "\\textbf{png:} 2"
      ],
      "text/markdown": [
       "**png:** 2"
      ],
      "text/plain": [
       "png \n",
       "  2 "
      ]
     },
     "metadata": {},
     "output_type": "display_data"
    }
   ],
   "source": [
    "library(\"plotrix\")\n",
    "\n",
    "options(\n",
    "  repr.plot.width = 6,\n",
    "  repr.plot.height = 6 \n",
    ")\n",
    "\n",
    "png(\n",
    "  filename = \"figures/fig_a1_stability_h.png\",\n",
    "  units = \"in\", \n",
    "  width = 6, \n",
    "  height = 6,\n",
    "  pointsize = 10, \n",
    "  res = 300\n",
    ")\n",
    "\n",
    "x <- seq(-1, 1, length = 1000)\n",
    "y1 <- sqrt(1-x^2)\n",
    "y2 <- -sqrt(1-x^2)\n",
    "plot(\n",
    "  Re(eigen(vecm_h_var$A$A1)$values) %>% bound_unit_circle,\n",
    "  Im(eigen(vecm_h_var$A$A1)$values) %>% bound_unit_circle,\n",
    "  pch=19, col = \"blue\", \n",
    "  xlab = 'Real part', ylab = 'Complex part',\n",
    "  ylim = c(-2, 2), xlim = c(-2, 2)\n",
    ")\n",
    "points(\n",
    "  Re(eigen(vecm_h_var$A$A2)$values) %>% bound_unit_circle,\n",
    "  Im(eigen(vecm_h_var$A$A2)$values) %>% bound_unit_circle,\n",
    "  pch=19, col = \"blue\"\n",
    ")\n",
    "abline(h=0)\n",
    "abline(v=0)\n",
    "draw.circle(0, 0, 1, nv = 1000, border = NULL, col = NA, lty = 1, lwd = 1)\n",
    "\n",
    "dev.off()"
   ]
  },
  {
   "cell_type": "markdown",
   "id": "derived-freedom",
   "metadata": {},
   "source": [
    "## Granger Casuality Test"
   ]
  },
  {
   "cell_type": "code",
   "execution_count": 431,
   "id": "solid-explanation",
   "metadata": {},
   "outputs": [
    {
     "data": {
      "text/html": [
       "<table class=\"dataframe\">\n",
       "<caption>A tibble: 6 × 5</caption>\n",
       "<thead>\n",
       "\t<tr><th scope=col>x</th><th scope=col>y</th><th scope=col>chi2_stat</th><th scope=col>chi2_df</th><th scope=col>chi2_pval</th></tr>\n",
       "\t<tr><th scope=col>&lt;chr&gt;</th><th scope=col>&lt;chr&gt;</th><th scope=col>&lt;dbl&gt;</th><th scope=col>&lt;dbl&gt;</th><th scope=col>&lt;dbl&gt;</th></tr>\n",
       "</thead>\n",
       "<tbody>\n",
       "\t<tr><td>phw</td><td>phf</td><td> 4.0827743</td><td>1</td><td>4.332247e-02</td></tr>\n",
       "\t<tr><td>phx</td><td>phf</td><td> 9.2120779</td><td>1</td><td>2.404237e-03</td></tr>\n",
       "\t<tr><td>phf</td><td>phw</td><td> 2.5266134</td><td>1</td><td>1.119402e-01</td></tr>\n",
       "\t<tr><td>phx</td><td>phw</td><td>17.6010764</td><td>1</td><td>2.724341e-05</td></tr>\n",
       "\t<tr><td>phf</td><td>phx</td><td> 0.2371593</td><td>1</td><td>6.262654e-01</td></tr>\n",
       "\t<tr><td>phw</td><td>phx</td><td> 0.4416404</td><td>1</td><td>5.063318e-01</td></tr>\n",
       "</tbody>\n",
       "</table>\n"
      ],
      "text/latex": [
       "A tibble: 6 × 5\n",
       "\\begin{tabular}{lllll}\n",
       " x & y & chi2\\_stat & chi2\\_df & chi2\\_pval\\\\\n",
       " <chr> & <chr> & <dbl> & <dbl> & <dbl>\\\\\n",
       "\\hline\n",
       "\t phw & phf &  4.0827743 & 1 & 4.332247e-02\\\\\n",
       "\t phx & phf &  9.2120779 & 1 & 2.404237e-03\\\\\n",
       "\t phf & phw &  2.5266134 & 1 & 1.119402e-01\\\\\n",
       "\t phx & phw & 17.6010764 & 1 & 2.724341e-05\\\\\n",
       "\t phf & phx &  0.2371593 & 1 & 6.262654e-01\\\\\n",
       "\t phw & phx &  0.4416404 & 1 & 5.063318e-01\\\\\n",
       "\\end{tabular}\n"
      ],
      "text/markdown": [
       "\n",
       "A tibble: 6 × 5\n",
       "\n",
       "| x &lt;chr&gt; | y &lt;chr&gt; | chi2_stat &lt;dbl&gt; | chi2_df &lt;dbl&gt; | chi2_pval &lt;dbl&gt; |\n",
       "|---|---|---|---|---|\n",
       "| phw | phf |  4.0827743 | 1 | 4.332247e-02 |\n",
       "| phx | phf |  9.2120779 | 1 | 2.404237e-03 |\n",
       "| phf | phw |  2.5266134 | 1 | 1.119402e-01 |\n",
       "| phx | phw | 17.6010764 | 1 | 2.724341e-05 |\n",
       "| phf | phx |  0.2371593 | 1 | 6.262654e-01 |\n",
       "| phw | phx |  0.4416404 | 1 | 5.063318e-01 |\n",
       "\n"
      ],
      "text/plain": [
       "  x   y   chi2_stat  chi2_df chi2_pval   \n",
       "1 phw phf  4.0827743 1       4.332247e-02\n",
       "2 phx phf  9.2120779 1       2.404237e-03\n",
       "3 phf phw  2.5266134 1       1.119402e-01\n",
       "4 phx phw 17.6010764 1       2.724341e-05\n",
       "5 phf phx  0.2371593 1       6.262654e-01\n",
       "6 phw phx  0.4416404 1       5.063318e-01"
      ]
     },
     "metadata": {},
     "output_type": "display_data"
    }
   ],
   "source": [
    "tsa_gc_ty(\n",
    "  endo_h, exogen = exo_h, \n",
    "  p=1, m=1, type = \"const\"\n",
    ") %>% select(-wald)"
   ]
  },
  {
   "cell_type": "code",
   "execution_count": 432,
   "id": "suited-georgia",
   "metadata": {},
   "outputs": [],
   "source": [
    "tsa_gc_ty(\n",
    "  endo_h, exogen = exo_h, \n",
    "  p=1, m=1, type = \"const\"\n",
    ") %>% \n",
    "  select(-wald) %>%\n",
    "  mutate(chi2_pval = round(chi2_pval, 5)) %>%\n",
    "  write_xlsx(\"results/tbl_a3_granger_h.xlsx\")"
   ]
  },
  {
   "cell_type": "markdown",
   "id": "central-proposal",
   "metadata": {},
   "source": [
    "## IRF"
   ]
  },
  {
   "cell_type": "code",
   "execution_count": 433,
   "id": "color-korea",
   "metadata": {},
   "outputs": [],
   "source": [
    "vecm_h <- tsDyn::VECM(\n",
    "  endo_h %>% select(1,2,3), exogen = exo_h, lag = 1, r = 2,\n",
    "  estim = \"ML\", LRinclude = 'const',\n",
    "  ) %>% suppressWarnings()"
   ]
  },
  {
   "cell_type": "code",
   "execution_count": 406,
   "id": "mighty-marks",
   "metadata": {},
   "outputs": [],
   "source": [
    "# tsDyn::irf(vecm_h, boot = TRUE, n.ahead = 36, ortho = TRUE)"
   ]
  },
  {
   "cell_type": "code",
   "execution_count": 434,
   "id": "august-payroll",
   "metadata": {},
   "outputs": [],
   "source": [
    "for (i in c(\"phf\", \"phw\", \"phx\")) {\n",
    "  png(\n",
    "    filename = glue::glue(\"figures/fig_3_irf1_{i}.png\"),\n",
    "    units = \"in\", \n",
    "    width = 7, \n",
    "    height = 7,\n",
    "    pointsize = 12, \n",
    "    res = 300\n",
    "  )\n",
    "  tsDyn::irf(vecm_h, impulse = i, boot = TRUE, n.ahead = 24, ortho = TRUE) %>% plot\n",
    "  dev.off()  \n",
    "}"
   ]
  },
  {
   "cell_type": "markdown",
   "id": "general-valley",
   "metadata": {},
   "source": [
    "# White Rice"
   ]
  },
  {
   "cell_type": "code",
   "execution_count": 435,
   "id": "demonstrated-brunswick",
   "metadata": {},
   "outputs": [],
   "source": [
    "endo_w <- price %>% as_tibble() %>% select(pwf, pww, pwx)\n",
    "exo_w  <- price %>% as_tibble() %>% select(d_foodcrisis, d_pledge)"
   ]
  },
  {
   "cell_type": "code",
   "execution_count": 411,
   "id": "duplicate-landing",
   "metadata": {},
   "outputs": [
    {
     "data": {
      "text/html": [
       "<dl>\n",
       "\t<dt>$selection</dt>\n",
       "\t\t<dd><style>\n",
       ".dl-inline {width: auto; margin:0; padding: 0}\n",
       ".dl-inline>dt, .dl-inline>dd {float: none; width: auto; display: inline-block}\n",
       ".dl-inline>dt::after {content: \":\\0020\"; padding-right: .5ex}\n",
       ".dl-inline>dt:not(:first-of-type) {padding-left: .5ex}\n",
       "</style><dl class=dl-inline><dt>AIC(n)</dt><dd>2</dd><dt>HQ(n)</dt><dd>2</dd><dt>SC(n)</dt><dd>2</dd><dt>FPE(n)</dt><dd>2</dd></dl>\n",
       "</dd>\n",
       "\t<dt>$criteria</dt>\n",
       "\t\t<dd><table class=\"dataframe\">\n",
       "<caption>A matrix: 4 × 10 of type dbl</caption>\n",
       "<thead>\n",
       "\t<tr><th></th><th scope=col>1</th><th scope=col>2</th><th scope=col>3</th><th scope=col>4</th><th scope=col>5</th><th scope=col>6</th><th scope=col>7</th><th scope=col>8</th><th scope=col>9</th><th scope=col>10</th></tr>\n",
       "</thead>\n",
       "<tbody>\n",
       "\t<tr><th scope=row>AIC(n)</th><td>-2.150931e+01</td><td>-2.168360e+01</td><td>-2.168206e+01</td><td>-2.166197e+01</td><td>-2.164839e+01</td><td>-2.166549e+01</td><td>-2.162597e+01</td><td>-2.156434e+01</td><td>-2.150197e+01</td><td>-2.145809e+01</td></tr>\n",
       "\t<tr><th scope=row>HQ(n)</th><td>-2.135945e+01</td><td>-2.146950e+01</td><td>-2.140373e+01</td><td>-2.131942e+01</td><td>-2.124160e+01</td><td>-2.119447e+01</td><td>-2.109072e+01</td><td>-2.096487e+01</td><td>-2.083827e+01</td><td>-2.073016e+01</td></tr>\n",
       "\t<tr><th scope=row>SC(n)</th><td>-2.113962e+01</td><td>-2.115546e+01</td><td>-2.099548e+01</td><td>-2.081696e+01</td><td>-2.064493e+01</td><td>-2.050360e+01</td><td>-2.030563e+01</td><td>-2.008557e+01</td><td>-1.986476e+01</td><td>-1.966243e+01</td></tr>\n",
       "\t<tr><th scope=row>FPE(n)</th><td> 4.556934e-10</td><td> 3.828940e-10</td><td> 3.836368e-10</td><td> 3.916671e-10</td><td> 3.973933e-10</td><td> 3.911518e-10</td><td> 4.076044e-10</td><td> 4.344447e-10</td><td> 4.636393e-10</td><td> 4.860219e-10</td></tr>\n",
       "</tbody>\n",
       "</table>\n",
       "</dd>\n",
       "</dl>\n"
      ],
      "text/latex": [
       "\\begin{description}\n",
       "\\item[\\$selection] \\begin{description*}\n",
       "\\item[AIC(n)] 2\n",
       "\\item[HQ(n)] 2\n",
       "\\item[SC(n)] 2\n",
       "\\item[FPE(n)] 2\n",
       "\\end{description*}\n",
       "\n",
       "\\item[\\$criteria] A matrix: 4 × 10 of type dbl\n",
       "\\begin{tabular}{r|llllllllll}\n",
       "  & 1 & 2 & 3 & 4 & 5 & 6 & 7 & 8 & 9 & 10\\\\\n",
       "\\hline\n",
       "\tAIC(n) & -2.150931e+01 & -2.168360e+01 & -2.168206e+01 & -2.166197e+01 & -2.164839e+01 & -2.166549e+01 & -2.162597e+01 & -2.156434e+01 & -2.150197e+01 & -2.145809e+01\\\\\n",
       "\tHQ(n) & -2.135945e+01 & -2.146950e+01 & -2.140373e+01 & -2.131942e+01 & -2.124160e+01 & -2.119447e+01 & -2.109072e+01 & -2.096487e+01 & -2.083827e+01 & -2.073016e+01\\\\\n",
       "\tSC(n) & -2.113962e+01 & -2.115546e+01 & -2.099548e+01 & -2.081696e+01 & -2.064493e+01 & -2.050360e+01 & -2.030563e+01 & -2.008557e+01 & -1.986476e+01 & -1.966243e+01\\\\\n",
       "\tFPE(n) &  4.556934e-10 &  3.828940e-10 &  3.836368e-10 &  3.916671e-10 &  3.973933e-10 &  3.911518e-10 &  4.076044e-10 &  4.344447e-10 &  4.636393e-10 &  4.860219e-10\\\\\n",
       "\\end{tabular}\n",
       "\n",
       "\\end{description}\n"
      ],
      "text/markdown": [
       "$selection\n",
       ":   AIC(n)\n",
       ":   2HQ(n)\n",
       ":   2SC(n)\n",
       ":   2FPE(n)\n",
       ":   2\n",
       "\n",
       "\n",
       "$criteria\n",
       ":   \n",
       "A matrix: 4 × 10 of type dbl\n",
       "\n",
       "| <!--/--> | 1 | 2 | 3 | 4 | 5 | 6 | 7 | 8 | 9 | 10 |\n",
       "|---|---|---|---|---|---|---|---|---|---|---|\n",
       "| AIC(n) | -2.150931e+01 | -2.168360e+01 | -2.168206e+01 | -2.166197e+01 | -2.164839e+01 | -2.166549e+01 | -2.162597e+01 | -2.156434e+01 | -2.150197e+01 | -2.145809e+01 |\n",
       "| HQ(n) | -2.135945e+01 | -2.146950e+01 | -2.140373e+01 | -2.131942e+01 | -2.124160e+01 | -2.119447e+01 | -2.109072e+01 | -2.096487e+01 | -2.083827e+01 | -2.073016e+01 |\n",
       "| SC(n) | -2.113962e+01 | -2.115546e+01 | -2.099548e+01 | -2.081696e+01 | -2.064493e+01 | -2.050360e+01 | -2.030563e+01 | -2.008557e+01 | -1.986476e+01 | -1.966243e+01 |\n",
       "| FPE(n) |  4.556934e-10 |  3.828940e-10 |  3.836368e-10 |  3.916671e-10 |  3.973933e-10 |  3.911518e-10 |  4.076044e-10 |  4.344447e-10 |  4.636393e-10 |  4.860219e-10 |\n",
       "\n",
       "\n",
       "\n",
       "\n"
      ],
      "text/plain": [
       "$selection\n",
       "AIC(n)  HQ(n)  SC(n) FPE(n) \n",
       "     2      2      2      2 \n",
       "\n",
       "$criteria\n",
       "                   1             2             3             4             5\n",
       "AIC(n) -2.150931e+01 -2.168360e+01 -2.168206e+01 -2.166197e+01 -2.164839e+01\n",
       "HQ(n)  -2.135945e+01 -2.146950e+01 -2.140373e+01 -2.131942e+01 -2.124160e+01\n",
       "SC(n)  -2.113962e+01 -2.115546e+01 -2.099548e+01 -2.081696e+01 -2.064493e+01\n",
       "FPE(n)  4.556934e-10  3.828940e-10  3.836368e-10  3.916671e-10  3.973933e-10\n",
       "                   6             7             8             9            10\n",
       "AIC(n) -2.166549e+01 -2.162597e+01 -2.156434e+01 -2.150197e+01 -2.145809e+01\n",
       "HQ(n)  -2.119447e+01 -2.109072e+01 -2.096487e+01 -2.083827e+01 -2.073016e+01\n",
       "SC(n)  -2.050360e+01 -2.030563e+01 -2.008557e+01 -1.986476e+01 -1.966243e+01\n",
       "FPE(n)  3.911518e-10  4.076044e-10  4.344447e-10  4.636393e-10  4.860219e-10\n"
      ]
     },
     "metadata": {},
     "output_type": "display_data"
    }
   ],
   "source": []
  },
  {
   "cell_type": "markdown",
   "id": "silent-absolute",
   "metadata": {},
   "source": [
    "## Descriptive Analysis"
   ]
  },
  {
   "cell_type": "code",
   "execution_count": 190,
   "id": "academic-expression",
   "metadata": {},
   "outputs": [],
   "source": [
    "endo_w %>% exp() %>%\n",
    "  psych::describe() %>% \n",
    "  rownames_to_column(\"varname\") %>%\n",
    "  select(varname, mean, sd, min, max) %>%\n",
    "  write_xlsx(\"results/tbl_1_desc_w.xlsx\")"
   ]
  },
  {
   "cell_type": "code",
   "execution_count": 191,
   "id": "outstanding-algebra",
   "metadata": {},
   "outputs": [
    {
     "data": {
      "image/png": "[encoded data removed]",
      "text/plain": [
       "plot without title"
      ]
     },
     "metadata": {
      "image/png": {
       "height": 900,
       "width": 1500
      }
     },
     "output_type": "display_data"
    }
   ],
   "source": [
    "options(\n",
    "  repr.plot.width = 10,\n",
    "  repr.plot.height = 6 \n",
    ")\n",
    "\n",
    "price %>% \n",
    "  ggplot(aes(x=date)) +\n",
    "    geom_line( aes(y=pwf %>% exp(), color = 'เกษตรกรขายได้')) +\n",
    "    geom_line( aes(y=pww %>% exp(), color = 'ขายส่ง')) +\n",
    "    geom_line( aes(y=pwx %>% exp(), color = 'ส่งออก')) +\n",
    "    scale_color_d3() +\n",
    "    expand_limits(y = 0) +\n",
    "    scale_y_continuous(label = comma) +\n",
    "    labs(title = 'ราคาข้าวเจ้าขาว 3 ตลาด',\n",
    "         x =  \"ปี\",\n",
    "         y = 'บาท/ตัน'\n",
    "        ) +\n",
    "    theme_ipsum(\n",
    "      base_size = 16,\n",
    "      base_family = \"Athiti Light\",\n",
    "      axis_title_size = 16\n",
    "    ) +\n",
    "    theme(\n",
    "      legend.position = c(1, 1),\n",
    "      legend.direction = 'horizontal',\n",
    "      legend.justification = 'right',\n",
    "      legend.title = element_blank()\n",
    "    ) +\n",
    "    scale_x_date(date_breaks = '2 years',\n",
    "                 labels = function(x) year(x)+543\n",
    "                 )\n",
    "\n",
    "ggsave('figures/fig_1_w.png', width = 10, height = 6)"
   ]
  },
  {
   "cell_type": "markdown",
   "id": "seasonal-image",
   "metadata": {},
   "source": [
    "## Unit Root Test"
   ]
  },
  {
   "cell_type": "code",
   "execution_count": 193,
   "id": "permanent-dispatch",
   "metadata": {},
   "outputs": [
    {
     "name": "stderr",
     "output_type": "stream",
     "text": [
      "[time]: 'date' [value]: 'pwf' \n",
      "\n",
      "[time]: 'date' [value]: 'pwf' \n",
      "\n",
      "[time]: 'date' [value]: 'pww' \n",
      "\n",
      "[time]: 'date' [value]: 'pww' \n",
      "\n",
      "[time]: 'date' [value]: 'pwx' \n",
      "\n",
      "[time]: 'date' [value]: 'pwx' \n",
      "\n"
     ]
    }
   ],
   "source": [
    "p_w_names <- c('pwf', 'pww', 'pwx')\n",
    "\n",
    "expand_grid(\n",
    "  'varname' = p_w_names, \n",
    "  'n_diff' = c(0,1)\n",
    ") %>% \n",
    "  pmap(tsa_ur_adf, y = price) %>%\n",
    "  reduce(bind_rows) %>% \n",
    "  tsa_report_adf() %>% \n",
    "  write_xlsx(\"results/tbl_2_unit_root_w.xlsx\")"
   ]
  },
  {
   "cell_type": "markdown",
   "id": "lightweight-timer",
   "metadata": {},
   "source": [
    "## Optimal Lag"
   ]
  },
  {
   "cell_type": "code",
   "execution_count": 436,
   "id": "marine-infrastructure",
   "metadata": {},
   "outputs": [
    {
     "data": {
      "text/html": [
       "<dl>\n",
       "\t<dt>$selection</dt>\n",
       "\t\t<dd><style>\n",
       ".dl-inline {width: auto; margin:0; padding: 0}\n",
       ".dl-inline>dt, .dl-inline>dd {float: none; width: auto; display: inline-block}\n",
       ".dl-inline>dt::after {content: \":\\0020\"; padding-right: .5ex}\n",
       ".dl-inline>dt:not(:first-of-type) {padding-left: .5ex}\n",
       "</style><dl class=dl-inline><dt>AIC(n)</dt><dd>2</dd><dt>HQ(n)</dt><dd>2</dd><dt>SC(n)</dt><dd>2</dd><dt>FPE(n)</dt><dd>2</dd></dl>\n",
       "</dd>\n",
       "\t<dt>$criteria</dt>\n",
       "\t\t<dd><table class=\"dataframe\">\n",
       "<caption>A matrix: 4 × 10 of type dbl</caption>\n",
       "<thead>\n",
       "\t<tr><th></th><th scope=col>1</th><th scope=col>2</th><th scope=col>3</th><th scope=col>4</th><th scope=col>5</th><th scope=col>6</th><th scope=col>7</th><th scope=col>8</th><th scope=col>9</th><th scope=col>10</th></tr>\n",
       "</thead>\n",
       "<tbody>\n",
       "\t<tr><th scope=row>AIC(n)</th><td>-2.150931e+01</td><td>-2.168360e+01</td><td>-2.168206e+01</td><td>-2.166197e+01</td><td>-2.164839e+01</td><td>-2.166549e+01</td><td>-2.162597e+01</td><td>-2.156434e+01</td><td>-2.150197e+01</td><td>-2.145809e+01</td></tr>\n",
       "\t<tr><th scope=row>HQ(n)</th><td>-2.135945e+01</td><td>-2.146950e+01</td><td>-2.140373e+01</td><td>-2.131942e+01</td><td>-2.124160e+01</td><td>-2.119447e+01</td><td>-2.109072e+01</td><td>-2.096487e+01</td><td>-2.083827e+01</td><td>-2.073016e+01</td></tr>\n",
       "\t<tr><th scope=row>SC(n)</th><td>-2.113962e+01</td><td>-2.115546e+01</td><td>-2.099548e+01</td><td>-2.081696e+01</td><td>-2.064493e+01</td><td>-2.050360e+01</td><td>-2.030563e+01</td><td>-2.008557e+01</td><td>-1.986476e+01</td><td>-1.966243e+01</td></tr>\n",
       "\t<tr><th scope=row>FPE(n)</th><td> 4.556934e-10</td><td> 3.828940e-10</td><td> 3.836368e-10</td><td> 3.916671e-10</td><td> 3.973933e-10</td><td> 3.911518e-10</td><td> 4.076044e-10</td><td> 4.344447e-10</td><td> 4.636393e-10</td><td> 4.860219e-10</td></tr>\n",
       "</tbody>\n",
       "</table>\n",
       "</dd>\n",
       "</dl>\n"
      ],
      "text/latex": [
       "\\begin{description}\n",
       "\\item[\\$selection] \\begin{description*}\n",
       "\\item[AIC(n)] 2\n",
       "\\item[HQ(n)] 2\n",
       "\\item[SC(n)] 2\n",
       "\\item[FPE(n)] 2\n",
       "\\end{description*}\n",
       "\n",
       "\\item[\\$criteria] A matrix: 4 × 10 of type dbl\n",
       "\\begin{tabular}{r|llllllllll}\n",
       "  & 1 & 2 & 3 & 4 & 5 & 6 & 7 & 8 & 9 & 10\\\\\n",
       "\\hline\n",
       "\tAIC(n) & -2.150931e+01 & -2.168360e+01 & -2.168206e+01 & -2.166197e+01 & -2.164839e+01 & -2.166549e+01 & -2.162597e+01 & -2.156434e+01 & -2.150197e+01 & -2.145809e+01\\\\\n",
       "\tHQ(n) & -2.135945e+01 & -2.146950e+01 & -2.140373e+01 & -2.131942e+01 & -2.124160e+01 & -2.119447e+01 & -2.109072e+01 & -2.096487e+01 & -2.083827e+01 & -2.073016e+01\\\\\n",
       "\tSC(n) & -2.113962e+01 & -2.115546e+01 & -2.099548e+01 & -2.081696e+01 & -2.064493e+01 & -2.050360e+01 & -2.030563e+01 & -2.008557e+01 & -1.986476e+01 & -1.966243e+01\\\\\n",
       "\tFPE(n) &  4.556934e-10 &  3.828940e-10 &  3.836368e-10 &  3.916671e-10 &  3.973933e-10 &  3.911518e-10 &  4.076044e-10 &  4.344447e-10 &  4.636393e-10 &  4.860219e-10\\\\\n",
       "\\end{tabular}\n",
       "\n",
       "\\end{description}\n"
      ],
      "text/markdown": [
       "$selection\n",
       ":   AIC(n)\n",
       ":   2HQ(n)\n",
       ":   2SC(n)\n",
       ":   2FPE(n)\n",
       ":   2\n",
       "\n",
       "\n",
       "$criteria\n",
       ":   \n",
       "A matrix: 4 × 10 of type dbl\n",
       "\n",
       "| <!--/--> | 1 | 2 | 3 | 4 | 5 | 6 | 7 | 8 | 9 | 10 |\n",
       "|---|---|---|---|---|---|---|---|---|---|---|\n",
       "| AIC(n) | -2.150931e+01 | -2.168360e+01 | -2.168206e+01 | -2.166197e+01 | -2.164839e+01 | -2.166549e+01 | -2.162597e+01 | -2.156434e+01 | -2.150197e+01 | -2.145809e+01 |\n",
       "| HQ(n) | -2.135945e+01 | -2.146950e+01 | -2.140373e+01 | -2.131942e+01 | -2.124160e+01 | -2.119447e+01 | -2.109072e+01 | -2.096487e+01 | -2.083827e+01 | -2.073016e+01 |\n",
       "| SC(n) | -2.113962e+01 | -2.115546e+01 | -2.099548e+01 | -2.081696e+01 | -2.064493e+01 | -2.050360e+01 | -2.030563e+01 | -2.008557e+01 | -1.986476e+01 | -1.966243e+01 |\n",
       "| FPE(n) |  4.556934e-10 |  3.828940e-10 |  3.836368e-10 |  3.916671e-10 |  3.973933e-10 |  3.911518e-10 |  4.076044e-10 |  4.344447e-10 |  4.636393e-10 |  4.860219e-10 |\n",
       "\n",
       "\n",
       "\n",
       "\n"
      ],
      "text/plain": [
       "$selection\n",
       "AIC(n)  HQ(n)  SC(n) FPE(n) \n",
       "     2      2      2      2 \n",
       "\n",
       "$criteria\n",
       "                   1             2             3             4             5\n",
       "AIC(n) -2.150931e+01 -2.168360e+01 -2.168206e+01 -2.166197e+01 -2.164839e+01\n",
       "HQ(n)  -2.135945e+01 -2.146950e+01 -2.140373e+01 -2.131942e+01 -2.124160e+01\n",
       "SC(n)  -2.113962e+01 -2.115546e+01 -2.099548e+01 -2.081696e+01 -2.064493e+01\n",
       "FPE(n)  4.556934e-10  3.828940e-10  3.836368e-10  3.916671e-10  3.973933e-10\n",
       "                   6             7             8             9            10\n",
       "AIC(n) -2.166549e+01 -2.162597e+01 -2.156434e+01 -2.150197e+01 -2.145809e+01\n",
       "HQ(n)  -2.119447e+01 -2.109072e+01 -2.096487e+01 -2.083827e+01 -2.073016e+01\n",
       "SC(n)  -2.050360e+01 -2.030563e+01 -2.008557e+01 -1.986476e+01 -1.966243e+01\n",
       "FPE(n)  3.911518e-10  4.076044e-10  4.344447e-10  4.636393e-10  4.860219e-10\n"
      ]
     },
     "metadata": {},
     "output_type": "display_data"
    }
   ],
   "source": [
    "varselect <- VARselect(endo_w, exogen = exo_w, lag.max = 10, type = 'both')\n",
    "varselect"
   ]
  },
  {
   "cell_type": "code",
   "execution_count": 443,
   "id": "romantic-thunder",
   "metadata": {},
   "outputs": [],
   "source": [
    "varselect$criteria %>% t %>% \n",
    "  as_tibble %>% \n",
    "  rownames_to_column('lag') %>%\n",
    "  write_xlsx(\"results/tbl_3_optimal_lag_w.xlsx\")"
   ]
  },
  {
   "cell_type": "code",
   "execution_count": 445,
   "id": "adopted-property",
   "metadata": {},
   "outputs": [
    {
     "data": {
      "text/html": [
       "<table class=\"dataframe\">\n",
       "<caption>A tibble: 5 × 4</caption>\n",
       "<thead>\n",
       "\t<tr><th scope=col>method</th><th scope=col>Chi-sq</th><th scope=col>df</th><th scope=col>p.value</th></tr>\n",
       "\t<tr><th scope=col>&lt;chr&gt;</th><th scope=col>&lt;dbl&gt;</th><th scope=col>&lt;dbl&gt;</th><th scope=col>&lt;dbl&gt;</th></tr>\n",
       "</thead>\n",
       "<tbody>\n",
       "\t<tr><td>Portmanteau Test (asymptotic)</td><td>128.89304</td><td> 90</td><td>4.516058e-03</td></tr>\n",
       "\t<tr><td>ARCH (multivariate)          </td><td>631.68878</td><td>432</td><td>1.091574e-09</td></tr>\n",
       "\t<tr><td>JB-Test (multivariate)       </td><td>470.71772</td><td>  6</td><td>0.000000e+00</td></tr>\n",
       "\t<tr><td>Skewness only (multivariate) </td><td> 32.95401</td><td>  3</td><td>3.293414e-07</td></tr>\n",
       "\t<tr><td>Kurtosis only (multivariate) </td><td>437.76371</td><td>  3</td><td>0.000000e+00</td></tr>\n",
       "</tbody>\n",
       "</table>\n"
      ],
      "text/latex": [
       "A tibble: 5 × 4\n",
       "\\begin{tabular}{llll}\n",
       " method & Chi-sq & df & p.value\\\\\n",
       " <chr> & <dbl> & <dbl> & <dbl>\\\\\n",
       "\\hline\n",
       "\t Portmanteau Test (asymptotic) & 128.89304 &  90 & 4.516058e-03\\\\\n",
       "\t ARCH (multivariate)           & 631.68878 & 432 & 1.091574e-09\\\\\n",
       "\t JB-Test (multivariate)        & 470.71772 &   6 & 0.000000e+00\\\\\n",
       "\t Skewness only (multivariate)  &  32.95401 &   3 & 3.293414e-07\\\\\n",
       "\t Kurtosis only (multivariate)  & 437.76371 &   3 & 0.000000e+00\\\\\n",
       "\\end{tabular}\n"
      ],
      "text/markdown": [
       "\n",
       "A tibble: 5 × 4\n",
       "\n",
       "| method &lt;chr&gt; | Chi-sq &lt;dbl&gt; | df &lt;dbl&gt; | p.value &lt;dbl&gt; |\n",
       "|---|---|---|---|\n",
       "| Portmanteau Test (asymptotic) | 128.89304 |  90 | 4.516058e-03 |\n",
       "| ARCH (multivariate)           | 631.68878 | 432 | 1.091574e-09 |\n",
       "| JB-Test (multivariate)        | 470.71772 |   6 | 0.000000e+00 |\n",
       "| Skewness only (multivariate)  |  32.95401 |   3 | 3.293414e-07 |\n",
       "| Kurtosis only (multivariate)  | 437.76371 |   3 | 0.000000e+00 |\n",
       "\n"
      ],
      "text/plain": [
       "  method                        Chi-sq    df  p.value     \n",
       "1 Portmanteau Test (asymptotic) 128.89304  90 4.516058e-03\n",
       "2 ARCH (multivariate)           631.68878 432 1.091574e-09\n",
       "3 JB-Test (multivariate)        470.71772   6 0.000000e+00\n",
       "4 Skewness only (multivariate)   32.95401   3 3.293414e-07\n",
       "5 Kurtosis only (multivariate)  437.76371   3 0.000000e+00"
      ]
     },
     "metadata": {},
     "output_type": "display_data"
    }
   ],
   "source": [
    "VAR(endo_w, exogen = exo_w, p = 2, type = \"both\") %>% tsa_VAR_diag"
   ]
  },
  {
   "cell_type": "markdown",
   "id": "printable-soldier",
   "metadata": {},
   "source": [
    "## Test"
   ]
  },
  {
   "cell_type": "code",
   "execution_count": 498,
   "id": "european-means",
   "metadata": {},
   "outputs": [],
   "source": [
    "VAR(endo_w, exogen = exo_w, p = 2, type = \"both\") %>% \n",
    "  tsa_VAR_diag %>%\n",
    "  write_xlsx(\"results/tbl_a2_model_diag_w2.xlsx\")"
   ]
  },
  {
   "cell_type": "code",
   "execution_count": 499,
   "id": "naked-escape",
   "metadata": {},
   "outputs": [],
   "source": [
    "VAR(endo_w, exogen = exo_w, p = 6, type = \"both\") %>% \n",
    "  tsa_VAR_diag %>%\n",
    "  write_xlsx(\"results/tbl_a2_model_diag_w6.xlsx\")"
   ]
  },
  {
   "cell_type": "code",
   "execution_count": 473,
   "id": "vital-repair",
   "metadata": {},
   "outputs": [],
   "source": [
    "var_w <- tsDyn::lineVar(\n",
    "  endo_w, exogen = exo_w, lag = 6, \n",
    "  model = \"VAR\", include = \"both\", r = 1\n",
    ") %>% suppressWarnings()"
   ]
  },
  {
   "cell_type": "code",
   "execution_count": 454,
   "id": "matched-canyon",
   "metadata": {},
   "outputs": [],
   "source": [
    "var_w %>% \n",
    "  summary %>% suppressWarnings() %>% \n",
    "  '[['('bigcoefficients') %>% \n",
    "  t %>% \n",
    "  as.data.frame %>%\n",
    "  rownames_to_column() %>%\n",
    "  write_xlsx(\"results/tbl_5_var_w.xlsx\")"
   ]
  },
  {
   "cell_type": "code",
   "execution_count": 496,
   "id": "qualified-better",
   "metadata": {},
   "outputs": [],
   "source": [
    "# var_w %>% str()"
   ]
  },
  {
   "cell_type": "code",
   "execution_count": null,
   "id": "organizational-finding",
   "metadata": {},
   "outputs": [],
   "source": [
    "library(\"plotrix\")\n",
    "\n",
    "options(\n",
    "  repr.plot.width = 6,\n",
    "  repr.plot.height = 6 \n",
    ")\n",
    "\n",
    "png(\n",
    "  filename = \"figures/fig_a1_stability_w.png\",\n",
    "  units = \"in\", \n",
    "  width = 6, \n",
    "  height = 6,\n",
    "  pointsize = 10, \n",
    "  res = 300\n",
    ")\n",
    "\n",
    "x <- seq(-1, 1, length = 1000)\n",
    "y1 <- sqrt(1-x^2)\n",
    "y2 <- -sqrt(1-x^2)\n",
    "plot(\n",
    "  Re(eigen(var_h_var$A$A1)$values) %>% bound_unit_circle,\n",
    "  Im(eigen(vecm_h_var$A$A1)$values) %>% bound_unit_circle,\n",
    "  pch=19, col = \"blue\", \n",
    "  xlab = 'Real part', ylab = 'Complex part',\n",
    "  ylim = c(-2, 2), xlim = c(-2, 2)\n",
    ")\n",
    "points(\n",
    "  Re(eigen(vecm_h_var$A$A2)$values) %>% bound_unit_circle,\n",
    "  Im(eigen(vecm_h_var$A$A2)$values) %>% bound_unit_circle,\n",
    "  pch=19, col = \"blue\"\n",
    ")\n",
    "abline(h=0)\n",
    "abline(v=0)\n",
    "draw.circle(0, 0, 1, nv = 1000, border = NULL, col = NA, lty = 1, lwd = 1)\n",
    "\n",
    "dev.off()"
   ]
  },
  {
   "cell_type": "code",
   "execution_count": 475,
   "id": "pointed-position",
   "metadata": {},
   "outputs": [],
   "source": [
    "var_w <- VAR(endo_w, exogen = exo_w, p = 6, type = \"both\")"
   ]
  },
  {
   "cell_type": "code",
   "execution_count": 491,
   "id": "advanced-wisconsin",
   "metadata": {},
   "outputs": [
    {
     "data": {
      "text/plain": [
       "\n",
       "VAR Estimation Results:\n",
       "========================= \n",
       "Endogenous variables: pwf, pww, pwx \n",
       "Deterministic variables: both \n",
       "Sample size: 186 \n",
       "Log Likelihood: 1287.449 \n",
       "Roots of the characteristic polynomial:\n",
       "0.9241 0.8364 0.8364 0.8012 0.7918 0.7918 0.7894 0.7894 0.7355 0.7355 0.7114 0.7114 0.7011 0.7011 0.6896 0.6896 0.3499 0.3499\n",
       "Call:\n",
       "VAR(y = endo_w, p = 6, type = \"both\", exogen = exo_w)\n",
       "\n",
       "\n",
       "Estimation results for equation pwf: \n",
       "==================================== \n",
       "pwf = pwf.l1 + pww.l1 + pwx.l1 + pwf.l2 + pww.l2 + pwx.l2 + pwf.l3 + pww.l3 + pwx.l3 + pwf.l4 + pww.l4 + pwx.l4 + pwf.l5 + pww.l5 + pwx.l5 + pwf.l6 + pww.l6 + pwx.l6 + const + trend + d_foodcrisis + d_pledge \n",
       "\n",
       "               Estimate Std. Error t value Pr(>|t|)    \n",
       "pwf.l1        0.6946795  0.1263466   5.498 1.44e-07 ***\n",
       "pww.l1        0.1898419  0.1824772   1.040 0.299704    \n",
       "pwx.l1        0.3107644  0.1911773   1.626 0.105970    \n",
       "pwf.l2       -0.1452544  0.1515782  -0.958 0.339332    \n",
       "pww.l2       -0.2336693  0.2044853  -1.143 0.254821    \n",
       "pwx.l2       -0.1014025  0.2394751  -0.423 0.672532    \n",
       "pwf.l3       -0.0324532  0.1530192  -0.212 0.832304    \n",
       "pww.l3       -0.3771751  0.2036206  -1.852 0.065774 .  \n",
       "pwx.l3        0.5927622  0.2346162   2.527 0.012467 *  \n",
       "pwf.l4        0.0437052  0.1487951   0.294 0.769337    \n",
       "pww.l4        0.3535512  0.2044974   1.729 0.085713 .  \n",
       "pwx.l4       -0.6395064  0.2332667  -2.742 0.006794 ** \n",
       "pwf.l5        0.0331545  0.1451492   0.228 0.819607    \n",
       "pww.l5        0.3693520  0.2026357   1.823 0.070164 .  \n",
       "pwx.l5       -0.1762009  0.2262192  -0.779 0.437164    \n",
       "pwf.l6       -0.1689437  0.1143481  -1.477 0.141473    \n",
       "pww.l6       -0.2958116  0.1604720  -1.843 0.067078 .  \n",
       "pwx.l6        0.3954394  0.1542739   2.563 0.011269 *  \n",
       "const         1.4289617  0.3506958   4.075 7.16e-05 ***\n",
       "trend         0.0002445  0.0001038   2.356 0.019658 *  \n",
       "d_foodcrisis  0.0589679  0.0171765   3.433 0.000756 ***\n",
       "d_pledge      0.0448613  0.0156105   2.874 0.004593 ** \n",
       "---\n",
       "Signif. codes:  0 '***' 0.001 '**' 0.01 '*' 0.05 '.' 0.1 ' ' 1\n",
       "\n",
       "\n",
       "Residual standard error: 0.03785 on 164 degrees of freedom\n",
       "Multiple R-Squared: 0.9566,\tAdjusted R-squared: 0.951 \n",
       "F-statistic: 172.1 on 21 and 164 DF,  p-value: < 2.2e-16 \n",
       "\n",
       "\n",
       "Estimation results for equation pww: \n",
       "==================================== \n",
       "pww = pwf.l1 + pww.l1 + pwx.l1 + pwf.l2 + pww.l2 + pwx.l2 + pwf.l3 + pww.l3 + pwx.l3 + pwf.l4 + pww.l4 + pwx.l4 + pwf.l5 + pww.l5 + pwx.l5 + pwf.l6 + pww.l6 + pwx.l6 + const + trend + d_foodcrisis + d_pledge \n",
       "\n",
       "               Estimate Std. Error t value Pr(>|t|)    \n",
       "pwf.l1       -0.0338081  0.1569197  -0.215 0.829685    \n",
       "pww.l1        0.7834483  0.2266326   3.457 0.000696 ***\n",
       "pwx.l1        0.5224735  0.2374379   2.200 0.029172 *  \n",
       "pwf.l2        0.0465482  0.1882567   0.247 0.805017    \n",
       "pww.l2       -0.4203564  0.2539661  -1.655 0.099803 .  \n",
       "pwx.l2       -0.1890798  0.2974227  -0.636 0.525840    \n",
       "pwf.l3       -0.1404116  0.1900464  -0.739 0.461067    \n",
       "pww.l3       -0.2354846  0.2528922  -0.931 0.353136    \n",
       "pwx.l3        0.4588863  0.2913881   1.575 0.117223    \n",
       "pwf.l4        0.1367581  0.1848002   0.740 0.460338    \n",
       "pww.l4        0.2664470  0.2539812   1.049 0.295684    \n",
       "pwx.l4       -0.4386960  0.2897120  -1.514 0.131888    \n",
       "pwf.l5        0.1413717  0.1802721   0.784 0.434046    \n",
       "pww.l5        0.4885022  0.2516690   1.941 0.053967 .  \n",
       "pwx.l5       -0.4284148  0.2809592  -1.525 0.129228    \n",
       "pwf.l6       -0.1730851  0.1420177  -1.219 0.224687    \n",
       "pww.l6       -0.6091805  0.1993026  -3.057 0.002615 ** \n",
       "pwx.l6        0.6856961  0.1916046   3.579 0.000454 ***\n",
       "const         1.2434340  0.4355563   2.855 0.004863 ** \n",
       "trend        -0.0001157  0.0001289  -0.898 0.370604    \n",
       "d_foodcrisis  0.0900429  0.0213328   4.221 4.02e-05 ***\n",
       "d_pledge      0.0407973  0.0193878   2.104 0.036879 *  \n",
       "---\n",
       "Signif. codes:  0 '***' 0.001 '**' 0.01 '*' 0.05 '.' 0.1 ' ' 1\n",
       "\n",
       "\n",
       "Residual standard error: 0.047 on 164 degrees of freedom\n",
       "Multiple R-Squared: 0.9487,\tAdjusted R-squared: 0.9421 \n",
       "F-statistic: 144.3 on 21 and 164 DF,  p-value: < 2.2e-16 \n",
       "\n",
       "\n",
       "Estimation results for equation pwx: \n",
       "==================================== \n",
       "pwx = pwf.l1 + pww.l1 + pwx.l1 + pwf.l2 + pww.l2 + pwx.l2 + pwf.l3 + pww.l3 + pwx.l3 + pwf.l4 + pww.l4 + pwx.l4 + pwf.l5 + pww.l5 + pwx.l5 + pwf.l6 + pww.l6 + pwx.l6 + const + trend + d_foodcrisis + d_pledge \n",
       "\n",
       "               Estimate Std. Error t value Pr(>|t|)    \n",
       "pwf.l1       -2.463e-02  1.416e-01  -0.174  0.86220    \n",
       "pww.l1        2.490e-01  2.046e-01   1.217  0.22525    \n",
       "pwx.l1        1.145e+00  2.143e-01   5.344 3.01e-07 ***\n",
       "pwf.l2        1.330e-01  1.699e-01   0.783  0.43480    \n",
       "pww.l2       -5.344e-01  2.293e-01  -2.331  0.02097 *  \n",
       "pwx.l2       -1.824e-01  2.685e-01  -0.679  0.49787    \n",
       "pwf.l3       -2.147e-01  1.716e-01  -1.251  0.21260    \n",
       "pww.l3       -6.575e-02  2.283e-01  -0.288  0.77368    \n",
       "pwx.l3        4.130e-01  2.630e-01   1.570  0.11833    \n",
       "pwf.l4        1.520e-01  1.668e-01   0.911  0.36348    \n",
       "pww.l4        1.759e-01  2.293e-01   0.767  0.44415    \n",
       "pwx.l4       -4.516e-01  2.615e-01  -1.727  0.08609 .  \n",
       "pwf.l5        7.810e-02  1.627e-01   0.480  0.63191    \n",
       "pww.l5        3.528e-01  2.272e-01   1.553  0.12232    \n",
       "pwx.l5       -2.092e-01  2.536e-01  -0.825  0.41070    \n",
       "pwf.l6       -1.793e-01  1.282e-01  -1.399  0.16384    \n",
       "pww.l6       -4.250e-01  1.799e-01  -2.362  0.01933 *  \n",
       "pwx.l6        4.908e-01  1.730e-01   2.838  0.00512 ** \n",
       "const         8.645e-01  3.932e-01   2.199  0.02930 *  \n",
       "trend         8.398e-07  1.163e-04   0.007  0.99425    \n",
       "d_foodcrisis  1.037e-01  1.926e-02   5.387 2.45e-07 ***\n",
       "d_pledge      2.402e-02  1.750e-02   1.372  0.17181    \n",
       "---\n",
       "Signif. codes:  0 '***' 0.001 '**' 0.01 '*' 0.05 '.' 0.1 ' ' 1\n",
       "\n",
       "\n",
       "Residual standard error: 0.04243 on 164 degrees of freedom\n",
       "Multiple R-Squared: 0.965,\tAdjusted R-squared: 0.9605 \n",
       "F-statistic: 215.5 on 21 and 164 DF,  p-value: < 2.2e-16 \n",
       "\n",
       "\n",
       "\n",
       "Covariance matrix of residuals:\n",
       "         pwf      pww      pwx\n",
       "pwf 0.001432 0.001378 0.001187\n",
       "pww 0.001378 0.002209 0.001865\n",
       "pwx 0.001187 0.001865 0.001800\n",
       "\n",
       "Correlation matrix of residuals:\n",
       "       pwf    pww    pwx\n",
       "pwf 1.0000 0.7745 0.7393\n",
       "pww 0.7745 1.0000 0.9352\n",
       "pwx 0.7393 0.9352 1.0000\n",
       "\n"
      ]
     },
     "metadata": {},
     "output_type": "display_data"
    }
   ],
   "source": [
    "var_w %>% summary"
   ]
  },
  {
   "cell_type": "code",
   "execution_count": 455,
   "id": "horizontal-serum",
   "metadata": {},
   "outputs": [],
   "source": [
    "# tsDyn::lineVar(endo_w, exogen = exo_w, lag = 6, model = \"VAR\", include = \"both\") %>% summary"
   ]
  },
  {
   "cell_type": "markdown",
   "id": "continuing-electricity",
   "metadata": {},
   "source": [
    "## Granger Casuality Test"
   ]
  },
  {
   "cell_type": "code",
   "execution_count": 466,
   "id": "center-hughes",
   "metadata": {},
   "outputs": [
    {
     "data": {
      "text/html": [
       "<table class=\"dataframe\">\n",
       "<caption>A tibble: 6 × 5</caption>\n",
       "<thead>\n",
       "\t<tr><th scope=col>x</th><th scope=col>y</th><th scope=col>chi2_stat</th><th scope=col>chi2_df</th><th scope=col>chi2_pval</th></tr>\n",
       "\t<tr><th scope=col>&lt;chr&gt;</th><th scope=col>&lt;chr&gt;</th><th scope=col>&lt;dbl&gt;</th><th scope=col>&lt;dbl&gt;</th><th scope=col>&lt;dbl&gt;</th></tr>\n",
       "</thead>\n",
       "<tbody>\n",
       "\t<tr><td>pww</td><td>pwf</td><td>12.973540</td><td>6</td><td>0.0434580640</td></tr>\n",
       "\t<tr><td>pwx</td><td>pwf</td><td>22.555514</td><td>6</td><td>0.0009598690</td></tr>\n",
       "\t<tr><td>pwf</td><td>pww</td><td> 2.999546</td><td>6</td><td>0.8089038165</td></tr>\n",
       "\t<tr><td>pwx</td><td>pww</td><td>24.273534</td><td>6</td><td>0.0004650775</td></tr>\n",
       "\t<tr><td>pwf</td><td>pwx</td><td> 4.102141</td><td>6</td><td>0.6628561087</td></tr>\n",
       "\t<tr><td>pww</td><td>pwx</td><td>12.910785</td><td>6</td><td>0.0444747695</td></tr>\n",
       "</tbody>\n",
       "</table>\n"
      ],
      "text/latex": [
       "A tibble: 6 × 5\n",
       "\\begin{tabular}{lllll}\n",
       " x & y & chi2\\_stat & chi2\\_df & chi2\\_pval\\\\\n",
       " <chr> & <chr> & <dbl> & <dbl> & <dbl>\\\\\n",
       "\\hline\n",
       "\t pww & pwf & 12.973540 & 6 & 0.0434580640\\\\\n",
       "\t pwx & pwf & 22.555514 & 6 & 0.0009598690\\\\\n",
       "\t pwf & pww &  2.999546 & 6 & 0.8089038165\\\\\n",
       "\t pwx & pww & 24.273534 & 6 & 0.0004650775\\\\\n",
       "\t pwf & pwx &  4.102141 & 6 & 0.6628561087\\\\\n",
       "\t pww & pwx & 12.910785 & 6 & 0.0444747695\\\\\n",
       "\\end{tabular}\n"
      ],
      "text/markdown": [
       "\n",
       "A tibble: 6 × 5\n",
       "\n",
       "| x &lt;chr&gt; | y &lt;chr&gt; | chi2_stat &lt;dbl&gt; | chi2_df &lt;dbl&gt; | chi2_pval &lt;dbl&gt; |\n",
       "|---|---|---|---|---|\n",
       "| pww | pwf | 12.973540 | 6 | 0.0434580640 |\n",
       "| pwx | pwf | 22.555514 | 6 | 0.0009598690 |\n",
       "| pwf | pww |  2.999546 | 6 | 0.8089038165 |\n",
       "| pwx | pww | 24.273534 | 6 | 0.0004650775 |\n",
       "| pwf | pwx |  4.102141 | 6 | 0.6628561087 |\n",
       "| pww | pwx | 12.910785 | 6 | 0.0444747695 |\n",
       "\n"
      ],
      "text/plain": [
       "  x   y   chi2_stat chi2_df chi2_pval   \n",
       "1 pww pwf 12.973540 6       0.0434580640\n",
       "2 pwx pwf 22.555514 6       0.0009598690\n",
       "3 pwf pww  2.999546 6       0.8089038165\n",
       "4 pwx pww 24.273534 6       0.0004650775\n",
       "5 pwf pwx  4.102141 6       0.6628561087\n",
       "6 pww pwx 12.910785 6       0.0444747695"
      ]
     },
     "metadata": {},
     "output_type": "display_data"
    }
   ],
   "source": [
    "tsa_gc_ty(\n",
    "  endo_w, exogen = exo_w, \n",
    "  p = 6, m = 0, type = \"both\"\n",
    ") %>% select(-wald)"
   ]
  },
  {
   "cell_type": "code",
   "execution_count": 467,
   "id": "rotary-acoustic",
   "metadata": {},
   "outputs": [],
   "source": [
    "tsa_gc_ty(\n",
    "  endo_w, exogen = exo_w, \n",
    "  p = 6, m = 0, type = \"both\"\n",
    ") %>% \n",
    "  select(-wald) %>%\n",
    "  mutate(chi2_pval = round(chi2_pval, 5)) %>%\n",
    "  write_xlsx(\"results/tbl_a3_granger_w.xlsx\")"
   ]
  },
  {
   "cell_type": "markdown",
   "id": "undefined-textbook",
   "metadata": {},
   "source": [
    "## IRF"
   ]
  },
  {
   "cell_type": "code",
   "execution_count": 492,
   "id": "consecutive-investor",
   "metadata": {},
   "outputs": [],
   "source": [
    "for (i in c(\"pwf\", \"pww\", \"pwx\")) {\n",
    "  png(\n",
    "    filename = glue::glue(\"figures/fig_3_irf_{i}.png\"),\n",
    "    units = \"in\", \n",
    "    width = 7, \n",
    "    height = 7,\n",
    "    pointsize = 12, \n",
    "    res = 300\n",
    "  )\n",
    "  vars::irf(var_w, impulse = i, boot = TRUE, n.ahead = 24, ortho = TRUE) %>% plot\n",
    "  dev.off()  \n",
    "}"
   ]
  },
  {
   "cell_type": "code",
   "execution_count": null,
   "id": "opponent-illinois",
   "metadata": {},
   "outputs": [],
   "source": []
  },
  {
   "cell_type": "code",
   "execution_count": null,
   "id": "australian-fellowship",
   "metadata": {},
   "outputs": [],
   "source": []
  },
  {
   "cell_type": "code",
   "execution_count": 225,
   "id": "civil-confusion",
   "metadata": {},
   "outputs": [],
   "source": [
    "vecm_wht <- tsDyn::linear(\n",
    "  endo, estim = \"ML\", include = 'none', LRinclude = 'const', \n",
    "  lag = 2, exogen = exo, r = 1\n",
    ") %>% suppressWarnings()"
   ]
  },
  {
   "cell_type": "code",
   "execution_count": 234,
   "id": "downtown-folder",
   "metadata": {},
   "outputs": [
    {
     "ename": "ERROR",
     "evalue": "Error in serial.test(wht_var, lags.pt = i, type = \"PT.asymptotic\"): object 'wht_var' not found\n",
     "output_type": "error",
     "traceback": [
      "Error in serial.test(wht_var, lags.pt = i, type = \"PT.asymptotic\"): object 'wht_var' not found\nTraceback:\n",
      "1. serial.test(wht_var, lags.pt = i, type = \"PT.asymptotic\")"
     ]
    }
   ],
   "source": [
    "lags = 8\n",
    "pt.asympt = rep(0, lags)\n",
    "pt.adj = rep(0, lags)\n",
    "bg = rep(0, lags)\n",
    "es = rep(0, lags)\n",
    "\n",
    "for (i in 1:lags) {\n",
    "  pt.asympt[i] = serial.test(wht_var, lags.pt = i, type = \"PT.asymptotic\")$serial$p.value\n",
    "  pt.adj[i] = serial.test(wht_var, lags.pt = i, type = \"PT.adjusted\")$serial$p.value\n",
    "  bg[i] = serial.test(wht_var, lags.bg = i, type = \"BG\")$serial$p.value\n",
    "  es[i] = serial.test(wht_var, lags.bg = i, type = \"ES\")$serial$p.value\n",
    "}\n",
    "\n",
    "data.frame(pt.asymptotic = pt.asympt, pt.adjusted = pt.adj, BG = bg, ES = es)"
   ]
  },
  {
   "cell_type": "code",
   "execution_count": 236,
   "id": "prostate-seventh",
   "metadata": {},
   "outputs": [
    {
     "data": {
      "text/plain": [
       "\n",
       "VAR Estimation Results:\n",
       "========================= \n",
       "Endogenous variables: pwf, pww, pwx \n",
       "Deterministic variables: const \n",
       "Sample size: 186 \n",
       "Log Likelihood: 1272.613 \n",
       "Roots of the characteristic polynomial:\n",
       "0.9305 0.8516 0.8049 0.7859 0.7859 0.7799 0.7799 0.7182 0.7182 0.7114 0.7114 0.6981 0.6981 0.6772 0.6772 0.5075 0.5075 0.4498\n",
       "Call:\n",
       "VAR(y = endo_w, p = 6, type = \"const\", exogen = exo_w)\n",
       "\n",
       "\n",
       "Estimation results for equation pwf: \n",
       "==================================== \n",
       "pwf = pwf.l1 + pww.l1 + pwx.l1 + pwf.l2 + pww.l2 + pwx.l2 + pwf.l3 + pww.l3 + pwx.l3 + pwf.l4 + pww.l4 + pwx.l4 + pwf.l5 + pww.l5 + pwx.l5 + pwf.l6 + pww.l6 + pwx.l6 + const + d_foodcrisis + d_pledge \n",
       "\n",
       "              Estimate Std. Error t value Pr(>|t|)    \n",
       "pwf.l1        0.801448   0.119555   6.704 3.08e-10 ***\n",
       "pww.l1        0.068943   0.177511   0.388 0.698229    \n",
       "pwx.l1        0.366298   0.192317   1.905 0.058564 .  \n",
       "pwf.l2       -0.131517   0.153540  -0.857 0.392930    \n",
       "pww.l2       -0.257057   0.207041  -1.242 0.216156    \n",
       "pwx.l2       -0.113950   0.242695  -0.470 0.639318    \n",
       "pwf.l3       -0.002209   0.154568  -0.014 0.988616    \n",
       "pww.l3       -0.411208   0.205889  -1.997 0.047444 *  \n",
       "pwx.l3        0.608277   0.237736   2.559 0.011408 *  \n",
       "pwf.l4        0.082011   0.149930   0.547 0.585122    \n",
       "pww.l4        0.359530   0.207282   1.734 0.084698 .  \n",
       "pwx.l4       -0.701733   0.234941  -2.987 0.003249 ** \n",
       "pwf.l5        0.054025   0.146863   0.368 0.713450    \n",
       "pww.l5        0.344684   0.205137   1.680 0.094798 .  \n",
       "pwx.l5       -0.136052   0.228666  -0.595 0.552670    \n",
       "pwf.l6       -0.077091   0.108968  -0.707 0.480277    \n",
       "pww.l6       -0.386105   0.157962  -2.444 0.015566 *  \n",
       "pwx.l6        0.395723   0.156387   2.530 0.012329 *  \n",
       "const         1.110980   0.328116   3.386 0.000887 ***\n",
       "d_foodcrisis  0.059129   0.017412   3.396 0.000857 ***\n",
       "d_pledge      0.034763   0.015216   2.285 0.023607 *  \n",
       "---\n",
       "Signif. codes:  0 '***' 0.001 '**' 0.01 '*' 0.05 '.' 0.1 ' ' 1\n",
       "\n",
       "\n",
       "Residual standard error: 0.03836 on 165 degrees of freedom\n",
       "Multiple R-Squared: 0.9551,\tAdjusted R-squared: 0.9497 \n",
       "F-statistic: 175.6 on 20 and 165 DF,  p-value: < 2.2e-16 \n",
       "\n",
       "\n",
       "Estimation results for equation pww: \n",
       "==================================== \n",
       "pww = pwf.l1 + pww.l1 + pwx.l1 + pwf.l2 + pww.l2 + pwx.l2 + pwf.l3 + pww.l3 + pwx.l3 + pwf.l4 + pww.l4 + pwx.l4 + pwf.l5 + pww.l5 + pwx.l5 + pwf.l6 + pww.l6 + pwx.l6 + const + d_foodcrisis + d_pledge \n",
       "\n",
       "             Estimate Std. Error t value Pr(>|t|)    \n",
       "pwf.l1       -0.08434    0.14639  -0.576 0.565310    \n",
       "pww.l1        0.84067    0.21736   3.868 0.000158 ***\n",
       "pwx.l1        0.49619    0.23549   2.107 0.036623 *  \n",
       "pwf.l2        0.04005    0.18801   0.213 0.831587    \n",
       "pww.l2       -0.40929    0.25352  -1.614 0.108344    \n",
       "pwx.l2       -0.18314    0.29717  -0.616 0.538562    \n",
       "pwf.l3       -0.15473    0.18927  -0.818 0.414816    \n",
       "pww.l3       -0.21938    0.25211  -0.870 0.385469    \n",
       "pwx.l3        0.45154    0.29110   1.551 0.122781    \n",
       "pwf.l4        0.11863    0.18359   0.646 0.519064    \n",
       "pww.l4        0.26362    0.25381   1.039 0.300496    \n",
       "pwx.l4       -0.40924    0.28768  -1.423 0.156749    \n",
       "pwf.l5        0.13149    0.17983   0.731 0.465687    \n",
       "pww.l5        0.50018    0.25119   1.991 0.048102 *  \n",
       "pwx.l5       -0.44742    0.28000  -1.598 0.111970    \n",
       "pwf.l6       -0.21656    0.13343  -1.623 0.106495    \n",
       "pww.l6       -0.56645    0.19342  -2.929 0.003887 ** \n",
       "pwx.l6        0.68556    0.19149   3.580 0.000451 ***\n",
       "const         1.39393    0.40177   3.469 0.000665 ***\n",
       "d_foodcrisis  0.08997    0.02132   4.220 4.03e-05 ***\n",
       "d_pledge      0.04558    0.01863   2.446 0.015488 *  \n",
       "---\n",
       "Signif. codes:  0 '***' 0.001 '**' 0.01 '*' 0.05 '.' 0.1 ' ' 1\n",
       "\n",
       "\n",
       "Residual standard error: 0.04698 on 165 degrees of freedom\n",
       "Multiple R-Squared: 0.9484,\tAdjusted R-squared: 0.9422 \n",
       "F-statistic: 151.7 on 20 and 165 DF,  p-value: < 2.2e-16 \n",
       "\n",
       "\n",
       "Estimation results for equation pwx: \n",
       "==================================== \n",
       "pwx = pwf.l1 + pww.l1 + pwx.l1 + pwf.l2 + pww.l2 + pwx.l2 + pwf.l3 + pww.l3 + pwx.l3 + pwf.l4 + pww.l4 + pwx.l4 + pwf.l5 + pww.l5 + pwx.l5 + pwf.l6 + pww.l6 + pwx.l6 + const + d_foodcrisis + d_pledge \n",
       "\n",
       "             Estimate Std. Error t value Pr(>|t|)    \n",
       "pwf.l1       -0.02426    0.13182  -0.184  0.85422    \n",
       "pww.l1        0.24861    0.19572   1.270  0.20580    \n",
       "pwx.l1        1.14548    0.21205   5.402 2.27e-07 ***\n",
       "pwf.l2        0.13309    0.16929   0.786  0.43290    \n",
       "pww.l2       -0.53445    0.22828  -2.341  0.02042 *  \n",
       "pwx.l2       -0.18244    0.26760  -0.682  0.49635    \n",
       "pwf.l3       -0.21456    0.17043  -1.259  0.20982    \n",
       "pww.l3       -0.06587    0.22701  -0.290  0.77206    \n",
       "pwx.l3        0.41302    0.26213   1.576  0.11702    \n",
       "pwf.l4        0.15215    0.16531   0.920  0.35872    \n",
       "pww.l4        0.17588    0.22855   0.770  0.44267    \n",
       "pwx.l4       -0.45180    0.25905  -1.744  0.08301 .  \n",
       "pwf.l5        0.07817    0.16193   0.483  0.62992    \n",
       "pww.l5        0.35275    0.22618   1.560  0.12078    \n",
       "pwx.l5       -0.20904    0.25213  -0.829  0.40825    \n",
       "pwf.l6       -0.17897    0.12015  -1.490  0.13824    \n",
       "pww.l6       -0.42534    0.17417  -2.442  0.01566 *  \n",
       "pwx.l6        0.49082    0.17243   2.846  0.00498 ** \n",
       "const         0.86337    0.36178   2.386  0.01815 *  \n",
       "d_foodcrisis  0.10374    0.01920   5.403 2.25e-07 ***\n",
       "d_pledge      0.02398    0.01678   1.430  0.15474    \n",
       "---\n",
       "Signif. codes:  0 '***' 0.001 '**' 0.01 '*' 0.05 '.' 0.1 ' ' 1\n",
       "\n",
       "\n",
       "Residual standard error: 0.0423 on 165 degrees of freedom\n",
       "Multiple R-Squared: 0.965,\tAdjusted R-squared: 0.9608 \n",
       "F-statistic: 227.6 on 20 and 165 DF,  p-value: < 2.2e-16 \n",
       "\n",
       "\n",
       "\n",
       "Covariance matrix of residuals:\n",
       "         pwf      pww      pwx\n",
       "pwf 0.001472 0.001347 0.001180\n",
       "pww 0.001347 0.002207 0.001854\n",
       "pwx 0.001180 0.001854 0.001789\n",
       "\n",
       "Correlation matrix of residuals:\n",
       "       pwf    pww    pwx\n",
       "pwf 1.0000 0.7472 0.7272\n",
       "pww 0.7472 1.0000 0.9328\n",
       "pwx 0.7272 0.9328 1.0000\n",
       "\n"
      ]
     },
     "metadata": {},
     "output_type": "display_data"
    }
   ],
   "source": [
    "VAR(endo_w, exogen = exo_w, p = 6, type = \"const\") %>% summary"
   ]
  },
  {
   "cell_type": "code",
   "execution_count": 31,
   "id": "vocal-brunswick",
   "metadata": {},
   "outputs": [
    {
     "data": {
      "text/html": [
       "<table>\n",
       "<caption>A tibble: 6 × 5</caption>\n",
       "<thead>\n",
       "\t<tr><th scope=col>x</th><th scope=col>y</th><th scope=col>chi2_stat</th><th scope=col>chi2_df</th><th scope=col>chi2_pval</th></tr>\n",
       "\t<tr><th scope=col>&lt;chr&gt;</th><th scope=col>&lt;chr&gt;</th><th scope=col>&lt;dbl&gt;</th><th scope=col>&lt;dbl&gt;</th><th scope=col>&lt;dbl&gt;</th></tr>\n",
       "</thead>\n",
       "<tbody>\n",
       "\t<tr><td>p_h_ws</td><td>p_h_fg</td><td> 3.2607314</td><td>2</td><td>1.958579e-01</td></tr>\n",
       "\t<tr><td>p_h_xb</td><td>p_h_fg</td><td>15.8347749</td><td>2</td><td>3.643530e-04</td></tr>\n",
       "\t<tr><td>p_h_fg</td><td>p_h_ws</td><td> 1.4902477</td><td>2</td><td>4.746755e-01</td></tr>\n",
       "\t<tr><td>p_h_xb</td><td>p_h_ws</td><td>25.2103223</td><td>2</td><td>3.354657e-06</td></tr>\n",
       "\t<tr><td>p_h_fg</td><td>p_h_xb</td><td> 0.4360818</td><td>2</td><td>8.040925e-01</td></tr>\n",
       "\t<tr><td>p_h_ws</td><td>p_h_xb</td><td> 2.5244109</td><td>2</td><td>2.830291e-01</td></tr>\n",
       "</tbody>\n",
       "</table>\n"
      ],
      "text/latex": [
       "A tibble: 6 × 5\n",
       "\\begin{tabular}{lllll}\n",
       " x & y & chi2\\_stat & chi2\\_df & chi2\\_pval\\\\\n",
       " <chr> & <chr> & <dbl> & <dbl> & <dbl>\\\\\n",
       "\\hline\n",
       "\t p\\_h\\_ws & p\\_h\\_fg &  3.2607314 & 2 & 1.958579e-01\\\\\n",
       "\t p\\_h\\_xb & p\\_h\\_fg & 15.8347749 & 2 & 3.643530e-04\\\\\n",
       "\t p\\_h\\_fg & p\\_h\\_ws &  1.4902477 & 2 & 4.746755e-01\\\\\n",
       "\t p\\_h\\_xb & p\\_h\\_ws & 25.2103223 & 2 & 3.354657e-06\\\\\n",
       "\t p\\_h\\_fg & p\\_h\\_xb &  0.4360818 & 2 & 8.040925e-01\\\\\n",
       "\t p\\_h\\_ws & p\\_h\\_xb &  2.5244109 & 2 & 2.830291e-01\\\\\n",
       "\\end{tabular}\n"
      ],
      "text/markdown": [
       "\n",
       "A tibble: 6 × 5\n",
       "\n",
       "| x &lt;chr&gt; | y &lt;chr&gt; | chi2_stat &lt;dbl&gt; | chi2_df &lt;dbl&gt; | chi2_pval &lt;dbl&gt; |\n",
       "|---|---|---|---|---|\n",
       "| p_h_ws | p_h_fg |  3.2607314 | 2 | 1.958579e-01 |\n",
       "| p_h_xb | p_h_fg | 15.8347749 | 2 | 3.643530e-04 |\n",
       "| p_h_fg | p_h_ws |  1.4902477 | 2 | 4.746755e-01 |\n",
       "| p_h_xb | p_h_ws | 25.2103223 | 2 | 3.354657e-06 |\n",
       "| p_h_fg | p_h_xb |  0.4360818 | 2 | 8.040925e-01 |\n",
       "| p_h_ws | p_h_xb |  2.5244109 | 2 | 2.830291e-01 |\n",
       "\n"
      ],
      "text/plain": [
       "  x      y      chi2_stat  chi2_df chi2_pval   \n",
       "1 p_h_ws p_h_fg  3.2607314 2       1.958579e-01\n",
       "2 p_h_xb p_h_fg 15.8347749 2       3.643530e-04\n",
       "3 p_h_fg p_h_ws  1.4902477 2       4.746755e-01\n",
       "4 p_h_xb p_h_ws 25.2103223 2       3.354657e-06\n",
       "5 p_h_fg p_h_xb  0.4360818 2       8.040925e-01\n",
       "6 p_h_ws p_h_xb  2.5244109 2       2.830291e-01"
      ]
     },
     "metadata": {},
     "output_type": "display_data"
    }
   ],
   "source": [
    "granger_ty(\n",
    "  endo , p = 2, m = 1, type = \"const\", exogen = exo\n",
    ") %>% select(-wald)"
   ]
  },
  {
   "cell_type": "code",
   "execution_count": null,
   "id": "baking-health",
   "metadata": {},
   "outputs": [],
   "source": [
    "VARselect(endo_w, exogen = exo_w, lag.max = 10, type = 'both')\n",
    "\n",
    "var_w <- VAR(endo_w, exogen = exo_w, p = 6, type = \"both\")\n",
    "var_w %>% tsa_VAR_diag\n",
    "\n",
    "var_w %>% summary"
   ]
  },
  {
   "cell_type": "code",
   "execution_count": null,
   "id": "statistical-solid",
   "metadata": {},
   "outputs": [],
   "source": []
  },
  {
   "cell_type": "code",
   "execution_count": 182,
   "id": "valuable-transformation",
   "metadata": {},
   "outputs": [],
   "source": [
    "x <- rh %>% exp() %>%\n",
    "  ts_data.frame %>%\n",
    "  ts_wide %>%\n",
    "  clean_names %>%\n",
    "  mutate(\n",
    "    ws2fg = rhws/rhfg,\n",
    "    xb2fg = rhxb/rhfg,\n",
    "    xb2ws = rhxb/rhws\n",
    "  )"
   ]
  },
  {
   "cell_type": "code",
   "execution_count": 183,
   "id": "average-coalition",
   "metadata": {},
   "outputs": [
    {
     "name": "stderr",
     "output_type": "stream",
     "text": [
      "Warning message in FUN(newX[, i], ...):\n",
      "\"no non-missing arguments to min; returning Inf\"\n",
      "Warning message in FUN(newX[, i], ...):\n",
      "\"no non-missing arguments to max; returning -Inf\"\n"
     ]
    },
    {
     "data": {
      "text/html": [
       "<table>\n",
       "<caption>A psych: 9 × 13</caption>\n",
       "<thead>\n",
       "\t<tr><th></th><th scope=col>vars</th><th scope=col>n</th><th scope=col>mean</th><th scope=col>sd</th><th scope=col>median</th><th scope=col>trimmed</th><th scope=col>mad</th><th scope=col>min</th><th scope=col>max</th><th scope=col>range</th><th scope=col>skew</th><th scope=col>kurtosis</th><th scope=col>se</th></tr>\n",
       "\t<tr><th></th><th scope=col>&lt;int&gt;</th><th scope=col>&lt;dbl&gt;</th><th scope=col>&lt;dbl&gt;</th><th scope=col>&lt;dbl&gt;</th><th scope=col>&lt;dbl&gt;</th><th scope=col>&lt;dbl&gt;</th><th scope=col>&lt;dbl&gt;</th><th scope=col>&lt;dbl&gt;</th><th scope=col>&lt;dbl&gt;</th><th scope=col>&lt;dbl&gt;</th><th scope=col>&lt;dbl&gt;</th><th scope=col>&lt;dbl&gt;</th><th scope=col>&lt;dbl&gt;</th></tr>\n",
       "</thead>\n",
       "<tbody>\n",
       "\t<tr><th scope=row>time</th><td>1</td><td>192</td><td>         NaN</td><td>          NA</td><td>          NA</td><td>         NaN</td><td>          NA</td><td>         Inf</td><td>        -Inf</td><td>        -Inf</td><td>        NA</td><td>        NA</td><td>          NA</td></tr>\n",
       "\t<tr><th scope=row>rhfg</th><td>2</td><td>192</td><td>12208.052083</td><td>2.870430e+03</td><td>13098.500000</td><td>12299.467532</td><td>3.246153e+03</td><td>7.186000e+03</td><td>17292.000000</td><td>1.010600e+04</td><td>-0.3062002</td><td>-1.3061120</td><td>207.15544968</td></tr>\n",
       "\t<tr><th scope=row>rhws</th><td>3</td><td>192</td><td>26051.254048</td><td>6.493293e+03</td><td>28601.375598</td><td>26438.891861</td><td>6.447271e+03</td><td>1.379545e+04</td><td>36069.047619</td><td>2.227359e+04</td><td>-0.4907424</td><td>-1.1809819</td><td>468.61302168</td></tr>\n",
       "\t<tr><th scope=row>rhxb</th><td>4</td><td>192</td><td>28675.142620</td><td>7.261039e+03</td><td>31861.138362</td><td>29244.241245</td><td>5.678802e+03</td><td>1.462221e+04</td><td>38814.676960</td><td>2.419246e+04</td><td>-0.6610469</td><td>-1.0718632</td><td>524.02036152</td></tr>\n",
       "\t<tr><th scope=row>d_foodcrisis</th><td>5</td><td>192</td><td>    1.053696</td><td>2.997500e-01</td><td>    1.000000</td><td>    1.000000</td><td>0.000000e+00</td><td>1.000000e+00</td><td>    2.718282</td><td>1.718282e+00</td><td> 5.3461189</td><td>26.7202367</td><td>  0.02163259</td></tr>\n",
       "\t<tr><th scope=row>d_pledge</th><td>6</td><td>192</td><td>    1.259532</td><td>6.169073e-01</td><td>    1.000000</td><td>    1.111577</td><td>0.000000e+00</td><td>1.000000e+00</td><td>    2.718282</td><td>1.718282e+00</td><td> 1.9337940</td><td> 1.7487485</td><td>  0.04452145</td></tr>\n",
       "\t<tr><th scope=row>ws2fg</th><td>7</td><td>192</td><td>    2.128236</td><td>1.575625e-01</td><td>    2.145425</td><td>    2.125755</td><td>1.419955e-01</td><td>1.752824e+00</td><td>    2.639367</td><td>8.865433e-01</td><td> 0.2987109</td><td> 0.5905999</td><td>  0.01137110</td></tr>\n",
       "\t<tr><th scope=row>xb2fg</th><td>8</td><td>192</td><td>    2.338917</td><td>1.981241e-01</td><td>    2.351981</td><td>    2.345333</td><td>1.809361e-01</td><td>1.840908e+00</td><td>    2.898048</td><td>1.057140e+00</td><td>-0.2152865</td><td> 0.3745308</td><td>  0.01429837</td></tr>\n",
       "\t<tr><th scope=row>xb2ws</th><td>9</td><td>192</td><td>    1.100060</td><td>6.693447e-02</td><td>    1.097177</td><td>    1.102184</td><td>4.021571e-02</td><td>8.758788e-01</td><td>    1.293763</td><td>4.178839e-01</td><td>-0.7085428</td><td> 2.8527508</td><td>  0.00483058</td></tr>\n",
       "</tbody>\n",
       "</table>\n"
      ],
      "text/latex": [
       "A psych: 9 × 13\n",
       "\\begin{tabular}{r|lllllllllllll}\n",
       "  & vars & n & mean & sd & median & trimmed & mad & min & max & range & skew & kurtosis & se\\\\\n",
       "  & <int> & <dbl> & <dbl> & <dbl> & <dbl> & <dbl> & <dbl> & <dbl> & <dbl> & <dbl> & <dbl> & <dbl> & <dbl>\\\\\n",
       "\\hline\n",
       "\ttime & 1 & 192 &          NaN &           NA &           NA &          NaN &           NA &          Inf &         -Inf &         -Inf &         NA &         NA &           NA\\\\\n",
       "\trhfg & 2 & 192 & 12208.052083 & 2.870430e+03 & 13098.500000 & 12299.467532 & 3.246153e+03 & 7.186000e+03 & 17292.000000 & 1.010600e+04 & -0.3062002 & -1.3061120 & 207.15544968\\\\\n",
       "\trhws & 3 & 192 & 26051.254048 & 6.493293e+03 & 28601.375598 & 26438.891861 & 6.447271e+03 & 1.379545e+04 & 36069.047619 & 2.227359e+04 & -0.4907424 & -1.1809819 & 468.61302168\\\\\n",
       "\trhxb & 4 & 192 & 28675.142620 & 7.261039e+03 & 31861.138362 & 29244.241245 & 5.678802e+03 & 1.462221e+04 & 38814.676960 & 2.419246e+04 & -0.6610469 & -1.0718632 & 524.02036152\\\\\n",
       "\td\\_foodcrisis & 5 & 192 &     1.053696 & 2.997500e-01 &     1.000000 &     1.000000 & 0.000000e+00 & 1.000000e+00 &     2.718282 & 1.718282e+00 &  5.3461189 & 26.7202367 &   0.02163259\\\\\n",
       "\td\\_pledge & 6 & 192 &     1.259532 & 6.169073e-01 &     1.000000 &     1.111577 & 0.000000e+00 & 1.000000e+00 &     2.718282 & 1.718282e+00 &  1.9337940 &  1.7487485 &   0.04452145\\\\\n",
       "\tws2fg & 7 & 192 &     2.128236 & 1.575625e-01 &     2.145425 &     2.125755 & 1.419955e-01 & 1.752824e+00 &     2.639367 & 8.865433e-01 &  0.2987109 &  0.5905999 &   0.01137110\\\\\n",
       "\txb2fg & 8 & 192 &     2.338917 & 1.981241e-01 &     2.351981 &     2.345333 & 1.809361e-01 & 1.840908e+00 &     2.898048 & 1.057140e+00 & -0.2152865 &  0.3745308 &   0.01429837\\\\\n",
       "\txb2ws & 9 & 192 &     1.100060 & 6.693447e-02 &     1.097177 &     1.102184 & 4.021571e-02 & 8.758788e-01 &     1.293763 & 4.178839e-01 & -0.7085428 &  2.8527508 &   0.00483058\\\\\n",
       "\\end{tabular}\n"
      ],
      "text/markdown": [
       "\n",
       "A psych: 9 × 13\n",
       "\n",
       "| <!--/--> | vars &lt;int&gt; | n &lt;dbl&gt; | mean &lt;dbl&gt; | sd &lt;dbl&gt; | median &lt;dbl&gt; | trimmed &lt;dbl&gt; | mad &lt;dbl&gt; | min &lt;dbl&gt; | max &lt;dbl&gt; | range &lt;dbl&gt; | skew &lt;dbl&gt; | kurtosis &lt;dbl&gt; | se &lt;dbl&gt; |\n",
       "|---|---|---|---|---|---|---|---|---|---|---|---|---|---|\n",
       "| time | 1 | 192 |          NaN |           NA |           NA |          NaN |           NA |          Inf |         -Inf |         -Inf |         NA |         NA |           NA |\n",
       "| rhfg | 2 | 192 | 12208.052083 | 2.870430e+03 | 13098.500000 | 12299.467532 | 3.246153e+03 | 7.186000e+03 | 17292.000000 | 1.010600e+04 | -0.3062002 | -1.3061120 | 207.15544968 |\n",
       "| rhws | 3 | 192 | 26051.254048 | 6.493293e+03 | 28601.375598 | 26438.891861 | 6.447271e+03 | 1.379545e+04 | 36069.047619 | 2.227359e+04 | -0.4907424 | -1.1809819 | 468.61302168 |\n",
       "| rhxb | 4 | 192 | 28675.142620 | 7.261039e+03 | 31861.138362 | 29244.241245 | 5.678802e+03 | 1.462221e+04 | 38814.676960 | 2.419246e+04 | -0.6610469 | -1.0718632 | 524.02036152 |\n",
       "| d_foodcrisis | 5 | 192 |     1.053696 | 2.997500e-01 |     1.000000 |     1.000000 | 0.000000e+00 | 1.000000e+00 |     2.718282 | 1.718282e+00 |  5.3461189 | 26.7202367 |   0.02163259 |\n",
       "| d_pledge | 6 | 192 |     1.259532 | 6.169073e-01 |     1.000000 |     1.111577 | 0.000000e+00 | 1.000000e+00 |     2.718282 | 1.718282e+00 |  1.9337940 |  1.7487485 |   0.04452145 |\n",
       "| ws2fg | 7 | 192 |     2.128236 | 1.575625e-01 |     2.145425 |     2.125755 | 1.419955e-01 | 1.752824e+00 |     2.639367 | 8.865433e-01 |  0.2987109 |  0.5905999 |   0.01137110 |\n",
       "| xb2fg | 8 | 192 |     2.338917 | 1.981241e-01 |     2.351981 |     2.345333 | 1.809361e-01 | 1.840908e+00 |     2.898048 | 1.057140e+00 | -0.2152865 |  0.3745308 |   0.01429837 |\n",
       "| xb2ws | 9 | 192 |     1.100060 | 6.693447e-02 |     1.097177 |     1.102184 | 4.021571e-02 | 8.758788e-01 |     1.293763 | 4.178839e-01 | -0.7085428 |  2.8527508 |   0.00483058 |\n",
       "\n"
      ],
      "text/plain": [
       "             vars n   mean         sd           median       trimmed     \n",
       "time         1    192          NaN           NA           NA          NaN\n",
       "rhfg         2    192 12208.052083 2.870430e+03 13098.500000 12299.467532\n",
       "rhws         3    192 26051.254048 6.493293e+03 28601.375598 26438.891861\n",
       "rhxb         4    192 28675.142620 7.261039e+03 31861.138362 29244.241245\n",
       "d_foodcrisis 5    192     1.053696 2.997500e-01     1.000000     1.000000\n",
       "d_pledge     6    192     1.259532 6.169073e-01     1.000000     1.111577\n",
       "ws2fg        7    192     2.128236 1.575625e-01     2.145425     2.125755\n",
       "xb2fg        8    192     2.338917 1.981241e-01     2.351981     2.345333\n",
       "xb2ws        9    192     1.100060 6.693447e-02     1.097177     1.102184\n",
       "             mad          min          max          range        skew      \n",
       "time                   NA          Inf         -Inf         -Inf         NA\n",
       "rhfg         3.246153e+03 7.186000e+03 17292.000000 1.010600e+04 -0.3062002\n",
       "rhws         6.447271e+03 1.379545e+04 36069.047619 2.227359e+04 -0.4907424\n",
       "rhxb         5.678802e+03 1.462221e+04 38814.676960 2.419246e+04 -0.6610469\n",
       "d_foodcrisis 0.000000e+00 1.000000e+00     2.718282 1.718282e+00  5.3461189\n",
       "d_pledge     0.000000e+00 1.000000e+00     2.718282 1.718282e+00  1.9337940\n",
       "ws2fg        1.419955e-01 1.752824e+00     2.639367 8.865433e-01  0.2987109\n",
       "xb2fg        1.809361e-01 1.840908e+00     2.898048 1.057140e+00 -0.2152865\n",
       "xb2ws        4.021571e-02 8.758788e-01     1.293763 4.178839e-01 -0.7085428\n",
       "             kurtosis   se          \n",
       "time                 NA           NA\n",
       "rhfg         -1.3061120 207.15544968\n",
       "rhws         -1.1809819 468.61302168\n",
       "rhxb         -1.0718632 524.02036152\n",
       "d_foodcrisis 26.7202367   0.02163259\n",
       "d_pledge      1.7487485   0.04452145\n",
       "ws2fg         0.5905999   0.01137110\n",
       "xb2fg         0.3745308   0.01429837\n",
       "xb2ws         2.8527508   0.00483058"
      ]
     },
     "metadata": {},
     "output_type": "display_data"
    }
   ],
   "source": [
    "describe(x)"
   ]
  },
  {
   "cell_type": "code",
   "execution_count": 184,
   "id": "secondary-carol",
   "metadata": {},
   "outputs": [
    {
     "data": {
      "image/png": "[encoded data removed]",
      "text/plain": [
       "plot without title"
      ]
     },
     "metadata": {
      "image/png": {
       "height": 900,
       "width": 1500
      }
     },
     "output_type": "display_data"
    }
   ],
   "source": [
    "ggplot(x, aes(x = time, y = ws2fg)) +\n",
    "  geom_line(color = \"red\") +\n",
    "  geom_line(aes(x = time, y = xb2fg), color = \"blue\")"
   ]
  },
  {
   "cell_type": "code",
   "execution_count": 187,
   "id": "direct-diagram",
   "metadata": {},
   "outputs": [
    {
     "data": {
      "text/html": [
       "<table>\n",
       "<caption>A data.frame: 11 × 9</caption>\n",
       "<thead>\n",
       "\t<tr><th scope=col>time</th><th scope=col>rhfg</th><th scope=col>rhws</th><th scope=col>rhxb</th><th scope=col>d_foodcrisis</th><th scope=col>d_pledge</th><th scope=col>ws2fg</th><th scope=col>xb2fg</th><th scope=col>xb2ws</th></tr>\n",
       "\t<tr><th scope=col>&lt;date&gt;</th><th scope=col>&lt;dbl&gt;</th><th scope=col>&lt;dbl&gt;</th><th scope=col>&lt;dbl&gt;</th><th scope=col>&lt;dbl&gt;</th><th scope=col>&lt;dbl&gt;</th><th scope=col>&lt;dbl&gt;</th><th scope=col>&lt;dbl&gt;</th><th scope=col>&lt;dbl&gt;</th></tr>\n",
       "</thead>\n",
       "<tbody>\n",
       "\t<tr><td>2006-02-01</td><td>7873</td><td>15384.21</td><td>15007.82</td><td>1</td><td>1</td><td>1.954047</td><td>1.906239</td><td>0.9755340</td></tr>\n",
       "\t<tr><td>2006-03-01</td><td>7960</td><td>15900.00</td><td>14998.42</td><td>1</td><td>1</td><td>1.997487</td><td>1.884224</td><td>0.9432970</td></tr>\n",
       "\t<tr><td>2006-04-01</td><td>8028</td><td>16677.27</td><td>15255.81</td><td>1</td><td>1</td><td>2.077388</td><td>1.900325</td><td>0.9147663</td></tr>\n",
       "\t<tr><td>2006-05-01</td><td>8069</td><td>17085.53</td><td>15243.53</td><td>1</td><td>1</td><td>2.117428</td><td>1.889148</td><td>0.8921899</td></tr>\n",
       "\t<tr><td>2006-06-01</td><td>8160</td><td>17032.89</td><td>15694.92</td><td>1</td><td>1</td><td>2.087365</td><td>1.923397</td><td>0.9214476</td></tr>\n",
       "\t<tr><td>...</td><td>...</td><td>...</td><td>...</td><td>...</td><td>...</td><td>...</td><td>...</td><td>...</td></tr>\n",
       "\t<tr><td>2006-08-01</td><td>8612</td><td>18250.00</td><td>16309.69</td><td>1</td><td>1</td><td>2.119136</td><td>1.893833</td><td>0.8936815</td></tr>\n",
       "\t<tr><td>2006-09-01</td><td>8642</td><td>18160.00</td><td>16268.91</td><td>1</td><td>1</td><td>2.101365</td><td>1.882540</td><td>0.8958650</td></tr>\n",
       "\t<tr><td>2006-10-01</td><td>8685</td><td>18042.86</td><td>16071.15</td><td>1</td><td>1</td><td>2.077473</td><td>1.850449</td><td>0.8907208</td></tr>\n",
       "\t<tr><td>2006-11-01</td><td>8262</td><td>16854.55</td><td>15209.58</td><td>1</td><td>1</td><td>2.040008</td><td>1.840908</td><td>0.9024024</td></tr>\n",
       "\t<tr><td>2006-12-01</td><td>7882</td><td>17100.00</td><td>14977.53</td><td>1</td><td>1</td><td>2.169500</td><td>1.900219</td><td>0.8758788</td></tr>\n",
       "</tbody>\n",
       "</table>\n"
      ],
      "text/latex": [
       "A data.frame: 11 × 9\n",
       "\\begin{tabular}{lllllllll}\n",
       " time & rhfg & rhws & rhxb & d\\_foodcrisis & d\\_pledge & ws2fg & xb2fg & xb2ws\\\\\n",
       " <date> & <dbl> & <dbl> & <dbl> & <dbl> & <dbl> & <dbl> & <dbl> & <dbl>\\\\\n",
       "\\hline\n",
       "\t 2006-02-01 & 7873 & 15384.21 & 15007.82 & 1 & 1 & 1.954047 & 1.906239 & 0.9755340\\\\\n",
       "\t 2006-03-01 & 7960 & 15900.00 & 14998.42 & 1 & 1 & 1.997487 & 1.884224 & 0.9432970\\\\\n",
       "\t 2006-04-01 & 8028 & 16677.27 & 15255.81 & 1 & 1 & 2.077388 & 1.900325 & 0.9147663\\\\\n",
       "\t 2006-05-01 & 8069 & 17085.53 & 15243.53 & 1 & 1 & 2.117428 & 1.889148 & 0.8921899\\\\\n",
       "\t 2006-06-01 & 8160 & 17032.89 & 15694.92 & 1 & 1 & 2.087365 & 1.923397 & 0.9214476\\\\\n",
       "\t ... & ... & ... & ... & ... & ... & ... & ... & ...\\\\\n",
       "\t 2006-08-01 & 8612 & 18250.00 & 16309.69 & 1 & 1 & 2.119136 & 1.893833 & 0.8936815\\\\\n",
       "\t 2006-09-01 & 8642 & 18160.00 & 16268.91 & 1 & 1 & 2.101365 & 1.882540 & 0.8958650\\\\\n",
       "\t 2006-10-01 & 8685 & 18042.86 & 16071.15 & 1 & 1 & 2.077473 & 1.850449 & 0.8907208\\\\\n",
       "\t 2006-11-01 & 8262 & 16854.55 & 15209.58 & 1 & 1 & 2.040008 & 1.840908 & 0.9024024\\\\\n",
       "\t 2006-12-01 & 7882 & 17100.00 & 14977.53 & 1 & 1 & 2.169500 & 1.900219 & 0.8758788\\\\\n",
       "\\end{tabular}\n"
      ],
      "text/markdown": [
       "\n",
       "A data.frame: 11 × 9\n",
       "\n",
       "| time &lt;date&gt; | rhfg &lt;dbl&gt; | rhws &lt;dbl&gt; | rhxb &lt;dbl&gt; | d_foodcrisis &lt;dbl&gt; | d_pledge &lt;dbl&gt; | ws2fg &lt;dbl&gt; | xb2fg &lt;dbl&gt; | xb2ws &lt;dbl&gt; |\n",
       "|---|---|---|---|---|---|---|---|---|\n",
       "| 2006-02-01 | 7873 | 15384.21 | 15007.82 | 1 | 1 | 1.954047 | 1.906239 | 0.9755340 |\n",
       "| 2006-03-01 | 7960 | 15900.00 | 14998.42 | 1 | 1 | 1.997487 | 1.884224 | 0.9432970 |\n",
       "| 2006-04-01 | 8028 | 16677.27 | 15255.81 | 1 | 1 | 2.077388 | 1.900325 | 0.9147663 |\n",
       "| 2006-05-01 | 8069 | 17085.53 | 15243.53 | 1 | 1 | 2.117428 | 1.889148 | 0.8921899 |\n",
       "| 2006-06-01 | 8160 | 17032.89 | 15694.92 | 1 | 1 | 2.087365 | 1.923397 | 0.9214476 |\n",
       "| ... | ... | ... | ... | ... | ... | ... | ... | ... |\n",
       "| 2006-08-01 | 8612 | 18250.00 | 16309.69 | 1 | 1 | 2.119136 | 1.893833 | 0.8936815 |\n",
       "| 2006-09-01 | 8642 | 18160.00 | 16268.91 | 1 | 1 | 2.101365 | 1.882540 | 0.8958650 |\n",
       "| 2006-10-01 | 8685 | 18042.86 | 16071.15 | 1 | 1 | 2.077473 | 1.850449 | 0.8907208 |\n",
       "| 2006-11-01 | 8262 | 16854.55 | 15209.58 | 1 | 1 | 2.040008 | 1.840908 | 0.9024024 |\n",
       "| 2006-12-01 | 7882 | 17100.00 | 14977.53 | 1 | 1 | 2.169500 | 1.900219 | 0.8758788 |\n",
       "\n"
      ],
      "text/plain": [
       "    time       rhfg rhws     rhxb     d_foodcrisis d_pledge ws2fg    xb2fg   \n",
       "1   2006-02-01 7873 15384.21 15007.82 1            1        1.954047 1.906239\n",
       "2   2006-03-01 7960 15900.00 14998.42 1            1        1.997487 1.884224\n",
       "3   2006-04-01 8028 16677.27 15255.81 1            1        2.077388 1.900325\n",
       "4   2006-05-01 8069 17085.53 15243.53 1            1        2.117428 1.889148\n",
       "5   2006-06-01 8160 17032.89 15694.92 1            1        2.087365 1.923397\n",
       "... ...        ...  ...      ...      ...          ...      ...      ...     \n",
       "7   2006-08-01 8612 18250.00 16309.69 1            1        2.119136 1.893833\n",
       "8   2006-09-01 8642 18160.00 16268.91 1            1        2.101365 1.882540\n",
       "9   2006-10-01 8685 18042.86 16071.15 1            1        2.077473 1.850449\n",
       "10  2006-11-01 8262 16854.55 15209.58 1            1        2.040008 1.840908\n",
       "11  2006-12-01 7882 17100.00 14977.53 1            1        2.169500 1.900219\n",
       "    xb2ws    \n",
       "1   0.9755340\n",
       "2   0.9432970\n",
       "3   0.9147663\n",
       "4   0.8921899\n",
       "5   0.9214476\n",
       "... ...      \n",
       "7   0.8936815\n",
       "8   0.8958650\n",
       "9   0.8907208\n",
       "10  0.9024024\n",
       "11  0.8758788"
      ]
     },
     "metadata": {},
     "output_type": "display_data"
    }
   ],
   "source": [
    "x %>%\n",
    "  filter(rhws > rhxb)"
   ]
  },
  {
   "cell_type": "code",
   "execution_count": 186,
   "id": "abroad-neutral",
   "metadata": {},
   "outputs": [
    {
     "data": {
      "image/png": "[encoded data removed]",
      "text/plain": [
       "plot without title"
      ]
     },
     "metadata": {
      "image/png": {
       "height": 900,
       "width": 1500
      }
     },
     "output_type": "display_data"
    }
   ],
   "source": [
    "ggplot(x, aes(x = time, y = rhws)) +\n",
    "  geom_line(color = \"red\") +\n",
    "  geom_line(aes(x = time, y = rhxb), color = \"blue\")"
   ]
  },
  {
   "cell_type": "markdown",
   "id": "affected-education",
   "metadata": {},
   "source": [
    "# Unit Root Test"
   ]
  },
  {
   "cell_type": "code",
   "execution_count": 86,
   "id": "pediatric-creativity",
   "metadata": {},
   "outputs": [],
   "source": [
    "# get object name as a string\n",
    "get_objname <- function(x) deparse(substitute(x))\n",
    "\n",
    "# unit root test for a time series\n",
    "tsf_ur_adf <- function(y, n_diff = 0, varname = NULL, ...) {\n",
    "  \n",
    "  varname <- if (is.null(varname)) deparse(substitute(y)) else varname\n",
    "  y <- y %>% ts_ts\n",
    "  y <- if(n_diff == 0) y else diff(y, n_diff)\n",
    "  \n",
    "  ur.trend <- ur.df(y, type='trend', lags = 10, selectlags = \"BIC\", ...)\n",
    "  ur.drift <- ur.df(y, type='drift', lags = 10, selectlags = \"BIC\", ...)\n",
    "  ur.none  <- ur.df(y, type='none' , lags = 10, selectlags = \"BIC\", ...)\n",
    "\n",
    "  tstat.trend <- ur.trend@teststat\n",
    "  tstat.drift <- ur.drift@teststat\n",
    "  tstat.none  <- ur.none@teststat\n",
    "\n",
    "  cv.trend <- ur.trend@cval\n",
    "  cv.drift <- ur.drift@cval\n",
    "  cv.none  <- ur.none@cval\n",
    "  \n",
    "  lags.trend <- dim(ur.trend@testreg$coefficients)[1] - 3\n",
    "  lags.drift <- dim(ur.drift@testreg$coefficients)[1] - 2\n",
    "  lags.none  <- dim(ur.none@testreg$coefficients)[1]  - 1\n",
    "\n",
    "  df_test <- rbind(\n",
    "    cbind(t(tstat.trend), cv.trend, lags.trend),\n",
    "    cbind(t(tstat.drift), cv.drift, lags.drift),\n",
    "    cbind(t(tstat.none) , cv.none , lags.none)\n",
    "  ) %>% \n",
    "    as.data.frame() %>%\n",
    "    rename(c(\"lag\" = \"lags.trend\")) %>%\n",
    "    rownames_to_column(\"hypo\") %>%\n",
    "    filter(str_starts(hypo, 'tau')) %>%\n",
    "    mutate(\n",
    "      result = ifelse(abs(statistic) >= abs(`5pct`), 'Reject', 'Accept'),\n",
    "      variable = varname,\n",
    "      level = paste0('d', n_diff),\n",
    "      star = case_when(\n",
    "        abs(statistic) > abs(`1pct`) ~ \"***\",\n",
    "        abs(statistic) > abs(`5pct`) ~ \"** \",\n",
    "        abs(statistic) > abs(`10pct`) ~ \"*  \",\n",
    "        TRUE ~ \"   \"\n",
    "      ),\n",
    "      hypo = case_when(\n",
    "        hypo == \"tau3\" ~ \"trend\",\n",
    "        hypo == \"tau2\" ~ \"constant\",\n",
    "        hypo == \"tau1\" ~ \"none\"\n",
    "      ),\n",
    "      statistic = format(round(statistic, 3), nsmall = 3) %>% \n",
    "        as.character %>% str_pad(6, \"left\")\n",
    "    ) %>%\n",
    "    select(variable, hypo, level, everything())\n",
    "  \n",
    "  return(df_test)\n",
    "}"
   ]
  },
  {
   "cell_type": "code",
   "execution_count": 87,
   "id": "surface-performance",
   "metadata": {},
   "outputs": [],
   "source": [
    "# unit root test in a table format\n",
    "tsf_report_adf <- function(adf_test) {\n",
    "  adf_test %>% \n",
    "    mutate(\n",
    "      stat_star = glue::glue(\n",
    "        \"{statistic}{star}({lag})\"\n",
    "      ) %>% as.character()\n",
    "    ) %>%\n",
    "    pivot_wider(\n",
    "      id_cols = c(\"variable\"),\n",
    "      names_from = c(\"level\", \"hypo\"),\n",
    "      values_from = c(\"stat_star\")\n",
    "    )\n",
    "}"
   ]
  },
  {
   "cell_type": "code",
   "execution_count": 88,
   "id": "binding-memorial",
   "metadata": {},
   "outputs": [],
   "source": [
    "rh_names <- c('RHFG', 'RHWS', 'RHXB')\n",
    "rw_names <- c('RWFG', 'RWWS', 'RWXB')\n",
    "\n",
    "params_rh <- expand_grid(rh_names, c(0,1)) %>%\n",
    "  set_names(c('name', 'ndiff')) %>%\n",
    "  mutate(ser = rh[, name] %>% as.list)\n",
    "\n",
    "params_rw <- expand_grid(rw_names, c(0,1)) %>%\n",
    "  set_names(c('name', 'ndiff')) %>%\n",
    "  mutate(ser = rw[, name] %>% as.list)\n",
    "\n",
    "params <- rbind(params_rh, params_rw)"
   ]
  },
  {
   "cell_type": "code",
   "execution_count": 47,
   "id": "ongoing-daughter",
   "metadata": {},
   "outputs": [
    {
     "data": {
      "text/html": [
       "<table>\n",
       "<caption>A tibble: 6 × 4</caption>\n",
       "<thead>\n",
       "\t<tr><th scope=col>mean</th><th scope=col>sd</th><th scope=col>min</th><th scope=col>max</th></tr>\n",
       "\t<tr><th scope=col>&lt;dbl&gt;</th><th scope=col>&lt;dbl&gt;</th><th scope=col>&lt;dbl&gt;</th><th scope=col>&lt;dbl&gt;</th></tr>\n",
       "</thead>\n",
       "<tbody>\n",
       "\t<tr><td>12208</td><td>2870</td><td> 7186</td><td>17292</td></tr>\n",
       "\t<tr><td>26051</td><td>6493</td><td>13795</td><td>36069</td></tr>\n",
       "\t<tr><td>28675</td><td>7261</td><td>14622</td><td>38815</td></tr>\n",
       "\t<tr><td> 8089</td><td>1524</td><td> 5000</td><td>13259</td></tr>\n",
       "\t<tr><td>13481</td><td>2880</td><td> 8735</td><td>26057</td></tr>\n",
       "\t<tr><td>14455</td><td>3611</td><td> 8403</td><td>30996</td></tr>\n",
       "</tbody>\n",
       "</table>\n"
      ],
      "text/latex": [
       "A tibble: 6 × 4\n",
       "\\begin{tabular}{llll}\n",
       " mean & sd & min & max\\\\\n",
       " <dbl> & <dbl> & <dbl> & <dbl>\\\\\n",
       "\\hline\n",
       "\t 12208 & 2870 &  7186 & 17292\\\\\n",
       "\t 26051 & 6493 & 13795 & 36069\\\\\n",
       "\t 28675 & 7261 & 14622 & 38815\\\\\n",
       "\t  8089 & 1524 &  5000 & 13259\\\\\n",
       "\t 13481 & 2880 &  8735 & 26057\\\\\n",
       "\t 14455 & 3611 &  8403 & 30996\\\\\n",
       "\\end{tabular}\n"
      ],
      "text/markdown": [
       "\n",
       "A tibble: 6 × 4\n",
       "\n",
       "| mean &lt;dbl&gt; | sd &lt;dbl&gt; | min &lt;dbl&gt; | max &lt;dbl&gt; |\n",
       "|---|---|---|---|\n",
       "| 12208 | 2870 |  7186 | 17292 |\n",
       "| 26051 | 6493 | 13795 | 36069 |\n",
       "| 28675 | 7261 | 14622 | 38815 |\n",
       "|  8089 | 1524 |  5000 | 13259 |\n",
       "| 13481 | 2880 |  8735 | 26057 |\n",
       "| 14455 | 3611 |  8403 | 30996 |\n",
       "\n"
      ],
      "text/plain": [
       "  mean  sd   min   max  \n",
       "1 12208 2870  7186 17292\n",
       "2 26051 6493 13795 36069\n",
       "3 28675 7261 14622 38815\n",
       "4  8089 1524  5000 13259\n",
       "5 13481 2880  8735 26057\n",
       "6 14455 3611  8403 30996"
      ]
     },
     "metadata": {},
     "output_type": "display_data"
    }
   ],
   "source": [
    "library(psych)\n",
    "s1 <- describe(x$rh$endo %>% exp %>% ts_wide) %>% as_tibble()\n",
    "s2 <- describe(x$rw$endo %>% exp %>% ts_wide) %>% as_tibble()\n",
    "s0 <- bind_rows(s1, s2) %>% select(mean, sd, min, max)\n",
    "s0 %>% round(0)"
   ]
  },
  {
   "cell_type": "markdown",
   "id": "modular-robertson",
   "metadata": {},
   "source": [
    "# Steps"
   ]
  },
  {
   "cell_type": "markdown",
   "id": "wrapped-drunk",
   "metadata": {},
   "source": [
    "## Overall Procedure\n",
    "1. Model Specification\n",
    "  - Unit Root Test -> `urca::ur.df`\n",
    "  - AR Order or Lag Selection -> `VARselect`\n",
    "  - Functional Form -> `tsDyn::VECM` and `AIC`, `BIC`\n",
    "  - Cointegrating Rank -> `tsDyn::rank.test`\n",
    "  - Choice of Deterministic Term\n",
    "    - exos + seasonal \n",
    "\n",
    "2. Model Checking\n",
    "  - Descriptive Analysis\n",
    "  - Diagnostic Tests\n",
    "    * Serial Autocorrelation\n",
    "    * Heteroskedasticity\n",
    "    * Normality\n",
    "    * Stability\n",
    "    \n",
    "3. Analysis\n",
    "  - Interpret\n",
    "  - Test economic theory\n",
    "  - Granger Causality\n",
    "  - IRF"
   ]
  },
  {
   "cell_type": "markdown",
   "id": "rational-maximum",
   "metadata": {},
   "source": [
    "## Toda Yamamoto Procedure\n",
    "1. Stationary test and find maximum order of integration called `m`\n",
    "2. Determine optimal lag of VAR in levels using information criteria called `p`\n",
    "3. Given lag `p` estimate VAR(p) and test for serial correlation. If failed to pass add more lag until there is no serial correlation problem.\n",
    "4. Conduct a cointegration test i.e. Johansen test keep result for cross-checking\n",
    "5. Estimate VAR(p+m)\n",
    "6. Wald test of the first `p` lags not `p+m` and associated test statistics is distributed as Chi-square(p)"
   ]
  },
  {
   "cell_type": "markdown",
   "id": "exposed-music",
   "metadata": {},
   "source": [
    "# Vertical PT: Hommali Rice"
   ]
  },
  {
   "cell_type": "code",
   "execution_count": 125,
   "id": "divided-string",
   "metadata": {},
   "outputs": [],
   "source": [
    "endo <- x$rh$endo\n",
    "exo <- x$rh$exo"
   ]
  },
  {
   "cell_type": "code",
   "execution_count": 126,
   "id": "quick-scroll",
   "metadata": {},
   "outputs": [
    {
     "data": {
      "image/png": "[encoded data removed]",
      "text/plain": [
       "plot without title"
      ]
     },
     "metadata": {
      "image/png": {
       "height": 900,
       "width": 1500
      }
     },
     "output_type": "display_data"
    }
   ],
   "source": [
    "plot(endo)"
   ]
  },
  {
   "cell_type": "markdown",
   "id": "provincial-carry",
   "metadata": {},
   "source": [
    "## Model Specification"
   ]
  },
  {
   "cell_type": "markdown",
   "id": "diverse-mattress",
   "metadata": {},
   "source": [
    "### Lag Selection"
   ]
  },
  {
   "cell_type": "code",
   "execution_count": 114,
   "id": "amazing-feelings",
   "metadata": {},
   "outputs": [
    {
     "data": {
      "text/html": [
       "<table>\n",
       "<caption>A matrix: 5 × 4 of type dbl</caption>\n",
       "<thead>\n",
       "\t<tr><th></th><th scope=col>AIC(n)</th><th scope=col>HQ(n)</th><th scope=col>SC(n)</th><th scope=col>FPE(n)</th></tr>\n",
       "</thead>\n",
       "<tbody>\n",
       "\t<tr><th scope=row>1</th><td>-20.32715</td><td>-20.24313</td><td>-20.11980</td><td>1.486075e-09</td></tr>\n",
       "\t<tr><th scope=row>2</th><td>-20.43946</td><td>-20.29243</td><td>-20.07661</td><td>1.328314e-09</td></tr>\n",
       "\t<tr><th scope=row>3</th><td>-20.40355</td><td>-20.19351</td><td>-19.88519</td><td>1.377154e-09</td></tr>\n",
       "\t<tr><th scope=row>4</th><td>-20.34362</td><td>-20.07057</td><td>-19.66976</td><td>1.462748e-09</td></tr>\n",
       "\t<tr><th scope=row>5</th><td>-20.27947</td><td>-19.94341</td><td>-19.45010</td><td>1.560573e-09</td></tr>\n",
       "</tbody>\n",
       "</table>\n"
      ],
      "text/latex": [
       "A matrix: 5 × 4 of type dbl\n",
       "\\begin{tabular}{r|llll}\n",
       "  & AIC(n) & HQ(n) & SC(n) & FPE(n)\\\\\n",
       "\\hline\n",
       "\t1 & -20.32715 & -20.24313 & -20.11980 & 1.486075e-09\\\\\n",
       "\t2 & -20.43946 & -20.29243 & -20.07661 & 1.328314e-09\\\\\n",
       "\t3 & -20.40355 & -20.19351 & -19.88519 & 1.377154e-09\\\\\n",
       "\t4 & -20.34362 & -20.07057 & -19.66976 & 1.462748e-09\\\\\n",
       "\t5 & -20.27947 & -19.94341 & -19.45010 & 1.560573e-09\\\\\n",
       "\\end{tabular}\n"
      ],
      "text/markdown": [
       "\n",
       "A matrix: 5 × 4 of type dbl\n",
       "\n",
       "| <!--/--> | AIC(n) | HQ(n) | SC(n) | FPE(n) |\n",
       "|---|---|---|---|---|\n",
       "| 1 | -20.32715 | -20.24313 | -20.11980 | 1.486075e-09 |\n",
       "| 2 | -20.43946 | -20.29243 | -20.07661 | 1.328314e-09 |\n",
       "| 3 | -20.40355 | -20.19351 | -19.88519 | 1.377154e-09 |\n",
       "| 4 | -20.34362 | -20.07057 | -19.66976 | 1.462748e-09 |\n",
       "| 5 | -20.27947 | -19.94341 | -19.45010 | 1.560573e-09 |\n",
       "\n"
      ],
      "text/plain": [
       "  AIC(n)    HQ(n)     SC(n)     FPE(n)      \n",
       "1 -20.32715 -20.24313 -20.11980 1.486075e-09\n",
       "2 -20.43946 -20.29243 -20.07661 1.328314e-09\n",
       "3 -20.40355 -20.19351 -19.88519 1.377154e-09\n",
       "4 -20.34362 -20.07057 -19.66976 1.462748e-09\n",
       "5 -20.27947 -19.94341 -19.45010 1.560573e-09"
      ]
     },
     "metadata": {},
     "output_type": "display_data"
    }
   ],
   "source": [
    "VARselect(endo, lag.max = 5, type = 'const')$criteria %>% t"
   ]
  },
  {
   "cell_type": "code",
   "execution_count": 115,
   "id": "supreme-therapist",
   "metadata": {},
   "outputs": [
    {
     "data": {
      "text/html": [
       "<dl>\n",
       "\t<dt>$selection</dt>\n",
       "\t\t<dd><style>\n",
       ".dl-inline {width: auto; margin:0; padding: 0}\n",
       ".dl-inline>dt, .dl-inline>dd {float: none; width: auto; display: inline-block}\n",
       ".dl-inline>dt::after {content: \":\\0020\"; padding-right: .5ex}\n",
       ".dl-inline>dt:not(:first-of-type) {padding-left: .5ex}\n",
       "</style><dl class=dl-inline><dt>AIC(n)</dt><dd>2</dd><dt>HQ(n)</dt><dd>2</dd><dt>SC(n)</dt><dd>1</dd><dt>FPE(n)</dt><dd>2</dd></dl>\n",
       "</dd>\n",
       "\t<dt>$criteria</dt>\n",
       "\t\t<dd><table>\n",
       "<caption>A matrix: 4 × 5 of type dbl</caption>\n",
       "<thead>\n",
       "\t<tr><th></th><th scope=col>1</th><th scope=col>2</th><th scope=col>3</th><th scope=col>4</th><th scope=col>5</th></tr>\n",
       "</thead>\n",
       "<tbody>\n",
       "\t<tr><th scope=row>AIC(n)</th><td>-2.034445e+01</td><td>-2.044649e+01</td><td>-2.040780e+01</td><td>-2.034480e+01</td><td>-2.027924e+01</td></tr>\n",
       "\t<tr><th scope=row>HQ(n)</th><td>-2.023943e+01</td><td>-2.027846e+01</td><td>-2.017676e+01</td><td>-2.005075e+01</td><td>-1.992217e+01</td></tr>\n",
       "\t<tr><th scope=row>SC(n)</th><td>-2.008527e+01</td><td>-2.003180e+01</td><td>-1.983761e+01</td><td>-1.961910e+01</td><td>-1.939803e+01</td></tr>\n",
       "\t<tr><th scope=row>FPE(n)</th><td> 1.460609e-09</td><td> 1.319075e-09</td><td> 1.371450e-09</td><td> 1.461266e-09</td><td> 1.561331e-09</td></tr>\n",
       "</tbody>\n",
       "</table>\n",
       "</dd>\n",
       "</dl>\n"
      ],
      "text/latex": [
       "\\begin{description}\n",
       "\\item[\\$selection] \\begin{description*}\n",
       "\\item[AIC(n)] 2\n",
       "\\item[HQ(n)] 2\n",
       "\\item[SC(n)] 1\n",
       "\\item[FPE(n)] 2\n",
       "\\end{description*}\n",
       "\n",
       "\\item[\\$criteria] A matrix: 4 × 5 of type dbl\n",
       "\\begin{tabular}{r|lllll}\n",
       "  & 1 & 2 & 3 & 4 & 5\\\\\n",
       "\\hline\n",
       "\tAIC(n) & -2.034445e+01 & -2.044649e+01 & -2.040780e+01 & -2.034480e+01 & -2.027924e+01\\\\\n",
       "\tHQ(n) & -2.023943e+01 & -2.027846e+01 & -2.017676e+01 & -2.005075e+01 & -1.992217e+01\\\\\n",
       "\tSC(n) & -2.008527e+01 & -2.003180e+01 & -1.983761e+01 & -1.961910e+01 & -1.939803e+01\\\\\n",
       "\tFPE(n) &  1.460609e-09 &  1.319075e-09 &  1.371450e-09 &  1.461266e-09 &  1.561331e-09\\\\\n",
       "\\end{tabular}\n",
       "\n",
       "\\end{description}\n"
      ],
      "text/markdown": [
       "$selection\n",
       ":   AIC(n)\n",
       ":   2HQ(n)\n",
       ":   2SC(n)\n",
       ":   1FPE(n)\n",
       ":   2\n",
       "\n",
       "\n",
       "$criteria\n",
       ":   \n",
       "A matrix: 4 × 5 of type dbl\n",
       "\n",
       "| <!--/--> | 1 | 2 | 3 | 4 | 5 |\n",
       "|---|---|---|---|---|---|\n",
       "| AIC(n) | -2.034445e+01 | -2.044649e+01 | -2.040780e+01 | -2.034480e+01 | -2.027924e+01 |\n",
       "| HQ(n) | -2.023943e+01 | -2.027846e+01 | -2.017676e+01 | -2.005075e+01 | -1.992217e+01 |\n",
       "| SC(n) | -2.008527e+01 | -2.003180e+01 | -1.983761e+01 | -1.961910e+01 | -1.939803e+01 |\n",
       "| FPE(n) |  1.460609e-09 |  1.319075e-09 |  1.371450e-09 |  1.461266e-09 |  1.561331e-09 |\n",
       "\n",
       "\n",
       "\n",
       "\n"
      ],
      "text/plain": [
       "$selection\n",
       "AIC(n)  HQ(n)  SC(n) FPE(n) \n",
       "     2      2      1      2 \n",
       "\n",
       "$criteria\n",
       "                   1             2             3             4             5\n",
       "AIC(n) -2.034445e+01 -2.044649e+01 -2.040780e+01 -2.034480e+01 -2.027924e+01\n",
       "HQ(n)  -2.023943e+01 -2.027846e+01 -2.017676e+01 -2.005075e+01 -1.992217e+01\n",
       "SC(n)  -2.008527e+01 -2.003180e+01 -1.983761e+01 -1.961910e+01 -1.939803e+01\n",
       "FPE(n)  1.460609e-09  1.319075e-09  1.371450e-09  1.461266e-09  1.561331e-09\n"
      ]
     },
     "metadata": {},
     "output_type": "display_data"
    }
   ],
   "source": [
    "VARselect(endo, lag.max = 5, type = 'both')"
   ]
  },
  {
   "cell_type": "code",
   "execution_count": 113,
   "id": "confused-mailman",
   "metadata": {},
   "outputs": [],
   "source": [
    "VARselect(endo, lag.max = 5, type = 'both')$criteria %>% t %>% \n",
    "  as_tibble() %>% janitor::clean_names() %>%\n",
    "  select(4,1,3,2) %>%\n",
    "  write_xlsx('results/02_lag_select_rh.xlsx')"
   ]
  },
  {
   "cell_type": "code",
   "execution_count": 130,
   "id": "invisible-hamburg",
   "metadata": {},
   "outputs": [
    {
     "data": {
      "text/plain": [
       "$serial\n",
       "\n",
       "\tPortmanteau Test (asymptotic)\n",
       "\n",
       "data:  Residuals of VAR object var_obj\n",
       "Chi-squared = 102.63, df = 99, p-value = 0.3811\n",
       "\n",
       "\n",
       "$arch\n",
       "\n",
       "\tARCH (multivariate)\n",
       "\n",
       "data:  Residuals of VAR object var_obj\n",
       "Chi-squared = 498.55, df = 432, p-value = 0.01464\n",
       "\n",
       "\n",
       "$norm\n",
       "$JB\n",
       "\n",
       "\tJB-Test (multivariate)\n",
       "\n",
       "data:  Residuals of VAR object var_obj\n",
       "Chi-squared = 2115.5, df = 6, p-value < 2.2e-16\n",
       "\n",
       "\n",
       "$Skewness\n",
       "\n",
       "\tSkewness only (multivariate)\n",
       "\n",
       "data:  Residuals of VAR object var_obj\n",
       "Chi-squared = 183.56, df = 3, p-value < 2.2e-16\n",
       "\n",
       "\n",
       "$Kurtosis\n",
       "\n",
       "\tKurtosis only (multivariate)\n",
       "\n",
       "data:  Residuals of VAR object var_obj\n",
       "Chi-squared = 1932, df = 3, p-value < 2.2e-16\n",
       "\n",
       "\n"
      ]
     },
     "metadata": {},
     "output_type": "display_data"
    }
   ],
   "source": [
    "check_VAR <- function(var_obj) {\n",
    "  res <- list()\n",
    "  res$serial <- serial.test(var_obj, lags.pt = 12, type = 'PT.asymptotic')\n",
    "  res$arch   <- arch.test(var_obj, lags.multi = 12)\n",
    "  res$norm   <- normality.test(var_obj)\n",
    "  return(res)\n",
    "}\n",
    "\n",
    "VAR(endo, p = 1, type = \"both\") %>% check_VAR()"
   ]
  },
  {
   "cell_type": "markdown",
   "id": "verified-society",
   "metadata": {},
   "source": [
    "> **optimal lag** = 1"
   ]
  },
  {
   "cell_type": "markdown",
   "id": "announced-assistant",
   "metadata": {},
   "source": [
    "### Deterministic Terms"
   ]
  },
  {
   "cell_type": "code",
   "execution_count": 182,
   "id": "streaming-associate",
   "metadata": {},
   "outputs": [
    {
     "ename": "ERROR",
     "evalue": "Error in rank.test(x): Sorry, rank.test does not work for model selected (due to specification of deterministic terms)\n\n",
     "output_type": "error",
     "traceback": [
      "Error in rank.test(x): Sorry, rank.test does not work for model selected (due to specification of deterministic terms)\n\nTraceback:\n",
      "1. rank.test(x)",
      "2. stop(\"Sorry, rank.test does not work for model selected (due to specification of deterministic terms)\\n\")"
     ]
    }
   ],
   "source": [
    "x <- VECM(Canada, lag = 2, estim = \"ML\", include = 'both',  LRinclude = 'both')\n",
    "rank.test(x)"
   ]
  },
  {
   "cell_type": "code",
   "execution_count": 149,
   "id": "viral-flavor",
   "metadata": {},
   "outputs": [
    {
     "data": {
      "text/html": [
       "<table>\n",
       "<caption>A tibble: 5 × 3</caption>\n",
       "<thead>\n",
       "\t<tr><th scope=col>model</th><th scope=col>AIC</th><th scope=col>BIC</th></tr>\n",
       "\t<tr><th scope=col>&lt;int&gt;</th><th scope=col>&lt;dbl&gt;</th><th scope=col>&lt;dbl&gt;</th></tr>\n",
       "</thead>\n",
       "<tbody>\n",
       "\t<tr><td>5</td><td>-3902.807</td><td>-3837.866</td></tr>\n",
       "\t<tr><td>2</td><td>-3897.585</td><td>-3832.645</td></tr>\n",
       "\t<tr><td>3</td><td>-3897.585</td><td>-3832.645</td></tr>\n",
       "\t<tr><td>1</td><td>-3894.527</td><td>-3829.586</td></tr>\n",
       "\t<tr><td>4</td><td>-3897.223</td><td>-3822.542</td></tr>\n",
       "</tbody>\n",
       "</table>\n"
      ],
      "text/latex": [
       "A tibble: 5 × 3\n",
       "\\begin{tabular}{lll}\n",
       " model & AIC & BIC\\\\\n",
       " <int> & <dbl> & <dbl>\\\\\n",
       "\\hline\n",
       "\t 5 & -3902.807 & -3837.866\\\\\n",
       "\t 2 & -3897.585 & -3832.645\\\\\n",
       "\t 3 & -3897.585 & -3832.645\\\\\n",
       "\t 1 & -3894.527 & -3829.586\\\\\n",
       "\t 4 & -3897.223 & -3822.542\\\\\n",
       "\\end{tabular}\n"
      ],
      "text/markdown": [
       "\n",
       "A tibble: 5 × 3\n",
       "\n",
       "| model &lt;int&gt; | AIC &lt;dbl&gt; | BIC &lt;dbl&gt; |\n",
       "|---|---|---|\n",
       "| 5 | -3902.807 | -3837.866 |\n",
       "| 2 | -3897.585 | -3832.645 |\n",
       "| 3 | -3897.585 | -3832.645 |\n",
       "| 1 | -3894.527 | -3829.586 |\n",
       "| 4 | -3897.223 | -3822.542 |\n",
       "\n"
      ],
      "text/plain": [
       "  model AIC       BIC      \n",
       "1 5     -3902.807 -3837.866\n",
       "2 2     -3897.585 -3832.645\n",
       "3 3     -3897.585 -3832.645\n",
       "4 1     -3894.527 -3829.586\n",
       "5 4     -3897.223 -3822.542"
      ]
     },
     "metadata": {},
     "output_type": "display_data"
    }
   ],
   "source": [
    "select_DT <- function(endo, exo) {\n",
    "  spec1 <- VECM(endo, lag = 1, estim = \"ML\", include = 'none',  LRinclude = 'none' , exogen = exo)\n",
    "  spec2 <- VECM(endo, lag = 1, estim = \"ML\", include = 'none',  LRinclude = 'const', exogen = exo)\n",
    "  spec3 <- VECM(endo, lag = 1, estim = \"ML\", include = 'const', LRinclude = 'const', exogen = exo)\n",
    "  spec4 <- VECM(endo, lag = 1, estim = \"ML\", include = 'const', LRinclude = 'trend', exogen = exo)\n",
    "  spec5 <- VECM(endo, lag = 1, estim = \"ML\", include = 'trend', LRinclude = 'both' , exogen = exo)\n",
    "#   spec6 <- VECM(endo, lag = 1, estim = \"ML\", include = 'none',  LRinclude = 'trend' , exogen = exo)\n",
    "  \n",
    "  res <- list(spec1, spec2, spec3, spec4, spec5)\n",
    "  tibble(\n",
    "    model = 1:length(res),\n",
    "    AIC = res %>% map_dbl(AIC),\n",
    "    BIC = res %>% map_dbl(BIC)\n",
    "  ) %>% arrange(BIC)\n",
    "}\n",
    "\n",
    "select_DT(endo, exo = exo)"
   ]
  },
  {
   "cell_type": "code",
   "execution_count": 156,
   "id": "major-flooring",
   "metadata": {},
   "outputs": [
    {
     "data": {
      "text/html": [
       "<table>\n",
       "<caption>A data.frame: 3 × 6</caption>\n",
       "<thead>\n",
       "\t<tr><th scope=col>r</th><th scope=col>trace</th><th scope=col>trace_pval</th><th scope=col>trace_pval_T</th><th scope=col>eigen</th><th scope=col>eigen_pval</th></tr>\n",
       "\t<tr><th scope=col>&lt;int&gt;</th><th scope=col>&lt;dbl&gt;</th><th scope=col>&lt;chr&gt;</th><th scope=col>&lt;chr&gt;</th><th scope=col>&lt;dbl&gt;</th><th scope=col>&lt;chr&gt;</th></tr>\n",
       "</thead>\n",
       "<tbody>\n",
       "\t<tr><td>0</td><td>47.590974</td><td>0.001091</td><td>0.001195</td><td>28.170039</td><td>0.004998</td></tr>\n",
       "\t<tr><td>1</td><td>19.420936</td><td>0.063756</td><td>0.065940</td><td>16.588033</td><td>0.036547</td></tr>\n",
       "\t<tr><td>2</td><td> 2.832903</td><td>0.619524</td><td>&lt; 0.001 </td><td> 2.832903</td><td>0.618373</td></tr>\n",
       "</tbody>\n",
       "</table>\n"
      ],
      "text/latex": [
       "A data.frame: 3 × 6\n",
       "\\begin{tabular}{llllll}\n",
       " r & trace & trace\\_pval & trace\\_pval\\_T & eigen & eigen\\_pval\\\\\n",
       " <int> & <dbl> & <chr> & <chr> & <dbl> & <chr>\\\\\n",
       "\\hline\n",
       "\t 0 & 47.590974 & 0.001091 & 0.001195 & 28.170039 & 0.004998\\\\\n",
       "\t 1 & 19.420936 & 0.063756 & 0.065940 & 16.588033 & 0.036547\\\\\n",
       "\t 2 &  2.832903 & 0.619524 & < 0.001  &  2.832903 & 0.618373\\\\\n",
       "\\end{tabular}\n"
      ],
      "text/markdown": [
       "\n",
       "A data.frame: 3 × 6\n",
       "\n",
       "| r &lt;int&gt; | trace &lt;dbl&gt; | trace_pval &lt;chr&gt; | trace_pval_T &lt;chr&gt; | eigen &lt;dbl&gt; | eigen_pval &lt;chr&gt; |\n",
       "|---|---|---|---|---|---|\n",
       "| 0 | 47.590974 | 0.001091 | 0.001195 | 28.170039 | 0.004998 |\n",
       "| 1 | 19.420936 | 0.063756 | 0.065940 | 16.588033 | 0.036547 |\n",
       "| 2 |  2.832903 | 0.619524 | &lt; 0.001  |  2.832903 | 0.618373 |\n",
       "\n"
      ],
      "text/plain": [
       "  r trace     trace_pval trace_pval_T eigen     eigen_pval\n",
       "1 0 47.590974 0.001091   0.001195     28.170039 0.004998  \n",
       "2 1 19.420936 0.063756   0.065940     16.588033 0.036547  \n",
       "3 2  2.832903 0.619524   < 0.001       2.832903 0.618373  "
      ]
     },
     "metadata": {},
     "output_type": "display_data"
    }
   ],
   "source": [
    "x <- VECM(endo, lag = 1, estim = \"ML\", include = 'none',  LRinclude = 'const', exogen = exo)\n",
    "rank.test(x) %>% summary() #%>% \n",
    "#   write_xlsx('results/rh_03_rank_test.xlsx')"
   ]
  },
  {
   "cell_type": "code",
   "execution_count": 158,
   "id": "crazy-harvest",
   "metadata": {},
   "outputs": [
    {
     "name": "stderr",
     "output_type": "stream",
     "text": [
      "Warning message in if (class(x) == \"numeric\") return(noquote(r)):\n",
      "\"the condition has length > 1 and only the first element will be used\"\n",
      "Warning message in if (class(x) == \"matrix\") return(matrix(noquote(r), ncol = ncol(x), :\n",
      "\"the condition has length > 1 and only the first element will be used\"\n",
      "Warning message in if (class(x) == \"numeric\") return(noquote(r)):\n",
      "\"the condition has length > 1 and only the first element will be used\"\n",
      "Warning message in if (class(x) == \"matrix\") return(matrix(noquote(r), ncol = ncol(x), :\n",
      "\"the condition has length > 1 and only the first element will be used\"\n"
     ]
    },
    {
     "data": {
      "text/plain": [
       "#############\n",
       "###Model VECM \n",
       "#############\n",
       "Full sample size: 192 \tEnd sample size: 190\n",
       "Number of variables: 3 \tNumber of estimated slope parameters 18\n",
       "AIC -3897.585 \tBIC -3832.645 \tSSR 0.9509125\n",
       "Cointegrating vector (estimated by ML):\n",
       "   RHFG      RHWS        RHXB     const\n",
       "r1    1 -0.779111 -0.05468003 -0.903613\n",
       "\n",
       "\n",
       "              ECT                 RHFG -1            RHWS -1           \n",
       "Equation RHFG -0.2247(0.0529)***  0.0966(0.0967)     0.1981(0.1182).   \n",
       "Equation RHWS -0.0481(0.0559)     0.0339(0.1022)     0.1460(0.1249)    \n",
       "Equation RHXB -0.1234(0.0546)*    0.0224(0.0998)     0.2233(0.1220).   \n",
       "              RHXB -1             d_foodcrisis      d_pledge          \n",
       "Equation RHFG 0.0419(0.1091)      0.0722(0.0199)*** 0.0204(0.0088)*   \n",
       "Equation RHWS 0.0469(0.1152)      0.0377(0.0210).   0.0042(0.0093)    \n",
       "Equation RHXB -0.0370(0.1126)     0.0826(0.0205)*** 0.0106(0.0090)    "
      ]
     },
     "metadata": {},
     "output_type": "display_data"
    }
   ],
   "source": [
    "x %>% summary()"
   ]
  },
  {
   "cell_type": "code",
   "execution_count": 150,
   "id": "equipped-thread",
   "metadata": {},
   "outputs": [
    {
     "data": {
      "text/plain": [
       "Rank selected: 1 (first eigen test with pval above 5 %: 7.7 %)"
      ]
     },
     "metadata": {},
     "output_type": "display_data"
    }
   ],
   "source": [
    "vecm_selected <- VECM(endo, lag = 1, estim = \"ML\", include = 'const', LRinclude = 'trend' , exogen = exo)\n",
    "rank.test(vecm_selected)"
   ]
  },
  {
   "cell_type": "code",
   "execution_count": 142,
   "id": "comfortable-certificate",
   "metadata": {},
   "outputs": [],
   "source": [
    "vecm_est <- VECM(endo, lag = 1, r = 2, estim = \"ML\", include = 'const', LRinclude = 'both', exogen = exo)"
   ]
  },
  {
   "cell_type": "code",
   "execution_count": 143,
   "id": "ranging-quilt",
   "metadata": {},
   "outputs": [
    {
     "name": "stderr",
     "output_type": "stream",
     "text": [
      "Warning message in if (class(x) == \"numeric\") return(noquote(r)):\n",
      "\"the condition has length > 1 and only the first element will be used\"\n",
      "Warning message in if (class(x) == \"matrix\") return(matrix(noquote(r), ncol = ncol(x), :\n",
      "\"the condition has length > 1 and only the first element will be used\"\n",
      "Warning message in if (class(x) == \"numeric\") return(noquote(r)):\n",
      "\"the condition has length > 1 and only the first element will be used\"\n",
      "Warning message in if (class(x) == \"matrix\") return(matrix(noquote(r), ncol = ncol(x), :\n",
      "\"the condition has length > 1 and only the first element will be used\"\n"
     ]
    },
    {
     "data": {
      "text/plain": [
       "#############\n",
       "###Model VECM \n",
       "#############\n",
       "Full sample size: 195 \tEnd sample size: 193\n",
       "Number of variables: 3 \tNumber of estimated slope parameters 21\n",
       "AIC 7492.307 \tBIC 7567.349 \tSSR 541083109\n",
       "Cointegrating vector (estimated by ML):\n",
       "   RHFG RHWS       RHXB     const     trend\n",
       "r1    1    0 -0.3635126 -1911.142  3.602570\n",
       "r2    0    1 -0.8239831 -2017.074 -4.720985\n",
       "\n",
       "\n",
       "              ECT1                ECT2                RHFG -1           \n",
       "Equation RHFG -0.2918(0.0647)***  0.0696(0.0372).     0.1209(0.1036)    \n",
       "Equation RHWS -0.1123(0.1437)     -0.0533(0.0827)     0.0563(0.2301)    \n",
       "Equation RHXB -0.2115(0.1449)     0.1693(0.0834)*     0.1250(0.2321)    \n",
       "              RHWS -1            RHXB -1            d_foodcrisis          \n",
       "Equation RHFG 0.0820(0.0622)     0.0115(0.0560)     971.5937(254.8224)*** \n",
       "Equation RHWS 0.1271(0.1382)     0.0619(0.1244)     864.1697(565.7729)    \n",
       "Equation RHXB 0.1157(0.1394)     0.0409(0.1254)     2093.0477(570.7214)***\n",
       "              d_pledge              \n",
       "Equation RHFG 320.9821(118.3991)**  \n",
       "Equation RHWS 179.5171(262.8772)    \n",
       "Equation RHXB 144.4386(265.1764)    "
      ]
     },
     "metadata": {},
     "output_type": "display_data"
    }
   ],
   "source": [
    "vecm_est %>% summary()"
   ]
  },
  {
   "cell_type": "code",
   "execution_count": 141,
   "id": "fantastic-sapphire",
   "metadata": {},
   "outputs": [
    {
     "data": {
      "text/html": [
       "<table>\n",
       "<caption>A matrix: 3 × 2 of type dbl</caption>\n",
       "<thead>\n",
       "\t<tr><th></th><th scope=col>r1</th><th scope=col>r2</th></tr>\n",
       "</thead>\n",
       "<tbody>\n",
       "\t<tr><th scope=row>RHFG</th><td> 1.0000000</td><td> 0.0000000</td></tr>\n",
       "\t<tr><th scope=row>RHWS</th><td> 0.0000000</td><td> 1.0000000</td></tr>\n",
       "\t<tr><th scope=row>RHXB</th><td>-0.3406024</td><td>-0.8563922</td></tr>\n",
       "</tbody>\n",
       "</table>\n"
      ],
      "text/latex": [
       "A matrix: 3 × 2 of type dbl\n",
       "\\begin{tabular}{r|ll}\n",
       "  & r1 & r2\\\\\n",
       "\\hline\n",
       "\tRHFG &  1.0000000 &  0.0000000\\\\\n",
       "\tRHWS &  0.0000000 &  1.0000000\\\\\n",
       "\tRHXB & -0.3406024 & -0.8563922\\\\\n",
       "\\end{tabular}\n"
      ],
      "text/markdown": [
       "\n",
       "A matrix: 3 × 2 of type dbl\n",
       "\n",
       "| <!--/--> | r1 | r2 |\n",
       "|---|---|---|\n",
       "| RHFG |  1.0000000 |  0.0000000 |\n",
       "| RHWS |  0.0000000 |  1.0000000 |\n",
       "| RHXB | -0.3406024 | -0.8563922 |\n",
       "\n"
      ],
      "text/plain": [
       "     r1         r2        \n",
       "RHFG  1.0000000  0.0000000\n",
       "RHWS  0.0000000  1.0000000\n",
       "RHXB -0.3406024 -0.8563922"
      ]
     },
     "metadata": {},
     "output_type": "display_data"
    }
   ],
   "source": [
    "vecm_est$model.specific$beta"
   ]
  },
  {
   "cell_type": "code",
   "execution_count": null,
   "id": "sharp-defeat",
   "metadata": {},
   "outputs": [],
   "source": [
    "var.rh <- VAR(endo, lag.max = 4, type = 'const', exogen = exo)"
   ]
  },
  {
   "cell_type": "code",
   "execution_count": 359,
   "id": "honest-freight",
   "metadata": {},
   "outputs": [
    {
     "data": {
      "text/plain": [
       "\n",
       "###################### \n",
       "# Johansen-Procedure # \n",
       "###################### \n",
       "\n",
       "Test type: trace statistic , without linear trend and constant in cointegration \n",
       "\n",
       "Eigenvalues (lambda):\n",
       "[1] 1.275686e-01 8.003480e-02 1.523741e-02 8.862396e-17\n",
       "\n",
       "Values of teststatistic and critical values of test:\n",
       "\n",
       "          test 10pct  5pct  1pct\n",
       "r <= 2 |  2.92  7.52  9.24 12.97\n",
       "r <= 1 | 18.77 17.85 19.96 24.60\n",
       "r = 0  | 44.70 32.00 34.91 41.07\n",
       "\n",
       "Eigenvectors, normalised to first column:\n",
       "(These are the cointegration relations)\n",
       "\n",
       "              RHFG.l1   RHWS.l1    RHXB.l1    constant\n",
       "RHFG.l1   1.000000000  1.000000  1.0000000  1.00000000\n",
       "RHWS.l1  -0.842871039  2.491234  0.3264489 -1.32286278\n",
       "RHXB.l1   0.004011214 -3.032640 -2.5249503 -0.02094209\n",
       "constant -0.858170083 -3.602454 13.2365587  3.81957874\n",
       "\n",
       "Weights W:\n",
       "(This is the loading matrix)\n",
       "\n",
       "           RHFG.l1      RHWS.l1     RHXB.l1     constant\n",
       "RHFG.d -0.20719962 -0.017292471 0.005807340 2.852033e-14\n",
       "RHWS.d -0.04733086 -0.007630187 0.011847608 6.074697e-15\n",
       "RHXB.d -0.11637534  0.030857003 0.008941739 1.902973e-14\n"
      ]
     },
     "metadata": {},
     "output_type": "display_data"
    },
    {
     "data": {
      "text/plain": [
       "\n",
       "###################### \n",
       "# Johansen-Procedure # \n",
       "###################### \n",
       "\n",
       "Test type: maximal eigenvalue statistic (lambda max) , without linear trend and constant in cointegration \n",
       "\n",
       "Eigenvalues (lambda):\n",
       "[1] 1.275686e-01 8.003480e-02 1.523741e-02 8.862396e-17\n",
       "\n",
       "Values of teststatistic and critical values of test:\n",
       "\n",
       "          test 10pct  5pct  1pct\n",
       "r <= 2 |  2.92  7.52  9.24 12.97\n",
       "r <= 1 | 15.85 13.75 15.67 20.20\n",
       "r = 0  | 25.93 19.77 22.00 26.81\n",
       "\n",
       "Eigenvectors, normalised to first column:\n",
       "(These are the cointegration relations)\n",
       "\n",
       "              RHFG.l1   RHWS.l1    RHXB.l1    constant\n",
       "RHFG.l1   1.000000000  1.000000  1.0000000  1.00000000\n",
       "RHWS.l1  -0.842871039  2.491234  0.3264489 -1.32286278\n",
       "RHXB.l1   0.004011214 -3.032640 -2.5249503 -0.02094209\n",
       "constant -0.858170083 -3.602454 13.2365587  3.81957874\n",
       "\n",
       "Weights W:\n",
       "(This is the loading matrix)\n",
       "\n",
       "           RHFG.l1      RHWS.l1     RHXB.l1     constant\n",
       "RHFG.d -0.20719962 -0.017292471 0.005807340 2.852033e-14\n",
       "RHWS.d -0.04733086 -0.007630187 0.011847608 6.074697e-15\n",
       "RHXB.d -0.11637534  0.030857003 0.008941739 1.902973e-14\n"
      ]
     },
     "metadata": {},
     "output_type": "display_data"
    }
   ],
   "source": [
    "vecm_rh.trace <- ca.jo(\n",
    "  x$rh$endo, type = 'trace', ecdet = 'const', K = 2,\n",
    "  spec = 'transitory', dumvar = x$rh$exo, season = 12\n",
    ")\n",
    "\n",
    "vecm_rh.eigen <- ca.jo(\n",
    "  x$rh$endo, type = 'eigen', ecdet = 'const', K = 2, \n",
    "  spec = 'transitory', dumvar = x$rh$exo, season = 12\n",
    ")\n",
    "\n",
    "summary(vecm_rh.trace)\n",
    "summary(vecm_rh.eigen)"
   ]
  },
  {
   "cell_type": "markdown",
   "id": "satisfactory-crowd",
   "metadata": {},
   "source": [
    "> r = 2"
   ]
  },
  {
   "cell_type": "code",
   "execution_count": 357,
   "id": "crude-cache",
   "metadata": {},
   "outputs": [
    {
     "data": {
      "text/html": [
       "<table>\n",
       "<caption>A matrix: 4 × 4 of type dbl</caption>\n",
       "<thead>\n",
       "\t<tr><th></th><th scope=col>RHFG.l1</th><th scope=col>RHWS.l1</th><th scope=col>RHXB.l1</th><th scope=col>constant</th></tr>\n",
       "</thead>\n",
       "<tbody>\n",
       "\t<tr><th scope=row>RHFG.l1</th><td> 1.000000000</td><td> 0.4014074</td><td>-0.3960474</td><td> 1.00000000</td></tr>\n",
       "\t<tr><th scope=row>RHWS.l1</th><td>-0.842871039</td><td> 1.0000000</td><td>-0.1292892</td><td>-1.32286278</td></tr>\n",
       "\t<tr><th scope=row>RHXB.l1</th><td> 0.004011214</td><td>-1.2173242</td><td> 1.0000000</td><td>-0.02094209</td></tr>\n",
       "\t<tr><th scope=row>constant</th><td>-0.858170083</td><td>-1.4460518</td><td>-5.2423046</td><td> 3.81957874</td></tr>\n",
       "</tbody>\n",
       "</table>\n"
      ],
      "text/latex": [
       "A matrix: 4 × 4 of type dbl\n",
       "\\begin{tabular}{r|llll}\n",
       "  & RHFG.l1 & RHWS.l1 & RHXB.l1 & constant\\\\\n",
       "\\hline\n",
       "\tRHFG.l1 &  1.000000000 &  0.4014074 & -0.3960474 &  1.00000000\\\\\n",
       "\tRHWS.l1 & -0.842871039 &  1.0000000 & -0.1292892 & -1.32286278\\\\\n",
       "\tRHXB.l1 &  0.004011214 & -1.2173242 &  1.0000000 & -0.02094209\\\\\n",
       "\tconstant & -0.858170083 & -1.4460518 & -5.2423046 &  3.81957874\\\\\n",
       "\\end{tabular}\n"
      ],
      "text/markdown": [
       "\n",
       "A matrix: 4 × 4 of type dbl\n",
       "\n",
       "| <!--/--> | RHFG.l1 | RHWS.l1 | RHXB.l1 | constant |\n",
       "|---|---|---|---|---|\n",
       "| RHFG.l1 |  1.000000000 |  0.4014074 | -0.3960474 |  1.00000000 |\n",
       "| RHWS.l1 | -0.842871039 |  1.0000000 | -0.1292892 | -1.32286278 |\n",
       "| RHXB.l1 |  0.004011214 | -1.2173242 |  1.0000000 | -0.02094209 |\n",
       "| constant | -0.858170083 | -1.4460518 | -5.2423046 |  3.81957874 |\n",
       "\n"
      ],
      "text/plain": [
       "         RHFG.l1      RHWS.l1    RHXB.l1    constant   \n",
       "RHFG.l1   1.000000000  0.4014074 -0.3960474  1.00000000\n",
       "RHWS.l1  -0.842871039  1.0000000 -0.1292892 -1.32286278\n",
       "RHXB.l1   0.004011214 -1.2173242  1.0000000 -0.02094209\n",
       "constant -0.858170083 -1.4460518 -5.2423046  3.81957874"
      ]
     },
     "metadata": {},
     "output_type": "display_data"
    }
   ],
   "source": [
    "beta <- vecm_rh.trace@V\n",
    "beta[, 2] <- beta[, 2] / beta[2,2]\n",
    "beta[, 3] <- beta[, 3] / beta[3,3]\n",
    "beta"
   ]
  },
  {
   "cell_type": "code",
   "execution_count": 253,
   "id": "applied-daisy",
   "metadata": {},
   "outputs": [],
   "source": [
    "# tsDyn::VECM(endo, r = 2, lag = 1, exogen = exo, estim = \"ML\") %>% str"
   ]
  },
  {
   "cell_type": "code",
   "execution_count": 362,
   "id": "absolute-logic",
   "metadata": {},
   "outputs": [
    {
     "data": {
      "text/plain": [
       "Response RHFG.d :\n",
       "\n",
       "Call:\n",
       "lm(formula = RHFG.d ~ ect1 + ect2 + d_foodcrisis + d_pledge + \n",
       "    sd1 + sd2 + sd3 + sd4 + sd5 + sd6 + sd7 + sd8 + sd9 + sd10 + \n",
       "    sd11 + RHFG.dl1 + RHWS.dl1 + RHXB.dl1 - 1, data = data.mat)\n",
       "\n",
       "Residuals:\n",
       "      Min        1Q    Median        3Q       Max \n",
       "-0.120699 -0.014572 -0.000512  0.016100  0.197733 \n",
       "\n",
       "Coefficients:\n",
       "              Estimate Std. Error t value Pr(>|t|)    \n",
       "ect1         -0.224492   0.054271  -4.136 5.51e-05 ***\n",
       "ect2          0.131563   0.058410   2.252  0.02556 *  \n",
       "d_foodcrisis  0.070132   0.019533   3.590  0.00043 ***\n",
       "d_pledge      0.022111   0.008765   2.523  0.01255 *  \n",
       "sd1           0.004717   0.014116   0.334  0.73867    \n",
       "sd2           0.017084   0.014404   1.186  0.23724    \n",
       "sd3           0.003712   0.014632   0.254  0.80004    \n",
       "sd4           0.016891   0.014262   1.184  0.23789    \n",
       "sd5          -0.002529   0.014411  -0.176  0.86088    \n",
       "sd6          -0.009436   0.014081  -0.670  0.50366    \n",
       "sd7           0.005652   0.014076   0.401  0.68855    \n",
       "sd8           0.009332   0.014139   0.660  0.51013    \n",
       "sd9           0.012859   0.014329   0.897  0.37076    \n",
       "sd10         -0.004672   0.014340  -0.326  0.74497    \n",
       "sd11         -0.042731   0.014098  -3.031  0.00281 ** \n",
       "RHFG.dl1      0.088910   0.098488   0.903  0.36792    \n",
       "RHWS.dl1      0.291383   0.118102   2.467  0.01460 *  \n",
       "RHXB.dl1     -0.049756   0.107888  -0.461  0.64525    \n",
       "---\n",
       "Signif. codes:  0 '***' 0.001 '**' 0.01 '*' 0.05 '.' 0.1 ' ' 1\n",
       "\n",
       "Residual standard error: 0.03835 on 172 degrees of freedom\n",
       "Multiple R-squared:  0.3853,\tAdjusted R-squared:  0.321 \n",
       "F-statistic:  5.99 on 18 and 172 DF,  p-value: 4.22e-11\n",
       "\n",
       "\n",
       "Response RHWS.d :\n",
       "\n",
       "Call:\n",
       "lm(formula = RHWS.d ~ ect1 + ect2 + d_foodcrisis + d_pledge + \n",
       "    sd1 + sd2 + sd3 + sd4 + sd5 + sd6 + sd7 + sd8 + sd9 + sd10 + \n",
       "    sd11 + RHFG.dl1 + RHWS.dl1 + RHXB.dl1 - 1, data = data.mat)\n",
       "\n",
       "Residuals:\n",
       "     Min       1Q   Median       3Q      Max \n",
       "-0.17527 -0.01806  0.00106  0.01697  0.26185 \n",
       "\n",
       "Coefficients:\n",
       "               Estimate Std. Error t value Pr(>|t|)  \n",
       "ect1         -5.496e-02  6.040e-02  -0.910   0.3641  \n",
       "ect2          2.089e-02  6.500e-02   0.321   0.7484  \n",
       "d_foodcrisis  3.897e-02  2.174e-02   1.793   0.0748 .\n",
       "d_pledge      5.817e-03  9.754e-03   0.596   0.5517  \n",
       "sd1           8.736e-03  1.571e-02   0.556   0.5789  \n",
       "sd2           4.118e-03  1.603e-02   0.257   0.7976  \n",
       "sd3          -5.911e-03  1.628e-02  -0.363   0.7170  \n",
       "sd4           1.336e-02  1.587e-02   0.842   0.4012  \n",
       "sd5           1.423e-03  1.604e-02   0.089   0.9294  \n",
       "sd6          -1.014e-02  1.567e-02  -0.647   0.5183  \n",
       "sd7           9.803e-03  1.567e-02   0.626   0.5323  \n",
       "sd8           4.647e-03  1.574e-02   0.295   0.7681  \n",
       "sd9           1.926e-02  1.595e-02   1.208   0.2288  \n",
       "sd10         -3.661e-03  1.596e-02  -0.229   0.8188  \n",
       "sd11         -1.954e-02  1.569e-02  -1.245   0.2147  \n",
       "RHFG.dl1      3.578e-02  1.096e-01   0.326   0.7445  \n",
       "RHWS.dl1      1.926e-01  1.314e-01   1.466   0.1446  \n",
       "RHXB.dl1     -2.638e-05  1.201e-01   0.000   0.9998  \n",
       "---\n",
       "Signif. codes:  0 '***' 0.001 '**' 0.01 '*' 0.05 '.' 0.1 ' ' 1\n",
       "\n",
       "Residual standard error: 0.04268 on 172 degrees of freedom\n",
       "Multiple R-squared:  0.1499,\tAdjusted R-squared:  0.06092 \n",
       "F-statistic: 1.685 on 18 and 172 DF,  p-value: 0.04599\n",
       "\n",
       "\n",
       "Response RHXB.d :\n",
       "\n",
       "Call:\n",
       "lm(formula = RHXB.d ~ ect1 + ect2 + d_foodcrisis + d_pledge + \n",
       "    sd1 + sd2 + sd3 + sd4 + sd5 + sd6 + sd7 + sd8 + sd9 + sd10 + \n",
       "    sd11 + RHFG.dl1 + RHWS.dl1 + RHXB.dl1 - 1, data = data.mat)\n",
       "\n",
       "Residuals:\n",
       "      Min        1Q    Median        3Q       Max \n",
       "-0.115494 -0.017160 -0.002736  0.018747  0.268629 \n",
       "\n",
       "Coefficients:\n",
       "               Estimate Std. Error t value Pr(>|t|)    \n",
       "ect1         -0.0855183  0.0579866  -1.475 0.142096    \n",
       "ect2          0.1749614  0.0624086   2.803 0.005636 ** \n",
       "d_foodcrisis  0.0746263  0.0208701   3.576 0.000454 ***\n",
       "d_pledge      0.0057622  0.0093648   0.615 0.539170    \n",
       "sd1           0.0167029  0.0150824   1.107 0.269648    \n",
       "sd2          -0.0006023  0.0153902  -0.039 0.968828    \n",
       "sd3          -0.0047081  0.0156334  -0.301 0.763656    \n",
       "sd4           0.0180532  0.0152381   1.185 0.237756    \n",
       "sd5           0.0026524  0.0153977   0.172 0.863436    \n",
       "sd6          -0.0030999  0.0150449  -0.206 0.837002    \n",
       "sd7           0.0074552  0.0150399   0.496 0.620743    \n",
       "sd8           0.0044988  0.0151075   0.298 0.766225    \n",
       "sd9           0.0060906  0.0153101   0.398 0.691257    \n",
       "sd10         -0.0170118  0.0153218  -1.110 0.268420    \n",
       "sd11         -0.0224212  0.0150629  -1.489 0.138448    \n",
       "RHFG.dl1      0.0170434  0.1052307   0.162 0.871526    \n",
       "RHWS.dl1      0.2375701  0.1261880   1.883 0.061434 .  \n",
       "RHXB.dl1     -0.0490780  0.1152739  -0.426 0.670821    \n",
       "---\n",
       "Signif. codes:  0 '***' 0.001 '**' 0.01 '*' 0.05 '.' 0.1 ' ' 1\n",
       "\n",
       "Residual standard error: 0.04097 on 172 degrees of freedom\n",
       "Multiple R-squared:  0.2649,\tAdjusted R-squared:  0.188 \n",
       "F-statistic: 3.443 on 18 and 172 DF,  p-value: 1.146e-05\n",
       "\n"
      ]
     },
     "metadata": {},
     "output_type": "display_data"
    }
   ],
   "source": [
    "vecm_rh <- cajorls(vecm_rh.trace, r = 2)\n",
    "vecm_rh$rlm %>% summary"
   ]
  },
  {
   "cell_type": "code",
   "execution_count": 352,
   "id": "banner-virtue",
   "metadata": {},
   "outputs": [
    {
     "data": {
      "text/plain": [
       "$rlm\n",
       "\n",
       "Call:\n",
       "lm(formula = substitute(form1), data = data.mat)\n",
       "\n",
       "Coefficients:\n",
       "              RHFG.d      RHWS.d      RHXB.d    \n",
       "ect1          -2.245e-01  -5.496e-02  -8.552e-02\n",
       "ect2           1.316e-01   2.089e-02   1.750e-01\n",
       "d_foodcrisis   7.013e-02   3.897e-02   7.463e-02\n",
       "d_pledge       2.211e-02   5.817e-03   5.762e-03\n",
       "sd1            4.717e-03   8.736e-03   1.670e-02\n",
       "sd2            1.708e-02   4.118e-03  -6.023e-04\n",
       "sd3            3.712e-03  -5.911e-03  -4.708e-03\n",
       "sd4            1.689e-02   1.336e-02   1.805e-02\n",
       "sd5           -2.529e-03   1.423e-03   2.652e-03\n",
       "sd6           -9.436e-03  -1.014e-02  -3.100e-03\n",
       "sd7            5.652e-03   9.803e-03   7.455e-03\n",
       "sd8            9.332e-03   4.647e-03   4.499e-03\n",
       "sd9            1.286e-02   1.926e-02   6.091e-03\n",
       "sd10          -4.672e-03  -3.661e-03  -1.701e-02\n",
       "sd11          -4.273e-02  -1.954e-02  -2.242e-02\n",
       "RHFG.dl1       8.891e-02   3.578e-02   1.704e-02\n",
       "RHWS.dl1       2.914e-01   1.926e-01   2.376e-01\n",
       "RHXB.dl1      -4.976e-02  -2.638e-05  -4.908e-02\n",
       "\n",
       "\n",
       "$beta\n",
       "                  ect1       ect2\n",
       "RHFG.l1   1.000000e+00  0.0000000\n",
       "RHWS.l1  -1.110223e-16  1.0000000\n",
       "RHXB.l1  -7.636625e-01 -0.9107844\n",
       "constant -1.551933e+00 -0.8230945\n"
      ]
     },
     "metadata": {},
     "output_type": "display_data"
    }
   ],
   "source": [
    "vecm_rh"
   ]
  },
  {
   "cell_type": "code",
   "execution_count": 332,
   "id": "present-ozone",
   "metadata": {},
   "outputs": [],
   "source": [
    "# vecm_rh$rlm %>% summary"
   ]
  },
  {
   "cell_type": "code",
   "execution_count": 334,
   "id": "seventh-crazy",
   "metadata": {},
   "outputs": [
    {
     "data": {
      "text/html": [
       "16465.172"
      ],
      "text/latex": [
       "16465.172"
      ],
      "text/markdown": [
       "16465.172"
      ],
      "text/plain": [
       "[1] 16465.17"
      ]
     },
     "metadata": {},
     "output_type": "display_data"
    }
   ],
   "source": [
    "21664.70*0.76"
   ]
  },
  {
   "cell_type": "code",
   "execution_count": 333,
   "id": "normal-soundtrack",
   "metadata": {},
   "outputs": [
    {
     "data": {
      "text/html": [
       "19731.87079068"
      ],
      "text/latex": [
       "19731.87079068"
      ],
      "text/markdown": [
       "19731.87079068"
      ],
      "text/plain": [
       "[1] 19731.87"
      ]
     },
     "metadata": {},
     "output_type": "display_data"
    }
   ],
   "source": [
    "21664.70*0.9107844"
   ]
  },
  {
   "cell_type": "code",
   "execution_count": 329,
   "id": "ranging-antarctica",
   "metadata": {
    "collapsed": true,
    "jupyter": {
     "outputs_hidden": true
    }
   },
   "outputs": [
    {
     "data": {
      "text/html": [
       "<table>\n",
       "<caption>A Time Series: 192 × 3</caption>\n",
       "<thead>\n",
       "\t<tr><th></th><th scope=col>RHFG</th><th scope=col>RHWS</th><th scope=col>RHXB</th></tr>\n",
       "</thead>\n",
       "<tbody>\n",
       "\t<tr><th scope=row>Jan 2004</th><td> 8759</td><td>18515.79</td><td>21664.70</td></tr>\n",
       "\t<tr><th scope=row>Feb 2004</th><td> 8791</td><td>17655.00</td><td>21533.90</td></tr>\n",
       "\t<tr><th scope=row>Mar 2004</th><td> 9062</td><td>17600.00</td><td>21532.68</td></tr>\n",
       "\t<tr><th scope=row>Apr 2004</th><td> 9329</td><td>17435.29</td><td>21557.25</td></tr>\n",
       "\t<tr><th scope=row>May 2004</th><td> 9209</td><td>16835.00</td><td>21557.97</td></tr>\n",
       "\t<tr><th scope=row>Jun 2004</th><td> 8607</td><td>16109.52</td><td>19370.70</td></tr>\n",
       "\t<tr><th scope=row>Jul 2004</th><td> 7894</td><td>14768.18</td><td>18534.98</td></tr>\n",
       "\t<tr><th scope=row>Aug 2004</th><td> 7704</td><td>14550.00</td><td>17786.70</td></tr>\n",
       "\t<tr><th scope=row>Sep 2004</th><td> 7243</td><td>13795.45</td><td>16609.91</td></tr>\n",
       "\t<tr><th scope=row>Oct 2004</th><td> 7186</td><td>14267.50</td><td>16235.60</td></tr>\n",
       "\t<tr><th scope=row>Nov 2004</th><td> 7777</td><td>15100.00</td><td>16438.18</td></tr>\n",
       "\t<tr><th scope=row>Dec 2004</th><td> 7555</td><td>15100.00</td><td>16462.81</td></tr>\n",
       "\t<tr><th scope=row>Jan 2005</th><td> 7604</td><td>15100.00</td><td>17348.41</td></tr>\n",
       "\t<tr><th scope=row>Feb 2005</th><td> 7736</td><td>15400.00</td><td>17411.03</td></tr>\n",
       "\t<tr><th scope=row>Mar 2005</th><td> 7816</td><td>15400.00</td><td>17212.30</td></tr>\n",
       "\t<tr><th scope=row>Apr 2005</th><td> 7913</td><td>15400.00</td><td>16846.35</td></tr>\n",
       "\t<tr><th scope=row>May 2005</th><td> 7769</td><td>15250.00</td><td>16803.43</td></tr>\n",
       "\t<tr><th scope=row>Jun 2005</th><td> 7630</td><td>14709.09</td><td>16435.38</td></tr>\n",
       "\t<tr><th scope=row>Jul 2005</th><td> 7486</td><td>14607.89</td><td>16472.97</td></tr>\n",
       "\t<tr><th scope=row>Aug 2005</th><td> 7618</td><td>15020.45</td><td>16764.54</td></tr>\n",
       "\t<tr><th scope=row>Sep 2005</th><td> 7816</td><td>15009.09</td><td>16394.58</td></tr>\n",
       "\t<tr><th scope=row>Oct 2005</th><td> 7850</td><td>15000.00</td><td>16161.03</td></tr>\n",
       "\t<tr><th scope=row>Nov 2005</th><td> 7393</td><td>14681.82</td><td>15904.96</td></tr>\n",
       "\t<tr><th scope=row>Dec 2005</th><td> 7579</td><td>14650.00</td><td>16076.83</td></tr>\n",
       "\t<tr><th scope=row>Jan 2006</th><td> 7628</td><td>14094.44</td><td>14622.21</td></tr>\n",
       "\t<tr><th scope=row>Feb 2006</th><td> 7873</td><td>15384.21</td><td>15007.82</td></tr>\n",
       "\t<tr><th scope=row>Mar 2006</th><td> 7960</td><td>15900.00</td><td>14998.42</td></tr>\n",
       "\t<tr><th scope=row>Apr 2006</th><td> 8028</td><td>16677.27</td><td>15255.81</td></tr>\n",
       "\t<tr><th scope=row>May 2006</th><td> 8069</td><td>17085.53</td><td>15243.53</td></tr>\n",
       "\t<tr><th scope=row>Jun 2006</th><td> 8160</td><td>17032.89</td><td>15694.92</td></tr>\n",
       "\t<tr><th scope=row>Jul 2006</th><td> 8353</td><td>17914.86</td><td>15980.36</td></tr>\n",
       "\t<tr><th scope=row>Aug 2006</th><td> 8612</td><td>18250.00</td><td>16309.69</td></tr>\n",
       "\t<tr><th scope=row>Sep 2006</th><td> 8642</td><td>18160.00</td><td>16268.91</td></tr>\n",
       "\t<tr><th scope=row>Oct 2006</th><td> 8685</td><td>18042.86</td><td>16071.15</td></tr>\n",
       "\t<tr><th scope=row>Nov 2006</th><td> 8262</td><td>16854.55</td><td>15209.58</td></tr>\n",
       "\t<tr><th scope=row>Dec 2006</th><td> 7882</td><td>17100.00</td><td>14977.53</td></tr>\n",
       "\t<tr><th scope=row>Jan 2007</th><td> 8072</td><td>17823.81</td><td>18989.50</td></tr>\n",
       "\t<tr><th scope=row>Feb 2007</th><td> 8274</td><td>17900.00</td><td>19148.26</td></tr>\n",
       "\t<tr><th scope=row>Mar 2007</th><td> 8388</td><td>17900.00</td><td>19294.67</td></tr>\n",
       "\t<tr><th scope=row>Apr 2007</th><td> 8526</td><td>17900.00</td><td>19288.90</td></tr>\n",
       "\t<tr><th scope=row>May 2007</th><td> 8643</td><td>17697.37</td><td>19074.80</td></tr>\n",
       "\t<tr><th scope=row>Jun 2007</th><td> 8778</td><td>17685.00</td><td>19101.91</td></tr>\n",
       "\t<tr><th scope=row>Jul 2007</th><td> 8864</td><td>17500.00</td><td>19147.76</td></tr>\n",
       "\t<tr><th scope=row>Aug 2007</th><td> 9016</td><td>17500.00</td><td>19046.63</td></tr>\n",
       "\t<tr><th scope=row>Sep 2007</th><td> 9033</td><td>17500.00</td><td>18989.08</td></tr>\n",
       "\t<tr><th scope=row>Oct 2007</th><td> 9028</td><td>17650.00</td><td>19080.14</td></tr>\n",
       "\t<tr><th scope=row>Nov 2007</th><td> 8954</td><td>18826.39</td><td>20043.22</td></tr>\n",
       "\t<tr><th scope=row>Dec 2007</th><td> 9691</td><td>19753.12</td><td>20978.42</td></tr>\n",
       "\t<tr><th scope=row>Jan 2008</th><td>10150</td><td>20681.82</td><td>22319.05</td></tr>\n",
       "\t<tr><th scope=row>Feb 2008</th><td>11906</td><td>22267.65</td><td>23817.76</td></tr>\n",
       "\t<tr><th scope=row>Mar 2008</th><td>12995</td><td>24085.71</td><td>25438.72</td></tr>\n",
       "\t<tr><th scope=row>Apr 2008</th><td>17122</td><td>33222.22</td><td>36736.15</td></tr>\n",
       "\t<tr><th scope=row>May 2008</th><td>17292</td><td>32144.44</td><td>38099.37</td></tr>\n",
       "\t<tr><th scope=row>Jun 2008</th><td>15570</td><td>27291.46</td><td>35308.68</td></tr>\n",
       "\t<tr><th scope=row>Jul 2008</th><td>14307</td><td>26369.05</td><td>32180.58</td></tr>\n",
       "\t<tr><th scope=row>Aug 2008</th><td>13621</td><td>24190.00</td><td>30500.08</td></tr>\n",
       "\t<tr><th scope=row>Sep 2008</th><td>13197</td><td>24600.00</td><td>30180.56</td></tr>\n",
       "\t<tr><th scope=row>Oct 2008</th><td>13424</td><td>24750.00</td><td>27765.03</td></tr>\n",
       "\t<tr><th scope=row>Nov 2008</th><td>12728</td><td>24128.75</td><td>27747.46</td></tr>\n",
       "\t<tr><th scope=row>Dec 2008</th><td>12089</td><td>23966.25</td><td>28264.04</td></tr>\n",
       "\t<tr><th scope=row>Jan 2009</th><td>12188</td><td>26985.29</td><td>30150.30</td></tr>\n",
       "\t<tr><th scope=row>Feb 2009</th><td>12755</td><td>26905.26</td><td>30519.94</td></tr>\n",
       "\t<tr><th scope=row>Mar 2009</th><td>13182</td><td>27459.09</td><td>31075.75</td></tr>\n",
       "\t<tr><th scope=row>Apr 2009</th><td>13175</td><td>27300.00</td><td>31149.77</td></tr>\n",
       "\t<tr><th scope=row>May 2009</th><td>13133</td><td>27041.18</td><td>30816.59</td></tr>\n",
       "\t<tr><th scope=row>Jun 2009</th><td>13078</td><td>27603.49</td><td>30835.85</td></tr>\n",
       "\t<tr><th scope=row>Jul 2009</th><td>13551</td><td>29520.00</td><td>32290.49</td></tr>\n",
       "\t<tr><th scope=row>Aug 2009</th><td>13707</td><td>30460.00</td><td>32335.79</td></tr>\n",
       "\t<tr><th scope=row>Sep 2009</th><td>14857</td><td>31459.09</td><td>34278.33</td></tr>\n",
       "\t<tr><th scope=row>Oct 2009</th><td>15203</td><td>31969.05</td><td>34648.09</td></tr>\n",
       "\t<tr><th scope=row>Nov 2009</th><td>13502</td><td>30885.14</td><td>35303.33</td></tr>\n",
       "\t<tr><th scope=row>Dec 2009</th><td>14155</td><td>32525.00</td><td>36224.69</td></tr>\n",
       "\t<tr><th scope=row>Jan 2010</th><td>14106</td><td>31625.00</td><td>34835.78</td></tr>\n",
       "\t<tr><th scope=row>Feb 2010</th><td>14337</td><td>31123.68</td><td>34560.26</td></tr>\n",
       "\t<tr><th scope=row>Mar 2010</th><td>13948</td><td>30422.73</td><td>33602.55</td></tr>\n",
       "\t<tr><th scope=row>Apr 2010</th><td>13607</td><td>30167.65</td><td>33092.72</td></tr>\n",
       "\t<tr><th scope=row>May 2010</th><td>13178</td><td>29919.44</td><td>32922.33</td></tr>\n",
       "\t<tr><th scope=row>Jun 2010</th><td>12803</td><td>27542.86</td><td>32620.06</td></tr>\n",
       "\t<tr><th scope=row>Jul 2010</th><td>13125</td><td>28646.15</td><td>33070.34</td></tr>\n",
       "\t<tr><th scope=row>Aug 2010</th><td>13528</td><td>29065.00</td><td>33183.79</td></tr>\n",
       "\t<tr><th scope=row>Sep 2010</th><td>13895</td><td>30400.00</td><td>34100.39</td></tr>\n",
       "\t<tr><th scope=row>Oct 2010</th><td>14070</td><td>29368.18</td><td>34026.25</td></tr>\n",
       "\t<tr><th scope=row>Nov 2010</th><td>13184</td><td>28615.91</td><td>34100.88</td></tr>\n",
       "\t<tr><th scope=row>Dec 2010</th><td>12837</td><td>28362.50</td><td>32176.36</td></tr>\n",
       "\t<tr><th scope=row>Jan 2011</th><td>12511</td><td>27642.50</td><td>31870.33</td></tr>\n",
       "\t<tr><th scope=row>Feb 2011</th><td>12304</td><td>26920.59</td><td>31232.79</td></tr>\n",
       "\t<tr><th scope=row>Mar 2011</th><td>11821</td><td>26534.78</td><td>31354.06</td></tr>\n",
       "\t<tr><th scope=row>Apr 2011</th><td>12113</td><td>26532.35</td><td>31304.11</td></tr>\n",
       "\t<tr><th scope=row>May 2011</th><td>12202</td><td>26876.47</td><td>31367.57</td></tr>\n",
       "\t<tr><th scope=row>Jun 2011</th><td>12287</td><td>26988.64</td><td>31785.73</td></tr>\n",
       "\t<tr><th scope=row>Jul 2011</th><td>12471</td><td>28586.84</td><td>32535.84</td></tr>\n",
       "\t<tr><th scope=row>Aug 2011</th><td>12942</td><td>28995.45</td><td>32694.56</td></tr>\n",
       "\t<tr><th scope=row>Sep 2011</th><td>13275</td><td>30345.45</td><td>33349.29</td></tr>\n",
       "\t<tr><th scope=row>Oct 2011</th><td>14265</td><td>30544.12</td><td>34456.65</td></tr>\n",
       "\t<tr><th scope=row>Nov 2011</th><td>15219</td><td>30986.36</td><td>35031.55</td></tr>\n",
       "\t<tr><th scope=row>Dec 2011</th><td>15004</td><td>29762.50</td><td>34250.10</td></tr>\n",
       "\t<tr><th scope=row>Jan 2012</th><td>15201</td><td>29578.95</td><td>33408.20</td></tr>\n",
       "\t<tr><th scope=row>Feb 2012</th><td>15024</td><td>29309.52</td><td>33261.06</td></tr>\n",
       "\t<tr><th scope=row>Mar 2012</th><td>14770</td><td>29260.00</td><td>33279.61</td></tr>\n",
       "\t<tr><th scope=row>Apr 2012</th><td>14752</td><td>28285.29</td><td>32689.65</td></tr>\n",
       "\t<tr><th scope=row>May 2012</th><td>14628</td><td>29535.00</td><td>32749.24</td></tr>\n",
       "\t<tr><th scope=row>Jun 2012</th><td>14616</td><td>30520.00</td><td>33154.25</td></tr>\n",
       "\t<tr><th scope=row>Jul 2012</th><td>14832</td><td>30004.55</td><td>33120.73</td></tr>\n",
       "\t<tr><th scope=row>Aug 2012</th><td>15369</td><td>31065.00</td><td>33213.49</td></tr>\n",
       "\t<tr><th scope=row>Sep 2012</th><td>15538</td><td>31967.50</td><td>33769.30</td></tr>\n",
       "\t<tr><th scope=row>Oct 2012</th><td>15813</td><td>31797.73</td><td>33778.36</td></tr>\n",
       "\t<tr><th scope=row>Nov 2012</th><td>15302</td><td>30827.27</td><td>33350.09</td></tr>\n",
       "\t<tr><th scope=row>Dec 2012</th><td>15386</td><td>30813.89</td><td>33422.10</td></tr>\n",
       "\t<tr><th scope=row>Jan 2013</th><td>15702</td><td>32429.09</td><td>34760.30</td></tr>\n",
       "\t<tr><th scope=row>Feb 2013</th><td>16070</td><td>32950.00</td><td>34909.53</td></tr>\n",
       "\t<tr><th scope=row>Mar 2013</th><td>15862</td><td>32407.14</td><td>35253.53</td></tr>\n",
       "\t<tr><th scope=row>Apr 2013</th><td>15643</td><td>32350.00</td><td>35083.57</td></tr>\n",
       "\t<tr><th scope=row>May 2013</th><td>15809</td><td>32573.68</td><td>35193.79</td></tr>\n",
       "\t<tr><th scope=row>Jun 2013</th><td>15870</td><td>32950.00</td><td>35379.43</td></tr>\n",
       "\t<tr><th scope=row>Jul 2013</th><td>15576</td><td>32930.95</td><td>35631.51</td></tr>\n",
       "\t<tr><th scope=row>Aug 2013</th><td>15675</td><td>32888.10</td><td>35572.74</td></tr>\n",
       "\t<tr><th scope=row>Sep 2013</th><td>15776</td><td>33540.48</td><td>35696.80</td></tr>\n",
       "\t<tr><th scope=row>Oct 2013</th><td>15708</td><td>33550.00</td><td>35886.20</td></tr>\n",
       "\t<tr><th scope=row>Nov 2013</th><td>14984</td><td>33550.00</td><td>34693.31</td></tr>\n",
       "\t<tr><th scope=row>Dec 2013</th><td>14313</td><td>32800.00</td><td>33974.41</td></tr>\n",
       "\t<tr><th scope=row>Jan 2014</th><td>14252</td><td>32118.18</td><td>34173.79</td></tr>\n",
       "\t<tr><th scope=row>Feb 2014</th><td>14223</td><td>31060.53</td><td>34229.34</td></tr>\n",
       "\t<tr><th scope=row>Mar 2014</th><td>14186</td><td>30311.90</td><td>33977.91</td></tr>\n",
       "\t<tr><th scope=row>Apr 2014</th><td>13902</td><td>30050.00</td><td>33795.45</td></tr>\n",
       "\t<tr><th scope=row>May 2014</th><td>13846</td><td>30050.00</td><td>33748.62</td></tr>\n",
       "\t<tr><th scope=row>Jun 2014</th><td>13812</td><td>30458.33</td><td>34174.66</td></tr>\n",
       "\t<tr><th scope=row>Jul 2014</th><td>13886</td><td>31297.62</td><td>34778.90</td></tr>\n",
       "\t<tr><th scope=row>Aug 2014</th><td>13992</td><td>31410.53</td><td>34901.78</td></tr>\n",
       "\t<tr><th scope=row>Sep 2014</th><td>14094</td><td>31700.00</td><td>34907.51</td></tr>\n",
       "\t<tr><th scope=row>Oct 2014</th><td>14179</td><td>31872.73</td><td>34287.38</td></tr>\n",
       "\t<tr><th scope=row>Nov 2014</th><td>13367</td><td>29652.63</td><td>31372.96</td></tr>\n",
       "\t<tr><th scope=row>Dec 2014</th><td>11649</td><td>30000.00</td><td>31724.48</td></tr>\n",
       "\t<tr><th scope=row>Jan 2015</th><td>12565</td><td>30667.50</td><td>32626.15</td></tr>\n",
       "\t<tr><th scope=row>Feb 2015</th><td>13103</td><td>30900.00</td><td>32472.96</td></tr>\n",
       "\t<tr><th scope=row>Mar 2015</th><td>13571</td><td>30040.48</td><td>32118.95</td></tr>\n",
       "\t<tr><th scope=row>Apr 2015</th><td>13470</td><td>29444.44</td><td>32091.91</td></tr>\n",
       "\t<tr><th scope=row>May 2015</th><td>13341</td><td>29344.44</td><td>31858.61</td></tr>\n",
       "\t<tr><th scope=row>Jun 2015</th><td>13134</td><td>28990.48</td><td>31671.08</td></tr>\n",
       "\t<tr><th scope=row>Jul 2015</th><td>13098</td><td>29611.90</td><td>32679.83</td></tr>\n",
       "\t<tr><th scope=row>Aug 2015</th><td>13073</td><td>29910.00</td><td>32256.60</td></tr>\n",
       "\t<tr><th scope=row>Sep 2015</th><td>13282</td><td>29556.82</td><td>31863.67</td></tr>\n",
       "\t<tr><th scope=row>Oct 2015</th><td>13099</td><td>29338.10</td><td>31772.70</td></tr>\n",
       "\t<tr><th scope=row>Nov 2015</th><td>12018</td><td>26895.24</td><td>29763.29</td></tr>\n",
       "\t<tr><th scope=row>Dec 2015</th><td>11518</td><td>24835.00</td><td>27223.68</td></tr>\n",
       "\t<tr><th scope=row>Jan 2016</th><td>10918</td><td>24625.00</td><td>27118.67</td></tr>\n",
       "\t<tr><th scope=row>Feb 2016</th><td>10798</td><td>24130.00</td><td>26827.02</td></tr>\n",
       "\t<tr><th scope=row>Mar 2016</th><td>10725</td><td>23219.57</td><td>26173.07</td></tr>\n",
       "\t<tr><th scope=row>Apr 2016</th><td>10588</td><td>22850.00</td><td>25980.07</td></tr>\n",
       "\t<tr><th scope=row>May 2016</th><td>10901</td><td>24122.22</td><td>26699.38</td></tr>\n",
       "\t<tr><th scope=row>Jun 2016</th><td>11062</td><td>24375.00</td><td>27874.56</td></tr>\n",
       "\t<tr><th scope=row>Jul 2016</th><td>11130</td><td>23950.00</td><td>27373.68</td></tr>\n",
       "\t<tr><th scope=row>Aug 2016</th><td>11009</td><td>23586.36</td><td>26510.73</td></tr>\n",
       "\t<tr><th scope=row>Sep 2016</th><td>10698</td><td>23255.00</td><td>25979.39</td></tr>\n",
       "\t<tr><th scope=row>Oct 2016</th><td> 9517</td><td>22571.05</td><td>24943.68</td></tr>\n",
       "\t<tr><th scope=row>Nov 2016</th><td> 8294</td><td>21890.91</td><td>22415.77</td></tr>\n",
       "\t<tr><th scope=row>Dec 2016</th><td> 9182</td><td>21765.00</td><td>23160.57</td></tr>\n",
       "\t<tr><th scope=row>Jan 2017</th><td> 9240</td><td>21690.00</td><td>23202.31</td></tr>\n",
       "\t<tr><th scope=row>Feb 2017</th><td> 9308</td><td>21294.74</td><td>23099.23</td></tr>\n",
       "\t<tr><th scope=row>Mar 2017</th><td> 9260</td><td>20719.57</td><td>22918.79</td></tr>\n",
       "\t<tr><th scope=row>Apr 2017</th><td> 9092</td><td>19825.00</td><td>23000.24</td></tr>\n",
       "\t<tr><th scope=row>May 2017</th><td> 9137</td><td>20435.71</td><td>23386.49</td></tr>\n",
       "\t<tr><th scope=row>Jun 2017</th><td> 9438</td><td>22413.64</td><td>25488.27</td></tr>\n",
       "\t<tr><th scope=row>Jul 2017</th><td>10095</td><td>23750.00</td><td>27018.84</td></tr>\n",
       "\t<tr><th scope=row>Aug 2017</th><td>10477</td><td>24872.73</td><td>30136.44</td></tr>\n",
       "\t<tr><th scope=row>Sep 2017</th><td>11342</td><td>29311.90</td><td>32869.66</td></tr>\n",
       "\t<tr><th scope=row>Oct 2017</th><td>11531</td><td>29160.53</td><td>31703.86</td></tr>\n",
       "\t<tr><th scope=row>Nov 2017</th><td>11040</td><td>28978.57</td><td>31279.91</td></tr>\n",
       "\t<tr><th scope=row>Dec 2017</th><td>12303</td><td>29792.11</td><td>32595.79</td></tr>\n",
       "\t<tr><th scope=row>Jan 2018</th><td>13359</td><td>30569.05</td><td>34121.94</td></tr>\n",
       "\t<tr><th scope=row>Feb 2018</th><td>14475</td><td>32750.00</td><td>35704.79</td></tr>\n",
       "\t<tr><th scope=row>Mar 2018</th><td>15106</td><td>33150.00</td><td>35686.07</td></tr>\n",
       "\t<tr><th scope=row>Apr 2018</th><td>15236</td><td>33426.47</td><td>35813.19</td></tr>\n",
       "\t<tr><th scope=row>May 2018</th><td>15539</td><td>34402.38</td><td>37899.04</td></tr>\n",
       "\t<tr><th scope=row>Jun 2018</th><td>15887</td><td>36069.05</td><td>38814.68</td></tr>\n",
       "\t<tr><th scope=row>Jul 2018</th><td>15991</td><td>35120.00</td><td>37555.94</td></tr>\n",
       "\t<tr><th scope=row>Aug 2018</th><td>15350</td><td>33968.18</td><td>37491.23</td></tr>\n",
       "\t<tr><th scope=row>Sep 2018</th><td>15138</td><td>33650.00</td><td>37103.91</td></tr>\n",
       "\t<tr><th scope=row>Oct 2018</th><td>14865</td><td>33650.00</td><td>36587.07</td></tr>\n",
       "\t<tr><th scope=row>Nov 2018</th><td>15280</td><td>33650.00</td><td>36697.07</td></tr>\n",
       "\t<tr><th scope=row>Dec 2018</th><td>15244</td><td>33650.00</td><td>36713.81</td></tr>\n",
       "\t<tr><th scope=row>Jan 2019</th><td>15145</td><td>33722.73</td><td>36666.25</td></tr>\n",
       "\t<tr><th scope=row>Feb 2019</th><td>15590</td><td>33750.00</td><td>36659.07</td></tr>\n",
       "\t<tr><th scope=row>Mar 2019</th><td>15721</td><td>33750.00</td><td>36293.78</td></tr>\n",
       "\t<tr><th scope=row>Apr 2019</th><td>15646</td><td>33750.00</td><td>36149.61</td></tr>\n",
       "\t<tr><th scope=row>May 2019</th><td>15726</td><td>33750.00</td><td>36184.86</td></tr>\n",
       "\t<tr><th scope=row>Jun 2019</th><td>15771</td><td>33160.53</td><td>35606.47</td></tr>\n",
       "\t<tr><th scope=row>Jul 2019</th><td>15508</td><td>32822.50</td><td>35447.37</td></tr>\n",
       "\t<tr><th scope=row>Aug 2019</th><td>16035</td><td>33864.29</td><td>36886.22</td></tr>\n",
       "\t<tr><th scope=row>Sep 2019</th><td>16562</td><td>35376.19</td><td>37218.62</td></tr>\n",
       "\t<tr><th scope=row>Oct 2019</th><td>16291</td><td>35600.00</td><td>36746.39</td></tr>\n",
       "\t<tr><th scope=row>Nov 2019</th><td>14322</td><td>33326.32</td><td>35032.03</td></tr>\n",
       "\t<tr><th scope=row>Dec 2019</th><td>13529</td><td>31050.00</td><td>34637.06</td></tr>\n",
       "</tbody>\n",
       "</table>\n"
      ],
      "text/latex": [
       "A Time Series: 192 × 3\n",
       "\\begin{tabular}{r|lll}\n",
       "  & RHFG & RHWS & RHXB\\\\\n",
       "\\hline\n",
       "\tJan 2004 &  8759 & 18515.79 & 21664.70\\\\\n",
       "\tFeb 2004 &  8791 & 17655.00 & 21533.90\\\\\n",
       "\tMar 2004 &  9062 & 17600.00 & 21532.68\\\\\n",
       "\tApr 2004 &  9329 & 17435.29 & 21557.25\\\\\n",
       "\tMay 2004 &  9209 & 16835.00 & 21557.97\\\\\n",
       "\tJun 2004 &  8607 & 16109.52 & 19370.70\\\\\n",
       "\tJul 2004 &  7894 & 14768.18 & 18534.98\\\\\n",
       "\tAug 2004 &  7704 & 14550.00 & 17786.70\\\\\n",
       "\tSep 2004 &  7243 & 13795.45 & 16609.91\\\\\n",
       "\tOct 2004 &  7186 & 14267.50 & 16235.60\\\\\n",
       "\tNov 2004 &  7777 & 15100.00 & 16438.18\\\\\n",
       "\tDec 2004 &  7555 & 15100.00 & 16462.81\\\\\n",
       "\tJan 2005 &  7604 & 15100.00 & 17348.41\\\\\n",
       "\tFeb 2005 &  7736 & 15400.00 & 17411.03\\\\\n",
       "\tMar 2005 &  7816 & 15400.00 & 17212.30\\\\\n",
       "\tApr 2005 &  7913 & 15400.00 & 16846.35\\\\\n",
       "\tMay 2005 &  7769 & 15250.00 & 16803.43\\\\\n",
       "\tJun 2005 &  7630 & 14709.09 & 16435.38\\\\\n",
       "\tJul 2005 &  7486 & 14607.89 & 16472.97\\\\\n",
       "\tAug 2005 &  7618 & 15020.45 & 16764.54\\\\\n",
       "\tSep 2005 &  7816 & 15009.09 & 16394.58\\\\\n",
       "\tOct 2005 &  7850 & 15000.00 & 16161.03\\\\\n",
       "\tNov 2005 &  7393 & 14681.82 & 15904.96\\\\\n",
       "\tDec 2005 &  7579 & 14650.00 & 16076.83\\\\\n",
       "\tJan 2006 &  7628 & 14094.44 & 14622.21\\\\\n",
       "\tFeb 2006 &  7873 & 15384.21 & 15007.82\\\\\n",
       "\tMar 2006 &  7960 & 15900.00 & 14998.42\\\\\n",
       "\tApr 2006 &  8028 & 16677.27 & 15255.81\\\\\n",
       "\tMay 2006 &  8069 & 17085.53 & 15243.53\\\\\n",
       "\tJun 2006 &  8160 & 17032.89 & 15694.92\\\\\n",
       "\tJul 2006 &  8353 & 17914.86 & 15980.36\\\\\n",
       "\tAug 2006 &  8612 & 18250.00 & 16309.69\\\\\n",
       "\tSep 2006 &  8642 & 18160.00 & 16268.91\\\\\n",
       "\tOct 2006 &  8685 & 18042.86 & 16071.15\\\\\n",
       "\tNov 2006 &  8262 & 16854.55 & 15209.58\\\\\n",
       "\tDec 2006 &  7882 & 17100.00 & 14977.53\\\\\n",
       "\tJan 2007 &  8072 & 17823.81 & 18989.50\\\\\n",
       "\tFeb 2007 &  8274 & 17900.00 & 19148.26\\\\\n",
       "\tMar 2007 &  8388 & 17900.00 & 19294.67\\\\\n",
       "\tApr 2007 &  8526 & 17900.00 & 19288.90\\\\\n",
       "\tMay 2007 &  8643 & 17697.37 & 19074.80\\\\\n",
       "\tJun 2007 &  8778 & 17685.00 & 19101.91\\\\\n",
       "\tJul 2007 &  8864 & 17500.00 & 19147.76\\\\\n",
       "\tAug 2007 &  9016 & 17500.00 & 19046.63\\\\\n",
       "\tSep 2007 &  9033 & 17500.00 & 18989.08\\\\\n",
       "\tOct 2007 &  9028 & 17650.00 & 19080.14\\\\\n",
       "\tNov 2007 &  8954 & 18826.39 & 20043.22\\\\\n",
       "\tDec 2007 &  9691 & 19753.12 & 20978.42\\\\\n",
       "\tJan 2008 & 10150 & 20681.82 & 22319.05\\\\\n",
       "\tFeb 2008 & 11906 & 22267.65 & 23817.76\\\\\n",
       "\tMar 2008 & 12995 & 24085.71 & 25438.72\\\\\n",
       "\tApr 2008 & 17122 & 33222.22 & 36736.15\\\\\n",
       "\tMay 2008 & 17292 & 32144.44 & 38099.37\\\\\n",
       "\tJun 2008 & 15570 & 27291.46 & 35308.68\\\\\n",
       "\tJul 2008 & 14307 & 26369.05 & 32180.58\\\\\n",
       "\tAug 2008 & 13621 & 24190.00 & 30500.08\\\\\n",
       "\tSep 2008 & 13197 & 24600.00 & 30180.56\\\\\n",
       "\tOct 2008 & 13424 & 24750.00 & 27765.03\\\\\n",
       "\tNov 2008 & 12728 & 24128.75 & 27747.46\\\\\n",
       "\tDec 2008 & 12089 & 23966.25 & 28264.04\\\\\n",
       "\tJan 2009 & 12188 & 26985.29 & 30150.30\\\\\n",
       "\tFeb 2009 & 12755 & 26905.26 & 30519.94\\\\\n",
       "\tMar 2009 & 13182 & 27459.09 & 31075.75\\\\\n",
       "\tApr 2009 & 13175 & 27300.00 & 31149.77\\\\\n",
       "\tMay 2009 & 13133 & 27041.18 & 30816.59\\\\\n",
       "\tJun 2009 & 13078 & 27603.49 & 30835.85\\\\\n",
       "\tJul 2009 & 13551 & 29520.00 & 32290.49\\\\\n",
       "\tAug 2009 & 13707 & 30460.00 & 32335.79\\\\\n",
       "\tSep 2009 & 14857 & 31459.09 & 34278.33\\\\\n",
       "\tOct 2009 & 15203 & 31969.05 & 34648.09\\\\\n",
       "\tNov 2009 & 13502 & 30885.14 & 35303.33\\\\\n",
       "\tDec 2009 & 14155 & 32525.00 & 36224.69\\\\\n",
       "\tJan 2010 & 14106 & 31625.00 & 34835.78\\\\\n",
       "\tFeb 2010 & 14337 & 31123.68 & 34560.26\\\\\n",
       "\tMar 2010 & 13948 & 30422.73 & 33602.55\\\\\n",
       "\tApr 2010 & 13607 & 30167.65 & 33092.72\\\\\n",
       "\tMay 2010 & 13178 & 29919.44 & 32922.33\\\\\n",
       "\tJun 2010 & 12803 & 27542.86 & 32620.06\\\\\n",
       "\tJul 2010 & 13125 & 28646.15 & 33070.34\\\\\n",
       "\tAug 2010 & 13528 & 29065.00 & 33183.79\\\\\n",
       "\tSep 2010 & 13895 & 30400.00 & 34100.39\\\\\n",
       "\tOct 2010 & 14070 & 29368.18 & 34026.25\\\\\n",
       "\tNov 2010 & 13184 & 28615.91 & 34100.88\\\\\n",
       "\tDec 2010 & 12837 & 28362.50 & 32176.36\\\\\n",
       "\tJan 2011 & 12511 & 27642.50 & 31870.33\\\\\n",
       "\tFeb 2011 & 12304 & 26920.59 & 31232.79\\\\\n",
       "\tMar 2011 & 11821 & 26534.78 & 31354.06\\\\\n",
       "\tApr 2011 & 12113 & 26532.35 & 31304.11\\\\\n",
       "\tMay 2011 & 12202 & 26876.47 & 31367.57\\\\\n",
       "\tJun 2011 & 12287 & 26988.64 & 31785.73\\\\\n",
       "\tJul 2011 & 12471 & 28586.84 & 32535.84\\\\\n",
       "\tAug 2011 & 12942 & 28995.45 & 32694.56\\\\\n",
       "\tSep 2011 & 13275 & 30345.45 & 33349.29\\\\\n",
       "\tOct 2011 & 14265 & 30544.12 & 34456.65\\\\\n",
       "\tNov 2011 & 15219 & 30986.36 & 35031.55\\\\\n",
       "\tDec 2011 & 15004 & 29762.50 & 34250.10\\\\\n",
       "\tJan 2012 & 15201 & 29578.95 & 33408.20\\\\\n",
       "\tFeb 2012 & 15024 & 29309.52 & 33261.06\\\\\n",
       "\tMar 2012 & 14770 & 29260.00 & 33279.61\\\\\n",
       "\tApr 2012 & 14752 & 28285.29 & 32689.65\\\\\n",
       "\tMay 2012 & 14628 & 29535.00 & 32749.24\\\\\n",
       "\tJun 2012 & 14616 & 30520.00 & 33154.25\\\\\n",
       "\tJul 2012 & 14832 & 30004.55 & 33120.73\\\\\n",
       "\tAug 2012 & 15369 & 31065.00 & 33213.49\\\\\n",
       "\tSep 2012 & 15538 & 31967.50 & 33769.30\\\\\n",
       "\tOct 2012 & 15813 & 31797.73 & 33778.36\\\\\n",
       "\tNov 2012 & 15302 & 30827.27 & 33350.09\\\\\n",
       "\tDec 2012 & 15386 & 30813.89 & 33422.10\\\\\n",
       "\tJan 2013 & 15702 & 32429.09 & 34760.30\\\\\n",
       "\tFeb 2013 & 16070 & 32950.00 & 34909.53\\\\\n",
       "\tMar 2013 & 15862 & 32407.14 & 35253.53\\\\\n",
       "\tApr 2013 & 15643 & 32350.00 & 35083.57\\\\\n",
       "\tMay 2013 & 15809 & 32573.68 & 35193.79\\\\\n",
       "\tJun 2013 & 15870 & 32950.00 & 35379.43\\\\\n",
       "\tJul 2013 & 15576 & 32930.95 & 35631.51\\\\\n",
       "\tAug 2013 & 15675 & 32888.10 & 35572.74\\\\\n",
       "\tSep 2013 & 15776 & 33540.48 & 35696.80\\\\\n",
       "\tOct 2013 & 15708 & 33550.00 & 35886.20\\\\\n",
       "\tNov 2013 & 14984 & 33550.00 & 34693.31\\\\\n",
       "\tDec 2013 & 14313 & 32800.00 & 33974.41\\\\\n",
       "\tJan 2014 & 14252 & 32118.18 & 34173.79\\\\\n",
       "\tFeb 2014 & 14223 & 31060.53 & 34229.34\\\\\n",
       "\tMar 2014 & 14186 & 30311.90 & 33977.91\\\\\n",
       "\tApr 2014 & 13902 & 30050.00 & 33795.45\\\\\n",
       "\tMay 2014 & 13846 & 30050.00 & 33748.62\\\\\n",
       "\tJun 2014 & 13812 & 30458.33 & 34174.66\\\\\n",
       "\tJul 2014 & 13886 & 31297.62 & 34778.90\\\\\n",
       "\tAug 2014 & 13992 & 31410.53 & 34901.78\\\\\n",
       "\tSep 2014 & 14094 & 31700.00 & 34907.51\\\\\n",
       "\tOct 2014 & 14179 & 31872.73 & 34287.38\\\\\n",
       "\tNov 2014 & 13367 & 29652.63 & 31372.96\\\\\n",
       "\tDec 2014 & 11649 & 30000.00 & 31724.48\\\\\n",
       "\tJan 2015 & 12565 & 30667.50 & 32626.15\\\\\n",
       "\tFeb 2015 & 13103 & 30900.00 & 32472.96\\\\\n",
       "\tMar 2015 & 13571 & 30040.48 & 32118.95\\\\\n",
       "\tApr 2015 & 13470 & 29444.44 & 32091.91\\\\\n",
       "\tMay 2015 & 13341 & 29344.44 & 31858.61\\\\\n",
       "\tJun 2015 & 13134 & 28990.48 & 31671.08\\\\\n",
       "\tJul 2015 & 13098 & 29611.90 & 32679.83\\\\\n",
       "\tAug 2015 & 13073 & 29910.00 & 32256.60\\\\\n",
       "\tSep 2015 & 13282 & 29556.82 & 31863.67\\\\\n",
       "\tOct 2015 & 13099 & 29338.10 & 31772.70\\\\\n",
       "\tNov 2015 & 12018 & 26895.24 & 29763.29\\\\\n",
       "\tDec 2015 & 11518 & 24835.00 & 27223.68\\\\\n",
       "\tJan 2016 & 10918 & 24625.00 & 27118.67\\\\\n",
       "\tFeb 2016 & 10798 & 24130.00 & 26827.02\\\\\n",
       "\tMar 2016 & 10725 & 23219.57 & 26173.07\\\\\n",
       "\tApr 2016 & 10588 & 22850.00 & 25980.07\\\\\n",
       "\tMay 2016 & 10901 & 24122.22 & 26699.38\\\\\n",
       "\tJun 2016 & 11062 & 24375.00 & 27874.56\\\\\n",
       "\tJul 2016 & 11130 & 23950.00 & 27373.68\\\\\n",
       "\tAug 2016 & 11009 & 23586.36 & 26510.73\\\\\n",
       "\tSep 2016 & 10698 & 23255.00 & 25979.39\\\\\n",
       "\tOct 2016 &  9517 & 22571.05 & 24943.68\\\\\n",
       "\tNov 2016 &  8294 & 21890.91 & 22415.77\\\\\n",
       "\tDec 2016 &  9182 & 21765.00 & 23160.57\\\\\n",
       "\tJan 2017 &  9240 & 21690.00 & 23202.31\\\\\n",
       "\tFeb 2017 &  9308 & 21294.74 & 23099.23\\\\\n",
       "\tMar 2017 &  9260 & 20719.57 & 22918.79\\\\\n",
       "\tApr 2017 &  9092 & 19825.00 & 23000.24\\\\\n",
       "\tMay 2017 &  9137 & 20435.71 & 23386.49\\\\\n",
       "\tJun 2017 &  9438 & 22413.64 & 25488.27\\\\\n",
       "\tJul 2017 & 10095 & 23750.00 & 27018.84\\\\\n",
       "\tAug 2017 & 10477 & 24872.73 & 30136.44\\\\\n",
       "\tSep 2017 & 11342 & 29311.90 & 32869.66\\\\\n",
       "\tOct 2017 & 11531 & 29160.53 & 31703.86\\\\\n",
       "\tNov 2017 & 11040 & 28978.57 & 31279.91\\\\\n",
       "\tDec 2017 & 12303 & 29792.11 & 32595.79\\\\\n",
       "\tJan 2018 & 13359 & 30569.05 & 34121.94\\\\\n",
       "\tFeb 2018 & 14475 & 32750.00 & 35704.79\\\\\n",
       "\tMar 2018 & 15106 & 33150.00 & 35686.07\\\\\n",
       "\tApr 2018 & 15236 & 33426.47 & 35813.19\\\\\n",
       "\tMay 2018 & 15539 & 34402.38 & 37899.04\\\\\n",
       "\tJun 2018 & 15887 & 36069.05 & 38814.68\\\\\n",
       "\tJul 2018 & 15991 & 35120.00 & 37555.94\\\\\n",
       "\tAug 2018 & 15350 & 33968.18 & 37491.23\\\\\n",
       "\tSep 2018 & 15138 & 33650.00 & 37103.91\\\\\n",
       "\tOct 2018 & 14865 & 33650.00 & 36587.07\\\\\n",
       "\tNov 2018 & 15280 & 33650.00 & 36697.07\\\\\n",
       "\tDec 2018 & 15244 & 33650.00 & 36713.81\\\\\n",
       "\tJan 2019 & 15145 & 33722.73 & 36666.25\\\\\n",
       "\tFeb 2019 & 15590 & 33750.00 & 36659.07\\\\\n",
       "\tMar 2019 & 15721 & 33750.00 & 36293.78\\\\\n",
       "\tApr 2019 & 15646 & 33750.00 & 36149.61\\\\\n",
       "\tMay 2019 & 15726 & 33750.00 & 36184.86\\\\\n",
       "\tJun 2019 & 15771 & 33160.53 & 35606.47\\\\\n",
       "\tJul 2019 & 15508 & 32822.50 & 35447.37\\\\\n",
       "\tAug 2019 & 16035 & 33864.29 & 36886.22\\\\\n",
       "\tSep 2019 & 16562 & 35376.19 & 37218.62\\\\\n",
       "\tOct 2019 & 16291 & 35600.00 & 36746.39\\\\\n",
       "\tNov 2019 & 14322 & 33326.32 & 35032.03\\\\\n",
       "\tDec 2019 & 13529 & 31050.00 & 34637.06\\\\\n",
       "\\end{tabular}\n"
      ],
      "text/markdown": [
       "\n",
       "A Time Series: 192 × 3\n",
       "\n",
       "| <!--/--> | RHFG | RHWS | RHXB |\n",
       "|---|---|---|---|\n",
       "| Jan 2004 |  8759 | 18515.79 | 21664.70 |\n",
       "| Feb 2004 |  8791 | 17655.00 | 21533.90 |\n",
       "| Mar 2004 |  9062 | 17600.00 | 21532.68 |\n",
       "| Apr 2004 |  9329 | 17435.29 | 21557.25 |\n",
       "| May 2004 |  9209 | 16835.00 | 21557.97 |\n",
       "| Jun 2004 |  8607 | 16109.52 | 19370.70 |\n",
       "| Jul 2004 |  7894 | 14768.18 | 18534.98 |\n",
       "| Aug 2004 |  7704 | 14550.00 | 17786.70 |\n",
       "| Sep 2004 |  7243 | 13795.45 | 16609.91 |\n",
       "| Oct 2004 |  7186 | 14267.50 | 16235.60 |\n",
       "| Nov 2004 |  7777 | 15100.00 | 16438.18 |\n",
       "| Dec 2004 |  7555 | 15100.00 | 16462.81 |\n",
       "| Jan 2005 |  7604 | 15100.00 | 17348.41 |\n",
       "| Feb 2005 |  7736 | 15400.00 | 17411.03 |\n",
       "| Mar 2005 |  7816 | 15400.00 | 17212.30 |\n",
       "| Apr 2005 |  7913 | 15400.00 | 16846.35 |\n",
       "| May 2005 |  7769 | 15250.00 | 16803.43 |\n",
       "| Jun 2005 |  7630 | 14709.09 | 16435.38 |\n",
       "| Jul 2005 |  7486 | 14607.89 | 16472.97 |\n",
       "| Aug 2005 |  7618 | 15020.45 | 16764.54 |\n",
       "| Sep 2005 |  7816 | 15009.09 | 16394.58 |\n",
       "| Oct 2005 |  7850 | 15000.00 | 16161.03 |\n",
       "| Nov 2005 |  7393 | 14681.82 | 15904.96 |\n",
       "| Dec 2005 |  7579 | 14650.00 | 16076.83 |\n",
       "| Jan 2006 |  7628 | 14094.44 | 14622.21 |\n",
       "| Feb 2006 |  7873 | 15384.21 | 15007.82 |\n",
       "| Mar 2006 |  7960 | 15900.00 | 14998.42 |\n",
       "| Apr 2006 |  8028 | 16677.27 | 15255.81 |\n",
       "| May 2006 |  8069 | 17085.53 | 15243.53 |\n",
       "| Jun 2006 |  8160 | 17032.89 | 15694.92 |\n",
       "| Jul 2006 |  8353 | 17914.86 | 15980.36 |\n",
       "| Aug 2006 |  8612 | 18250.00 | 16309.69 |\n",
       "| Sep 2006 |  8642 | 18160.00 | 16268.91 |\n",
       "| Oct 2006 |  8685 | 18042.86 | 16071.15 |\n",
       "| Nov 2006 |  8262 | 16854.55 | 15209.58 |\n",
       "| Dec 2006 |  7882 | 17100.00 | 14977.53 |\n",
       "| Jan 2007 |  8072 | 17823.81 | 18989.50 |\n",
       "| Feb 2007 |  8274 | 17900.00 | 19148.26 |\n",
       "| Mar 2007 |  8388 | 17900.00 | 19294.67 |\n",
       "| Apr 2007 |  8526 | 17900.00 | 19288.90 |\n",
       "| May 2007 |  8643 | 17697.37 | 19074.80 |\n",
       "| Jun 2007 |  8778 | 17685.00 | 19101.91 |\n",
       "| Jul 2007 |  8864 | 17500.00 | 19147.76 |\n",
       "| Aug 2007 |  9016 | 17500.00 | 19046.63 |\n",
       "| Sep 2007 |  9033 | 17500.00 | 18989.08 |\n",
       "| Oct 2007 |  9028 | 17650.00 | 19080.14 |\n",
       "| Nov 2007 |  8954 | 18826.39 | 20043.22 |\n",
       "| Dec 2007 |  9691 | 19753.12 | 20978.42 |\n",
       "| Jan 2008 | 10150 | 20681.82 | 22319.05 |\n",
       "| Feb 2008 | 11906 | 22267.65 | 23817.76 |\n",
       "| Mar 2008 | 12995 | 24085.71 | 25438.72 |\n",
       "| Apr 2008 | 17122 | 33222.22 | 36736.15 |\n",
       "| May 2008 | 17292 | 32144.44 | 38099.37 |\n",
       "| Jun 2008 | 15570 | 27291.46 | 35308.68 |\n",
       "| Jul 2008 | 14307 | 26369.05 | 32180.58 |\n",
       "| Aug 2008 | 13621 | 24190.00 | 30500.08 |\n",
       "| Sep 2008 | 13197 | 24600.00 | 30180.56 |\n",
       "| Oct 2008 | 13424 | 24750.00 | 27765.03 |\n",
       "| Nov 2008 | 12728 | 24128.75 | 27747.46 |\n",
       "| Dec 2008 | 12089 | 23966.25 | 28264.04 |\n",
       "| Jan 2009 | 12188 | 26985.29 | 30150.30 |\n",
       "| Feb 2009 | 12755 | 26905.26 | 30519.94 |\n",
       "| Mar 2009 | 13182 | 27459.09 | 31075.75 |\n",
       "| Apr 2009 | 13175 | 27300.00 | 31149.77 |\n",
       "| May 2009 | 13133 | 27041.18 | 30816.59 |\n",
       "| Jun 2009 | 13078 | 27603.49 | 30835.85 |\n",
       "| Jul 2009 | 13551 | 29520.00 | 32290.49 |\n",
       "| Aug 2009 | 13707 | 30460.00 | 32335.79 |\n",
       "| Sep 2009 | 14857 | 31459.09 | 34278.33 |\n",
       "| Oct 2009 | 15203 | 31969.05 | 34648.09 |\n",
       "| Nov 2009 | 13502 | 30885.14 | 35303.33 |\n",
       "| Dec 2009 | 14155 | 32525.00 | 36224.69 |\n",
       "| Jan 2010 | 14106 | 31625.00 | 34835.78 |\n",
       "| Feb 2010 | 14337 | 31123.68 | 34560.26 |\n",
       "| Mar 2010 | 13948 | 30422.73 | 33602.55 |\n",
       "| Apr 2010 | 13607 | 30167.65 | 33092.72 |\n",
       "| May 2010 | 13178 | 29919.44 | 32922.33 |\n",
       "| Jun 2010 | 12803 | 27542.86 | 32620.06 |\n",
       "| Jul 2010 | 13125 | 28646.15 | 33070.34 |\n",
       "| Aug 2010 | 13528 | 29065.00 | 33183.79 |\n",
       "| Sep 2010 | 13895 | 30400.00 | 34100.39 |\n",
       "| Oct 2010 | 14070 | 29368.18 | 34026.25 |\n",
       "| Nov 2010 | 13184 | 28615.91 | 34100.88 |\n",
       "| Dec 2010 | 12837 | 28362.50 | 32176.36 |\n",
       "| Jan 2011 | 12511 | 27642.50 | 31870.33 |\n",
       "| Feb 2011 | 12304 | 26920.59 | 31232.79 |\n",
       "| Mar 2011 | 11821 | 26534.78 | 31354.06 |\n",
       "| Apr 2011 | 12113 | 26532.35 | 31304.11 |\n",
       "| May 2011 | 12202 | 26876.47 | 31367.57 |\n",
       "| Jun 2011 | 12287 | 26988.64 | 31785.73 |\n",
       "| Jul 2011 | 12471 | 28586.84 | 32535.84 |\n",
       "| Aug 2011 | 12942 | 28995.45 | 32694.56 |\n",
       "| Sep 2011 | 13275 | 30345.45 | 33349.29 |\n",
       "| Oct 2011 | 14265 | 30544.12 | 34456.65 |\n",
       "| Nov 2011 | 15219 | 30986.36 | 35031.55 |\n",
       "| Dec 2011 | 15004 | 29762.50 | 34250.10 |\n",
       "| Jan 2012 | 15201 | 29578.95 | 33408.20 |\n",
       "| Feb 2012 | 15024 | 29309.52 | 33261.06 |\n",
       "| Mar 2012 | 14770 | 29260.00 | 33279.61 |\n",
       "| Apr 2012 | 14752 | 28285.29 | 32689.65 |\n",
       "| May 2012 | 14628 | 29535.00 | 32749.24 |\n",
       "| Jun 2012 | 14616 | 30520.00 | 33154.25 |\n",
       "| Jul 2012 | 14832 | 30004.55 | 33120.73 |\n",
       "| Aug 2012 | 15369 | 31065.00 | 33213.49 |\n",
       "| Sep 2012 | 15538 | 31967.50 | 33769.30 |\n",
       "| Oct 2012 | 15813 | 31797.73 | 33778.36 |\n",
       "| Nov 2012 | 15302 | 30827.27 | 33350.09 |\n",
       "| Dec 2012 | 15386 | 30813.89 | 33422.10 |\n",
       "| Jan 2013 | 15702 | 32429.09 | 34760.30 |\n",
       "| Feb 2013 | 16070 | 32950.00 | 34909.53 |\n",
       "| Mar 2013 | 15862 | 32407.14 | 35253.53 |\n",
       "| Apr 2013 | 15643 | 32350.00 | 35083.57 |\n",
       "| May 2013 | 15809 | 32573.68 | 35193.79 |\n",
       "| Jun 2013 | 15870 | 32950.00 | 35379.43 |\n",
       "| Jul 2013 | 15576 | 32930.95 | 35631.51 |\n",
       "| Aug 2013 | 15675 | 32888.10 | 35572.74 |\n",
       "| Sep 2013 | 15776 | 33540.48 | 35696.80 |\n",
       "| Oct 2013 | 15708 | 33550.00 | 35886.20 |\n",
       "| Nov 2013 | 14984 | 33550.00 | 34693.31 |\n",
       "| Dec 2013 | 14313 | 32800.00 | 33974.41 |\n",
       "| Jan 2014 | 14252 | 32118.18 | 34173.79 |\n",
       "| Feb 2014 | 14223 | 31060.53 | 34229.34 |\n",
       "| Mar 2014 | 14186 | 30311.90 | 33977.91 |\n",
       "| Apr 2014 | 13902 | 30050.00 | 33795.45 |\n",
       "| May 2014 | 13846 | 30050.00 | 33748.62 |\n",
       "| Jun 2014 | 13812 | 30458.33 | 34174.66 |\n",
       "| Jul 2014 | 13886 | 31297.62 | 34778.90 |\n",
       "| Aug 2014 | 13992 | 31410.53 | 34901.78 |\n",
       "| Sep 2014 | 14094 | 31700.00 | 34907.51 |\n",
       "| Oct 2014 | 14179 | 31872.73 | 34287.38 |\n",
       "| Nov 2014 | 13367 | 29652.63 | 31372.96 |\n",
       "| Dec 2014 | 11649 | 30000.00 | 31724.48 |\n",
       "| Jan 2015 | 12565 | 30667.50 | 32626.15 |\n",
       "| Feb 2015 | 13103 | 30900.00 | 32472.96 |\n",
       "| Mar 2015 | 13571 | 30040.48 | 32118.95 |\n",
       "| Apr 2015 | 13470 | 29444.44 | 32091.91 |\n",
       "| May 2015 | 13341 | 29344.44 | 31858.61 |\n",
       "| Jun 2015 | 13134 | 28990.48 | 31671.08 |\n",
       "| Jul 2015 | 13098 | 29611.90 | 32679.83 |\n",
       "| Aug 2015 | 13073 | 29910.00 | 32256.60 |\n",
       "| Sep 2015 | 13282 | 29556.82 | 31863.67 |\n",
       "| Oct 2015 | 13099 | 29338.10 | 31772.70 |\n",
       "| Nov 2015 | 12018 | 26895.24 | 29763.29 |\n",
       "| Dec 2015 | 11518 | 24835.00 | 27223.68 |\n",
       "| Jan 2016 | 10918 | 24625.00 | 27118.67 |\n",
       "| Feb 2016 | 10798 | 24130.00 | 26827.02 |\n",
       "| Mar 2016 | 10725 | 23219.57 | 26173.07 |\n",
       "| Apr 2016 | 10588 | 22850.00 | 25980.07 |\n",
       "| May 2016 | 10901 | 24122.22 | 26699.38 |\n",
       "| Jun 2016 | 11062 | 24375.00 | 27874.56 |\n",
       "| Jul 2016 | 11130 | 23950.00 | 27373.68 |\n",
       "| Aug 2016 | 11009 | 23586.36 | 26510.73 |\n",
       "| Sep 2016 | 10698 | 23255.00 | 25979.39 |\n",
       "| Oct 2016 |  9517 | 22571.05 | 24943.68 |\n",
       "| Nov 2016 |  8294 | 21890.91 | 22415.77 |\n",
       "| Dec 2016 |  9182 | 21765.00 | 23160.57 |\n",
       "| Jan 2017 |  9240 | 21690.00 | 23202.31 |\n",
       "| Feb 2017 |  9308 | 21294.74 | 23099.23 |\n",
       "| Mar 2017 |  9260 | 20719.57 | 22918.79 |\n",
       "| Apr 2017 |  9092 | 19825.00 | 23000.24 |\n",
       "| May 2017 |  9137 | 20435.71 | 23386.49 |\n",
       "| Jun 2017 |  9438 | 22413.64 | 25488.27 |\n",
       "| Jul 2017 | 10095 | 23750.00 | 27018.84 |\n",
       "| Aug 2017 | 10477 | 24872.73 | 30136.44 |\n",
       "| Sep 2017 | 11342 | 29311.90 | 32869.66 |\n",
       "| Oct 2017 | 11531 | 29160.53 | 31703.86 |\n",
       "| Nov 2017 | 11040 | 28978.57 | 31279.91 |\n",
       "| Dec 2017 | 12303 | 29792.11 | 32595.79 |\n",
       "| Jan 2018 | 13359 | 30569.05 | 34121.94 |\n",
       "| Feb 2018 | 14475 | 32750.00 | 35704.79 |\n",
       "| Mar 2018 | 15106 | 33150.00 | 35686.07 |\n",
       "| Apr 2018 | 15236 | 33426.47 | 35813.19 |\n",
       "| May 2018 | 15539 | 34402.38 | 37899.04 |\n",
       "| Jun 2018 | 15887 | 36069.05 | 38814.68 |\n",
       "| Jul 2018 | 15991 | 35120.00 | 37555.94 |\n",
       "| Aug 2018 | 15350 | 33968.18 | 37491.23 |\n",
       "| Sep 2018 | 15138 | 33650.00 | 37103.91 |\n",
       "| Oct 2018 | 14865 | 33650.00 | 36587.07 |\n",
       "| Nov 2018 | 15280 | 33650.00 | 36697.07 |\n",
       "| Dec 2018 | 15244 | 33650.00 | 36713.81 |\n",
       "| Jan 2019 | 15145 | 33722.73 | 36666.25 |\n",
       "| Feb 2019 | 15590 | 33750.00 | 36659.07 |\n",
       "| Mar 2019 | 15721 | 33750.00 | 36293.78 |\n",
       "| Apr 2019 | 15646 | 33750.00 | 36149.61 |\n",
       "| May 2019 | 15726 | 33750.00 | 36184.86 |\n",
       "| Jun 2019 | 15771 | 33160.53 | 35606.47 |\n",
       "| Jul 2019 | 15508 | 32822.50 | 35447.37 |\n",
       "| Aug 2019 | 16035 | 33864.29 | 36886.22 |\n",
       "| Sep 2019 | 16562 | 35376.19 | 37218.62 |\n",
       "| Oct 2019 | 16291 | 35600.00 | 36746.39 |\n",
       "| Nov 2019 | 14322 | 33326.32 | 35032.03 |\n",
       "| Dec 2019 | 13529 | 31050.00 | 34637.06 |\n",
       "\n"
      ],
      "text/plain": [
       "         RHFG  RHWS     RHXB    \n",
       "Jan 2004  8759 18515.79 21664.70\n",
       "Feb 2004  8791 17655.00 21533.90\n",
       "Mar 2004  9062 17600.00 21532.68\n",
       "Apr 2004  9329 17435.29 21557.25\n",
       "May 2004  9209 16835.00 21557.97\n",
       "Jun 2004  8607 16109.52 19370.70\n",
       "Jul 2004  7894 14768.18 18534.98\n",
       "Aug 2004  7704 14550.00 17786.70\n",
       "Sep 2004  7243 13795.45 16609.91\n",
       "Oct 2004  7186 14267.50 16235.60\n",
       "Nov 2004  7777 15100.00 16438.18\n",
       "Dec 2004  7555 15100.00 16462.81\n",
       "Jan 2005  7604 15100.00 17348.41\n",
       "Feb 2005  7736 15400.00 17411.03\n",
       "Mar 2005  7816 15400.00 17212.30\n",
       "Apr 2005  7913 15400.00 16846.35\n",
       "May 2005  7769 15250.00 16803.43\n",
       "Jun 2005  7630 14709.09 16435.38\n",
       "Jul 2005  7486 14607.89 16472.97\n",
       "Aug 2005  7618 15020.45 16764.54\n",
       "Sep 2005  7816 15009.09 16394.58\n",
       "Oct 2005  7850 15000.00 16161.03\n",
       "Nov 2005  7393 14681.82 15904.96\n",
       "Dec 2005  7579 14650.00 16076.83\n",
       "Jan 2006  7628 14094.44 14622.21\n",
       "Feb 2006  7873 15384.21 15007.82\n",
       "Mar 2006  7960 15900.00 14998.42\n",
       "Apr 2006  8028 16677.27 15255.81\n",
       "May 2006  8069 17085.53 15243.53\n",
       "Jun 2006  8160 17032.89 15694.92\n",
       "Jul 2006  8353 17914.86 15980.36\n",
       "Aug 2006  8612 18250.00 16309.69\n",
       "Sep 2006  8642 18160.00 16268.91\n",
       "Oct 2006  8685 18042.86 16071.15\n",
       "Nov 2006  8262 16854.55 15209.58\n",
       "Dec 2006  7882 17100.00 14977.53\n",
       "Jan 2007  8072 17823.81 18989.50\n",
       "Feb 2007  8274 17900.00 19148.26\n",
       "Mar 2007  8388 17900.00 19294.67\n",
       "Apr 2007  8526 17900.00 19288.90\n",
       "May 2007  8643 17697.37 19074.80\n",
       "Jun 2007  8778 17685.00 19101.91\n",
       "Jul 2007  8864 17500.00 19147.76\n",
       "Aug 2007  9016 17500.00 19046.63\n",
       "Sep 2007  9033 17500.00 18989.08\n",
       "Oct 2007  9028 17650.00 19080.14\n",
       "Nov 2007  8954 18826.39 20043.22\n",
       "Dec 2007  9691 19753.12 20978.42\n",
       "Jan 2008 10150 20681.82 22319.05\n",
       "Feb 2008 11906 22267.65 23817.76\n",
       "Mar 2008 12995 24085.71 25438.72\n",
       "Apr 2008 17122 33222.22 36736.15\n",
       "May 2008 17292 32144.44 38099.37\n",
       "Jun 2008 15570 27291.46 35308.68\n",
       "Jul 2008 14307 26369.05 32180.58\n",
       "Aug 2008 13621 24190.00 30500.08\n",
       "Sep 2008 13197 24600.00 30180.56\n",
       "Oct 2008 13424 24750.00 27765.03\n",
       "Nov 2008 12728 24128.75 27747.46\n",
       "Dec 2008 12089 23966.25 28264.04\n",
       "Jan 2009 12188 26985.29 30150.30\n",
       "Feb 2009 12755 26905.26 30519.94\n",
       "Mar 2009 13182 27459.09 31075.75\n",
       "Apr 2009 13175 27300.00 31149.77\n",
       "May 2009 13133 27041.18 30816.59\n",
       "Jun 2009 13078 27603.49 30835.85\n",
       "Jul 2009 13551 29520.00 32290.49\n",
       "Aug 2009 13707 30460.00 32335.79\n",
       "Sep 2009 14857 31459.09 34278.33\n",
       "Oct 2009 15203 31969.05 34648.09\n",
       "Nov 2009 13502 30885.14 35303.33\n",
       "Dec 2009 14155 32525.00 36224.69\n",
       "Jan 2010 14106 31625.00 34835.78\n",
       "Feb 2010 14337 31123.68 34560.26\n",
       "Mar 2010 13948 30422.73 33602.55\n",
       "Apr 2010 13607 30167.65 33092.72\n",
       "May 2010 13178 29919.44 32922.33\n",
       "Jun 2010 12803 27542.86 32620.06\n",
       "Jul 2010 13125 28646.15 33070.34\n",
       "Aug 2010 13528 29065.00 33183.79\n",
       "Sep 2010 13895 30400.00 34100.39\n",
       "Oct 2010 14070 29368.18 34026.25\n",
       "Nov 2010 13184 28615.91 34100.88\n",
       "Dec 2010 12837 28362.50 32176.36\n",
       "Jan 2011 12511 27642.50 31870.33\n",
       "Feb 2011 12304 26920.59 31232.79\n",
       "Mar 2011 11821 26534.78 31354.06\n",
       "Apr 2011 12113 26532.35 31304.11\n",
       "May 2011 12202 26876.47 31367.57\n",
       "Jun 2011 12287 26988.64 31785.73\n",
       "Jul 2011 12471 28586.84 32535.84\n",
       "Aug 2011 12942 28995.45 32694.56\n",
       "Sep 2011 13275 30345.45 33349.29\n",
       "Oct 2011 14265 30544.12 34456.65\n",
       "Nov 2011 15219 30986.36 35031.55\n",
       "Dec 2011 15004 29762.50 34250.10\n",
       "Jan 2012 15201 29578.95 33408.20\n",
       "Feb 2012 15024 29309.52 33261.06\n",
       "Mar 2012 14770 29260.00 33279.61\n",
       "Apr 2012 14752 28285.29 32689.65\n",
       "May 2012 14628 29535.00 32749.24\n",
       "Jun 2012 14616 30520.00 33154.25\n",
       "Jul 2012 14832 30004.55 33120.73\n",
       "Aug 2012 15369 31065.00 33213.49\n",
       "Sep 2012 15538 31967.50 33769.30\n",
       "Oct 2012 15813 31797.73 33778.36\n",
       "Nov 2012 15302 30827.27 33350.09\n",
       "Dec 2012 15386 30813.89 33422.10\n",
       "Jan 2013 15702 32429.09 34760.30\n",
       "Feb 2013 16070 32950.00 34909.53\n",
       "Mar 2013 15862 32407.14 35253.53\n",
       "Apr 2013 15643 32350.00 35083.57\n",
       "May 2013 15809 32573.68 35193.79\n",
       "Jun 2013 15870 32950.00 35379.43\n",
       "Jul 2013 15576 32930.95 35631.51\n",
       "Aug 2013 15675 32888.10 35572.74\n",
       "Sep 2013 15776 33540.48 35696.80\n",
       "Oct 2013 15708 33550.00 35886.20\n",
       "Nov 2013 14984 33550.00 34693.31\n",
       "Dec 2013 14313 32800.00 33974.41\n",
       "Jan 2014 14252 32118.18 34173.79\n",
       "Feb 2014 14223 31060.53 34229.34\n",
       "Mar 2014 14186 30311.90 33977.91\n",
       "Apr 2014 13902 30050.00 33795.45\n",
       "May 2014 13846 30050.00 33748.62\n",
       "Jun 2014 13812 30458.33 34174.66\n",
       "Jul 2014 13886 31297.62 34778.90\n",
       "Aug 2014 13992 31410.53 34901.78\n",
       "Sep 2014 14094 31700.00 34907.51\n",
       "Oct 2014 14179 31872.73 34287.38\n",
       "Nov 2014 13367 29652.63 31372.96\n",
       "Dec 2014 11649 30000.00 31724.48\n",
       "Jan 2015 12565 30667.50 32626.15\n",
       "Feb 2015 13103 30900.00 32472.96\n",
       "Mar 2015 13571 30040.48 32118.95\n",
       "Apr 2015 13470 29444.44 32091.91\n",
       "May 2015 13341 29344.44 31858.61\n",
       "Jun 2015 13134 28990.48 31671.08\n",
       "Jul 2015 13098 29611.90 32679.83\n",
       "Aug 2015 13073 29910.00 32256.60\n",
       "Sep 2015 13282 29556.82 31863.67\n",
       "Oct 2015 13099 29338.10 31772.70\n",
       "Nov 2015 12018 26895.24 29763.29\n",
       "Dec 2015 11518 24835.00 27223.68\n",
       "Jan 2016 10918 24625.00 27118.67\n",
       "Feb 2016 10798 24130.00 26827.02\n",
       "Mar 2016 10725 23219.57 26173.07\n",
       "Apr 2016 10588 22850.00 25980.07\n",
       "May 2016 10901 24122.22 26699.38\n",
       "Jun 2016 11062 24375.00 27874.56\n",
       "Jul 2016 11130 23950.00 27373.68\n",
       "Aug 2016 11009 23586.36 26510.73\n",
       "Sep 2016 10698 23255.00 25979.39\n",
       "Oct 2016  9517 22571.05 24943.68\n",
       "Nov 2016  8294 21890.91 22415.77\n",
       "Dec 2016  9182 21765.00 23160.57\n",
       "Jan 2017  9240 21690.00 23202.31\n",
       "Feb 2017  9308 21294.74 23099.23\n",
       "Mar 2017  9260 20719.57 22918.79\n",
       "Apr 2017  9092 19825.00 23000.24\n",
       "May 2017  9137 20435.71 23386.49\n",
       "Jun 2017  9438 22413.64 25488.27\n",
       "Jul 2017 10095 23750.00 27018.84\n",
       "Aug 2017 10477 24872.73 30136.44\n",
       "Sep 2017 11342 29311.90 32869.66\n",
       "Oct 2017 11531 29160.53 31703.86\n",
       "Nov 2017 11040 28978.57 31279.91\n",
       "Dec 2017 12303 29792.11 32595.79\n",
       "Jan 2018 13359 30569.05 34121.94\n",
       "Feb 2018 14475 32750.00 35704.79\n",
       "Mar 2018 15106 33150.00 35686.07\n",
       "Apr 2018 15236 33426.47 35813.19\n",
       "May 2018 15539 34402.38 37899.04\n",
       "Jun 2018 15887 36069.05 38814.68\n",
       "Jul 2018 15991 35120.00 37555.94\n",
       "Aug 2018 15350 33968.18 37491.23\n",
       "Sep 2018 15138 33650.00 37103.91\n",
       "Oct 2018 14865 33650.00 36587.07\n",
       "Nov 2018 15280 33650.00 36697.07\n",
       "Dec 2018 15244 33650.00 36713.81\n",
       "Jan 2019 15145 33722.73 36666.25\n",
       "Feb 2019 15590 33750.00 36659.07\n",
       "Mar 2019 15721 33750.00 36293.78\n",
       "Apr 2019 15646 33750.00 36149.61\n",
       "May 2019 15726 33750.00 36184.86\n",
       "Jun 2019 15771 33160.53 35606.47\n",
       "Jul 2019 15508 32822.50 35447.37\n",
       "Aug 2019 16035 33864.29 36886.22\n",
       "Sep 2019 16562 35376.19 37218.62\n",
       "Oct 2019 16291 35600.00 36746.39\n",
       "Nov 2019 14322 33326.32 35032.03\n",
       "Dec 2019 13529 31050.00 34637.06"
      ]
     },
     "metadata": {},
     "output_type": "display_data"
    }
   ],
   "source": [
    "endo"
   ]
  },
  {
   "cell_type": "code",
   "execution_count": 328,
   "id": "studied-corner",
   "metadata": {},
   "outputs": [
    {
     "data": {
      "text/html": [
       "2.03947368421053"
      ],
      "text/latex": [
       "2.03947368421053"
      ],
      "text/markdown": [
       "2.03947368421053"
      ],
      "text/plain": [
       "[1] 2.039474"
      ]
     },
     "metadata": {},
     "output_type": "display_data"
    }
   ],
   "source": [
    "1.55/0.76"
   ]
  },
  {
   "cell_type": "code",
   "execution_count": 325,
   "id": "rolled-aging",
   "metadata": {},
   "outputs": [
    {
     "data": {
      "text/html": [
       "<table>\n",
       "<caption>A data.frame: 4 × 2</caption>\n",
       "<thead>\n",
       "\t<tr><th></th><th scope=col>ect1</th><th scope=col>ect2</th></tr>\n",
       "\t<tr><th></th><th scope=col>&lt;dbl&gt;</th><th scope=col>&lt;dbl&gt;</th></tr>\n",
       "</thead>\n",
       "<tbody>\n",
       "\t<tr><th scope=row>RHFG.l2</th><td> 1.0000000</td><td> 0.0000000</td></tr>\n",
       "\t<tr><th scope=row>RHWS.l2</th><td> 0.0000000</td><td> 1.0000000</td></tr>\n",
       "\t<tr><th scope=row>RHXB.l2</th><td>-0.7636625</td><td>-0.9107844</td></tr>\n",
       "\t<tr><th scope=row>constant</th><td>-1.5519326</td><td>-0.8230945</td></tr>\n",
       "</tbody>\n",
       "</table>\n"
      ],
      "text/latex": [
       "A data.frame: 4 × 2\n",
       "\\begin{tabular}{r|ll}\n",
       "  & ect1 & ect2\\\\\n",
       "  & <dbl> & <dbl>\\\\\n",
       "\\hline\n",
       "\tRHFG.l2 &  1.0000000 &  0.0000000\\\\\n",
       "\tRHWS.l2 &  0.0000000 &  1.0000000\\\\\n",
       "\tRHXB.l2 & -0.7636625 & -0.9107844\\\\\n",
       "\tconstant & -1.5519326 & -0.8230945\\\\\n",
       "\\end{tabular}\n"
      ],
      "text/markdown": [
       "\n",
       "A data.frame: 4 × 2\n",
       "\n",
       "| <!--/--> | ect1 &lt;dbl&gt; | ect2 &lt;dbl&gt; |\n",
       "|---|---|---|\n",
       "| RHFG.l2 |  1.0000000 |  0.0000000 |\n",
       "| RHWS.l2 |  0.0000000 |  1.0000000 |\n",
       "| RHXB.l2 | -0.7636625 | -0.9107844 |\n",
       "| constant | -1.5519326 | -0.8230945 |\n",
       "\n"
      ],
      "text/plain": [
       "         ect1       ect2      \n",
       "RHFG.l2   1.0000000  0.0000000\n",
       "RHWS.l2   0.0000000  1.0000000\n",
       "RHXB.l2  -0.7636625 -0.9107844\n",
       "constant -1.5519326 -0.8230945"
      ]
     },
     "metadata": {},
     "output_type": "display_data"
    }
   ],
   "source": [
    "vecm_rh$beta %>% as.data.frame"
   ]
  },
  {
   "cell_type": "code",
   "execution_count": 315,
   "id": "subjective-ratio",
   "metadata": {},
   "outputs": [],
   "source": [
    "data(Canada)\n",
    "vecm.x <- ca.jo(Canada)\n",
    "var.x <- vec2var(vecm.x)"
   ]
  },
  {
   "cell_type": "code",
   "execution_count": 316,
   "id": "foster-portrait",
   "metadata": {},
   "outputs": [
    {
     "data": {
      "text/html": [
       "<dl>\n",
       "\t<dt>$A1</dt>\n",
       "\t\t<dd><table>\n",
       "<caption>A matrix: 4 × 4 of type dbl</caption>\n",
       "<thead>\n",
       "\t<tr><th></th><th scope=col>e.l1</th><th scope=col>prod.l1</th><th scope=col>rw.l1</th><th scope=col>U.l1</th></tr>\n",
       "</thead>\n",
       "<tbody>\n",
       "\t<tr><th scope=row>e</th><td> 1.7788626</td><td> 0.16712385</td><td>-0.02687009</td><td> 0.1899173</td></tr>\n",
       "\t<tr><th scope=row>prod</th><td>-0.2319289</td><td> 1.15792013</td><td> 0.10678987</td><td>-0.6027117</td></tr>\n",
       "\t<tr><th scope=row>rw</th><td>-0.3779577</td><td>-0.07103645</td><td> 0.98783225</td><td>-0.2213936</td></tr>\n",
       "\t<tr><th scope=row>U</th><td>-0.6284347</td><td>-0.07967735</td><td>-0.01829959</td><td> 0.7085469</td></tr>\n",
       "</tbody>\n",
       "</table>\n",
       "</dd>\n",
       "\t<dt>$A2</dt>\n",
       "\t\t<dd><table>\n",
       "<caption>A matrix: 4 × 4 of type dbl</caption>\n",
       "<thead>\n",
       "\t<tr><th></th><th scope=col>e.l2</th><th scope=col>prod.l2</th><th scope=col>rw.l2</th><th scope=col>U.l2</th></tr>\n",
       "</thead>\n",
       "<tbody>\n",
       "\t<tr><th scope=row>e</th><td>-0.7656226</td><td>-0.16513409</td><td> 0.02360625</td><td>-0.1420834</td></tr>\n",
       "\t<tr><th scope=row>prod</th><td> 0.2985711</td><td>-0.14790495</td><td>-0.12321796</td><td> 0.8434771</td></tr>\n",
       "\t<tr><th scope=row>rw</th><td> 0.1962418</td><td> 0.04372764</td><td> 0.05696290</td><td>-0.4351112</td></tr>\n",
       "\t<tr><th scope=row>U</th><td> 0.5845949</td><td> 0.07308898</td><td> 0.02910662</td><td> 0.1330683</td></tr>\n",
       "</tbody>\n",
       "</table>\n",
       "</dd>\n",
       "</dl>\n"
      ],
      "text/latex": [
       "\\begin{description}\n",
       "\\item[\\$A1] A matrix: 4 × 4 of type dbl\n",
       "\\begin{tabular}{r|llll}\n",
       "  & e.l1 & prod.l1 & rw.l1 & U.l1\\\\\n",
       "\\hline\n",
       "\te &  1.7788626 &  0.16712385 & -0.02687009 &  0.1899173\\\\\n",
       "\tprod & -0.2319289 &  1.15792013 &  0.10678987 & -0.6027117\\\\\n",
       "\trw & -0.3779577 & -0.07103645 &  0.98783225 & -0.2213936\\\\\n",
       "\tU & -0.6284347 & -0.07967735 & -0.01829959 &  0.7085469\\\\\n",
       "\\end{tabular}\n",
       "\n",
       "\\item[\\$A2] A matrix: 4 × 4 of type dbl\n",
       "\\begin{tabular}{r|llll}\n",
       "  & e.l2 & prod.l2 & rw.l2 & U.l2\\\\\n",
       "\\hline\n",
       "\te & -0.7656226 & -0.16513409 &  0.02360625 & -0.1420834\\\\\n",
       "\tprod &  0.2985711 & -0.14790495 & -0.12321796 &  0.8434771\\\\\n",
       "\trw &  0.1962418 &  0.04372764 &  0.05696290 & -0.4351112\\\\\n",
       "\tU &  0.5845949 &  0.07308898 &  0.02910662 &  0.1330683\\\\\n",
       "\\end{tabular}\n",
       "\n",
       "\\end{description}\n"
      ],
      "text/markdown": [
       "$A1\n",
       ":   \n",
       "A matrix: 4 × 4 of type dbl\n",
       "\n",
       "| <!--/--> | e.l1 | prod.l1 | rw.l1 | U.l1 |\n",
       "|---|---|---|---|---|\n",
       "| e |  1.7788626 |  0.16712385 | -0.02687009 |  0.1899173 |\n",
       "| prod | -0.2319289 |  1.15792013 |  0.10678987 | -0.6027117 |\n",
       "| rw | -0.3779577 | -0.07103645 |  0.98783225 | -0.2213936 |\n",
       "| U | -0.6284347 | -0.07967735 | -0.01829959 |  0.7085469 |\n",
       "\n",
       "\n",
       "$A2\n",
       ":   \n",
       "A matrix: 4 × 4 of type dbl\n",
       "\n",
       "| <!--/--> | e.l2 | prod.l2 | rw.l2 | U.l2 |\n",
       "|---|---|---|---|---|\n",
       "| e | -0.7656226 | -0.16513409 |  0.02360625 | -0.1420834 |\n",
       "| prod |  0.2985711 | -0.14790495 | -0.12321796 |  0.8434771 |\n",
       "| rw |  0.1962418 |  0.04372764 |  0.05696290 | -0.4351112 |\n",
       "| U |  0.5845949 |  0.07308898 |  0.02910662 |  0.1330683 |\n",
       "\n",
       "\n",
       "\n",
       "\n"
      ],
      "text/plain": [
       "$A1\n",
       "           e.l1     prod.l1       rw.l1       U.l1\n",
       "e     1.7788626  0.16712385 -0.02687009  0.1899173\n",
       "prod -0.2319289  1.15792013  0.10678987 -0.6027117\n",
       "rw   -0.3779577 -0.07103645  0.98783225 -0.2213936\n",
       "U    -0.6284347 -0.07967735 -0.01829959  0.7085469\n",
       "\n",
       "$A2\n",
       "           e.l2     prod.l2       rw.l2       U.l2\n",
       "e    -0.7656226 -0.16513409  0.02360625 -0.1420834\n",
       "prod  0.2985711 -0.14790495 -0.12321796  0.8434771\n",
       "rw    0.1962418  0.04372764  0.05696290 -0.4351112\n",
       "U     0.5845949  0.07308898  0.02910662  0.1330683\n"
      ]
     },
     "metadata": {},
     "output_type": "display_data"
    }
   ],
   "source": [
    "var.x$A"
   ]
  },
  {
   "cell_type": "markdown",
   "id": "intensive-purpose",
   "metadata": {},
   "source": [
    "## Model Checking"
   ]
  },
  {
   "cell_type": "code",
   "execution_count": 319,
   "id": "three-robertson",
   "metadata": {},
   "outputs": [
    {
     "data": {
      "text/html": [
       "<style>\n",
       ".list-inline {list-style: none; margin:0; padding: 0}\n",
       ".list-inline>li {display: inline-block}\n",
       ".list-inline>li:not(:last-child)::after {content: \"\\00b7\"; padding: 0 .5ex}\n",
       "</style>\n",
       "<ol class=list-inline><li>0.218826412280734</li><li>0.137167288371494</li><li>2.77555756156289e-17</li></ol>\n"
      ],
      "text/latex": [
       "\\begin{enumerate*}\n",
       "\\item 0.218826412280734\n",
       "\\item 0.137167288371494\n",
       "\\item 2.77555756156289e-17\n",
       "\\end{enumerate*}\n"
      ],
      "text/markdown": [
       "1. 0.218826412280734\n",
       "2. 0.137167288371494\n",
       "3. 2.77555756156289e-17\n",
       "\n",
       "\n"
      ],
      "text/plain": [
       "[1] 2.188264e-01 1.371673e-01 2.775558e-17"
      ]
     },
     "metadata": {},
     "output_type": "display_data"
    }
   ],
   "source": [
    "Mod(eigen(diag(3) - var_rh$A$A1 - var_rh$A$A2)$values)"
   ]
  },
  {
   "cell_type": "code",
   "execution_count": 305,
   "id": "double-struggle",
   "metadata": {},
   "outputs": [
    {
     "data": {
      "text/plain": [
       "\n",
       "\tPortmanteau Test (asymptotic)\n",
       "\n",
       "data:  Residuals of VAR object var_rh\n",
       "Chi-squared = 90.506, df = 93, p-value = 0.5539\n"
      ]
     },
     "metadata": {},
     "output_type": "display_data"
    },
    {
     "data": {
      "text/plain": [
       "\n",
       "\tARCH (multivariate)\n",
       "\n",
       "data:  Residuals of VAR object var_rh\n",
       "Chi-squared = 470.91, df = 432, p-value = 0.09534\n"
      ]
     },
     "metadata": {},
     "output_type": "display_data"
    },
    {
     "data": {
      "text/plain": [
       "\n",
       "\tJB-Test (multivariate)\n",
       "\n",
       "data:  Residuals of VAR object var_rh\n",
       "Chi-squared = 1529.6, df = 6, p-value < 2.2e-16\n"
      ]
     },
     "metadata": {},
     "output_type": "display_data"
    }
   ],
   "source": [
    "var_rh <- vec2var(vecm_rh.trace, r = 2)\n",
    "serial1 <- serial.test(var_rh, lags.pt = 12, type = 'PT.asymptotic')\n",
    "arch1 <- arch.test(var_rh, lags.multi = 12)\n",
    "norm1 <- normality.test(var_rh)\n",
    "\n",
    "serial1$serial\n",
    "arch1$arch.mul\n",
    "norm1$jb.mul$JB"
   ]
  },
  {
   "cell_type": "code",
   "execution_count": 309,
   "id": "continued-packaging",
   "metadata": {},
   "outputs": [
    {
     "data": {
      "text/html": [
       "'vec2var'"
      ],
      "text/latex": [
       "'vec2var'"
      ],
      "text/markdown": [
       "'vec2var'"
      ],
      "text/plain": [
       "[1] \"vec2var\""
      ]
     },
     "metadata": {},
     "output_type": "display_data"
    }
   ],
   "source": [
    "vec2var"
   ]
  },
  {
   "cell_type": "code",
   "execution_count": 297,
   "id": "associate-trash",
   "metadata": {},
   "outputs": [
    {
     "data": {
      "text/html": [
       "<style>\n",
       ".list-inline {list-style: none; margin:0; padding: 0}\n",
       ".list-inline>li {display: inline-block}\n",
       ".list-inline>li:not(:last-child)::after {content: \"\\00b7\"; padding: 0 .5ex}\n",
       "</style>\n",
       "<ol class=list-inline><li>1.21128092271629</li><li>0.906615624347384</li><li>0.816906015316688</li></ol>\n"
      ],
      "text/latex": [
       "\\begin{enumerate*}\n",
       "\\item 1.21128092271629\n",
       "\\item 0.906615624347384\n",
       "\\item 0.816906015316688\n",
       "\\end{enumerate*}\n"
      ],
      "text/markdown": [
       "1. 1.21128092271629\n",
       "2. 0.906615624347384\n",
       "3. 0.816906015316688\n",
       "\n",
       "\n"
      ],
      "text/plain": [
       "[1] 1.2112809 0.9066156 0.8169060"
      ]
     },
     "metadata": {},
     "output_type": "display_data"
    }
   ],
   "source": [
    "eigen(var_rh$A$A1)$values"
   ]
  },
  {
   "cell_type": "code",
   "execution_count": 262,
   "id": "coordinated-arrangement",
   "metadata": {},
   "outputs": [
    {
     "data": {
      "text/plain": [
       "eigen() decomposition\n",
       "$values\n",
       "[1] -0.2438592  0.0826742 -0.0445017\n",
       "\n",
       "$vectors\n",
       "           [,1]         [,2]       [,3]\n",
       "[1,] -0.7634156 -0.008123018 -0.9443364\n",
       "[2,] -0.4745422 -0.199792543  0.1920618\n",
       "[3,] -0.4381852  0.979804550  0.2670974\n"
      ]
     },
     "metadata": {},
     "output_type": "display_data"
    }
   ],
   "source": [
    "eigen(var_rh$A$A2)"
   ]
  },
  {
   "cell_type": "markdown",
   "id": "better-stylus",
   "metadata": {},
   "source": [
    "## Analysis"
   ]
  },
  {
   "cell_type": "markdown",
   "id": "southeast-graduate",
   "metadata": {},
   "source": [
    "### Granger"
   ]
  },
  {
   "cell_type": "markdown",
   "id": "computational-marijuana",
   "metadata": {},
   "source": [
    "### IRF"
   ]
  },
  {
   "cell_type": "markdown",
   "id": "convertible-valve",
   "metadata": {},
   "source": [
    "### LOP"
   ]
  },
  {
   "cell_type": "code",
   "execution_count": null,
   "id": "previous-diploma",
   "metadata": {},
   "outputs": [],
   "source": []
  },
  {
   "cell_type": "code",
   "execution_count": null,
   "id": "representative-persian",
   "metadata": {},
   "outputs": [],
   "source": [
    "H1 = ca.jo(\n",
    "  x$rh$endo, type = 'trace', ecdet = 'const', K = 2, \n",
    "  spec = 'transitory', dumvar = x$rh$exo\n",
    ")\n",
    "H1 %>% summary()"
   ]
  },
  {
   "cell_type": "code",
   "execution_count": null,
   "id": "deadly-perception",
   "metadata": {},
   "outputs": [],
   "source": [
    "HA = matrix(c( 1, 0, 0,\n",
    "               0, 1, 0,\n",
    "              -1, 0, 0,\n",
    "               0, 0, 1\n",
    "             ), \n",
    "            ncol = 3, byrow = TRUE)\n",
    "\n",
    "blrtest(z = vecm_rh.trace, H = HA, r = 1) %>% summary()"
   ]
  },
  {
   "cell_type": "code",
   "execution_count": null,
   "id": "aboriginal-sound",
   "metadata": {},
   "outputs": [],
   "source": [
    "save_irf_plot = function(model, impulse, width = 6, height = 8, n.ahead = 12) {\n",
    "  model_name = deparse(substitute(model))\n",
    "  filename = paste0(\"../img/irf_\", model_name, '_', impulse, \".png\")\n",
    "  png(filename = filename,\n",
    "    units = \"in\", \n",
    "    width = width, \n",
    "    height = height,\n",
    "    pointsize = 10, \n",
    "    res = 300)\n",
    "  plot(irf(model, impulse = impulse, n.ahead = n.ahead))\n",
    "  dev.off()\n",
    "}"
   ]
  },
  {
   "cell_type": "code",
   "execution_count": null,
   "id": "narrow-investing",
   "metadata": {},
   "outputs": [],
   "source": [
    "save_irf_plot(var_rh, 'RHFG')\n",
    "save_irf_plot(var_rh, 'RHWS')\n",
    "save_irf_plot(var_rh, 'RHXB')"
   ]
  },
  {
   "cell_type": "code",
   "execution_count": null,
   "id": "accredited-morocco",
   "metadata": {},
   "outputs": [],
   "source": [
    "TVECM.HStest(endo[, c(1,3)])"
   ]
  },
  {
   "cell_type": "code",
   "execution_count": null,
   "id": "other-directory",
   "metadata": {},
   "outputs": [],
   "source": [
    "# TVECM(endo[, c(1,3)], common = 'only_ECT', include = 'const') %>% summary()"
   ]
  },
  {
   "cell_type": "code",
   "execution_count": null,
   "id": "protected-steal",
   "metadata": {},
   "outputs": [],
   "source": [
    "# tsDyn::VECM(endo, lag = 1, r = 2, estim = \"ML\",\n",
    "#             include = 'const', exogen = exo) %>% summary()"
   ]
  },
  {
   "cell_type": "markdown",
   "id": "mathematical-language",
   "metadata": {},
   "source": [
    "# Vertical : White Rice"
   ]
  },
  {
   "cell_type": "code",
   "execution_count": 116,
   "id": "mineral-coral",
   "metadata": {},
   "outputs": [],
   "source": [
    "endo <- x$rw$endo\n",
    "exo <- x$rw$exo"
   ]
  },
  {
   "cell_type": "code",
   "execution_count": null,
   "id": "imposed-london",
   "metadata": {},
   "outputs": [],
   "source": [
    "summary(endo %>% exp())"
   ]
  },
  {
   "cell_type": "code",
   "execution_count": null,
   "id": "acting-disaster",
   "metadata": {},
   "outputs": [],
   "source": []
  },
  {
   "cell_type": "code",
   "execution_count": null,
   "id": "atlantic-satellite",
   "metadata": {},
   "outputs": [],
   "source": [
    "# set_figsize(10, 6)\n",
    "filename = paste0(\"../img/plot_\", 'rhfg', \".png\")\n",
    "png(filename = filename,\n",
    "  units = \"in\", \n",
    "  width = 12, \n",
    "  height = 6, \n",
    "  pointsize = 10, \n",
    "  res = 300)\n",
    "plot.ts(endo)\n",
    "dev.off()"
   ]
  },
  {
   "cell_type": "markdown",
   "id": "applicable-genealogy",
   "metadata": {},
   "source": [
    "## Model Specification"
   ]
  },
  {
   "cell_type": "code",
   "execution_count": 122,
   "id": "missing-behalf",
   "metadata": {},
   "outputs": [
    {
     "data": {
      "text/html": [
       "<dl>\n",
       "\t<dt>$selection</dt>\n",
       "\t\t<dd><style>\n",
       ".dl-inline {width: auto; margin:0; padding: 0}\n",
       ".dl-inline>dt, .dl-inline>dd {float: none; width: auto; display: inline-block}\n",
       ".dl-inline>dt::after {content: \":\\0020\"; padding-right: .5ex}\n",
       ".dl-inline>dt:not(:first-of-type) {padding-left: .5ex}\n",
       "</style><dl class=dl-inline><dt>AIC(n)</dt><dd>3</dd><dt>HQ(n)</dt><dd>2</dd><dt>SC(n)</dt><dd>2</dd><dt>FPE(n)</dt><dd>3</dd></dl>\n",
       "</dd>\n",
       "\t<dt>$criteria</dt>\n",
       "\t\t<dd><table>\n",
       "<caption>A matrix: 4 × 5 of type dbl</caption>\n",
       "<thead>\n",
       "\t<tr><th></th><th scope=col>1</th><th scope=col>2</th><th scope=col>3</th><th scope=col>4</th><th scope=col>5</th></tr>\n",
       "</thead>\n",
       "<tbody>\n",
       "\t<tr><th scope=row>AIC(n)</th><td>-2.107088e+01</td><td>-2.135922e+01</td><td>-2.138932e+01</td><td>-2.138413e+01</td><td>-2.133848e+01</td></tr>\n",
       "\t<tr><th scope=row>HQ(n)</th><td>-2.098686e+01</td><td>-2.121219e+01</td><td>-2.117928e+01</td><td>-2.111108e+01</td><td>-2.100242e+01</td></tr>\n",
       "\t<tr><th scope=row>SC(n)</th><td>-2.086353e+01</td><td>-2.099637e+01</td><td>-2.087096e+01</td><td>-2.071026e+01</td><td>-2.050911e+01</td></tr>\n",
       "\t<tr><th scope=row>FPE(n)</th><td> 7.063862e-10</td><td> 5.294862e-10</td><td> 5.138896e-10</td><td> 5.167528e-10</td><td> 5.412035e-10</td></tr>\n",
       "</tbody>\n",
       "</table>\n",
       "</dd>\n",
       "</dl>\n"
      ],
      "text/latex": [
       "\\begin{description}\n",
       "\\item[\\$selection] \\begin{description*}\n",
       "\\item[AIC(n)] 3\n",
       "\\item[HQ(n)] 2\n",
       "\\item[SC(n)] 2\n",
       "\\item[FPE(n)] 3\n",
       "\\end{description*}\n",
       "\n",
       "\\item[\\$criteria] A matrix: 4 × 5 of type dbl\n",
       "\\begin{tabular}{r|lllll}\n",
       "  & 1 & 2 & 3 & 4 & 5\\\\\n",
       "\\hline\n",
       "\tAIC(n) & -2.107088e+01 & -2.135922e+01 & -2.138932e+01 & -2.138413e+01 & -2.133848e+01\\\\\n",
       "\tHQ(n) & -2.098686e+01 & -2.121219e+01 & -2.117928e+01 & -2.111108e+01 & -2.100242e+01\\\\\n",
       "\tSC(n) & -2.086353e+01 & -2.099637e+01 & -2.087096e+01 & -2.071026e+01 & -2.050911e+01\\\\\n",
       "\tFPE(n) &  7.063862e-10 &  5.294862e-10 &  5.138896e-10 &  5.167528e-10 &  5.412035e-10\\\\\n",
       "\\end{tabular}\n",
       "\n",
       "\\end{description}\n"
      ],
      "text/markdown": [
       "$selection\n",
       ":   AIC(n)\n",
       ":   3HQ(n)\n",
       ":   2SC(n)\n",
       ":   2FPE(n)\n",
       ":   3\n",
       "\n",
       "\n",
       "$criteria\n",
       ":   \n",
       "A matrix: 4 × 5 of type dbl\n",
       "\n",
       "| <!--/--> | 1 | 2 | 3 | 4 | 5 |\n",
       "|---|---|---|---|---|---|\n",
       "| AIC(n) | -2.107088e+01 | -2.135922e+01 | -2.138932e+01 | -2.138413e+01 | -2.133848e+01 |\n",
       "| HQ(n) | -2.098686e+01 | -2.121219e+01 | -2.117928e+01 | -2.111108e+01 | -2.100242e+01 |\n",
       "| SC(n) | -2.086353e+01 | -2.099637e+01 | -2.087096e+01 | -2.071026e+01 | -2.050911e+01 |\n",
       "| FPE(n) |  7.063862e-10 |  5.294862e-10 |  5.138896e-10 |  5.167528e-10 |  5.412035e-10 |\n",
       "\n",
       "\n",
       "\n",
       "\n"
      ],
      "text/plain": [
       "$selection\n",
       "AIC(n)  HQ(n)  SC(n) FPE(n) \n",
       "     3      2      2      3 \n",
       "\n",
       "$criteria\n",
       "                   1             2             3             4             5\n",
       "AIC(n) -2.107088e+01 -2.135922e+01 -2.138932e+01 -2.138413e+01 -2.133848e+01\n",
       "HQ(n)  -2.098686e+01 -2.121219e+01 -2.117928e+01 -2.111108e+01 -2.100242e+01\n",
       "SC(n)  -2.086353e+01 -2.099637e+01 -2.087096e+01 -2.071026e+01 -2.050911e+01\n",
       "FPE(n)  7.063862e-10  5.294862e-10  5.138896e-10  5.167528e-10  5.412035e-10\n"
      ]
     },
     "metadata": {},
     "output_type": "display_data"
    }
   ],
   "source": [
    "VARselect(endo, lag.max = 5, type = 'const')"
   ]
  },
  {
   "cell_type": "code",
   "execution_count": 123,
   "id": "radical-casino",
   "metadata": {},
   "outputs": [
    {
     "data": {
      "text/html": [
       "<dl>\n",
       "\t<dt>$selection</dt>\n",
       "\t\t<dd><style>\n",
       ".dl-inline {width: auto; margin:0; padding: 0}\n",
       ".dl-inline>dt, .dl-inline>dd {float: none; width: auto; display: inline-block}\n",
       ".dl-inline>dt::after {content: \":\\0020\"; padding-right: .5ex}\n",
       ".dl-inline>dt:not(:first-of-type) {padding-left: .5ex}\n",
       "</style><dl class=dl-inline><dt>AIC(n)</dt><dd>2</dd><dt>HQ(n)</dt><dd>2</dd><dt>SC(n)</dt><dd>2</dd><dt>FPE(n)</dt><dd>2</dd></dl>\n",
       "</dd>\n",
       "\t<dt>$criteria</dt>\n",
       "\t\t<dd><table>\n",
       "<caption>A matrix: 4 × 5 of type dbl</caption>\n",
       "<thead>\n",
       "\t<tr><th></th><th scope=col>1</th><th scope=col>2</th><th scope=col>3</th><th scope=col>4</th><th scope=col>5</th></tr>\n",
       "</thead>\n",
       "<tbody>\n",
       "\t<tr><th scope=row>AIC(n)</th><td>-2.119494e+01</td><td>-2.146083e+01</td><td>-2.145371e+01</td><td>-2.143900e+01</td><td>-2.139220e+01</td></tr>\n",
       "\t<tr><th scope=row>HQ(n)</th><td>-2.108992e+01</td><td>-2.129280e+01</td><td>-2.122267e+01</td><td>-2.114494e+01</td><td>-2.103514e+01</td></tr>\n",
       "\t<tr><th scope=row>SC(n)</th><td>-2.093576e+01</td><td>-2.104614e+01</td><td>-2.088351e+01</td><td>-2.071329e+01</td><td>-2.051099e+01</td></tr>\n",
       "\t<tr><th scope=row>FPE(n)</th><td> 6.239780e-10</td><td> 4.783520e-10</td><td> 4.818919e-10</td><td> 4.892461e-10</td><td> 5.130266e-10</td></tr>\n",
       "</tbody>\n",
       "</table>\n",
       "</dd>\n",
       "</dl>\n"
      ],
      "text/latex": [
       "\\begin{description}\n",
       "\\item[\\$selection] \\begin{description*}\n",
       "\\item[AIC(n)] 2\n",
       "\\item[HQ(n)] 2\n",
       "\\item[SC(n)] 2\n",
       "\\item[FPE(n)] 2\n",
       "\\end{description*}\n",
       "\n",
       "\\item[\\$criteria] A matrix: 4 × 5 of type dbl\n",
       "\\begin{tabular}{r|lllll}\n",
       "  & 1 & 2 & 3 & 4 & 5\\\\\n",
       "\\hline\n",
       "\tAIC(n) & -2.119494e+01 & -2.146083e+01 & -2.145371e+01 & -2.143900e+01 & -2.139220e+01\\\\\n",
       "\tHQ(n) & -2.108992e+01 & -2.129280e+01 & -2.122267e+01 & -2.114494e+01 & -2.103514e+01\\\\\n",
       "\tSC(n) & -2.093576e+01 & -2.104614e+01 & -2.088351e+01 & -2.071329e+01 & -2.051099e+01\\\\\n",
       "\tFPE(n) &  6.239780e-10 &  4.783520e-10 &  4.818919e-10 &  4.892461e-10 &  5.130266e-10\\\\\n",
       "\\end{tabular}\n",
       "\n",
       "\\end{description}\n"
      ],
      "text/markdown": [
       "$selection\n",
       ":   AIC(n)\n",
       ":   2HQ(n)\n",
       ":   2SC(n)\n",
       ":   2FPE(n)\n",
       ":   2\n",
       "\n",
       "\n",
       "$criteria\n",
       ":   \n",
       "A matrix: 4 × 5 of type dbl\n",
       "\n",
       "| <!--/--> | 1 | 2 | 3 | 4 | 5 |\n",
       "|---|---|---|---|---|---|\n",
       "| AIC(n) | -2.119494e+01 | -2.146083e+01 | -2.145371e+01 | -2.143900e+01 | -2.139220e+01 |\n",
       "| HQ(n) | -2.108992e+01 | -2.129280e+01 | -2.122267e+01 | -2.114494e+01 | -2.103514e+01 |\n",
       "| SC(n) | -2.093576e+01 | -2.104614e+01 | -2.088351e+01 | -2.071329e+01 | -2.051099e+01 |\n",
       "| FPE(n) |  6.239780e-10 |  4.783520e-10 |  4.818919e-10 |  4.892461e-10 |  5.130266e-10 |\n",
       "\n",
       "\n",
       "\n",
       "\n"
      ],
      "text/plain": [
       "$selection\n",
       "AIC(n)  HQ(n)  SC(n) FPE(n) \n",
       "     2      2      2      2 \n",
       "\n",
       "$criteria\n",
       "                   1             2             3             4             5\n",
       "AIC(n) -2.119494e+01 -2.146083e+01 -2.145371e+01 -2.143900e+01 -2.139220e+01\n",
       "HQ(n)  -2.108992e+01 -2.129280e+01 -2.122267e+01 -2.114494e+01 -2.103514e+01\n",
       "SC(n)  -2.093576e+01 -2.104614e+01 -2.088351e+01 -2.071329e+01 -2.051099e+01\n",
       "FPE(n)  6.239780e-10  4.783520e-10  4.818919e-10  4.892461e-10  5.130266e-10\n"
      ]
     },
     "metadata": {},
     "output_type": "display_data"
    }
   ],
   "source": [
    "VARselect(endo, lag.max = 5, type = 'both')"
   ]
  },
  {
   "cell_type": "code",
   "execution_count": 124,
   "id": "complex-territory",
   "metadata": {},
   "outputs": [],
   "source": [
    "VARselect(endo, lag.max = 5, type = 'const')$criteria %>% t %>% \n",
    "  as_tibble() %>% janitor::clean_names() %>%\n",
    "  select(4,1,3,2) %>%\n",
    "  write_xlsx('results/02_lag_select_rw.xlsx')"
   ]
  },
  {
   "cell_type": "code",
   "execution_count": null,
   "id": "optimum-detective",
   "metadata": {},
   "outputs": [],
   "source": [
    "vecm.trace = ca.jo(\n",
    "  endo, type = 'trace', ecdet = 'const', K = 2,\n",
    "  spec = 'transitory', dumvar = exo\n",
    ")\n",
    "\n",
    "vecm.eigen = ca.jo(\n",
    "  endo, type = 'eigen', ecdet = 'const', K = 2, \n",
    "  spec = 'transitory', dumvar = exo\n",
    ")\n",
    "\n",
    "summary(vecm.trace)\n",
    "summary(vecm.eigen)"
   ]
  },
  {
   "cell_type": "markdown",
   "id": "municipal-accused",
   "metadata": {},
   "source": [
    "### Law of One Price"
   ]
  },
  {
   "cell_type": "code",
   "execution_count": null,
   "id": "working-instruction",
   "metadata": {},
   "outputs": [],
   "source": [
    "HA = matrix(c( 1, 1, 1, 1,\n",
    "              -1, 0, 0, 0,\n",
    "               0,-1, 0, 0,\n",
    "               0, 0,-1, 0,\n",
    "               0, 0, 0,-1\n",
    "             ), \n",
    "            ncol = 4, byrow = TRUE)\n",
    "\n",
    "blrtest(z = H1, H = HA, r = 4) %>% summary()\n",
    "\n",
    "# H5 = matrix(c( 1, -1), \n",
    "#             ncol = 1, byrow = TRUE)\n",
    "\n",
    "# H5 = c(1, -1)\n",
    "# Hlop = matrix(c(1, -1, -1), nrow = 3, ncol = 1)\n",
    "\n",
    "# bh5lrtest(z = H1, H = H5, r = 1) %>% summary()"
   ]
  },
  {
   "cell_type": "code",
   "execution_count": null,
   "id": "ranging-pencil",
   "metadata": {},
   "outputs": [],
   "source": [
    "rh.cajolst = cajolst(x$rh$endo, trend = TRUE)\n",
    "slotNames(rh.cajolst)\n",
    "summary(rh.cajolst)"
   ]
  },
  {
   "cell_type": "code",
   "execution_count": null,
   "id": "great-remark",
   "metadata": {},
   "outputs": [],
   "source": []
  },
  {
   "cell_type": "code",
   "execution_count": null,
   "id": "extensive-quick",
   "metadata": {},
   "outputs": [],
   "source": [
    "index(x$rh$endo)[59]"
   ]
  },
  {
   "cell_type": "code",
   "execution_count": null,
   "id": "spoken-crown",
   "metadata": {},
   "outputs": [],
   "source": [
    "rh.cajolst@bp"
   ]
  },
  {
   "cell_type": "code",
   "execution_count": null,
   "id": "least-border",
   "metadata": {},
   "outputs": [],
   "source": [
    "rh.cajolst"
   ]
  },
  {
   "cell_type": "code",
   "execution_count": null,
   "id": "nominated-equality",
   "metadata": {},
   "outputs": [],
   "source": [
    "args(ca.jo)"
   ]
  },
  {
   "cell_type": "code",
   "execution_count": null,
   "id": "thorough-hearing",
   "metadata": {},
   "outputs": [],
   "source": [
    "ca.jo(rh05, type = 'eigen', ecdet = \"trend\") %>% summary()"
   ]
  },
  {
   "cell_type": "code",
   "execution_count": null,
   "id": "eastern-addiction",
   "metadata": {},
   "outputs": [],
   "source": [
    "summary(rh.cajolst)"
   ]
  },
  {
   "cell_type": "code",
   "execution_count": null,
   "id": "bound-frequency",
   "metadata": {},
   "outputs": [],
   "source": [
    "index(rw)[13]"
   ]
  },
  {
   "cell_type": "markdown",
   "id": "federal-director",
   "metadata": {},
   "source": [
    "# VAR"
   ]
  },
  {
   "cell_type": "markdown",
   "id": "advisory-modeling",
   "metadata": {},
   "source": [
    "## Model Specification"
   ]
  },
  {
   "cell_type": "code",
   "execution_count": null,
   "id": "collectible-hebrew",
   "metadata": {},
   "outputs": [],
   "source": [
    "args(VARselect)"
   ]
  },
  {
   "cell_type": "code",
   "execution_count": null,
   "id": "optimum-scratch",
   "metadata": {},
   "outputs": [],
   "source": [
    "VARselect(rh05, lag.max = 12, type = \"both\")"
   ]
  },
  {
   "cell_type": "markdown",
   "id": "disabled-chess",
   "metadata": {},
   "source": [
    "## Modle Estimation"
   ]
  },
  {
   "cell_type": "code",
   "execution_count": null,
   "id": "presidential-feelings",
   "metadata": {},
   "outputs": [],
   "source": [
    "args(VAR)"
   ]
  },
  {
   "cell_type": "code",
   "execution_count": null,
   "id": "attractive-cream",
   "metadata": {},
   "outputs": [],
   "source": [
    "rh05.VAR = VAR(rh05, p = 2, type = \"both\")"
   ]
  },
  {
   "cell_type": "code",
   "execution_count": null,
   "id": "purple-template",
   "metadata": {},
   "outputs": [],
   "source": [
    "rh10.VAR = VAR(rh10, p = 2, type = \"both\")"
   ]
  },
  {
   "cell_type": "code",
   "execution_count": null,
   "id": "senior-kazakhstan",
   "metadata": {},
   "outputs": [],
   "source": [
    "summary(rh05.VAR)"
   ]
  },
  {
   "cell_type": "markdown",
   "id": "copyrighted-economics",
   "metadata": {},
   "source": [
    "## Model Daignostic"
   ]
  },
  {
   "cell_type": "code",
   "execution_count": null,
   "id": "aboriginal-bloom",
   "metadata": {},
   "outputs": [],
   "source": [
    "roots(rh05.VAR)"
   ]
  },
  {
   "cell_type": "markdown",
   "id": "intellectual-muslim",
   "metadata": {},
   "source": [
    "### Autocorrelation"
   ]
  },
  {
   "cell_type": "code",
   "execution_count": null,
   "id": "vital-declaration",
   "metadata": {},
   "outputs": [],
   "source": [
    "args(serial.test)"
   ]
  },
  {
   "cell_type": "code",
   "execution_count": null,
   "id": "illegal-manual",
   "metadata": {},
   "outputs": [],
   "source": [
    "rh05.VAR.ser = serial.test(rh05.VAR)\n",
    "rh05.VAR.ser"
   ]
  },
  {
   "cell_type": "code",
   "execution_count": null,
   "id": "julian-dayton",
   "metadata": {},
   "outputs": [],
   "source": []
  },
  {
   "cell_type": "code",
   "execution_count": null,
   "id": "wired-frank",
   "metadata": {},
   "outputs": [],
   "source": [
    "set_figsize(10, 8)\n",
    "rh05.VAR.ser = serial.test(rh05.VAR)\n",
    "plot(rh05.VAR.ser, names = \"RHFG\")\n",
    "plot(rh05.VAR.ser, names = \"RHWS\")\n",
    "plot(rh05.VAR.ser, names = \"RHXB\")"
   ]
  },
  {
   "cell_type": "markdown",
   "id": "medical-parts",
   "metadata": {},
   "source": [
    "### Hetero"
   ]
  },
  {
   "cell_type": "code",
   "execution_count": null,
   "id": "spare-butler",
   "metadata": {},
   "outputs": [],
   "source": [
    "sp_vector <- c(1973.1,1961.53,1993.23,1937.27,2044.57,2054.27,2028.18,2082.2,2079.99,2094.86,2111.94,\n",
    "               2099.29,2094.14,2039.87,1944.41,2024.81,2080.62,2054.08,1918.6,1904.42,2021.95,\n",
    "               2075.54,2065.55,2083.89,2148.9,2170.95,2157.69,2143.02,2164.99,2246.63,2275.12,\n",
    "               2329.91,2366.82,2359.31,2395.35,2433.99)\n",
    "sp_ts <- ts(sp_vector,start=c(2014,7),frequency=12)"
   ]
  },
  {
   "cell_type": "code",
   "execution_count": null,
   "id": "elegant-monte",
   "metadata": {},
   "outputs": [],
   "source": [
    "dum = ts(rep(1, 13), start=c(2008, 10),frequency = 12)"
   ]
  },
  {
   "cell_type": "code",
   "execution_count": null,
   "id": "disabled-guidance",
   "metadata": {},
   "outputs": [],
   "source": [
    "c(as.xts(rh05), as.xts(dum))"
   ]
  },
  {
   "cell_type": "code",
   "execution_count": null,
   "id": "allied-clerk",
   "metadata": {},
   "outputs": [],
   "source": [
    "data = replace_na(ts.union(rh05, dum), 0)"
   ]
  },
  {
   "cell_type": "code",
   "execution_count": null,
   "id": "secret-samoa",
   "metadata": {},
   "outputs": [],
   "source": [
    "# data"
   ]
  },
  {
   "cell_type": "code",
   "execution_count": null,
   "id": "painful-milwaukee",
   "metadata": {},
   "outputs": [],
   "source": [
    "VAR(data, p = 3, type = \"both\", exogen = dum)"
   ]
  },
  {
   "cell_type": "code",
   "execution_count": null,
   "id": "gorgeous-commitment",
   "metadata": {},
   "outputs": [],
   "source": []
  },
  {
   "cell_type": "code",
   "execution_count": null,
   "id": "fuzzy-gilbert",
   "metadata": {},
   "outputs": [],
   "source": [
    "rh05.VAR = VAR(rh05, p = 4, type = \"both\", season = 12)"
   ]
  },
  {
   "cell_type": "code",
   "execution_count": null,
   "id": "responsible-output",
   "metadata": {},
   "outputs": [],
   "source": [
    "rh05.VAR.arch = arch.test(rh05.VAR, lags.multi = 12)\n",
    "rh05.VAR.arch"
   ]
  },
  {
   "cell_type": "code",
   "execution_count": null,
   "id": "laughing-magnitude",
   "metadata": {},
   "outputs": [],
   "source": [
    "rh05.VAR %>% normality.test %>% plot"
   ]
  },
  {
   "cell_type": "markdown",
   "id": "veterinary-shoot",
   "metadata": {},
   "source": [
    "## Normality"
   ]
  },
  {
   "cell_type": "code",
   "execution_count": null,
   "id": "hybrid-manufacturer",
   "metadata": {},
   "outputs": [],
   "source": [
    "rh05.VAR %>% stability %>% plot"
   ]
  },
  {
   "cell_type": "markdown",
   "id": "verbal-confidentiality",
   "metadata": {},
   "source": [
    "# Cointegration Analysis"
   ]
  },
  {
   "cell_type": "code",
   "execution_count": null,
   "id": "canadian-design",
   "metadata": {},
   "outputs": [],
   "source": [
    "args(ca.jo)"
   ]
  },
  {
   "cell_type": "code",
   "execution_count": null,
   "id": "moral-legislation",
   "metadata": {},
   "outputs": [],
   "source": [
    "vars::VARselect(rh05)\n",
    "vars::VARselect(rh06)"
   ]
  },
  {
   "cell_type": "code",
   "execution_count": null,
   "id": "careful-motivation",
   "metadata": {},
   "outputs": [],
   "source": [
    "rhrg  = price[, c('RHFG', 'RGFG')] %>% log() %>% na.omit()"
   ]
  },
  {
   "cell_type": "code",
   "execution_count": null,
   "id": "accepted-defendant",
   "metadata": {},
   "outputs": [],
   "source": [
    "rh.eigen = ca.jo(rh, type = \"eigen\", K = 2, ecdet = \"trend\")\n",
    "rh.trace = ca.jo(rh, type = \"trace\", K = 2, ecdet = \"trend\")\n",
    "rw.eigen = ca.jo(rw, type = \"eigen\", K = 2, ecdet = \"trend\")\n",
    "rw.trace = ca.jo(rw, type = \"trace\", K = 2, ecdet = \"trend\")\n",
    "rg.eigen = ca.jo(rg, type = \"eigen\", K = 2, ecdet = \"trend\")\n",
    "rg.trace = ca.jo(rg, type = \"trace\", K = 2, ecdet = \"trend\")\n",
    "\n",
    "rhfg.eigen = ca.jo(rhfg, type = \"eigen\", K = 2, ecdet = \"trend\")\n",
    "rhfg.trace = ca.jo(rhfg, type = \"trace\", K = 2, ecdet = \"trend\")\n",
    "rwfg.eigen = ca.jo(rwfg, type = \"eigen\", K = 2, ecdet = \"trend\")\n",
    "rwfg.trace = ca.jo(rwfg, type = \"trace\", K = 2, ecdet = \"trend\")\n",
    "rgfg.eigen = ca.jo(rgfg, type = \"eigen\", K = 2, ecdet = \"trend\")\n",
    "rgfg.trace = ca.jo(rgfg, type = \"trace\", K = 2, ecdet = \"trend\")\n",
    "\n",
    "rfg.eigen  = ca.jo(rfg, type = \"eigen\", K = 2, ecdet = \"trend\")\n",
    "rfg.trace  = ca.jo(rfg, type = \"trace\", K = 2, ecdet = \"trend\")\n",
    "\n",
    "rhrg.eigen  = ca.jo(rhrg, type = \"eigen\", K = 2, ecdet = \"trend\")\n",
    "rhrg.trace  = ca.jo(rhrg, type = \"trace\", K = 2, ecdet = \"trend\")"
   ]
  },
  {
   "cell_type": "code",
   "execution_count": null,
   "id": "interracial-cargo",
   "metadata": {},
   "outputs": [],
   "source": [
    "tail(rw)"
   ]
  },
  {
   "cell_type": "code",
   "execution_count": null,
   "id": "allied-angel",
   "metadata": {},
   "outputs": [],
   "source": [
    "rw.xts = as.xts(rw)"
   ]
  },
  {
   "cell_type": "code",
   "execution_count": null,
   "id": "burning-brooklyn",
   "metadata": {},
   "outputs": [],
   "source": [
    "x = ts(NA, start = c(2003, 1), end = c(2020, 3), frequency = 12)"
   ]
  },
  {
   "cell_type": "code",
   "execution_count": null,
   "id": "described-drink",
   "metadata": {},
   "outputs": [],
   "source": [
    "dum = ts(rep(1, 13), start=c(2008, 10), frequency = 12)"
   ]
  },
  {
   "cell_type": "code",
   "execution_count": null,
   "id": "lonely-suicide",
   "metadata": {},
   "outputs": [],
   "source": [
    "rw.eigen = ca.jo(rw.xts, type = \"eigen\", K = 2, \n",
    "                 ecdet = \"trend\", season = 12)"
   ]
  },
  {
   "cell_type": "code",
   "execution_count": null,
   "id": "changed-sailing",
   "metadata": {},
   "outputs": [],
   "source": [
    "summary(rw.eigen)"
   ]
  },
  {
   "cell_type": "code",
   "execution_count": null,
   "id": "christian-seeking",
   "metadata": {},
   "outputs": [],
   "source": [
    "summary(rh.trace)"
   ]
  },
  {
   "cell_type": "code",
   "execution_count": null,
   "id": "whole-compact",
   "metadata": {},
   "outputs": [],
   "source": [
    "cbind(rh.trace@teststat, rh.trace@cval)"
   ]
  },
  {
   "cell_type": "code",
   "execution_count": null,
   "id": "given-favorite",
   "metadata": {},
   "outputs": [],
   "source": [
    "rh.trace@V"
   ]
  },
  {
   "cell_type": "code",
   "execution_count": null,
   "id": "copyrighted-occupation",
   "metadata": {},
   "outputs": [],
   "source": [
    "A1 = matrix(c(1,0,0, 0,1,0), \n",
    "            nrow=3, ncol=2)\n",
    "A2 = matrix(c(1,0,0, 0,0,1),\n",
    "            nrow=3, ncol=2)"
   ]
  },
  {
   "cell_type": "code",
   "execution_count": null,
   "id": "canadian-colombia",
   "metadata": {},
   "outputs": [],
   "source": [
    "summary(alrtest(z = rh.trace, A = A1, r = 1))\n",
    "summary(alrtest(z = rh.trace, A = A2, r = 1))"
   ]
  },
  {
   "cell_type": "code",
   "execution_count": null,
   "id": "center-gentleman",
   "metadata": {},
   "outputs": [],
   "source": [
    "rw.trace"
   ]
  },
  {
   "cell_type": "code",
   "execution_count": null,
   "id": "hybrid-spider",
   "metadata": {},
   "outputs": [],
   "source": [
    "series <- rnorm(1000)\n",
    "y.st <- stats::filter(series, filter = c(0.6, -0.28), method = \"recursive\")\n",
    "ar2.st <- arima(y.st, c(2,0,0), include.mean = FALSE,\n",
    "                transform.pars = FALSE, method = \"ML\")\n",
    "\n",
    "polyroot(c(1, -ar2.st$coef))\n",
    "\n",
    "Mod(polyroot(c(1, -ar2.st$coef)))\n",
    "Im(polyroot(c(1, -ar2.st$coef)))\n",
    "Re(polyroot(c(1, -ar2.st$coef)))"
   ]
  }
 ],
 "metadata": {
  "jupytext": {
   "formats": "ipynb,Rmd"
  },
  "kernelspec": {
   "display_name": "R",
   "language": "R",
   "name": "ir"
  },
  "language_info": {
   "codemirror_mode": "r",
   "file_extension": ".r",
   "mimetype": "text/x-r-source",
   "name": "R",
   "pygments_lexer": "r",
   "version": "4.0.4"
  },
  "toc-autonumbering": true,
  "toc-showtags": true
 },
 "nbformat": 4,
 "nbformat_minor": 5
}
