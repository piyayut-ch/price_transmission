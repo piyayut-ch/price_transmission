{
 "cells": [
  {
   "cell_type": "code",
   "execution_count": 1,
   "metadata": {},
   "outputs": [
    {
     "name": "stderr",
     "output_type": "stream",
     "text": [
      "Loading required package: forecast\n",
      "\n",
      "Registered S3 method overwritten by 'xts':\n",
      "  method     from\n",
      "  as.zoo.xts zoo \n",
      "\n",
      "Registered S3 method overwritten by 'quantmod':\n",
      "  method            from\n",
      "  as.zoo.data.frame zoo \n",
      "\n",
      "Registered S3 methods overwritten by 'forecast':\n",
      "  method             from    \n",
      "  fitted.fracdiff    fracdiff\n",
      "  residuals.fracdiff fracdiff\n",
      "\n",
      "Loading required package: vars\n",
      "\n",
      "Loading required package: MASS\n",
      "\n",
      "Loading required package: strucchange\n",
      "\n",
      "Loading required package: zoo\n",
      "\n",
      "\n",
      "Attaching package: 'zoo'\n",
      "\n",
      "\n",
      "The following objects are masked from 'package:base':\n",
      "\n",
      "    as.Date, as.Date.numeric\n",
      "\n",
      "\n",
      "Loading required package: sandwich\n",
      "\n",
      "Loading required package: urca\n",
      "\n",
      "Loading required package: lmtest\n",
      "\n",
      "Loading required package: tsDyn\n",
      "\n",
      "Loading required package: tidyverse\n",
      "\n",
      "-- \u001b[1mAttaching packages\u001b[22m --------------------------------------- tidyverse 1.3.0 --\n",
      "\n",
      "\u001b[32m<U+221A>\u001b[39m \u001b[34mggplot2\u001b[39m 3.2.1     \u001b[32m<U+221A>\u001b[39m \u001b[34mpurrr  \u001b[39m 0.3.3\n",
      "\u001b[32m<U+221A>\u001b[39m \u001b[34mtibble \u001b[39m 2.1.3     \u001b[32m<U+221A>\u001b[39m \u001b[34mdplyr  \u001b[39m 0.8.3\n",
      "\u001b[32m<U+221A>\u001b[39m \u001b[34mtidyr  \u001b[39m 1.0.0     \u001b[32m<U+221A>\u001b[39m \u001b[34mstringr\u001b[39m 1.4.0\n",
      "\u001b[32m<U+221A>\u001b[39m \u001b[34mreadr  \u001b[39m 1.3.1     \u001b[32m<U+221A>\u001b[39m \u001b[34mforcats\u001b[39m 0.4.0\n",
      "\n",
      "-- \u001b[1mConflicts\u001b[22m ------------------------------------------ tidyverse_conflicts() --\n",
      "\u001b[31mx\u001b[39m \u001b[34mstringr\u001b[39m::\u001b[32mboundary()\u001b[39m masks \u001b[34mstrucchange\u001b[39m::boundary()\n",
      "\u001b[31mx\u001b[39m \u001b[34mdplyr\u001b[39m::\u001b[32mfilter()\u001b[39m     masks \u001b[34mstats\u001b[39m::filter()\n",
      "\u001b[31mx\u001b[39m \u001b[34mdplyr\u001b[39m::\u001b[32mlag()\u001b[39m        masks \u001b[34mstats\u001b[39m::lag()\n",
      "\u001b[31mx\u001b[39m \u001b[34mdplyr\u001b[39m::\u001b[32mselect()\u001b[39m     masks \u001b[34mMASS\u001b[39m::select()\n",
      "\n",
      "Loading required package: readxl\n",
      "\n",
      "All packages loaded successfully\n",
      "\n"
     ]
    }
   ],
   "source": [
    "library(easypackages)\n",
    "requirements = c('forecast', 'vars', 'tsDyn', 'tidyverse', 'readxl')\n",
    "\n",
    "libraries(requirements)"
   ]
  },
  {
   "cell_type": "code",
   "execution_count": 2,
   "metadata": {},
   "outputs": [],
   "source": [
    "months = c('ม.ค.', 'ก.พ.', 'มี.ค.', 'เม.ย.', 'พ.ค.', 'มิ.ย.', 'ก.ค.', 'ส.ค.', 'ก.ย.', 'ต.ค.', 'พ.ย.', 'ธ.ค.')\n",
    "\n",
    "read_farmgate <- function(filename){\n",
    "    path = paste0(\"../data/farmgate/\", filename)\n",
    "    data = data.frame()\n",
    "    for (i in 2532:2562){\n",
    "        dt <- \n",
    "            read_excel(path, skip=3, sheet=paste(i), na = c(\"-\",\"\")) %>%\n",
    "            gather(key='month', value='values', -1) %>%\n",
    "            filter(month %in% months) %>%\n",
    "            mutate(year = i) %>%\n",
    "            group_by(month) %>%\n",
    "            mutate(x = sum(values, na.rm=TRUE))\n",
    "        data = bind_rows(data, dt)\n",
    "    }\n",
    "    names(data)[1] <- 'province'\n",
    "    return(data)\n",
    "}"
   ]
  },
  {
   "cell_type": "code",
   "execution_count": 4,
   "metadata": {},
   "outputs": [
    {
     "ename": "ERROR",
     "evalue": "Error: `path` does not exist: '../data/farmgate/ข้าวหอมมะลิ.xlsx'\n",
     "output_type": "error",
     "traceback": [
      "Error: `path` does not exist: '../data/farmgate/ข้าวหอมมะลิ.xlsx'\nTraceback:\n",
      "1. read_farmgate(\"ข้าวหอมมะลิ.xlsx\")",
      "2. read_excel(path, skip = 3, sheet = paste(i), na = c(\"-\", \"\")) %>% \n .     gather(key = \"month\", value = \"values\", -1) %>% filter(month %in% \n .     months) %>% mutate(year = i) %>% group_by(month) %>% mutate(x = sum(values, \n .     na.rm = TRUE))   # at line 7-13 of file <text>",
      "3. eval(lhs, parent, parent)",
      "4. eval(lhs, parent, parent)",
      "5. read_excel(path, skip = 3, sheet = paste(i), na = c(\"-\", \"\"))",
      "6. check_file(path)",
      "7. stop(\"`path` does not exist: \", sQuote(path), call. = FALSE)"
     ]
    }
   ],
   "source": [
    "read_farmgate(\"ข้าวหอมมะลิ.xlsx\")"
   ]
  },
  {
   "cell_type": "code",
   "execution_count": null,
   "metadata": {},
   "outputs": [],
   "source": [
    "data %>%\n",
    "    filter(year==2562) %>%\n",
    "    group_by(province) %>%\n",
    "    summarise(price = mean(values, na.rm=TRUE))"
   ]
  },
  {
   "cell_type": "code",
   "execution_count": null,
   "metadata": {},
   "outputs": [],
   "source": []
  }
 ],
 "metadata": {
  "kernelspec": {
   "display_name": "R",
   "language": "R",
   "name": "ir"
  },
  "language_info": {
   "codemirror_mode": "r",
   "file_extension": ".r",
   "mimetype": "text/x-r-source",
   "name": "R",
   "pygments_lexer": "r",
   "version": "3.6.2"
  }
 },
 "nbformat": 4,
 "nbformat_minor": 4
}
