{
 "cells": [
  {
   "cell_type": "markdown",
   "id": "crucial-blind",
   "metadata": {},
   "source": [
    "# โหลด R packages"
   ]
  },
  {
   "cell_type": "code",
   "execution_count": 10,
   "id": "outdoor-clearing",
   "metadata": {},
   "outputs": [
    {
     "name": "stderr",
     "output_type": "stream",
     "text": [
      "Loading required package: pacman\n",
      "\n",
      "Installing package into 'C:/Users/Acer/Documents/R/win-library/4.0'\n",
      "(as 'lib' is unspecified)\n",
      "\n",
      "Warning message:\n",
      "\"unable to access index for repository http://www.stats.ox.ac.uk/pub/RWin/bin/windows/contrib/4.0:\n",
      "  cannot open URL 'http://www.stats.ox.ac.uk/pub/RWin/bin/windows/contrib/4.0/PACKAGES'\"\n"
     ]
    },
    {
     "name": "stdout",
     "output_type": "stream",
     "text": [
      "package 'uroot' successfully unpacked and MD5 sums checked\n",
      "\n",
      "The downloaded binary packages are in\n",
      "\tC:\\Users\\Acer\\AppData\\Local\\Temp\\Rtmpg7wzR7\\downloaded_packages\n"
     ]
    },
    {
     "name": "stderr",
     "output_type": "stream",
     "text": [
      "\n",
      "uroot installed\n",
      "\n",
      "Installing package into 'C:/Users/Acer/Documents/R/win-library/4.0'\n",
      "(as 'lib' is unspecified)\n",
      "\n",
      "also installing the dependencies 'minqa', 'nloptr', 'statmod', 'RcppEigen', 'carData', 'abind', 'pbkrtest', 'rio', 'lme4', 'car'\n",
      "\n",
      "\n",
      "Warning message:\n",
      "\"unable to access index for repository http://www.stats.ox.ac.uk/pub/RWin/bin/windows/contrib/4.0:\n",
      "  cannot open URL 'http://www.stats.ox.ac.uk/pub/RWin/bin/windows/contrib/4.0/PACKAGES'\"\n"
     ]
    },
    {
     "name": "stdout",
     "output_type": "stream",
     "text": [
      "package 'minqa' successfully unpacked and MD5 sums checked\n",
      "package 'nloptr' successfully unpacked and MD5 sums checked\n",
      "package 'statmod' successfully unpacked and MD5 sums checked\n",
      "package 'RcppEigen' successfully unpacked and MD5 sums checked\n",
      "package 'carData' successfully unpacked and MD5 sums checked\n",
      "package 'abind' successfully unpacked and MD5 sums checked\n",
      "package 'pbkrtest' successfully unpacked and MD5 sums checked\n",
      "package 'rio' successfully unpacked and MD5 sums checked\n",
      "package 'lme4' successfully unpacked and MD5 sums checked\n",
      "package 'car' successfully unpacked and MD5 sums checked\n",
      "package 'dynlm' successfully unpacked and MD5 sums checked\n",
      "\n",
      "The downloaded binary packages are in\n",
      "\tC:\\Users\\Acer\\AppData\\Local\\Temp\\Rtmpg7wzR7\\downloaded_packages\n"
     ]
    },
    {
     "name": "stderr",
     "output_type": "stream",
     "text": [
      "\n",
      "dynlm installed\n",
      "\n",
      "Installing package into 'C:/Users/Acer/Documents/R/win-library/4.0'\n",
      "(as 'lib' is unspecified)\n",
      "\n",
      "Warning message:\n",
      "\"unable to access index for repository http://www.stats.ox.ac.uk/pub/RWin/bin/windows/contrib/4.0:\n",
      "  cannot open URL 'http://www.stats.ox.ac.uk/pub/RWin/bin/windows/contrib/4.0/PACKAGES'\"\n"
     ]
    },
    {
     "name": "stdout",
     "output_type": "stream",
     "text": [
      "package 'kableExtra' successfully unpacked and MD5 sums checked\n",
      "\n",
      "The downloaded binary packages are in\n",
      "\tC:\\Users\\Acer\\AppData\\Local\\Temp\\Rtmpg7wzR7\\downloaded_packages\n"
     ]
    },
    {
     "name": "stderr",
     "output_type": "stream",
     "text": [
      "\n",
      "kableExtra installed\n",
      "\n",
      "Installing package into 'C:/Users/Acer/Documents/R/win-library/4.0'\n",
      "(as 'lib' is unspecified)\n",
      "\n",
      "also installing the dependency 'sass'\n",
      "\n",
      "\n",
      "Warning message:\n",
      "\"unable to access index for repository http://www.stats.ox.ac.uk/pub/RWin/bin/windows/contrib/4.0:\n",
      "  cannot open URL 'http://www.stats.ox.ac.uk/pub/RWin/bin/windows/contrib/4.0/PACKAGES'\"\n"
     ]
    },
    {
     "name": "stdout",
     "output_type": "stream",
     "text": [
      "package 'sass' successfully unpacked and MD5 sums checked\n",
      "package 'gt' successfully unpacked and MD5 sums checked\n",
      "\n",
      "The downloaded binary packages are in\n",
      "\tC:\\Users\\Acer\\AppData\\Local\\Temp\\Rtmpg7wzR7\\downloaded_packages\n"
     ]
    },
    {
     "name": "stderr",
     "output_type": "stream",
     "text": [
      "\n",
      "gt installed\n",
      "\n",
      "Installing package into 'C:/Users/Acer/Documents/R/win-library/4.0'\n",
      "(as 'lib' is unspecified)\n",
      "\n",
      "Warning message:\n",
      "\"unable to access index for repository http://www.stats.ox.ac.uk/pub/RWin/bin/windows/contrib/4.0:\n",
      "  cannot open URL 'http://www.stats.ox.ac.uk/pub/RWin/bin/windows/contrib/4.0/PACKAGES'\"\n"
     ]
    },
    {
     "name": "stdout",
     "output_type": "stream",
     "text": [
      "package 'xlsx' successfully unpacked and MD5 sums checked\n",
      "\n",
      "The downloaded binary packages are in\n",
      "\tC:\\Users\\Acer\\AppData\\Local\\Temp\\Rtmpg7wzR7\\downloaded_packages\n"
     ]
    },
    {
     "name": "stderr",
     "output_type": "stream",
     "text": [
      "\n",
      "xlsx installed\n",
      "\n",
      "Warning message in pacman::p_load(pkgs, character.only = TRUE):\n",
      "\"Failed to install/load:\n",
      "xlsx\"\n"
     ]
    }
   ],
   "source": [
    "setwd(here::here())\n",
    "source(\"R/oaeTS.R\", encoding = \"UTF-8\")\n",
    "year_now = 2563"
   ]
  },
  {
   "cell_type": "markdown",
   "id": "polyphonic-bedroom",
   "metadata": {},
   "source": [
    "# แปลงข้อมูลราคาเป็น long format"
   ]
  },
  {
   "cell_type": "markdown",
   "id": "continental-adelaide",
   "metadata": {},
   "source": [
    "## ราคาเกษตรกร (Farmgate price)\n",
    "รวมไฟล์ราคา แล้ว save เป็น RDS"
   ]
  },
  {
   "cell_type": "code",
   "execution_count": null,
   "id": "excellent-property",
   "metadata": {},
   "outputs": [],
   "source": [
    "root = \"../data/rice/farmgate/\"\n",
    "\n",
    "rhfg = read_price_rice_fg(root, \"rhfg.xlsx\") %>% mutate(price_id = 'RHFG')\n",
    "rwfg = read_price_rice_fg(root, \"rwfg.xlsx\") %>% mutate(price_id = 'RWFG')\n",
    "rgfg = read_price_rice_fg(root, \"rgfg.xlsx\") %>% mutate(price_id = 'RGFG')\n",
    "\n",
    "rice_fg = rbind(rhfg, rwfg, rgfg) %>%\n",
    "  select(date, price_id, place, amount) %>%\n",
    "  filter(date < '2020-04-01')\n",
    "\n",
    "saveRDS(rice_fg, '../data/rice/rice_fg.rds')\n",
    "rice_fg"
   ]
  },
  {
   "cell_type": "markdown",
   "id": "interpreted-invention",
   "metadata": {},
   "source": [
    "## ราคาขายส่ง (Wholesale price)\n",
    "รวมไฟล์ราคา แล้ว save เป็น RDS"
   ]
  },
  {
   "cell_type": "code",
   "execution_count": null,
   "id": "growing-trunk",
   "metadata": {},
   "outputs": [],
   "source": [
    "rice_ws = data.frame()\n",
    "for (i in 2545:year_now) {\n",
    "    df = read_price_rice_ws(i)\n",
    "    rice_ws = rbind(rice_ws, df)\n",
    "}\n",
    "\n",
    "saveRDS(rice_ws, '../data/rice/rice_ws.rds')\n",
    "rice_ws"
   ]
  },
  {
   "cell_type": "markdown",
   "id": "friendly-tamil",
   "metadata": {},
   "source": [
    "## ราคาส่งออก (Export price)\n",
    "รวมไฟล์ราคา แล้ว save เป็น RDS"
   ]
  },
  {
   "cell_type": "code",
   "execution_count": null,
   "id": "nutritional-fantasy",
   "metadata": {},
   "outputs": [],
   "source": [
    "rice_ex_th = data.frame()\n",
    "for (i in 2546:year_now){\n",
    "    df = suppressWarnings(read_price_rice_ex(i))\n",
    "    rice_ex_th = rbind(rice_ex_th, df)\n",
    "}\n",
    "\n",
    "saveRDS(rice_ex_th, '../data/rice/rice_ex_th.rds')\n",
    "rice_ex_th"
   ]
  },
  {
   "cell_type": "markdown",
   "id": "comparable-onion",
   "metadata": {},
   "source": [
    "## รวม ราคา 3 ตลาด"
   ]
  },
  {
   "cell_type": "code",
   "execution_count": null,
   "id": "removed-patio",
   "metadata": {},
   "outputs": [],
   "source": [
    "rice_price = rbind(rice_fg, rice_ws, rice_ex_th)\n",
    "saveRDS(rice_price, '../data/rice/rice_price.rds')"
   ]
  },
  {
   "cell_type": "code",
   "execution_count": null,
   "id": "numerical-assets",
   "metadata": {},
   "outputs": [],
   "source": [
    "rice_price = readRDS('../data/rice/rice_price.rds')\n",
    "rice_price"
   ]
  },
  {
   "cell_type": "markdown",
   "id": "improving-raise",
   "metadata": {},
   "source": [
    "# แปลงข้อมูลราคาเป็น wide format"
   ]
  },
  {
   "cell_type": "markdown",
   "id": "enclosed-compilation",
   "metadata": {},
   "source": [
    "## โหลด metadata"
   ]
  },
  {
   "cell_type": "code",
   "execution_count": null,
   "id": "legendary-protest",
   "metadata": {},
   "outputs": [],
   "source": [
    "tbl_admin_tha1 = read_excel(\"../data/tbl_admin_tha1.xlsx\")\n",
    "tbl_admin_tha1"
   ]
  },
  {
   "cell_type": "markdown",
   "id": "nonprofit-tamil",
   "metadata": {},
   "source": [
    "## ราคาเกษตรกร"
   ]
  },
  {
   "cell_type": "code",
   "execution_count": null,
   "id": "supposed-regard",
   "metadata": {},
   "outputs": [],
   "source": [
    "prices = c(\"RGFG_0\", #\"RGFG_1\", \"RGFG_2\", \"RGFG_3\",\n",
    "           \"RGFG_KK\", \"RGFG_SN\", \"RGFG_UN\", \"RGFG_KL\", \"RGFG_MS\",\n",
    "           \"RHFG_0\", #\"RHFG_1\", \"RHFG_2\", \"RHFG_3\", \n",
    "           \"RHFG_SU\", \"RHFG_NR\", \"RHFG_UR\", \"RHFG_SI\", \"RHFG_BR\",\n",
    "           \"RWFG_0\", #\"RWFG_1\", \"RWFG_2\", \"RWFG_3\", \n",
    "           \"RWFG_NS\", \"RWFG_PC\", \"RWFG_KP\", \"RWFG_SH\", \"RWFG_PS\"\n",
    "          )\n",
    "\n",
    "rice_fg_wide = rice_price %>%\n",
    "  filter(endsWith(price_id, \"FG\")) %>%\n",
    "  mutate(HASC_1 = sapply(place,\n",
    "                         lookup,\n",
    "                         tbl_admin_tha1, \n",
    "                         key = 'name_th1', \n",
    "                         alt = 'name_alt',\n",
    "                         val = 'HASC_1',\n",
    "                         simplify = TRUE)\n",
    "        ) %>%\n",
    "  left_join(tbl_admin_tha1, by=c('HASC_1')) %>%\n",
    "  mutate(place_id = str_replace_all(HASC_1, \"TH.\", \"\")) %>%\n",
    "  mutate(price_id = paste(price_id, place_id, sep=\"_\")) %>%\n",
    "  mutate(date = floor_date(date, \"month\")) %>%\n",
    "  filter(price_id %in% prices) %>%\n",
    "  pivot_wider(id_cols = date,\n",
    "              names_from = price_id,\n",
    "              values_from = amount,\n",
    "              values_fn = list(amount = mean)\n",
    "             )\n",
    "\n",
    "rice_fg_wide"
   ]
  },
  {
   "cell_type": "markdown",
   "id": "after-tennis",
   "metadata": {},
   "source": [
    "## ราคาขายส่ง ราคาส่งออก"
   ]
  },
  {
   "cell_type": "code",
   "execution_count": null,
   "id": "international-reduction",
   "metadata": {},
   "outputs": [],
   "source": [
    "prices = c(\"RHWS00BO\", \"RHWS00BN\", # hommali rice wholesale\n",
    "           \"RHXB00BO\", \"RHXB00BN\", # hommali rice export\n",
    "           \"RWWS05GO\", \"RWWS05GN\", # white rice wholesale \n",
    "           \"RWXB05GU\", # white rice export \n",
    "           \"RGWS10LO\", \"RGWS10LN\", # glutinous wholesale\n",
    "           \"RGXB10GF\", \"RGXB10GS\", \"RGXB10GU\", \"RGXB10LU\" # glutinous export\n",
    "          )\n",
    "\n",
    "rice_price_wide = rice_price %>%\n",
    "  select(-place) %>%\n",
    "  filter(price_id %in% prices) %>%\n",
    "  filter(!is.na(date)) %>% # there are some missing date due to week\n",
    "  mutate(date = floor_date(date, \"month\")) %>%\n",
    "  mutate(price_id = substr(price_id, start = 1, stop = 4)) %>%\n",
    "  pivot_wider(id_cols = date,\n",
    "              names_from = price_id,\n",
    "              values_from = amount,\n",
    "              values_fn = list(amount = mean)\n",
    "             )\n",
    "\n",
    "rice_price_wide = rice_fg_wide %>% left_join(rice_price_wide, by=\"date\")\n",
    "rice_price_wide"
   ]
  },
  {
   "cell_type": "markdown",
   "id": "opening-swaziland",
   "metadata": {},
   "source": [
    "# เพิ่ม dummy variables"
   ]
  },
  {
   "cell_type": "code",
   "execution_count": null,
   "id": "governing-xerox",
   "metadata": {},
   "outputs": [],
   "source": [
    "# dummy years ช่วงวิกฤตอาหารครั้งที่ 1\n",
    "start_foodcrisis = as.Date('2008/1/1')\n",
    "end_foodcrisis = as.Date('2008/6/1')\n",
    "\n",
    "# dummy years ช่วงนโยบายจำนำข้าวทุกเมล็ดของ นายก ยิ่งลักษณ์\n",
    "start_pledge = as.Date('2011/10/1')\n",
    "end_pledge = as.Date('2014/02/1')"
   ]
  },
  {
   "cell_type": "code",
   "execution_count": null,
   "id": "national-haiti",
   "metadata": {},
   "outputs": [],
   "source": [
    "rice_price_wide = rice_price_wide %>%\n",
    "  mutate(d_foodcrisis = ifelse(date >= start_foodcrisis & \n",
    "                               date <= end_foodcrisis, 1, 0)) %>%\n",
    "  mutate(d_pledge = ifelse(date >= start_pledge & \n",
    "                               date <= end_pledge, 1, 0))\n",
    "\n",
    "saveRDS(rice_price_wide, '../data/rice/rice_price_tidy.rds')\n",
    "rice_price_wide"
   ]
  },
  {
   "cell_type": "markdown",
   "id": "numerous-component",
   "metadata": {},
   "source": [
    "# จัดการ missing values"
   ]
  },
  {
   "cell_type": "code",
   "execution_count": null,
   "id": "demanding-discharge",
   "metadata": {},
   "outputs": [],
   "source": [
    "price = readRDS('../data/rice/rice_price_tidy.rds')\n",
    "price_ts = price %>% select(-date) %>% ts(start = 1989, freq = 12)\n",
    "price_xts = column_to_rownames(price, var = \"date\") %>% as.xts()\n",
    "# price_fg = rice_fg_wide %>% \n",
    "#   column_to_rownames(var = \"date\") %>% as.xts()"
   ]
  },
  {
   "cell_type": "code",
   "execution_count": null,
   "id": "fitting-excerpt",
   "metadata": {},
   "outputs": [],
   "source": [
    "sapply(price_ts, function(x) sum(!is.na(x)))"
   ]
  },
  {
   "cell_type": "markdown",
   "id": "electric-southeast",
   "metadata": {},
   "source": [
    "## ข้าวหอมมะลิ\n",
    "ข้าวหอมมะลิ อุบล เริ่มตั้งแต่ปี มค 1997"
   ]
  },
  {
   "cell_type": "code",
   "execution_count": null,
   "id": "american-soldier",
   "metadata": {},
   "outputs": [],
   "source": [
    "cols = colnames(price_ts)[startsWith(colnames(price_ts), 'RH')]\n",
    "p_rice = price_ts[, cols]\n",
    "set_figsize(12, 8)\n",
    "par(mfrow=c(4, 1))\n",
    "for (i in 1:ncol(p_rice)) {\n",
    "  plotNA.distribution(p_rice[,i], main=colnames(p_rice)[i])\n",
    "}"
   ]
  },
  {
   "cell_type": "markdown",
   "id": "overall-density",
   "metadata": {},
   "source": [
    "## ข้าวเจ้าอื่น\n",
    "2. ข้าวเจ้าขาว ราคารายจังหวัดเริ่มตั้งแต่ปี ธค 2006\n",
    "3. ข้าวเเหนียว กาฬสินธุ์เริ่มตั้งแต่ปี มค 1997"
   ]
  },
  {
   "cell_type": "code",
   "execution_count": null,
   "id": "animal-courage",
   "metadata": {},
   "outputs": [],
   "source": [
    "cols = names(price_xts)[startsWith(names(price_xts), 'RW')]\n",
    "p_rice = price_xts[, cols]\n",
    "set_figsize(12, 8)\n",
    "par(mfrow=c(4, 1))\n",
    "for (i in 1:ncol(p_rice)) {\n",
    "  plotNA.distribution(p_rice[,i], main=names(p_rice)[i])\n",
    "}"
   ]
  },
  {
   "cell_type": "markdown",
   "id": "traditional-simon",
   "metadata": {},
   "source": [
    "## ข้าวเหนียว"
   ]
  },
  {
   "cell_type": "code",
   "execution_count": null,
   "id": "charming-butterfly",
   "metadata": {},
   "outputs": [],
   "source": [
    "cols = names(price_xts)[startsWith(names(price_xts), 'RG')]\n",
    "p_rice = price_xts[, cols]\n",
    "set_figsize(12, 8)\n",
    "par(mfrow=c(4, 1))\n",
    "for (i in 1:ncol(p_rice)) {\n",
    "  plotNA.distribution(p_rice[,i], main=names(p_rice)[i])\n",
    "}"
   ]
  },
  {
   "cell_type": "code",
   "execution_count": null,
   "id": "dimensional-prototype",
   "metadata": {},
   "outputs": [],
   "source": [
    "price_ts_filled = na_kalman(price_ts, model = \"auto.arima\", maxgap = 12)\n",
    "saveRDS(price_ts_filled, '../data/rice/rice_price_filled.rds')\n",
    "tail(price_ts_filled)"
   ]
  },
  {
   "cell_type": "markdown",
   "id": "institutional-nylon",
   "metadata": {},
   "source": [
    "# กราฟ"
   ]
  },
  {
   "cell_type": "code",
   "execution_count": null,
   "id": "unnecessary-representative",
   "metadata": {},
   "outputs": [],
   "source": [
    "data = rice_price %>%\n",
    "    filter(year(date)>2002) %>%\n",
    "    filter((place=='เฉลี่ยทั้งประเทศ' & price_id=='RHFG') |\n",
    "           price_id=='RHWS00BO' | price_id=='RHXB00BO'\n",
    "          )\n",
    "\n",
    "g = ggplot(data, aes(date, amount, colour=price_id)) +\n",
    "    geom_line() + xlab(\"\") + ylab(\"price\") +\n",
    "    scale_color_tableau() + \n",
    "    theme_light()\n",
    "ggplotly(g)"
   ]
  },
  {
   "cell_type": "markdown",
   "id": "therapeutic-brain",
   "metadata": {},
   "source": [
    "# Backup"
   ]
  },
  {
   "cell_type": "code",
   "execution_count": null,
   "id": "temporal-stock",
   "metadata": {},
   "outputs": [],
   "source": [
    "# rice_fg_wide = rice_price %>%\n",
    "#   filter(grepl('FG', price_id)) %>%\n",
    "#   filter(!is.na(amount)) %>%\n",
    "#   filter(!is.na(date)) %>%\n",
    "#   left_join(tbl_admin_tha1, by=c(\"place\" = \"name_oae1\")) %>%\n",
    "#   mutate(place_id = str_replace_all(HASC_1, \"TH.\", \"\")) %>%\n",
    "#   mutate(new_price_id=paste(price_id, place_id, sep=\"_\")) %>%\n",
    "#   mutate(month = floor_date(date, \"month\")) %>%\n",
    "#   filter(new_price_id %in% prices) %>%\n",
    "#   select(month, place, new_price_id, amount) %>%\n",
    "#   group_by(month, new_price_id) %>%\n",
    "#   summarise(amount = mean(amount)) %>%\n",
    "#   spread(new_price_id, amount)\n",
    "\n",
    "# write.xlsx(rice_price_wide, '../data/rice/rice_price_wide.xlsx')"
   ]
  },
  {
   "cell_type": "code",
   "execution_count": null,
   "id": "preceding-channel",
   "metadata": {},
   "outputs": [],
   "source": [
    "# prices = c(\"RHWS00BO\", \"RHWS00BN\", # hommali rice wholesale\n",
    "#            \"RHXB00BO\", \"RHXB00BN\", # hommali rice export\n",
    "#            \"RWWS05GO\", \"RWWS05GN\", # white rice wholesale \n",
    "#            \"RWXB05GU\", # white rice export \n",
    "#            \"RGWS10LO\", \"RGWS10LN\", # glutinous wholesale\n",
    "#            \"RGXB10GF\", \"RGXB10GS\", \"RGXB10GU\", \"RGXB10LU\" # glutinous export\n",
    "#           )\n",
    "\n",
    "# rice_price_wide = rice_price %>%\n",
    "#     select(-place) %>%\n",
    "#     filter(price_id %in% prices) %>%\n",
    "#     filter(!is.na(date)) %>%\n",
    "#     mutate(month = floor_date(date, \"month\")) %>%\n",
    "#     mutate(new_price_id = substr(price_id,start = 1, stop = 4)) %>%\n",
    "#     group_by(month, new_price_id) %>%\n",
    "#     summarise(amount = mean(amount)) %>%\n",
    "#     spread(new_price_id, amount) %>%\n",
    "#     right_join(rice_fg_wide, by=\"month\")"
   ]
  },
  {
   "cell_type": "code",
   "execution_count": null,
   "id": "precious-ideal",
   "metadata": {},
   "outputs": [],
   "source": [
    "check <- rice_price %>%\n",
    "    filter(grepl('FG', price_id)) %>%\n",
    "    mutate(count = !is.na(amount)) %>%\n",
    "    group_by(place, price_id) %>%\n",
    "    summarise(sum = sum(count)) %>%\n",
    "    spread(price_id, sum)\n",
    "\n",
    "write.xlsx(check, '../data/rice/check.xlsx')"
   ]
  },
  {
   "cell_type": "markdown",
   "id": "together-elizabeth",
   "metadata": {},
   "source": [
    "# สร้างตารางอธิบายชื่อ ข้อมูลราคา (`tbl_rice_price`)"
   ]
  },
  {
   "cell_type": "code",
   "execution_count": null,
   "id": "gorgeous-viking",
   "metadata": {},
   "outputs": [],
   "source": [
    "# library(rio)\n",
    "# data_list <- import_list(\"../data/data_dict.xlsx\")\n",
    "\n",
    "# A <- data_list$aa['aa']\n",
    "# B <- data_list$bb['bb']\n",
    "# C <- data_list$cc['cc']\n",
    "# D <- data_list$d['d']\n",
    "# E <- data_list$e['e']\n",
    "\n",
    "# price_id_names <- unique(rice_price$price_id)\n",
    "\n",
    "# tbl_rice_price <- crossing(A,B,C,D,E) %>% \n",
    "#     mutate(price_id = pmap_chr(., paste, sep=\"\")) %>%\n",
    "#     mutate(price_id = str_replace_all(price_id, \"Z\", \"\")) %>%\n",
    "#     filter(price_id %in% price_id_names)\n",
    "\n",
    "# tbl_rice_price <- tbl_price_rice %>%\n",
    "#     left_join(data_list$aa) %>%\n",
    "#     left_join(data_list$bb) %>%\n",
    "#     left_join(data_list$cc) %>%\n",
    "#     left_join(data_list$d) %>%\n",
    "#     left_join(data_list$e) %>%\n",
    "#     unite(price_name, c(aa_name, bb_name, cc_name, d_name, e_name), sep = \" \", remove = FALSE) %>%\n",
    "#     unite(price_name_th, c(aa_name_th, bb_name_th, cc_name_th, d_name_th, e_name_th), sep = \" \", remove = FALSE) %>%\n",
    "#     mutate(price_name = str_replace_all(price_name, \"NA\", \"\")) %>% \n",
    "#     mutate(price_name_th = str_replace_all(price_name_th, \"NA\", \"\"))\n",
    "\n",
    "# write.xlsx(tbl_rice_price, '../data/rice/tbl_rice_price.xlsx')"
   ]
  },
  {
   "cell_type": "code",
   "execution_count": null,
   "id": "median-crown",
   "metadata": {},
   "outputs": [],
   "source": [
    "# count_by_price_id <- rice_price %>%\n",
    "#     group_by(price_id) %>%\n",
    "#     summarize(sum(!is.na(amount))) %>%\n",
    "#     left_join(tbl_rice_price)\n",
    "# write.xlsx(count_by_price_id, '../data/rice/count_by_price_id.xlsx')"
   ]
  },
  {
   "cell_type": "code",
   "execution_count": null,
   "id": "induced-richmond",
   "metadata": {},
   "outputs": [],
   "source": [
    "# write.xlsx(unique(rice_fg$place), 'changwat.xlsx')"
   ]
  }
 ],
 "metadata": {
  "jupytext": {
   "formats": "Rmd,ipynb",
   "text_representation": {
    "extension": ".Rmd",
    "format_name": "rmarkdown",
    "format_version": "1.2",
    "jupytext_version": "1.4.1"
   }
  },
  "kernelspec": {
   "display_name": "R",
   "language": "R",
   "name": "ir"
  },
  "language_info": {
   "codemirror_mode": "r",
   "file_extension": ".r",
   "mimetype": "text/x-r-source",
   "name": "R",
   "pygments_lexer": "r",
   "version": "4.0.3"
  }
 },
 "nbformat": 4,
 "nbformat_minor": 5
}
