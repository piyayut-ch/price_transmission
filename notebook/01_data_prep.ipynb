{
 "cells": [
  {
   "cell_type": "markdown",
   "id": "built-destiny",
   "metadata": {},
   "source": [
    "# Set up"
   ]
  },
  {
   "cell_type": "code",
   "execution_count": 1,
   "id": "choice-burst",
   "metadata": {},
   "outputs": [
    {
     "name": "stderr",
     "output_type": "stream",
     "text": [
      "Loading required package: xfun\n",
      "\n",
      "\n",
      "Attaching package: 'xfun'\n",
      "\n",
      "\n",
      "The following objects are masked from 'package:base':\n",
      "\n",
      "    attr, isFALSE\n",
      "\n",
      "\n",
      "Loading required package: MASS\n",
      "\n",
      "Loading required package: strucchange\n",
      "\n",
      "Loading required package: zoo\n",
      "\n",
      "\n",
      "Attaching package: 'zoo'\n",
      "\n",
      "\n",
      "The following objects are masked from 'package:base':\n",
      "\n",
      "    as.Date, as.Date.numeric\n",
      "\n",
      "\n",
      "Loading required package: sandwich\n",
      "\n",
      "Loading required package: lmtest\n",
      "\n",
      "\n",
      "Attaching package: 'lubridate'\n",
      "\n",
      "\n",
      "The following objects are masked from 'package:base':\n",
      "\n",
      "    date, intersect, setdiff, union\n",
      "\n",
      "\n",
      "\n",
      "Attaching package: 'tsibble'\n",
      "\n",
      "\n",
      "The following object is masked from 'package:lubridate':\n",
      "\n",
      "    interval\n",
      "\n",
      "\n",
      "The following object is masked from 'package:zoo':\n",
      "\n",
      "    index\n",
      "\n",
      "\n",
      "The following objects are masked from 'package:base':\n",
      "\n",
      "    intersect, setdiff, union\n",
      "\n",
      "\n",
      "-- \u001b[1mAttaching packages\u001b[22m ------------------------------------------------------------------------------- tidyverse 1.3.0 --\n",
      "\n",
      "\u001b[32m<U+221A>\u001b[39m \u001b[34mggplot2\u001b[39m 3.3.3     \u001b[32m<U+221A>\u001b[39m \u001b[34mpurrr  \u001b[39m 0.3.4\n",
      "\u001b[32m<U+221A>\u001b[39m \u001b[34mtibble \u001b[39m 3.1.0     \u001b[32m<U+221A>\u001b[39m \u001b[34mdplyr  \u001b[39m 1.0.5\n",
      "\u001b[32m<U+221A>\u001b[39m \u001b[34mtidyr  \u001b[39m 1.1.3     \u001b[32m<U+221A>\u001b[39m \u001b[34mstringr\u001b[39m 1.4.0\n",
      "\u001b[32m<U+221A>\u001b[39m \u001b[34mreadr  \u001b[39m 1.4.0     \u001b[32m<U+221A>\u001b[39m \u001b[34mforcats\u001b[39m 0.5.1\n",
      "\n",
      "-- \u001b[1mConflicts\u001b[22m ---------------------------------------------------------------------------------- tidyverse_conflicts() --\n",
      "\u001b[31mx\u001b[39m \u001b[34mlubridate\u001b[39m::\u001b[32mas.difftime()\u001b[39m masks \u001b[34mbase\u001b[39m::as.difftime()\n",
      "\u001b[31mx\u001b[39m \u001b[34mstringr\u001b[39m::\u001b[32mboundary()\u001b[39m      masks \u001b[34mstrucchange\u001b[39m::boundary()\n",
      "\u001b[31mx\u001b[39m \u001b[34mlubridate\u001b[39m::\u001b[32mdate()\u001b[39m        masks \u001b[34mbase\u001b[39m::date()\n",
      "\u001b[31mx\u001b[39m \u001b[34mdplyr\u001b[39m::\u001b[32mfilter()\u001b[39m          masks \u001b[34mstats\u001b[39m::filter()\n",
      "\u001b[31mx\u001b[39m \u001b[34mdplyr\u001b[39m::\u001b[32mfirst()\u001b[39m           masks \u001b[34mxts\u001b[39m::first()\n",
      "\u001b[31mx\u001b[39m \u001b[34mtsibble\u001b[39m::\u001b[32mintersect()\u001b[39m     masks \u001b[34mlubridate\u001b[39m::intersect(), \u001b[34mbase\u001b[39m::intersect()\n",
      "\u001b[31mx\u001b[39m \u001b[34mtsibble\u001b[39m::\u001b[32minterval()\u001b[39m      masks \u001b[34mlubridate\u001b[39m::interval()\n",
      "\u001b[31mx\u001b[39m \u001b[34mdplyr\u001b[39m::\u001b[32mlag()\u001b[39m             masks \u001b[34mstats\u001b[39m::lag()\n",
      "\u001b[31mx\u001b[39m \u001b[34mdplyr\u001b[39m::\u001b[32mlast()\u001b[39m            masks \u001b[34mxts\u001b[39m::last()\n",
      "\u001b[31mx\u001b[39m \u001b[34mdplyr\u001b[39m::\u001b[32mselect()\u001b[39m          masks \u001b[34mMASS\u001b[39m::select()\n",
      "\u001b[31mx\u001b[39m \u001b[34mtsibble\u001b[39m::\u001b[32msetdiff()\u001b[39m       masks \u001b[34mlubridate\u001b[39m::setdiff(), \u001b[34mbase\u001b[39m::setdiff()\n",
      "\u001b[31mx\u001b[39m \u001b[34mtsibble\u001b[39m::\u001b[32munion()\u001b[39m         masks \u001b[34mlubridate\u001b[39m::union(), \u001b[34mbase\u001b[39m::union()\n",
      "\n",
      "here() starts at C:/Users/Acer/Documents/GitHub/price_transmission\n",
      "\n",
      "\n",
      "Attaching package: 'janitor'\n",
      "\n",
      "\n",
      "The following objects are masked from 'package:stats':\n",
      "\n",
      "    chisq.test, fisher.test\n",
      "\n",
      "\n",
      "Registering fonts with R\n",
      "\n",
      "\n",
      "Attaching package: 'patchwork'\n",
      "\n",
      "\n",
      "The following object is masked from 'package:MASS':\n",
      "\n",
      "    area\n",
      "\n",
      "\n",
      "\n",
      "Attaching package: 'scales'\n",
      "\n",
      "\n",
      "The following object is masked from 'package:vroom':\n",
      "\n",
      "    col_factor\n",
      "\n",
      "\n",
      "The following object is masked from 'package:purrr':\n",
      "\n",
      "    discard\n",
      "\n",
      "\n",
      "The following object is masked from 'package:readr':\n",
      "\n",
      "    col_factor\n",
      "\n",
      "\n",
      "\n",
      "Attaching package: 'kableExtra'\n",
      "\n",
      "\n",
      "The following object is masked from 'package:dplyr':\n",
      "\n",
      "    group_rows\n",
      "\n",
      "\n",
      "\n",
      "Attaching package: 'reshape2'\n",
      "\n",
      "\n",
      "The following object is masked from 'package:tidyr':\n",
      "\n",
      "    smiths\n",
      "\n",
      "\n"
     ]
    }
   ],
   "source": [
    "if (!require(\"xfun\")) install.packages(\"xfun\")\n",
    "\n",
    "pkgs <- c(\n",
    "  'urca', 'uroot', 'vars', 'forecast', 'dynlm', 'tsDyn',\n",
    "  'lubridate', 'tsbox', 'timetk', 'xts', 'tsibble',\n",
    "  'tidyverse', 'readr', 'vroom', 'readxl', 'writexl', \n",
    "  'rlist', 'here', 'forcats', \"janitor\",\n",
    "  'extrafont', 'patchwork', 'hrbrthemes', 'ggthemes', 'ggsci', 'scales',\n",
    "  'kableExtra', 'gt', 'reshape2'\n",
    ")\n",
    "xfun::pkg_attach2(pkgs, message = TRUE)\n",
    "\n",
    "loadfonts(device = \"win\", quiet = TRUE)\n",
    "setwd(here())"
   ]
  },
  {
   "cell_type": "code",
   "execution_count": 2,
   "id": "refined-biology",
   "metadata": {},
   "outputs": [],
   "source": [
    "# source(\"R/oaeTS.R\", encoding = \"UTF-8\")\n",
    "# year_now <- 2563"
   ]
  },
  {
   "cell_type": "markdown",
   "id": "successful-amber",
   "metadata": {},
   "source": [
    "# Read data and Convert to long format"
   ]
  },
  {
   "cell_type": "code",
   "execution_count": 3,
   "id": "matched-blues",
   "metadata": {},
   "outputs": [],
   "source": [
    "months_th <- c(\n",
    "  'ม.ค.' = 1, \n",
    "  'ก.พ.' = 2, \n",
    "  'มี.ค.' = 3, \n",
    "  'เม.ย.'= 4, \n",
    "  'พ.ค.' = 5, \n",
    "  'มิ.ย.' = 6,\n",
    "  'ก.ค.' = 7, \n",
    "  'ส.ค.' = 8, \n",
    "  'ก.ย.' = 9, \n",
    "  'ต.ค.' = 10, \n",
    "  'พ.ย.' = 11, \n",
    "  'ธ.ค.' = 12\n",
    ")"
   ]
  },
  {
   "cell_type": "markdown",
   "id": "caroline-bridges",
   "metadata": {},
   "source": [
    "## Farmgate price\n",
    "รวมไฟล์ราคา แล้ว save เป็น RDS"
   ]
  },
  {
   "cell_type": "code",
   "execution_count": 4,
   "id": "protecting-poultry",
   "metadata": {},
   "outputs": [],
   "source": [
    "read_price_rice_fg <- function(root, filename) {\n",
    "  \n",
    "  path = paste0(root, filename)\n",
    "  sheets = excel_sheets(path)\n",
    "  data = data.frame()\n",
    "\n",
    "  for (i in sheets){\n",
    "    dt =\n",
    "      read_excel(path, skip=3, sheet=paste(i), na = c(\"-\",\"\",0)) %>%\n",
    "      pivot_longer(-1, names_to='month_th', values_to='value') %>%\n",
    "      filter(month_th %in% names(months_th)) %>%\n",
    "      mutate(year = as.numeric(i) - 543) %>%\n",
    "      mutate(month = months_th[month_th]) %>%\n",
    "      mutate(date = as.Date(paste(\"1\", \n",
    "                                  as.character(month), \n",
    "                                  as.character(year), \n",
    "                                  sep=\"/\"),\n",
    "                            format='%d/%m/%Y')\n",
    "            )\n",
    "      data = rbind(data, dt)\n",
    "  }\n",
    "  \n",
    "  names(data)[1] = 'place'\n",
    "  \n",
    "  return(data)\n",
    "}"
   ]
  },
  {
   "cell_type": "code",
   "execution_count": 5,
   "id": "chemical-exposure",
   "metadata": {},
   "outputs": [
    {
     "data": {
      "text/html": [
       "<table class=\"dataframe\">\n",
       "<caption>A tibble: 30048 × 4</caption>\n",
       "<thead>\n",
       "\t<tr><th scope=col>date</th><th scope=col>price_id</th><th scope=col>place</th><th scope=col>value</th></tr>\n",
       "\t<tr><th scope=col>&lt;date&gt;</th><th scope=col>&lt;chr&gt;</th><th scope=col>&lt;chr&gt;</th><th scope=col>&lt;dbl&gt;</th></tr>\n",
       "</thead>\n",
       "<tbody>\n",
       "\t<tr><td>1989-01-01</td><td>RHFG</td><td>เฉลี่ยทั้งประเทศ</td><td>4237</td></tr>\n",
       "\t<tr><td>1989-02-01</td><td>RHFG</td><td>เฉลี่ยทั้งประเทศ</td><td>4331</td></tr>\n",
       "\t<tr><td>1989-03-01</td><td>RHFG</td><td>เฉลี่ยทั้งประเทศ</td><td>4420</td></tr>\n",
       "\t<tr><td>1989-04-01</td><td>RHFG</td><td>เฉลี่ยทั้งประเทศ</td><td>4506</td></tr>\n",
       "\t<tr><td>1989-05-01</td><td>RHFG</td><td>เฉลี่ยทั้งประเทศ</td><td>4620</td></tr>\n",
       "\t<tr><td>...</td><td>...</td><td>...</td><td>...</td></tr>\n",
       "\t<tr><td>2019-08-01</td><td>RGFG</td><td>นครราชสีมา</td><td>12793</td></tr>\n",
       "\t<tr><td>2019-09-01</td><td>RGFG</td><td>นครราชสีมา</td><td>15475</td></tr>\n",
       "\t<tr><td>2019-10-01</td><td>RGFG</td><td>นครราชสีมา</td><td>14525</td></tr>\n",
       "\t<tr><td>2019-11-01</td><td>RGFG</td><td>นครราชสีมา</td><td>12084</td></tr>\n",
       "\t<tr><td>2019-12-01</td><td>RGFG</td><td>นครราชสีมา</td><td>12583</td></tr>\n",
       "</tbody>\n",
       "</table>\n"
      ],
      "text/latex": [
       "A tibble: 30048 × 4\n",
       "\\begin{tabular}{llll}\n",
       " date & price\\_id & place & value\\\\\n",
       " <date> & <chr> & <chr> & <dbl>\\\\\n",
       "\\hline\n",
       "\t 1989-01-01 & RHFG & เฉลี่ยทั้งประเทศ & 4237\\\\\n",
       "\t 1989-02-01 & RHFG & เฉลี่ยทั้งประเทศ & 4331\\\\\n",
       "\t 1989-03-01 & RHFG & เฉลี่ยทั้งประเทศ & 4420\\\\\n",
       "\t 1989-04-01 & RHFG & เฉลี่ยทั้งประเทศ & 4506\\\\\n",
       "\t 1989-05-01 & RHFG & เฉลี่ยทั้งประเทศ & 4620\\\\\n",
       "\t ... & ... & ... & ...\\\\\n",
       "\t 2019-08-01 & RGFG & นครราชสีมา & 12793\\\\\n",
       "\t 2019-09-01 & RGFG & นครราชสีมา & 15475\\\\\n",
       "\t 2019-10-01 & RGFG & นครราชสีมา & 14525\\\\\n",
       "\t 2019-11-01 & RGFG & นครราชสีมา & 12084\\\\\n",
       "\t 2019-12-01 & RGFG & นครราชสีมา & 12583\\\\\n",
       "\\end{tabular}\n"
      ],
      "text/markdown": [
       "\n",
       "A tibble: 30048 × 4\n",
       "\n",
       "| date &lt;date&gt; | price_id &lt;chr&gt; | place &lt;chr&gt; | value &lt;dbl&gt; |\n",
       "|---|---|---|---|\n",
       "| 1989-01-01 | RHFG | เฉลี่ยทั้งประเทศ | 4237 |\n",
       "| 1989-02-01 | RHFG | เฉลี่ยทั้งประเทศ | 4331 |\n",
       "| 1989-03-01 | RHFG | เฉลี่ยทั้งประเทศ | 4420 |\n",
       "| 1989-04-01 | RHFG | เฉลี่ยทั้งประเทศ | 4506 |\n",
       "| 1989-05-01 | RHFG | เฉลี่ยทั้งประเทศ | 4620 |\n",
       "| ... | ... | ... | ... |\n",
       "| 2019-08-01 | RGFG | นครราชสีมา | 12793 |\n",
       "| 2019-09-01 | RGFG | นครราชสีมา | 15475 |\n",
       "| 2019-10-01 | RGFG | นครราชสีมา | 14525 |\n",
       "| 2019-11-01 | RGFG | นครราชสีมา | 12084 |\n",
       "| 2019-12-01 | RGFG | นครราชสีมา | 12583 |\n",
       "\n"
      ],
      "text/plain": [
       "      date       price_id place            value\n",
       "1     1989-01-01 RHFG     เฉลี่ยทั้งประเทศ 4237 \n",
       "2     1989-02-01 RHFG     เฉลี่ยทั้งประเทศ 4331 \n",
       "3     1989-03-01 RHFG     เฉลี่ยทั้งประเทศ 4420 \n",
       "4     1989-04-01 RHFG     เฉลี่ยทั้งประเทศ 4506 \n",
       "5     1989-05-01 RHFG     เฉลี่ยทั้งประเทศ 4620 \n",
       "...   ...        ...      ...              ...  \n",
       "30044 2019-08-01 RGFG     นครราชสีมา       12793\n",
       "30045 2019-09-01 RGFG     นครราชสีมา       15475\n",
       "30046 2019-10-01 RGFG     นครราชสีมา       14525\n",
       "30047 2019-11-01 RGFG     นครราชสีมา       12084\n",
       "30048 2019-12-01 RGFG     นครราชสีมา       12583"
      ]
     },
     "metadata": {},
     "output_type": "display_data"
    }
   ],
   "source": [
    "root <- \"data/rice/farmgate/\"\n",
    "\n",
    "rhfg <- read_price_rice_fg(root, \"rhfg.xlsx\") %>% mutate(price_id = 'RHFG')\n",
    "rwfg <- read_price_rice_fg(root, \"rwfg.xlsx\") %>% mutate(price_id = 'RWFG')\n",
    "rgfg <- read_price_rice_fg(root, \"rgfg.xlsx\") %>% mutate(price_id = 'RGFG')\n",
    "\n",
    "rice_fg <- rbind(rhfg, rwfg, rgfg) %>%\n",
    "  select(date, price_id, place, value) %>%\n",
    "  filter(date < '2020-01-01')\n",
    "\n",
    "# saveRDS(rice_fg, 'data/rice/rice_fg.rds')\n",
    "rice_fg"
   ]
  },
  {
   "cell_type": "markdown",
   "id": "interracial-cutting",
   "metadata": {},
   "source": [
    "## Wholesale price\n",
    "รวมไฟล์ราคา แล้ว save เป็น RDS"
   ]
  },
  {
   "cell_type": "code",
   "execution_count": 6,
   "id": "superb-potato",
   "metadata": {},
   "outputs": [],
   "source": [
    "# define function\n",
    "read_price_ws <- function(year, month) {\n",
    "\n",
    "  path <- glue::glue(\"data/rice/wholesale/ws{year}.xls\")\n",
    "  read_excel(\n",
    "    path, skip = 1, \n",
    "    sheet = month.abb[month] %>% tolower(), \n",
    "    na = c(\"-\", \"\", 0)\n",
    "  ) %>%\n",
    "    suppressMessages() %>%\n",
    "    rename_at(1:2, ~c(\"price_id\", \"price_name\")) %>%\n",
    "    pivot_longer(\n",
    "      -(1:2), \n",
    "      names_to = 'day', \n",
    "      values_to = 'value'\n",
    "    ) %>%\n",
    "    filter(day %in% as.character(1:31)) %>%\n",
    "    mutate(\n",
    "      date = as.Date(glue::glue(\"{year-543}-{month}-{day}\")),\n",
    "      place = 'bangkok'\n",
    "    ) %>%\n",
    "    drop_na(value, date) %>%\n",
    "    select(date, price_id, place, value)\n",
    "}\n",
    "\n",
    "# test\n",
    "# year <- 2555\n",
    "# month <- 1\n",
    "# read_price_ws(year, month)"
   ]
  },
  {
   "cell_type": "code",
   "execution_count": 7,
   "id": "instructional-knight",
   "metadata": {},
   "outputs": [],
   "source": [
    "rice_ws <- expand_grid(\n",
    "  year = 2547:2562, \n",
    "  month = 1:12\n",
    ") %>% \n",
    "  pmap(read_price_ws) %>%\n",
    "  reduce(bind_rows)\n",
    "\n",
    "# saveRDS(rice_ws, 'data/rice/rice_ws.rds')"
   ]
  },
  {
   "cell_type": "code",
   "execution_count": 8,
   "id": "regulation-prescription",
   "metadata": {},
   "outputs": [
    {
     "data": {
      "text/html": [
       "<table class=\"dataframe\">\n",
       "<caption>A tibble: 139413 × 4</caption>\n",
       "<thead>\n",
       "\t<tr><th scope=col>date</th><th scope=col>price_id</th><th scope=col>place</th><th scope=col>value</th></tr>\n",
       "\t<tr><th scope=col>&lt;date&gt;</th><th scope=col>&lt;chr&gt;</th><th scope=col>&lt;chr&gt;</th><th scope=col>&lt;dbl&gt;</th></tr>\n",
       "</thead>\n",
       "<tbody>\n",
       "\t<tr><td>2004-01-02</td><td>RHWS00AO</td><td>bangkok</td><td>19000</td></tr>\n",
       "\t<tr><td>2004-01-05</td><td>RHWS00AO</td><td>bangkok</td><td>19000</td></tr>\n",
       "\t<tr><td>2004-01-06</td><td>RHWS00AO</td><td>bangkok</td><td>19000</td></tr>\n",
       "\t<tr><td>2004-01-07</td><td>RHWS00AO</td><td>bangkok</td><td>19000</td></tr>\n",
       "\t<tr><td>2004-01-08</td><td>RHWS00AO</td><td>bangkok</td><td>19600</td></tr>\n",
       "\t<tr><td>...</td><td>...</td><td>...</td><td>...</td></tr>\n",
       "\t<tr><td>2019-12-23</td><td>RPWSA1GU</td><td>bangkok</td><td>9350</td></tr>\n",
       "\t<tr><td>2019-12-24</td><td>RPWSA1GU</td><td>bangkok</td><td>9350</td></tr>\n",
       "\t<tr><td>2019-12-25</td><td>RPWSA1GU</td><td>bangkok</td><td>9350</td></tr>\n",
       "\t<tr><td>2019-12-26</td><td>RPWSA1GU</td><td>bangkok</td><td>9350</td></tr>\n",
       "\t<tr><td>2019-12-27</td><td>RPWSA1GU</td><td>bangkok</td><td>9350</td></tr>\n",
       "</tbody>\n",
       "</table>\n"
      ],
      "text/latex": [
       "A tibble: 139413 × 4\n",
       "\\begin{tabular}{llll}\n",
       " date & price\\_id & place & value\\\\\n",
       " <date> & <chr> & <chr> & <dbl>\\\\\n",
       "\\hline\n",
       "\t 2004-01-02 & RHWS00AO & bangkok & 19000\\\\\n",
       "\t 2004-01-05 & RHWS00AO & bangkok & 19000\\\\\n",
       "\t 2004-01-06 & RHWS00AO & bangkok & 19000\\\\\n",
       "\t 2004-01-07 & RHWS00AO & bangkok & 19000\\\\\n",
       "\t 2004-01-08 & RHWS00AO & bangkok & 19600\\\\\n",
       "\t ... & ... & ... & ...\\\\\n",
       "\t 2019-12-23 & RPWSA1GU & bangkok & 9350\\\\\n",
       "\t 2019-12-24 & RPWSA1GU & bangkok & 9350\\\\\n",
       "\t 2019-12-25 & RPWSA1GU & bangkok & 9350\\\\\n",
       "\t 2019-12-26 & RPWSA1GU & bangkok & 9350\\\\\n",
       "\t 2019-12-27 & RPWSA1GU & bangkok & 9350\\\\\n",
       "\\end{tabular}\n"
      ],
      "text/markdown": [
       "\n",
       "A tibble: 139413 × 4\n",
       "\n",
       "| date &lt;date&gt; | price_id &lt;chr&gt; | place &lt;chr&gt; | value &lt;dbl&gt; |\n",
       "|---|---|---|---|\n",
       "| 2004-01-02 | RHWS00AO | bangkok | 19000 |\n",
       "| 2004-01-05 | RHWS00AO | bangkok | 19000 |\n",
       "| 2004-01-06 | RHWS00AO | bangkok | 19000 |\n",
       "| 2004-01-07 | RHWS00AO | bangkok | 19000 |\n",
       "| 2004-01-08 | RHWS00AO | bangkok | 19600 |\n",
       "| ... | ... | ... | ... |\n",
       "| 2019-12-23 | RPWSA1GU | bangkok | 9350 |\n",
       "| 2019-12-24 | RPWSA1GU | bangkok | 9350 |\n",
       "| 2019-12-25 | RPWSA1GU | bangkok | 9350 |\n",
       "| 2019-12-26 | RPWSA1GU | bangkok | 9350 |\n",
       "| 2019-12-27 | RPWSA1GU | bangkok | 9350 |\n",
       "\n"
      ],
      "text/plain": [
       "       date       price_id place   value\n",
       "1      2004-01-02 RHWS00AO bangkok 19000\n",
       "2      2004-01-05 RHWS00AO bangkok 19000\n",
       "3      2004-01-06 RHWS00AO bangkok 19000\n",
       "4      2004-01-07 RHWS00AO bangkok 19000\n",
       "5      2004-01-08 RHWS00AO bangkok 19600\n",
       "...    ...        ...      ...     ...  \n",
       "139409 2019-12-23 RPWSA1GU bangkok 9350 \n",
       "139410 2019-12-24 RPWSA1GU bangkok 9350 \n",
       "139411 2019-12-25 RPWSA1GU bangkok 9350 \n",
       "139412 2019-12-26 RPWSA1GU bangkok 9350 \n",
       "139413 2019-12-27 RPWSA1GU bangkok 9350 "
      ]
     },
     "metadata": {},
     "output_type": "display_data"
    }
   ],
   "source": [
    "rice_ws"
   ]
  },
  {
   "cell_type": "markdown",
   "id": "optical-zimbabwe",
   "metadata": {},
   "source": [
    "## Export price\n",
    "รวมไฟล์ราคา แล้ว save เป็น RDS"
   ]
  },
  {
   "cell_type": "code",
   "execution_count": 9,
   "id": "existing-restoration",
   "metadata": {},
   "outputs": [],
   "source": [
    "read_price_ex_th <- function(year, month) {\n",
    "  \n",
    "  first_day_of_month <- ymd(glue::glue(\"{year-543}-{month}-1\"))\n",
    "  last_day_of_month  <- first_day_of_month %>% ceiling_date(unit = \"month\") - 1\n",
    "  d <- seq(first_day_of_month, by = 1, length.out = 7)\n",
    "  d <- seq(d[wday(d)==6], by = 7, length.out = 5)\n",
    "  d <- d[lubridate::month(d) == month]\n",
    "  if(length(d) == 4) {\n",
    "    d[5] <- last_day_of_month\n",
    "  }\n",
    "  \n",
    "  path <- glue::glue(\"data/rice/export_th/ex{year}.xlsx\")\n",
    "  read_excel(\n",
    "    path, skip = 2,\n",
    "    sheet = month.abb[month] %>% tolower(), \n",
    "    na = c(\"-\", \"\", 0)\n",
    "  ) %>%\n",
    "    suppressMessages() %>%\n",
    "    rename_at(1:2, ~c(\"price_id\", \"price_name\")) %>%\n",
    "    select(1:7) %>%\n",
    "    drop_na(price_id) %>%\n",
    "    pivot_longer(\n",
    "      -(1:2), \n",
    "      names_to = 'week', \n",
    "      values_to = 'value'\n",
    "    ) %>%\n",
    "    drop_na(value) %>%\n",
    "    mutate(\n",
    "      date = d[week %>% as.numeric],\n",
    "      place = 'bangkok'\n",
    "    ) %>%\n",
    "    select(date, price_id, place, value)\n",
    "}\n",
    "\n",
    "# test\n",
    "# year <- 2555\n",
    "# month <- 1\n",
    "# read_price_ex(year, month)"
   ]
  },
  {
   "cell_type": "code",
   "execution_count": 10,
   "id": "undefined-burton",
   "metadata": {},
   "outputs": [],
   "source": [
    "rice_ex_th <- expand_grid(\n",
    "  year = 2547:2562, \n",
    "  month = 1:12\n",
    ") %>% \n",
    "  pmap(read_price_ex_th) %>%\n",
    "  reduce(bind_rows)\n",
    "\n",
    "# saveRDS(rice_ex_th, 'data/rice/rice_ex_th.rds')"
   ]
  },
  {
   "cell_type": "code",
   "execution_count": 11,
   "id": "express-edgar",
   "metadata": {},
   "outputs": [
    {
     "data": {
      "text/html": [
       "<table class=\"dataframe\">\n",
       "<caption>A tibble: 43102 × 4</caption>\n",
       "<thead>\n",
       "\t<tr><th scope=col>date</th><th scope=col>price_id</th><th scope=col>place</th><th scope=col>value</th></tr>\n",
       "\t<tr><th scope=col>&lt;date&gt;</th><th scope=col>&lt;chr&gt;</th><th scope=col>&lt;chr&gt;</th><th scope=col>&lt;dbl&gt;</th></tr>\n",
       "</thead>\n",
       "<tbody>\n",
       "\t<tr><td>2004-01-02</td><td>RHXB00AO</td><td>bangkok</td><td>22303.25</td></tr>\n",
       "\t<tr><td>2004-01-09</td><td>RHXB00AO</td><td>bangkok</td><td>22293.38</td></tr>\n",
       "\t<tr><td>2004-01-16</td><td>RHXB00AO</td><td>bangkok</td><td>21810.25</td></tr>\n",
       "\t<tr><td>2004-01-23</td><td>RHXB00AO</td><td>bangkok</td><td>22265.46</td></tr>\n",
       "\t<tr><td>2004-01-02</td><td>RHXS00AO</td><td>bangkok</td><td>  572.00</td></tr>\n",
       "\t<tr><td>...</td><td>...</td><td>...</td><td>...</td></tr>\n",
       "\t<tr><td>2019-12-13</td><td>RPXBA1GU</td><td>bangkok</td><td>10812.64</td></tr>\n",
       "\t<tr><td>2019-12-20</td><td>RPXBA1GU</td><td>bangkok</td><td>10824.34</td></tr>\n",
       "\t<tr><td>2019-12-06</td><td>RPXSA1GU</td><td>bangkok</td><td>  360.00</td></tr>\n",
       "\t<tr><td>2019-12-13</td><td>RPXSA1GU</td><td>bangkok</td><td>  361.00</td></tr>\n",
       "\t<tr><td>2019-12-20</td><td>RPXSA1GU</td><td>bangkok</td><td>  362.00</td></tr>\n",
       "</tbody>\n",
       "</table>\n"
      ],
      "text/latex": [
       "A tibble: 43102 × 4\n",
       "\\begin{tabular}{llll}\n",
       " date & price\\_id & place & value\\\\\n",
       " <date> & <chr> & <chr> & <dbl>\\\\\n",
       "\\hline\n",
       "\t 2004-01-02 & RHXB00AO & bangkok & 22303.25\\\\\n",
       "\t 2004-01-09 & RHXB00AO & bangkok & 22293.38\\\\\n",
       "\t 2004-01-16 & RHXB00AO & bangkok & 21810.25\\\\\n",
       "\t 2004-01-23 & RHXB00AO & bangkok & 22265.46\\\\\n",
       "\t 2004-01-02 & RHXS00AO & bangkok &   572.00\\\\\n",
       "\t ... & ... & ... & ...\\\\\n",
       "\t 2019-12-13 & RPXBA1GU & bangkok & 10812.64\\\\\n",
       "\t 2019-12-20 & RPXBA1GU & bangkok & 10824.34\\\\\n",
       "\t 2019-12-06 & RPXSA1GU & bangkok &   360.00\\\\\n",
       "\t 2019-12-13 & RPXSA1GU & bangkok &   361.00\\\\\n",
       "\t 2019-12-20 & RPXSA1GU & bangkok &   362.00\\\\\n",
       "\\end{tabular}\n"
      ],
      "text/markdown": [
       "\n",
       "A tibble: 43102 × 4\n",
       "\n",
       "| date &lt;date&gt; | price_id &lt;chr&gt; | place &lt;chr&gt; | value &lt;dbl&gt; |\n",
       "|---|---|---|---|\n",
       "| 2004-01-02 | RHXB00AO | bangkok | 22303.25 |\n",
       "| 2004-01-09 | RHXB00AO | bangkok | 22293.38 |\n",
       "| 2004-01-16 | RHXB00AO | bangkok | 21810.25 |\n",
       "| 2004-01-23 | RHXB00AO | bangkok | 22265.46 |\n",
       "| 2004-01-02 | RHXS00AO | bangkok |   572.00 |\n",
       "| ... | ... | ... | ... |\n",
       "| 2019-12-13 | RPXBA1GU | bangkok | 10812.64 |\n",
       "| 2019-12-20 | RPXBA1GU | bangkok | 10824.34 |\n",
       "| 2019-12-06 | RPXSA1GU | bangkok |   360.00 |\n",
       "| 2019-12-13 | RPXSA1GU | bangkok |   361.00 |\n",
       "| 2019-12-20 | RPXSA1GU | bangkok |   362.00 |\n",
       "\n"
      ],
      "text/plain": [
       "      date       price_id place   value   \n",
       "1     2004-01-02 RHXB00AO bangkok 22303.25\n",
       "2     2004-01-09 RHXB00AO bangkok 22293.38\n",
       "3     2004-01-16 RHXB00AO bangkok 21810.25\n",
       "4     2004-01-23 RHXB00AO bangkok 22265.46\n",
       "5     2004-01-02 RHXS00AO bangkok   572.00\n",
       "...   ...        ...      ...     ...     \n",
       "43098 2019-12-13 RPXBA1GU bangkok 10812.64\n",
       "43099 2019-12-20 RPXBA1GU bangkok 10824.34\n",
       "43100 2019-12-06 RPXSA1GU bangkok   360.00\n",
       "43101 2019-12-13 RPXSA1GU bangkok   361.00\n",
       "43102 2019-12-20 RPXSA1GU bangkok   362.00"
      ]
     },
     "metadata": {},
     "output_type": "display_data"
    }
   ],
   "source": [
    "rice_ex_th"
   ]
  },
  {
   "cell_type": "markdown",
   "id": "intellectual-vocabulary",
   "metadata": {},
   "source": [
    "## Combine prices from 3 markets"
   ]
  },
  {
   "cell_type": "code",
   "execution_count": 12,
   "id": "recovered-subdivision",
   "metadata": {},
   "outputs": [],
   "source": [
    "rice_price <- bind_rows(rice_fg, rice_ws, rice_ex_th)\n",
    "# saveRDS(rice_price, 'data/rice/rice_price.rds')"
   ]
  },
  {
   "cell_type": "code",
   "execution_count": 13,
   "id": "portuguese-injection",
   "metadata": {},
   "outputs": [
    {
     "data": {
      "text/html": [
       "<table class=\"dataframe\">\n",
       "<caption>A tibble: 212563 × 4</caption>\n",
       "<thead>\n",
       "\t<tr><th scope=col>date</th><th scope=col>price_id</th><th scope=col>place</th><th scope=col>value</th></tr>\n",
       "\t<tr><th scope=col>&lt;date&gt;</th><th scope=col>&lt;chr&gt;</th><th scope=col>&lt;chr&gt;</th><th scope=col>&lt;dbl&gt;</th></tr>\n",
       "</thead>\n",
       "<tbody>\n",
       "\t<tr><td>1989-01-01</td><td>RHFG</td><td>เฉลี่ยทั้งประเทศ</td><td>4237</td></tr>\n",
       "\t<tr><td>1989-02-01</td><td>RHFG</td><td>เฉลี่ยทั้งประเทศ</td><td>4331</td></tr>\n",
       "\t<tr><td>1989-03-01</td><td>RHFG</td><td>เฉลี่ยทั้งประเทศ</td><td>4420</td></tr>\n",
       "\t<tr><td>1989-04-01</td><td>RHFG</td><td>เฉลี่ยทั้งประเทศ</td><td>4506</td></tr>\n",
       "\t<tr><td>1989-05-01</td><td>RHFG</td><td>เฉลี่ยทั้งประเทศ</td><td>4620</td></tr>\n",
       "\t<tr><td>...</td><td>...</td><td>...</td><td>...</td></tr>\n",
       "\t<tr><td>2019-12-13</td><td>RPXBA1GU</td><td>bangkok</td><td>10812.64</td></tr>\n",
       "\t<tr><td>2019-12-20</td><td>RPXBA1GU</td><td>bangkok</td><td>10824.34</td></tr>\n",
       "\t<tr><td>2019-12-06</td><td>RPXSA1GU</td><td>bangkok</td><td>  360.00</td></tr>\n",
       "\t<tr><td>2019-12-13</td><td>RPXSA1GU</td><td>bangkok</td><td>  361.00</td></tr>\n",
       "\t<tr><td>2019-12-20</td><td>RPXSA1GU</td><td>bangkok</td><td>  362.00</td></tr>\n",
       "</tbody>\n",
       "</table>\n"
      ],
      "text/latex": [
       "A tibble: 212563 × 4\n",
       "\\begin{tabular}{llll}\n",
       " date & price\\_id & place & value\\\\\n",
       " <date> & <chr> & <chr> & <dbl>\\\\\n",
       "\\hline\n",
       "\t 1989-01-01 & RHFG & เฉลี่ยทั้งประเทศ & 4237\\\\\n",
       "\t 1989-02-01 & RHFG & เฉลี่ยทั้งประเทศ & 4331\\\\\n",
       "\t 1989-03-01 & RHFG & เฉลี่ยทั้งประเทศ & 4420\\\\\n",
       "\t 1989-04-01 & RHFG & เฉลี่ยทั้งประเทศ & 4506\\\\\n",
       "\t 1989-05-01 & RHFG & เฉลี่ยทั้งประเทศ & 4620\\\\\n",
       "\t ... & ... & ... & ...\\\\\n",
       "\t 2019-12-13 & RPXBA1GU & bangkok & 10812.64\\\\\n",
       "\t 2019-12-20 & RPXBA1GU & bangkok & 10824.34\\\\\n",
       "\t 2019-12-06 & RPXSA1GU & bangkok &   360.00\\\\\n",
       "\t 2019-12-13 & RPXSA1GU & bangkok &   361.00\\\\\n",
       "\t 2019-12-20 & RPXSA1GU & bangkok &   362.00\\\\\n",
       "\\end{tabular}\n"
      ],
      "text/markdown": [
       "\n",
       "A tibble: 212563 × 4\n",
       "\n",
       "| date &lt;date&gt; | price_id &lt;chr&gt; | place &lt;chr&gt; | value &lt;dbl&gt; |\n",
       "|---|---|---|---|\n",
       "| 1989-01-01 | RHFG | เฉลี่ยทั้งประเทศ | 4237 |\n",
       "| 1989-02-01 | RHFG | เฉลี่ยทั้งประเทศ | 4331 |\n",
       "| 1989-03-01 | RHFG | เฉลี่ยทั้งประเทศ | 4420 |\n",
       "| 1989-04-01 | RHFG | เฉลี่ยทั้งประเทศ | 4506 |\n",
       "| 1989-05-01 | RHFG | เฉลี่ยทั้งประเทศ | 4620 |\n",
       "| ... | ... | ... | ... |\n",
       "| 2019-12-13 | RPXBA1GU | bangkok | 10812.64 |\n",
       "| 2019-12-20 | RPXBA1GU | bangkok | 10824.34 |\n",
       "| 2019-12-06 | RPXSA1GU | bangkok |   360.00 |\n",
       "| 2019-12-13 | RPXSA1GU | bangkok |   361.00 |\n",
       "| 2019-12-20 | RPXSA1GU | bangkok |   362.00 |\n",
       "\n"
      ],
      "text/plain": [
       "       date       price_id place            value   \n",
       "1      1989-01-01 RHFG     เฉลี่ยทั้งประเทศ 4237    \n",
       "2      1989-02-01 RHFG     เฉลี่ยทั้งประเทศ 4331    \n",
       "3      1989-03-01 RHFG     เฉลี่ยทั้งประเทศ 4420    \n",
       "4      1989-04-01 RHFG     เฉลี่ยทั้งประเทศ 4506    \n",
       "5      1989-05-01 RHFG     เฉลี่ยทั้งประเทศ 4620    \n",
       "...    ...        ...      ...              ...     \n",
       "212559 2019-12-13 RPXBA1GU bangkok          10812.64\n",
       "212560 2019-12-20 RPXBA1GU bangkok          10824.34\n",
       "212561 2019-12-06 RPXSA1GU bangkok            360.00\n",
       "212562 2019-12-13 RPXSA1GU bangkok            361.00\n",
       "212563 2019-12-20 RPXSA1GU bangkok            362.00"
      ]
     },
     "metadata": {},
     "output_type": "display_data"
    }
   ],
   "source": [
    "rice_price"
   ]
  },
  {
   "cell_type": "code",
   "execution_count": 2,
   "id": "integrated-helena",
   "metadata": {},
   "outputs": [
    {
     "data": {
      "text/html": [
       "<table class=\"dataframe\">\n",
       "<caption>A tibble: 212563 × 4</caption>\n",
       "<thead>\n",
       "\t<tr><th scope=col>date</th><th scope=col>price_id</th><th scope=col>place</th><th scope=col>value</th></tr>\n",
       "\t<tr><th scope=col>&lt;date&gt;</th><th scope=col>&lt;chr&gt;</th><th scope=col>&lt;chr&gt;</th><th scope=col>&lt;dbl&gt;</th></tr>\n",
       "</thead>\n",
       "<tbody>\n",
       "\t<tr><td>1989-01-01</td><td>RHFG</td><td>เฉลี่ยทั้งประเทศ</td><td>4237</td></tr>\n",
       "\t<tr><td>1989-02-01</td><td>RHFG</td><td>เฉลี่ยทั้งประเทศ</td><td>4331</td></tr>\n",
       "\t<tr><td>1989-03-01</td><td>RHFG</td><td>เฉลี่ยทั้งประเทศ</td><td>4420</td></tr>\n",
       "\t<tr><td>1989-04-01</td><td>RHFG</td><td>เฉลี่ยทั้งประเทศ</td><td>4506</td></tr>\n",
       "\t<tr><td>1989-05-01</td><td>RHFG</td><td>เฉลี่ยทั้งประเทศ</td><td>4620</td></tr>\n",
       "\t<tr><td>...</td><td>...</td><td>...</td><td>...</td></tr>\n",
       "\t<tr><td>2019-12-13</td><td>RPXBA1GU</td><td>bangkok</td><td>10812.64</td></tr>\n",
       "\t<tr><td>2019-12-20</td><td>RPXBA1GU</td><td>bangkok</td><td>10824.34</td></tr>\n",
       "\t<tr><td>2019-12-06</td><td>RPXSA1GU</td><td>bangkok</td><td>  360.00</td></tr>\n",
       "\t<tr><td>2019-12-13</td><td>RPXSA1GU</td><td>bangkok</td><td>  361.00</td></tr>\n",
       "\t<tr><td>2019-12-20</td><td>RPXSA1GU</td><td>bangkok</td><td>  362.00</td></tr>\n",
       "</tbody>\n",
       "</table>\n"
      ],
      "text/latex": [
       "A tibble: 212563 × 4\n",
       "\\begin{tabular}{llll}\n",
       " date & price\\_id & place & value\\\\\n",
       " <date> & <chr> & <chr> & <dbl>\\\\\n",
       "\\hline\n",
       "\t 1989-01-01 & RHFG & เฉลี่ยทั้งประเทศ & 4237\\\\\n",
       "\t 1989-02-01 & RHFG & เฉลี่ยทั้งประเทศ & 4331\\\\\n",
       "\t 1989-03-01 & RHFG & เฉลี่ยทั้งประเทศ & 4420\\\\\n",
       "\t 1989-04-01 & RHFG & เฉลี่ยทั้งประเทศ & 4506\\\\\n",
       "\t 1989-05-01 & RHFG & เฉลี่ยทั้งประเทศ & 4620\\\\\n",
       "\t ... & ... & ... & ...\\\\\n",
       "\t 2019-12-13 & RPXBA1GU & bangkok & 10812.64\\\\\n",
       "\t 2019-12-20 & RPXBA1GU & bangkok & 10824.34\\\\\n",
       "\t 2019-12-06 & RPXSA1GU & bangkok &   360.00\\\\\n",
       "\t 2019-12-13 & RPXSA1GU & bangkok &   361.00\\\\\n",
       "\t 2019-12-20 & RPXSA1GU & bangkok &   362.00\\\\\n",
       "\\end{tabular}\n"
      ],
      "text/markdown": [
       "\n",
       "A tibble: 212563 × 4\n",
       "\n",
       "| date &lt;date&gt; | price_id &lt;chr&gt; | place &lt;chr&gt; | value &lt;dbl&gt; |\n",
       "|---|---|---|---|\n",
       "| 1989-01-01 | RHFG | เฉลี่ยทั้งประเทศ | 4237 |\n",
       "| 1989-02-01 | RHFG | เฉลี่ยทั้งประเทศ | 4331 |\n",
       "| 1989-03-01 | RHFG | เฉลี่ยทั้งประเทศ | 4420 |\n",
       "| 1989-04-01 | RHFG | เฉลี่ยทั้งประเทศ | 4506 |\n",
       "| 1989-05-01 | RHFG | เฉลี่ยทั้งประเทศ | 4620 |\n",
       "| ... | ... | ... | ... |\n",
       "| 2019-12-13 | RPXBA1GU | bangkok | 10812.64 |\n",
       "| 2019-12-20 | RPXBA1GU | bangkok | 10824.34 |\n",
       "| 2019-12-06 | RPXSA1GU | bangkok |   360.00 |\n",
       "| 2019-12-13 | RPXSA1GU | bangkok |   361.00 |\n",
       "| 2019-12-20 | RPXSA1GU | bangkok |   362.00 |\n",
       "\n"
      ],
      "text/plain": [
       "       date       price_id place            value   \n",
       "1      1989-01-01 RHFG     เฉลี่ยทั้งประเทศ 4237    \n",
       "2      1989-02-01 RHFG     เฉลี่ยทั้งประเทศ 4331    \n",
       "3      1989-03-01 RHFG     เฉลี่ยทั้งประเทศ 4420    \n",
       "4      1989-04-01 RHFG     เฉลี่ยทั้งประเทศ 4506    \n",
       "5      1989-05-01 RHFG     เฉลี่ยทั้งประเทศ 4620    \n",
       "...    ...        ...      ...              ...     \n",
       "212559 2019-12-13 RPXBA1GU bangkok          10812.64\n",
       "212560 2019-12-20 RPXBA1GU bangkok          10824.34\n",
       "212561 2019-12-06 RPXSA1GU bangkok            360.00\n",
       "212562 2019-12-13 RPXSA1GU bangkok            361.00\n",
       "212563 2019-12-20 RPXSA1GU bangkok            362.00"
      ]
     },
     "metadata": {},
     "output_type": "display_data"
    }
   ],
   "source": [
    "rice_price <- readRDS('data/rice/rice_price.rds')\n",
    "rice_price"
   ]
  },
  {
   "cell_type": "markdown",
   "id": "flush-firmware",
   "metadata": {},
   "source": [
    "# Convert to wide format"
   ]
  },
  {
   "cell_type": "code",
   "execution_count": 3,
   "id": "interior-highway",
   "metadata": {},
   "outputs": [],
   "source": [
    "prices_selected <- c(\n",
    "  \"RHFG\",                 # hommali rice farmgate\n",
    "  \"RHWS00BO\", \"RHWS00BN\", # hommali rice wholesale\n",
    "  \"RHXB00BO\", \"RHXB00BN\", # hommali rice export in baht\n",
    "  \"RWFG\",                 # white rice farmgate\n",
    "  \"RWWS05GN\",             # white rice wholesale \n",
    "  \"RWXB05GU\"              # white rice export in baht\n",
    ")"
   ]
  },
  {
   "cell_type": "code",
   "execution_count": 4,
   "id": "fiscal-fiber",
   "metadata": {},
   "outputs": [],
   "source": [
    "rice_price_wide <- rice_price %>%\n",
    "  arrange(price_id) %>%\n",
    "  filter(\n",
    "    place %in% c(\"bangkok\", \"เฉลี่ยทั้งประเทศ\"),\n",
    "    price_id %in% prices_selected\n",
    "  ) %>%\n",
    "  pivot_wider(\n",
    "    id = date,\n",
    "    names_from = price_id,\n",
    "    values_from = value\n",
    "  ) %>% \n",
    "  arrange(date) #%>% write_xlsx(\"data/rice/rice_price_wide.xlsx\")"
   ]
  },
  {
   "cell_type": "code",
   "execution_count": 5,
   "id": "british-vector",
   "metadata": {},
   "outputs": [
    {
     "data": {
      "text/html": [
       "<table class=\"dataframe\">\n",
       "<caption>A tibble: 4177 × 9</caption>\n",
       "<thead>\n",
       "\t<tr><th scope=col>date</th><th scope=col>RHFG</th><th scope=col>RHWS00BN</th><th scope=col>RHWS00BO</th><th scope=col>RHXB00BN</th><th scope=col>RHXB00BO</th><th scope=col>RWFG</th><th scope=col>RWWS05GN</th><th scope=col>RWXB05GU</th></tr>\n",
       "\t<tr><th scope=col>&lt;date&gt;</th><th scope=col>&lt;dbl&gt;</th><th scope=col>&lt;dbl&gt;</th><th scope=col>&lt;dbl&gt;</th><th scope=col>&lt;dbl&gt;</th><th scope=col>&lt;dbl&gt;</th><th scope=col>&lt;dbl&gt;</th><th scope=col>&lt;dbl&gt;</th><th scope=col>&lt;dbl&gt;</th></tr>\n",
       "</thead>\n",
       "<tbody>\n",
       "\t<tr><td>1989-01-01</td><td>4237</td><td>NA</td><td>NA</td><td>NA</td><td>NA</td><td>3939</td><td>NA</td><td>NA</td></tr>\n",
       "\t<tr><td>1989-02-01</td><td>4331</td><td>NA</td><td>NA</td><td>NA</td><td>NA</td><td>4056</td><td>NA</td><td>NA</td></tr>\n",
       "\t<tr><td>1989-03-01</td><td>4420</td><td>NA</td><td>NA</td><td>NA</td><td>NA</td><td>4135</td><td>NA</td><td>NA</td></tr>\n",
       "\t<tr><td>1989-04-01</td><td>4506</td><td>NA</td><td>NA</td><td>NA</td><td>NA</td><td>4249</td><td>NA</td><td>NA</td></tr>\n",
       "\t<tr><td>1989-05-01</td><td>4620</td><td>NA</td><td>NA</td><td>NA</td><td>NA</td><td>4450</td><td>NA</td><td>NA</td></tr>\n",
       "\t<tr><td>...</td><td>...</td><td>...</td><td>...</td><td>...</td><td>...</td><td>...</td><td>...</td><td>...</td></tr>\n",
       "\t<tr><td>2019-12-23</td><td>NA</td><td>30550</td><td>31550</td><td>NA</td><td>NA</td><td>NA</td><td>11650</td><td>NA</td></tr>\n",
       "\t<tr><td>2019-12-24</td><td>NA</td><td>30550</td><td>31550</td><td>NA</td><td>NA</td><td>NA</td><td>11850</td><td>NA</td></tr>\n",
       "\t<tr><td>2019-12-25</td><td>NA</td><td>30550</td><td>31550</td><td>NA</td><td>NA</td><td>NA</td><td>11850</td><td>NA</td></tr>\n",
       "\t<tr><td>2019-12-26</td><td>NA</td><td>30550</td><td>31550</td><td>NA</td><td>NA</td><td>NA</td><td>11850</td><td>NA</td></tr>\n",
       "\t<tr><td>2019-12-27</td><td>NA</td><td>30550</td><td>31550</td><td>NA</td><td>NA</td><td>NA</td><td>11850</td><td>NA</td></tr>\n",
       "</tbody>\n",
       "</table>\n"
      ],
      "text/latex": [
       "A tibble: 4177 × 9\n",
       "\\begin{tabular}{lllllllll}\n",
       " date & RHFG & RHWS00BN & RHWS00BO & RHXB00BN & RHXB00BO & RWFG & RWWS05GN & RWXB05GU\\\\\n",
       " <date> & <dbl> & <dbl> & <dbl> & <dbl> & <dbl> & <dbl> & <dbl> & <dbl>\\\\\n",
       "\\hline\n",
       "\t 1989-01-01 & 4237 & NA & NA & NA & NA & 3939 & NA & NA\\\\\n",
       "\t 1989-02-01 & 4331 & NA & NA & NA & NA & 4056 & NA & NA\\\\\n",
       "\t 1989-03-01 & 4420 & NA & NA & NA & NA & 4135 & NA & NA\\\\\n",
       "\t 1989-04-01 & 4506 & NA & NA & NA & NA & 4249 & NA & NA\\\\\n",
       "\t 1989-05-01 & 4620 & NA & NA & NA & NA & 4450 & NA & NA\\\\\n",
       "\t ... & ... & ... & ... & ... & ... & ... & ... & ...\\\\\n",
       "\t 2019-12-23 & NA & 30550 & 31550 & NA & NA & NA & 11650 & NA\\\\\n",
       "\t 2019-12-24 & NA & 30550 & 31550 & NA & NA & NA & 11850 & NA\\\\\n",
       "\t 2019-12-25 & NA & 30550 & 31550 & NA & NA & NA & 11850 & NA\\\\\n",
       "\t 2019-12-26 & NA & 30550 & 31550 & NA & NA & NA & 11850 & NA\\\\\n",
       "\t 2019-12-27 & NA & 30550 & 31550 & NA & NA & NA & 11850 & NA\\\\\n",
       "\\end{tabular}\n"
      ],
      "text/markdown": [
       "\n",
       "A tibble: 4177 × 9\n",
       "\n",
       "| date &lt;date&gt; | RHFG &lt;dbl&gt; | RHWS00BN &lt;dbl&gt; | RHWS00BO &lt;dbl&gt; | RHXB00BN &lt;dbl&gt; | RHXB00BO &lt;dbl&gt; | RWFG &lt;dbl&gt; | RWWS05GN &lt;dbl&gt; | RWXB05GU &lt;dbl&gt; |\n",
       "|---|---|---|---|---|---|---|---|---|\n",
       "| 1989-01-01 | 4237 | NA | NA | NA | NA | 3939 | NA | NA |\n",
       "| 1989-02-01 | 4331 | NA | NA | NA | NA | 4056 | NA | NA |\n",
       "| 1989-03-01 | 4420 | NA | NA | NA | NA | 4135 | NA | NA |\n",
       "| 1989-04-01 | 4506 | NA | NA | NA | NA | 4249 | NA | NA |\n",
       "| 1989-05-01 | 4620 | NA | NA | NA | NA | 4450 | NA | NA |\n",
       "| ... | ... | ... | ... | ... | ... | ... | ... | ... |\n",
       "| 2019-12-23 | NA | 30550 | 31550 | NA | NA | NA | 11650 | NA |\n",
       "| 2019-12-24 | NA | 30550 | 31550 | NA | NA | NA | 11850 | NA |\n",
       "| 2019-12-25 | NA | 30550 | 31550 | NA | NA | NA | 11850 | NA |\n",
       "| 2019-12-26 | NA | 30550 | 31550 | NA | NA | NA | 11850 | NA |\n",
       "| 2019-12-27 | NA | 30550 | 31550 | NA | NA | NA | 11850 | NA |\n",
       "\n"
      ],
      "text/plain": [
       "     date       RHFG RHWS00BN RHWS00BO RHXB00BN RHXB00BO RWFG RWWS05GN RWXB05GU\n",
       "1    1989-01-01 4237 NA       NA       NA       NA       3939 NA       NA      \n",
       "2    1989-02-01 4331 NA       NA       NA       NA       4056 NA       NA      \n",
       "3    1989-03-01 4420 NA       NA       NA       NA       4135 NA       NA      \n",
       "4    1989-04-01 4506 NA       NA       NA       NA       4249 NA       NA      \n",
       "5    1989-05-01 4620 NA       NA       NA       NA       4450 NA       NA      \n",
       "...  ...        ...  ...      ...      ...      ...      ...  ...      ...     \n",
       "4173 2019-12-23 NA   30550    31550    NA       NA       NA   11650    NA      \n",
       "4174 2019-12-24 NA   30550    31550    NA       NA       NA   11850    NA      \n",
       "4175 2019-12-25 NA   30550    31550    NA       NA       NA   11850    NA      \n",
       "4176 2019-12-26 NA   30550    31550    NA       NA       NA   11850    NA      \n",
       "4177 2019-12-27 NA   30550    31550    NA       NA       NA   11850    NA      "
      ]
     },
     "metadata": {},
     "output_type": "display_data"
    }
   ],
   "source": [
    "rice_price_wide"
   ]
  },
  {
   "cell_type": "markdown",
   "id": "direct-relief",
   "metadata": {},
   "source": [
    "# Convert to monthly"
   ]
  },
  {
   "cell_type": "code",
   "execution_count": 6,
   "id": "molecular-stationery",
   "metadata": {},
   "outputs": [
    {
     "data": {
      "text/html": [
       "<table class=\"dataframe\">\n",
       "<caption>A tibble: 372 × 9</caption>\n",
       "<thead>\n",
       "\t<tr><th scope=col>date_floor</th><th scope=col>RHFG</th><th scope=col>RHWS00BN</th><th scope=col>RHWS00BO</th><th scope=col>RHXB00BN</th><th scope=col>RHXB00BO</th><th scope=col>RWFG</th><th scope=col>RWWS05GN</th><th scope=col>RWXB05GU</th></tr>\n",
       "\t<tr><th scope=col>&lt;date&gt;</th><th scope=col>&lt;dbl&gt;</th><th scope=col>&lt;dbl&gt;</th><th scope=col>&lt;dbl&gt;</th><th scope=col>&lt;dbl&gt;</th><th scope=col>&lt;dbl&gt;</th><th scope=col>&lt;dbl&gt;</th><th scope=col>&lt;dbl&gt;</th><th scope=col>&lt;dbl&gt;</th></tr>\n",
       "</thead>\n",
       "<tbody>\n",
       "\t<tr><td>1989-01-01</td><td>4237</td><td>NaN</td><td>NaN</td><td>NaN</td><td>NaN</td><td>3939</td><td>NaN</td><td>NaN</td></tr>\n",
       "\t<tr><td>1989-02-01</td><td>4331</td><td>NaN</td><td>NaN</td><td>NaN</td><td>NaN</td><td>4056</td><td>NaN</td><td>NaN</td></tr>\n",
       "\t<tr><td>1989-03-01</td><td>4420</td><td>NaN</td><td>NaN</td><td>NaN</td><td>NaN</td><td>4135</td><td>NaN</td><td>NaN</td></tr>\n",
       "\t<tr><td>1989-04-01</td><td>4506</td><td>NaN</td><td>NaN</td><td>NaN</td><td>NaN</td><td>4249</td><td>NaN</td><td>NaN</td></tr>\n",
       "\t<tr><td>1989-05-01</td><td>4620</td><td>NaN</td><td>NaN</td><td>NaN</td><td>NaN</td><td>4450</td><td>NaN</td><td>NaN</td></tr>\n",
       "\t<tr><td>...</td><td>...</td><td>...</td><td>...</td><td>...</td><td>...</td><td>...</td><td>...</td><td>...</td></tr>\n",
       "\t<tr><td>2019-08-01</td><td>16035</td><td>33364.29</td><td>34364.29</td><td>36817.24</td><td>36955.21</td><td>7897</td><td>11764.29</td><td>13111.66</td></tr>\n",
       "\t<tr><td>2019-09-01</td><td>16562</td><td>34640.48</td><td>36111.90</td><td>37540.59</td><td>36896.64</td><td>7827</td><td>11550.00</td><td>12889.96</td></tr>\n",
       "\t<tr><td>2019-10-01</td><td>16291</td><td>34650.00</td><td>36550.00</td><td>36691.71</td><td>36965.13</td><td>7921</td><td>11402.38</td><td>12731.47</td></tr>\n",
       "\t<tr><td>2019-11-01</td><td>14322</td><td>32802.63</td><td>33850.00</td><td>33992.05</td><td>36418.68</td><td>7881</td><td>11286.84</td><td>12619.58</td></tr>\n",
       "\t<tr><td>2019-12-01</td><td>13529</td><td>30550.00</td><td>31550.00</td><td>32849.26</td><td>36424.87</td><td>7705</td><td>11527.78</td><td>12933.55</td></tr>\n",
       "</tbody>\n",
       "</table>\n"
      ],
      "text/latex": [
       "A tibble: 372 × 9\n",
       "\\begin{tabular}{lllllllll}\n",
       " date\\_floor & RHFG & RHWS00BN & RHWS00BO & RHXB00BN & RHXB00BO & RWFG & RWWS05GN & RWXB05GU\\\\\n",
       " <date> & <dbl> & <dbl> & <dbl> & <dbl> & <dbl> & <dbl> & <dbl> & <dbl>\\\\\n",
       "\\hline\n",
       "\t 1989-01-01 & 4237 & NaN & NaN & NaN & NaN & 3939 & NaN & NaN\\\\\n",
       "\t 1989-02-01 & 4331 & NaN & NaN & NaN & NaN & 4056 & NaN & NaN\\\\\n",
       "\t 1989-03-01 & 4420 & NaN & NaN & NaN & NaN & 4135 & NaN & NaN\\\\\n",
       "\t 1989-04-01 & 4506 & NaN & NaN & NaN & NaN & 4249 & NaN & NaN\\\\\n",
       "\t 1989-05-01 & 4620 & NaN & NaN & NaN & NaN & 4450 & NaN & NaN\\\\\n",
       "\t ... & ... & ... & ... & ... & ... & ... & ... & ...\\\\\n",
       "\t 2019-08-01 & 16035 & 33364.29 & 34364.29 & 36817.24 & 36955.21 & 7897 & 11764.29 & 13111.66\\\\\n",
       "\t 2019-09-01 & 16562 & 34640.48 & 36111.90 & 37540.59 & 36896.64 & 7827 & 11550.00 & 12889.96\\\\\n",
       "\t 2019-10-01 & 16291 & 34650.00 & 36550.00 & 36691.71 & 36965.13 & 7921 & 11402.38 & 12731.47\\\\\n",
       "\t 2019-11-01 & 14322 & 32802.63 & 33850.00 & 33992.05 & 36418.68 & 7881 & 11286.84 & 12619.58\\\\\n",
       "\t 2019-12-01 & 13529 & 30550.00 & 31550.00 & 32849.26 & 36424.87 & 7705 & 11527.78 & 12933.55\\\\\n",
       "\\end{tabular}\n"
      ],
      "text/markdown": [
       "\n",
       "A tibble: 372 × 9\n",
       "\n",
       "| date_floor &lt;date&gt; | RHFG &lt;dbl&gt; | RHWS00BN &lt;dbl&gt; | RHWS00BO &lt;dbl&gt; | RHXB00BN &lt;dbl&gt; | RHXB00BO &lt;dbl&gt; | RWFG &lt;dbl&gt; | RWWS05GN &lt;dbl&gt; | RWXB05GU &lt;dbl&gt; |\n",
       "|---|---|---|---|---|---|---|---|---|\n",
       "| 1989-01-01 | 4237 | NaN | NaN | NaN | NaN | 3939 | NaN | NaN |\n",
       "| 1989-02-01 | 4331 | NaN | NaN | NaN | NaN | 4056 | NaN | NaN |\n",
       "| 1989-03-01 | 4420 | NaN | NaN | NaN | NaN | 4135 | NaN | NaN |\n",
       "| 1989-04-01 | 4506 | NaN | NaN | NaN | NaN | 4249 | NaN | NaN |\n",
       "| 1989-05-01 | 4620 | NaN | NaN | NaN | NaN | 4450 | NaN | NaN |\n",
       "| ... | ... | ... | ... | ... | ... | ... | ... | ... |\n",
       "| 2019-08-01 | 16035 | 33364.29 | 34364.29 | 36817.24 | 36955.21 | 7897 | 11764.29 | 13111.66 |\n",
       "| 2019-09-01 | 16562 | 34640.48 | 36111.90 | 37540.59 | 36896.64 | 7827 | 11550.00 | 12889.96 |\n",
       "| 2019-10-01 | 16291 | 34650.00 | 36550.00 | 36691.71 | 36965.13 | 7921 | 11402.38 | 12731.47 |\n",
       "| 2019-11-01 | 14322 | 32802.63 | 33850.00 | 33992.05 | 36418.68 | 7881 | 11286.84 | 12619.58 |\n",
       "| 2019-12-01 | 13529 | 30550.00 | 31550.00 | 32849.26 | 36424.87 | 7705 | 11527.78 | 12933.55 |\n",
       "\n"
      ],
      "text/plain": [
       "    date_floor RHFG  RHWS00BN RHWS00BO RHXB00BN RHXB00BO RWFG RWWS05GN RWXB05GU\n",
       "1   1989-01-01 4237  NaN      NaN      NaN      NaN      3939 NaN      NaN     \n",
       "2   1989-02-01 4331  NaN      NaN      NaN      NaN      4056 NaN      NaN     \n",
       "3   1989-03-01 4420  NaN      NaN      NaN      NaN      4135 NaN      NaN     \n",
       "4   1989-04-01 4506  NaN      NaN      NaN      NaN      4249 NaN      NaN     \n",
       "5   1989-05-01 4620  NaN      NaN      NaN      NaN      4450 NaN      NaN     \n",
       "... ...        ...   ...      ...      ...      ...      ...  ...      ...     \n",
       "368 2019-08-01 16035 33364.29 34364.29 36817.24 36955.21 7897 11764.29 13111.66\n",
       "369 2019-09-01 16562 34640.48 36111.90 37540.59 36896.64 7827 11550.00 12889.96\n",
       "370 2019-10-01 16291 34650.00 36550.00 36691.71 36965.13 7921 11402.38 12731.47\n",
       "371 2019-11-01 14322 32802.63 33850.00 33992.05 36418.68 7881 11286.84 12619.58\n",
       "372 2019-12-01 13529 30550.00 31550.00 32849.26 36424.87 7705 11527.78 12933.55"
      ]
     },
     "metadata": {},
     "output_type": "display_data"
    }
   ],
   "source": [
    "rice_price_wide_m <- rice_price_wide %>%\n",
    "  mutate(\n",
    "    date_floor = floor_date(date, unit = \"month\")\n",
    "  ) %>%\n",
    "  group_by(date_floor) %>%\n",
    "  summarize(across(starts_with(\"R\"), ~ mean(.x, na.rm = TRUE)))\n",
    "\n",
    "rice_price_wide_m\n",
    "# rice_price_wide_m %>% write_xlsx(\"data/rice/rice_price_wide_m.xlsx\")"
   ]
  },
  {
   "cell_type": "markdown",
   "id": "interstate-eight",
   "metadata": {},
   "source": [
    "# Clean"
   ]
  },
  {
   "cell_type": "code",
   "execution_count": 7,
   "id": "mature-symbol",
   "metadata": {},
   "outputs": [],
   "source": [
    "rice_price_wide_m_clean <- rice_price_wide_m %>%\n",
    "  mutate(\n",
    "    phf = RHFG,\n",
    "    phw = ifelse(is.na(RHWS00BN), RHWS00BO, RHWS00BN),\n",
    "    phx = ifelse(is.na(RHXB00BN), RHXB00BO, RHXB00BN),\n",
    "    pwf = RWFG,\n",
    "    pww = RWWS05GN,\n",
    "    pwx = RWXB05GU\n",
    "  ) %>%\n",
    "  select(c(\"date\" = date_floor), starts_with(\"p\"))"
   ]
  },
  {
   "cell_type": "code",
   "execution_count": 8,
   "id": "assigned-museum",
   "metadata": {},
   "outputs": [
    {
     "data": {
      "text/html": [
       "<table class=\"dataframe\">\n",
       "<caption>A tibble: 372 × 7</caption>\n",
       "<thead>\n",
       "\t<tr><th scope=col>date</th><th scope=col>phf</th><th scope=col>phw</th><th scope=col>phx</th><th scope=col>pwf</th><th scope=col>pww</th><th scope=col>pwx</th></tr>\n",
       "\t<tr><th scope=col>&lt;date&gt;</th><th scope=col>&lt;dbl&gt;</th><th scope=col>&lt;dbl&gt;</th><th scope=col>&lt;dbl&gt;</th><th scope=col>&lt;dbl&gt;</th><th scope=col>&lt;dbl&gt;</th><th scope=col>&lt;dbl&gt;</th></tr>\n",
       "</thead>\n",
       "<tbody>\n",
       "\t<tr><td>1989-01-01</td><td>4237</td><td>NaN</td><td>NaN</td><td>3939</td><td>NaN</td><td>NaN</td></tr>\n",
       "\t<tr><td>1989-02-01</td><td>4331</td><td>NaN</td><td>NaN</td><td>4056</td><td>NaN</td><td>NaN</td></tr>\n",
       "\t<tr><td>1989-03-01</td><td>4420</td><td>NaN</td><td>NaN</td><td>4135</td><td>NaN</td><td>NaN</td></tr>\n",
       "\t<tr><td>1989-04-01</td><td>4506</td><td>NaN</td><td>NaN</td><td>4249</td><td>NaN</td><td>NaN</td></tr>\n",
       "\t<tr><td>1989-05-01</td><td>4620</td><td>NaN</td><td>NaN</td><td>4450</td><td>NaN</td><td>NaN</td></tr>\n",
       "\t<tr><td>...</td><td>...</td><td>...</td><td>...</td><td>...</td><td>...</td><td>...</td></tr>\n",
       "\t<tr><td>2019-08-01</td><td>16035</td><td>33364.29</td><td>36817.24</td><td>7897</td><td>11764.29</td><td>13111.66</td></tr>\n",
       "\t<tr><td>2019-09-01</td><td>16562</td><td>34640.48</td><td>37540.59</td><td>7827</td><td>11550.00</td><td>12889.96</td></tr>\n",
       "\t<tr><td>2019-10-01</td><td>16291</td><td>34650.00</td><td>36691.71</td><td>7921</td><td>11402.38</td><td>12731.47</td></tr>\n",
       "\t<tr><td>2019-11-01</td><td>14322</td><td>32802.63</td><td>33992.05</td><td>7881</td><td>11286.84</td><td>12619.58</td></tr>\n",
       "\t<tr><td>2019-12-01</td><td>13529</td><td>30550.00</td><td>32849.26</td><td>7705</td><td>11527.78</td><td>12933.55</td></tr>\n",
       "</tbody>\n",
       "</table>\n"
      ],
      "text/latex": [
       "A tibble: 372 × 7\n",
       "\\begin{tabular}{lllllll}\n",
       " date & phf & phw & phx & pwf & pww & pwx\\\\\n",
       " <date> & <dbl> & <dbl> & <dbl> & <dbl> & <dbl> & <dbl>\\\\\n",
       "\\hline\n",
       "\t 1989-01-01 & 4237 & NaN & NaN & 3939 & NaN & NaN\\\\\n",
       "\t 1989-02-01 & 4331 & NaN & NaN & 4056 & NaN & NaN\\\\\n",
       "\t 1989-03-01 & 4420 & NaN & NaN & 4135 & NaN & NaN\\\\\n",
       "\t 1989-04-01 & 4506 & NaN & NaN & 4249 & NaN & NaN\\\\\n",
       "\t 1989-05-01 & 4620 & NaN & NaN & 4450 & NaN & NaN\\\\\n",
       "\t ... & ... & ... & ... & ... & ... & ...\\\\\n",
       "\t 2019-08-01 & 16035 & 33364.29 & 36817.24 & 7897 & 11764.29 & 13111.66\\\\\n",
       "\t 2019-09-01 & 16562 & 34640.48 & 37540.59 & 7827 & 11550.00 & 12889.96\\\\\n",
       "\t 2019-10-01 & 16291 & 34650.00 & 36691.71 & 7921 & 11402.38 & 12731.47\\\\\n",
       "\t 2019-11-01 & 14322 & 32802.63 & 33992.05 & 7881 & 11286.84 & 12619.58\\\\\n",
       "\t 2019-12-01 & 13529 & 30550.00 & 32849.26 & 7705 & 11527.78 & 12933.55\\\\\n",
       "\\end{tabular}\n"
      ],
      "text/markdown": [
       "\n",
       "A tibble: 372 × 7\n",
       "\n",
       "| date &lt;date&gt; | phf &lt;dbl&gt; | phw &lt;dbl&gt; | phx &lt;dbl&gt; | pwf &lt;dbl&gt; | pww &lt;dbl&gt; | pwx &lt;dbl&gt; |\n",
       "|---|---|---|---|---|---|---|\n",
       "| 1989-01-01 | 4237 | NaN | NaN | 3939 | NaN | NaN |\n",
       "| 1989-02-01 | 4331 | NaN | NaN | 4056 | NaN | NaN |\n",
       "| 1989-03-01 | 4420 | NaN | NaN | 4135 | NaN | NaN |\n",
       "| 1989-04-01 | 4506 | NaN | NaN | 4249 | NaN | NaN |\n",
       "| 1989-05-01 | 4620 | NaN | NaN | 4450 | NaN | NaN |\n",
       "| ... | ... | ... | ... | ... | ... | ... |\n",
       "| 2019-08-01 | 16035 | 33364.29 | 36817.24 | 7897 | 11764.29 | 13111.66 |\n",
       "| 2019-09-01 | 16562 | 34640.48 | 37540.59 | 7827 | 11550.00 | 12889.96 |\n",
       "| 2019-10-01 | 16291 | 34650.00 | 36691.71 | 7921 | 11402.38 | 12731.47 |\n",
       "| 2019-11-01 | 14322 | 32802.63 | 33992.05 | 7881 | 11286.84 | 12619.58 |\n",
       "| 2019-12-01 | 13529 | 30550.00 | 32849.26 | 7705 | 11527.78 | 12933.55 |\n",
       "\n"
      ],
      "text/plain": [
       "    date       phf   phw      phx      pwf  pww      pwx     \n",
       "1   1989-01-01 4237  NaN      NaN      3939 NaN      NaN     \n",
       "2   1989-02-01 4331  NaN      NaN      4056 NaN      NaN     \n",
       "3   1989-03-01 4420  NaN      NaN      4135 NaN      NaN     \n",
       "4   1989-04-01 4506  NaN      NaN      4249 NaN      NaN     \n",
       "5   1989-05-01 4620  NaN      NaN      4450 NaN      NaN     \n",
       "... ...        ...   ...      ...      ...  ...      ...     \n",
       "368 2019-08-01 16035 33364.29 36817.24 7897 11764.29 13111.66\n",
       "369 2019-09-01 16562 34640.48 37540.59 7827 11550.00 12889.96\n",
       "370 2019-10-01 16291 34650.00 36691.71 7921 11402.38 12731.47\n",
       "371 2019-11-01 14322 32802.63 33992.05 7881 11286.84 12619.58\n",
       "372 2019-12-01 13529 30550.00 32849.26 7705 11527.78 12933.55"
      ]
     },
     "metadata": {},
     "output_type": "display_data"
    }
   ],
   "source": [
    "rice_price_wide_m_clean"
   ]
  },
  {
   "cell_type": "markdown",
   "id": "progressive-limit",
   "metadata": {},
   "source": [
    "# Add dummy variables"
   ]
  },
  {
   "cell_type": "code",
   "execution_count": 9,
   "id": "healthy-composite",
   "metadata": {},
   "outputs": [],
   "source": [
    "# dummy years ช่วงวิกฤตอาหารครั้งที่ 1\n",
    "start_foodcrisis <- ymd('2007-11-01')\n",
    "end_foodcrisis   <- ymd('2008-06-01')\n",
    "\n",
    "# dummy years ช่วงนโยบายจำนำข้าวทุกเมล็ดของ นายก ยิ่งลักษณ์\n",
    "start_pledge <- ymd('2011-09-01')\n",
    "end_pledge   <- ymd('2014-01-01')"
   ]
  },
  {
   "cell_type": "code",
   "execution_count": 10,
   "id": "variable-protein",
   "metadata": {},
   "outputs": [
    {
     "data": {
      "text/html": [
       "<table class=\"dataframe\">\n",
       "<caption>A tibble: 372 × 9</caption>\n",
       "<thead>\n",
       "\t<tr><th scope=col>date</th><th scope=col>phf</th><th scope=col>phw</th><th scope=col>phx</th><th scope=col>pwf</th><th scope=col>pww</th><th scope=col>pwx</th><th scope=col>d_foodcrisis</th><th scope=col>d_pledge</th></tr>\n",
       "\t<tr><th scope=col>&lt;date&gt;</th><th scope=col>&lt;dbl&gt;</th><th scope=col>&lt;dbl&gt;</th><th scope=col>&lt;dbl&gt;</th><th scope=col>&lt;dbl&gt;</th><th scope=col>&lt;dbl&gt;</th><th scope=col>&lt;dbl&gt;</th><th scope=col>&lt;dbl&gt;</th><th scope=col>&lt;dbl&gt;</th></tr>\n",
       "</thead>\n",
       "<tbody>\n",
       "\t<tr><td>1989-01-01</td><td>4237</td><td>NaN</td><td>NaN</td><td>3939</td><td>NaN</td><td>NaN</td><td>0</td><td>0</td></tr>\n",
       "\t<tr><td>1989-02-01</td><td>4331</td><td>NaN</td><td>NaN</td><td>4056</td><td>NaN</td><td>NaN</td><td>0</td><td>0</td></tr>\n",
       "\t<tr><td>1989-03-01</td><td>4420</td><td>NaN</td><td>NaN</td><td>4135</td><td>NaN</td><td>NaN</td><td>0</td><td>0</td></tr>\n",
       "\t<tr><td>1989-04-01</td><td>4506</td><td>NaN</td><td>NaN</td><td>4249</td><td>NaN</td><td>NaN</td><td>0</td><td>0</td></tr>\n",
       "\t<tr><td>1989-05-01</td><td>4620</td><td>NaN</td><td>NaN</td><td>4450</td><td>NaN</td><td>NaN</td><td>0</td><td>0</td></tr>\n",
       "\t<tr><td>...</td><td>...</td><td>...</td><td>...</td><td>...</td><td>...</td><td>...</td><td>...</td><td>...</td></tr>\n",
       "\t<tr><td>2019-08-01</td><td>16035</td><td>33364.29</td><td>36817.24</td><td>7897</td><td>11764.29</td><td>13111.66</td><td>0</td><td>0</td></tr>\n",
       "\t<tr><td>2019-09-01</td><td>16562</td><td>34640.48</td><td>37540.59</td><td>7827</td><td>11550.00</td><td>12889.96</td><td>0</td><td>0</td></tr>\n",
       "\t<tr><td>2019-10-01</td><td>16291</td><td>34650.00</td><td>36691.71</td><td>7921</td><td>11402.38</td><td>12731.47</td><td>0</td><td>0</td></tr>\n",
       "\t<tr><td>2019-11-01</td><td>14322</td><td>32802.63</td><td>33992.05</td><td>7881</td><td>11286.84</td><td>12619.58</td><td>0</td><td>0</td></tr>\n",
       "\t<tr><td>2019-12-01</td><td>13529</td><td>30550.00</td><td>32849.26</td><td>7705</td><td>11527.78</td><td>12933.55</td><td>0</td><td>0</td></tr>\n",
       "</tbody>\n",
       "</table>\n"
      ],
      "text/latex": [
       "A tibble: 372 × 9\n",
       "\\begin{tabular}{lllllllll}\n",
       " date & phf & phw & phx & pwf & pww & pwx & d\\_foodcrisis & d\\_pledge\\\\\n",
       " <date> & <dbl> & <dbl> & <dbl> & <dbl> & <dbl> & <dbl> & <dbl> & <dbl>\\\\\n",
       "\\hline\n",
       "\t 1989-01-01 & 4237 & NaN & NaN & 3939 & NaN & NaN & 0 & 0\\\\\n",
       "\t 1989-02-01 & 4331 & NaN & NaN & 4056 & NaN & NaN & 0 & 0\\\\\n",
       "\t 1989-03-01 & 4420 & NaN & NaN & 4135 & NaN & NaN & 0 & 0\\\\\n",
       "\t 1989-04-01 & 4506 & NaN & NaN & 4249 & NaN & NaN & 0 & 0\\\\\n",
       "\t 1989-05-01 & 4620 & NaN & NaN & 4450 & NaN & NaN & 0 & 0\\\\\n",
       "\t ... & ... & ... & ... & ... & ... & ... & ... & ...\\\\\n",
       "\t 2019-08-01 & 16035 & 33364.29 & 36817.24 & 7897 & 11764.29 & 13111.66 & 0 & 0\\\\\n",
       "\t 2019-09-01 & 16562 & 34640.48 & 37540.59 & 7827 & 11550.00 & 12889.96 & 0 & 0\\\\\n",
       "\t 2019-10-01 & 16291 & 34650.00 & 36691.71 & 7921 & 11402.38 & 12731.47 & 0 & 0\\\\\n",
       "\t 2019-11-01 & 14322 & 32802.63 & 33992.05 & 7881 & 11286.84 & 12619.58 & 0 & 0\\\\\n",
       "\t 2019-12-01 & 13529 & 30550.00 & 32849.26 & 7705 & 11527.78 & 12933.55 & 0 & 0\\\\\n",
       "\\end{tabular}\n"
      ],
      "text/markdown": [
       "\n",
       "A tibble: 372 × 9\n",
       "\n",
       "| date &lt;date&gt; | phf &lt;dbl&gt; | phw &lt;dbl&gt; | phx &lt;dbl&gt; | pwf &lt;dbl&gt; | pww &lt;dbl&gt; | pwx &lt;dbl&gt; | d_foodcrisis &lt;dbl&gt; | d_pledge &lt;dbl&gt; |\n",
       "|---|---|---|---|---|---|---|---|---|\n",
       "| 1989-01-01 | 4237 | NaN | NaN | 3939 | NaN | NaN | 0 | 0 |\n",
       "| 1989-02-01 | 4331 | NaN | NaN | 4056 | NaN | NaN | 0 | 0 |\n",
       "| 1989-03-01 | 4420 | NaN | NaN | 4135 | NaN | NaN | 0 | 0 |\n",
       "| 1989-04-01 | 4506 | NaN | NaN | 4249 | NaN | NaN | 0 | 0 |\n",
       "| 1989-05-01 | 4620 | NaN | NaN | 4450 | NaN | NaN | 0 | 0 |\n",
       "| ... | ... | ... | ... | ... | ... | ... | ... | ... |\n",
       "| 2019-08-01 | 16035 | 33364.29 | 36817.24 | 7897 | 11764.29 | 13111.66 | 0 | 0 |\n",
       "| 2019-09-01 | 16562 | 34640.48 | 37540.59 | 7827 | 11550.00 | 12889.96 | 0 | 0 |\n",
       "| 2019-10-01 | 16291 | 34650.00 | 36691.71 | 7921 | 11402.38 | 12731.47 | 0 | 0 |\n",
       "| 2019-11-01 | 14322 | 32802.63 | 33992.05 | 7881 | 11286.84 | 12619.58 | 0 | 0 |\n",
       "| 2019-12-01 | 13529 | 30550.00 | 32849.26 | 7705 | 11527.78 | 12933.55 | 0 | 0 |\n",
       "\n"
      ],
      "text/plain": [
       "    date       phf   phw      phx      pwf  pww      pwx      d_foodcrisis\n",
       "1   1989-01-01 4237  NaN      NaN      3939 NaN      NaN      0           \n",
       "2   1989-02-01 4331  NaN      NaN      4056 NaN      NaN      0           \n",
       "3   1989-03-01 4420  NaN      NaN      4135 NaN      NaN      0           \n",
       "4   1989-04-01 4506  NaN      NaN      4249 NaN      NaN      0           \n",
       "5   1989-05-01 4620  NaN      NaN      4450 NaN      NaN      0           \n",
       "... ...        ...   ...      ...      ...  ...      ...      ...         \n",
       "368 2019-08-01 16035 33364.29 36817.24 7897 11764.29 13111.66 0           \n",
       "369 2019-09-01 16562 34640.48 37540.59 7827 11550.00 12889.96 0           \n",
       "370 2019-10-01 16291 34650.00 36691.71 7921 11402.38 12731.47 0           \n",
       "371 2019-11-01 14322 32802.63 33992.05 7881 11286.84 12619.58 0           \n",
       "372 2019-12-01 13529 30550.00 32849.26 7705 11527.78 12933.55 0           \n",
       "    d_pledge\n",
       "1   0       \n",
       "2   0       \n",
       "3   0       \n",
       "4   0       \n",
       "5   0       \n",
       "... ...     \n",
       "368 0       \n",
       "369 0       \n",
       "370 0       \n",
       "371 0       \n",
       "372 0       "
      ]
     },
     "metadata": {},
     "output_type": "display_data"
    }
   ],
   "source": [
    "rice_price_wide_m_clean <- rice_price_wide_m_clean %>%\n",
    "  mutate(\n",
    "    d_foodcrisis = ifelse(\n",
    "      date >= start_foodcrisis & date <= end_foodcrisis, 1, 0),\n",
    "    d_pledge = ifelse(\n",
    "      date >= start_pledge & date <= end_pledge, 1, 0)\n",
    "  )\n",
    "\n",
    "rice_price_wide_m_clean\n",
    "# rice_price_wide"
   ]
  },
  {
   "cell_type": "code",
   "execution_count": 11,
   "id": "established-drama",
   "metadata": {},
   "outputs": [],
   "source": [
    "saveRDS(rice_price_wide_m_clean, 'data/rice/clean/rice_price.rds')\n",
    "write_xlsx(rice_price_wide_m_clean, 'data/rice/clean/rice_price.xlsx')"
   ]
  },
  {
   "cell_type": "code",
   "execution_count": 30,
   "id": "portuguese-monster",
   "metadata": {},
   "outputs": [],
   "source": [
    "options(repr.plot.bg = \"grey80\")"
   ]
  },
  {
   "cell_type": "markdown",
   "id": "advanced-chrome",
   "metadata": {},
   "source": [
    "# กราฟ"
   ]
  },
  {
   "cell_type": "code",
   "execution_count": 31,
   "id": "challenging-communications",
   "metadata": {},
   "outputs": [
    {
     "data": {
      "image/png": "[encoded data removed]",
      "text/plain": [
       "plot without title"
      ]
     },
     "metadata": {
      "image/png": {
       "height": 900,
       "width": 1500
      }
     },
     "output_type": "display_data"
    }
   ],
   "source": [
    "rice_price_wide_m_clean %>% filter(date >= '2004-01-01') %>%\n",
    "  ggplot(aes(x=date)) +\n",
    "    geom_line( aes(y=phf, color = 'เกษตรกรขายได้')) +\n",
    "    geom_line( aes(y=phw, color = 'ขายส่ง')) +\n",
    "    geom_line( aes(y=phx, color = 'ส่งออก')) +\n",
    "    scale_color_d3() +\n",
    "    expand_limits(y = 0) +\n",
    "    scale_y_continuous(label = comma) +\n",
    "    labs(title = 'ราคาข้าวหอมมะลิ 3 ตลาด',\n",
    "         x =  \"ปี\",\n",
    "         y = 'บาท/ตัน'\n",
    "        ) +\n",
    "    theme_ipsum(\n",
    "      base_size = 16,\n",
    "      base_family = \"Athiti Light\",\n",
    "      axis_title_size = 16\n",
    "    ) + \n",
    "    theme(\n",
    "      legend.position = c(1, 1),\n",
    "      legend.direction = 'horizontal',\n",
    "      legend.justification = 'right',\n",
    "      legend.title = element_blank(),\n",
    "      panel.grid.major = element_blank(), \n",
    "      panel.grid.minor = element_blank(),\n",
    "      panel.background = element_rect(fill = \"transparent\",colour = NA),\n",
    "      plot.background = element_rect(fill = \"transparent\",colour = NA)\n",
    "    ) +\n",
    "    scale_x_date(date_breaks = '2 years',\n",
    "                 labels = function(x) year(x)+543\n",
    "                 )"
   ]
  },
  {
   "cell_type": "code",
   "execution_count": 32,
   "id": "worthy-candidate",
   "metadata": {},
   "outputs": [
    {
     "data": {
      "image/png": "[encoded data removed]",
      "text/plain": [
       "plot without title"
      ]
     },
     "metadata": {
      "image/png": {
       "height": 900,
       "width": 1500
      }
     },
     "output_type": "display_data"
    }
   ],
   "source": [
    "rice_price_wide_m_clean %>% filter(date >= '2004-01-01') %>%\n",
    "  ggplot(aes(x=date)) +\n",
    "    geom_line( aes(y=pwf, color = 'เกษตรกรขายได้')) +\n",
    "    geom_line( aes(y=pww, color = 'ขายส่ง')) +\n",
    "    geom_line( aes(y=pwx, color = 'ส่งออก')) +\n",
    "    scale_color_d3() +\n",
    "    expand_limits(y = 0) +\n",
    "    scale_y_continuous(label = comma) +\n",
    "    labs(title = 'ราคาข้าวเจ้าขาว 3 ตลาด',\n",
    "         x =  \"ปี\",\n",
    "         y = 'บาท/ตัน'\n",
    "        ) +\n",
    "    theme_ipsum(\n",
    "      base_size = 16,\n",
    "      base_family = \"Athiti Light\",\n",
    "      axis_title_size = 16\n",
    "    ) +\n",
    "    theme(\n",
    "      legend.position = c(1, 1),\n",
    "      legend.direction = 'horizontal',\n",
    "      legend.justification = 'right',\n",
    "      legend.title = element_blank()\n",
    "    ) +\n",
    "    scale_x_date(date_breaks = '2 years',\n",
    "                 labels = function(x) year(x)+543\n",
    "                 )"
   ]
  },
  {
   "cell_type": "markdown",
   "id": "packed-albania",
   "metadata": {},
   "source": [
    "# Backup"
   ]
  },
  {
   "cell_type": "code",
   "execution_count": null,
   "id": "figured-survivor",
   "metadata": {},
   "outputs": [],
   "source": [
    "# rice_fg_wide = rice_price %>%\n",
    "#   filter(grepl('FG', price_id)) %>%\n",
    "#   filter(!is.na(amount)) %>%\n",
    "#   filter(!is.na(date)) %>%\n",
    "#   left_join(tbl_admin_tha1, by=c(\"place\" = \"name_oae1\")) %>%\n",
    "#   mutate(place_id = str_replace_all(HASC_1, \"TH.\", \"\")) %>%\n",
    "#   mutate(new_price_id=paste(price_id, place_id, sep=\"_\")) %>%\n",
    "#   mutate(month = floor_date(date, \"month\")) %>%\n",
    "#   filter(new_price_id %in% prices) %>%\n",
    "#   select(month, place, new_price_id, amount) %>%\n",
    "#   group_by(month, new_price_id) %>%\n",
    "#   summarise(amount = mean(amount)) %>%\n",
    "#   spread(new_price_id, amount)\n",
    "\n",
    "# write.xlsx(rice_price_wide, '../data/rice/rice_price_wide.xlsx')"
   ]
  },
  {
   "cell_type": "code",
   "execution_count": null,
   "id": "received-muscle",
   "metadata": {},
   "outputs": [],
   "source": [
    "# prices = c(\"RHWS00BO\", \"RHWS00BN\", # hommali rice wholesale\n",
    "#            \"RHXB00BO\", \"RHXB00BN\", # hommali rice export\n",
    "#            \"RWWS05GO\", \"RWWS05GN\", # white rice wholesale \n",
    "#            \"RWXB05GU\", # white rice export \n",
    "#            \"RGWS10LO\", \"RGWS10LN\", # glutinous wholesale\n",
    "#            \"RGXB10GF\", \"RGXB10GS\", \"RGXB10GU\", \"RGXB10LU\" # glutinous export\n",
    "#           )\n",
    "\n",
    "# rice_price_wide = rice_price %>%\n",
    "#     select(-place) %>%\n",
    "#     filter(price_id %in% prices) %>%\n",
    "#     filter(!is.na(date)) %>%\n",
    "#     mutate(month = floor_date(date, \"month\")) %>%\n",
    "#     mutate(new_price_id = substr(price_id,start = 1, stop = 4)) %>%\n",
    "#     group_by(month, new_price_id) %>%\n",
    "#     summarise(amount = mean(amount)) %>%\n",
    "#     spread(new_price_id, amount) %>%\n",
    "#     right_join(rice_fg_wide, by=\"month\")"
   ]
  },
  {
   "cell_type": "code",
   "execution_count": null,
   "id": "fossil-absorption",
   "metadata": {},
   "outputs": [],
   "source": [
    "# check <- rice_price %>%\n",
    "#     filter(grepl('FG', price_id)) %>%\n",
    "#     mutate(count = !is.na(amount)) %>%\n",
    "#     group_by(place, price_id) %>%\n",
    "#     summarise(sum = sum(count)) %>%\n",
    "#     spread(price_id, sum)\n",
    "\n",
    "# write.xlsx(check, '../data/rice/check.xlsx')"
   ]
  },
  {
   "cell_type": "code",
   "execution_count": null,
   "id": "faced-strengthening",
   "metadata": {},
   "outputs": [],
   "source": [
    "# library(rio)\n",
    "# data_list <- import_list(\"../data/data_dict.xlsx\")\n",
    "\n",
    "# A <- data_list$aa['aa']\n",
    "# B <- data_list$bb['bb']\n",
    "# C <- data_list$cc['cc']\n",
    "# D <- data_list$d['d']\n",
    "# E <- data_list$e['e']\n",
    "\n",
    "# price_id_names <- unique(rice_price$price_id)\n",
    "\n",
    "# tbl_rice_price <- crossing(A,B,C,D,E) %>% \n",
    "#     mutate(price_id = pmap_chr(., paste, sep=\"\")) %>%\n",
    "#     mutate(price_id = str_replace_all(price_id, \"Z\", \"\")) %>%\n",
    "#     filter(price_id %in% price_id_names)\n",
    "\n",
    "# tbl_rice_price <- tbl_price_rice %>%\n",
    "#     left_join(data_list$aa) %>%\n",
    "#     left_join(data_list$bb) %>%\n",
    "#     left_join(data_list$cc) %>%\n",
    "#     left_join(data_list$d) %>%\n",
    "#     left_join(data_list$e) %>%\n",
    "#     unite(price_name, c(aa_name, bb_name, cc_name, d_name, e_name), sep = \" \", remove = FALSE) %>%\n",
    "#     unite(price_name_th, c(aa_name_th, bb_name_th, cc_name_th, d_name_th, e_name_th), sep = \" \", remove = FALSE) %>%\n",
    "#     mutate(price_name = str_replace_all(price_name, \"NA\", \"\")) %>% \n",
    "#     mutate(price_name_th = str_replace_all(price_name_th, \"NA\", \"\"))\n",
    "\n",
    "# write.xlsx(tbl_rice_price, '../data/rice/tbl_rice_price.xlsx')"
   ]
  },
  {
   "cell_type": "code",
   "execution_count": null,
   "id": "bright-motion",
   "metadata": {},
   "outputs": [],
   "source": [
    "# count_by_price_id <- rice_price %>%\n",
    "#     group_by(price_id) %>%\n",
    "#     summarize(sum(!is.na(amount))) %>%\n",
    "#     left_join(tbl_rice_price)\n",
    "# write.xlsx(count_by_price_id, '../data/rice/count_by_price_id.xlsx')"
   ]
  },
  {
   "cell_type": "code",
   "execution_count": null,
   "id": "valued-roman",
   "metadata": {},
   "outputs": [],
   "source": [
    "# write.xlsx(unique(rice_fg$place), 'changwat.xlsx')"
   ]
  },
  {
   "cell_type": "code",
   "execution_count": null,
   "id": "described-budapest",
   "metadata": {},
   "outputs": [],
   "source": [
    "# tbl_admin_tha1 <- read_excel(\"data/tbl_admin_tha1.xlsx\")\n",
    "# tbl_admin_tha1\n",
    "\n",
    "# prices = c(\"RGFG_0\", #\"RGFG_1\", \"RGFG_2\", \"RGFG_3\",\n",
    "#            \"RGFG_KK\", \"RGFG_SN\", \"RGFG_UN\", \"RGFG_KL\", \"RGFG_MS\",\n",
    "#            \"RHFG_0\", #\"RHFG_1\", \"RHFG_2\", \"RHFG_3\", \n",
    "#            \"RHFG_SU\", \"RHFG_NR\", \"RHFG_UR\", \"RHFG_SI\", \"RHFG_BR\",\n",
    "#            \"RWFG_0\", #\"RWFG_1\", \"RWFG_2\", \"RWFG_3\", \n",
    "#            \"RWFG_NS\", \"RWFG_PC\", \"RWFG_KP\", \"RWFG_SH\", \"RWFG_PS\"\n",
    "#           )\n",
    "\n",
    "# rice_fg_wide = rice_price %>%\n",
    "#   filter(endsWith(price_id, \"FG\")) %>%\n",
    "#   mutate(HASC_1 = sapply(place,\n",
    "#                          lookup,\n",
    "#                          tbl_admin_tha1, \n",
    "#                          key = 'name_th1', \n",
    "#                          alt = 'name_alt',\n",
    "#                          val = 'HASC_1',\n",
    "#                          simplify = TRUE)\n",
    "#         ) %>%\n",
    "#   left_join(tbl_admin_tha1, by=c('HASC_1')) %>%\n",
    "#   mutate(place_id = str_replace_all(HASC_1, \"TH.\", \"\")) %>%\n",
    "#   mutate(price_id = paste(price_id, place_id, sep=\"_\")) %>%\n",
    "#   mutate(date = floor_date(date, \"month\")) %>%\n",
    "#   filter(price_id %in% prices) %>%\n",
    "#   pivot_wider(id_cols = date,\n",
    "#               names_from = price_id,\n",
    "#               values_from = amount,\n",
    "#               values_fn = list(amount = mean)\n",
    "#              )\n",
    "\n",
    "# rice_fg_wide"
   ]
  },
  {
   "cell_type": "code",
   "execution_count": null,
   "id": "hydraulic-strike",
   "metadata": {},
   "outputs": [],
   "source": [
    "# prices = c(\"RHWS00BO\", \"RHWS00BN\", # hommali rice wholesale\n",
    "#            \"RHXB00BO\", \"RHXB00BN\", # hommali rice export\n",
    "#            \"RWWS05GO\", \"RWWS05GN\", # white rice wholesale \n",
    "#            \"RWXB05GU\", # white rice export \n",
    "#            \"RGWS10LO\", \"RGWS10LN\", # glutinous wholesale\n",
    "#            \"RGXB10GF\", \"RGXB10GS\", \"RGXB10GU\", \"RGXB10LU\" # glutinous export\n",
    "#           )\n",
    "\n",
    "# rice_price_wide = rice_price %>%\n",
    "#   select(-place) %>%\n",
    "#   filter(price_id %in% prices) %>%\n",
    "#   filter(!is.na(date)) %>% # there are some missing date due to week\n",
    "#   mutate(date = floor_date(date, \"month\")) %>%\n",
    "#   mutate(price_id = substr(price_id, start = 1, stop = 4)) %>%\n",
    "#   pivot_wider(id_cols = date,\n",
    "#               names_from = price_id,\n",
    "#               values_from = amount,\n",
    "#               values_fn = list(amount = mean)\n",
    "#              )\n",
    "\n",
    "# rice_price_wide = rice_fg_wide %>% left_join(rice_price_wide, by=\"date\")\n",
    "# rice_price_wide"
   ]
  }
 ],
 "metadata": {
  "jupytext": {
   "formats": "Rmd,ipynb"
  },
  "kernelspec": {
   "display_name": "R",
   "language": "R",
   "name": "ir"
  },
  "language_info": {
   "codemirror_mode": "r",
   "file_extension": ".r",
   "mimetype": "text/x-r-source",
   "name": "R",
   "pygments_lexer": "r",
   "version": "4.0.4"
  }
 },
 "nbformat": 4,
 "nbformat_minor": 5
}
