{
 "cells": [
  {
   "cell_type": "markdown",
   "metadata": {},
   "source": [
    "# โหลด R packages และ ข้อมูล"
   ]
  },
  {
   "cell_type": "code",
   "execution_count": 11,
   "metadata": {},
   "outputs": [],
   "source": [
    "ur_adf_seq <- function(y)\n",
    "{\n",
    "  ur.trend <- ur.df(y, type='trend', selectlags = c(\"AIC\"))\n",
    "  tstat.trend <- ur.trend@teststat\n",
    "  cv.trend <- ur.trend@cval\n",
    "  res.trend <- cbind(t(round(tstat.trend,2)),cv.trend)\n",
    "  nam.trend <- rownames(res.trend)\n",
    "  nam.trend[agrep(\"tau\", nam.trend)] <- \"pi\"\n",
    "  nam.trend[grep(\"phi2\", nam.trend)] <- \"varphi2\"\n",
    "  nam.trend[grep(\"phi3\", nam.trend)] <- \"varphi3\"\n",
    "  rownames(res.trend) <- nam.trend\n",
    "\n",
    "  ur.drift <- ur.df(y, type='drift', selectlags = c(\"AIC\"))\n",
    "  tstat.drift <- ur.drift@teststat\n",
    "  cv.drift <- ur.drift@cval\n",
    "  res.drift <- cbind(t(round(tstat.drift,2)),cv.drift)\n",
    "  nam.drift <- rownames(res.drift)\n",
    "  nam.drift[agrep(\"tau\", nam.drift)] <- \"pi\"\n",
    "  nam.drift[grep(\"phi1\", nam.drift)] <- \"varphi1\"\n",
    "  rownames(res.drift) <- nam.drift\n",
    "\n",
    "  ur.none <- ur.df(y, type='none', selectlags = c(\"AIC\"))\n",
    "  tstat.none <- ur.none@teststat\n",
    "  cv.none <- ur.none@cval\n",
    "  res.none <- cbind(t(round(tstat.none,2)),cv.none)\n",
    "  nam.none <- rownames(res.none)\n",
    "  nam.none[agrep(\"tau\", nam.none)] <- \"pi\"\n",
    "  rownames(res.none) <- nam.none\n",
    "\n",
    "  # step 1 : Estimate with constant and trend and Test\n",
    "  # print summary\n",
    "  cat(\" \", \"\\n\")\n",
    "  cat(\"#################\", \"\\n\")\n",
    "  cat(\"## ADF summary ##\", \"\\n\")\n",
    "  cat(\"#################\", \"\\n\")\n",
    "  cat(\" \", \"\\n\")\n",
    "  \n",
    "  res = list(res.trend, res.drift, res.none)\n",
    "  return(res)\n",
    "  \n",
    "  \n",
    "#   if (res.trend[1,1] <= res.trend[1,3]) {\n",
    "#     cat(\"Able to reject null of unit root at 5% - with constant & trend\", \"\\n\")\n",
    "#   }else if (res.trend[1,1] > res.trend[1,3] && res.trend[2,1] >= res.trend[2,3]) {\n",
    "#     cat(\"Unable to reject null of unit root at 5% - with constant & trend\", \"\\n\")\n",
    "\n",
    "#   }else if (res.drift[1,1] <= res.drift[1,3]) {\n",
    "#     cat(\"Able to reject null of unit root at 5% - with constant\", \"\\n\")\n",
    "#   }else if (res.drift[1,1] > res.drift[1,3] && res.drift[2,1] >= res.drift[2,3]) {\n",
    "#     cat(\"Unable to reject null of unit root at 5% - with constant\", \"\\n\")\n",
    "\n",
    "#   }else if (res.none[1,1] <= res.none[1,3]) {\n",
    "#     cat(\"Able to reject null of unit root at 5% - no deterministic\", \"\\n\")\n",
    "#   }else {cat(\"Cannot reject null of unit root at 5% - no deterministic\", \"\\n\")}\n",
    "\n",
    "#   # print results\n",
    "#   cat(\" \", \"\\n\")\n",
    "#   cat(\"## ADF with constrant and time trend ##\", \"\\n\")\n",
    "#   print(res.trend)\n",
    "#   cat(\" \", \"\\n\")\n",
    "#   if (res.trend[1,1] > res.trend[1,3]) {\n",
    "#     cat(\"Cannot reject null of unit root at 5%\", \"\\n\")\n",
    "#   }else cat(\"Able to reject null of unit root at 5%\", \"\\n\")\n",
    "#     if (res.trend[2,1] < res.trend[2,3]) {\n",
    "#     cat(\"Cannot reject null of no constant and no trend at 5%\", \"\\n\")\n",
    "#   }else cat(\"Able to reject null of no constant and no trend at 5%\", \"\\n\")\n",
    "#   if (res.trend[3,1] < res.trend[3,3]) {\n",
    "#     cat(\"Cannot reject null of no trend at 5%\", \"\\n\")\n",
    "#   }else cat(\"Able to reject null of no trend at 5%\", \"\\n\")\n",
    "#   cat(\" \", \"\\n\")\n",
    "\n",
    "#   cat(\"## ADF with constrant ##\", \"\\n\")\n",
    "#   print(res.drift)\n",
    "#   cat(\" \", \"\\n\")\n",
    "#   if (res.drift[1,1] > res.drift[1,3]) {\n",
    "#     cat(\"Cannot reject null of unit root at 5%\", \"\\n\")\n",
    "#   }else cat(\"Able to reject null of unit root at 5%\", \"\\n\")\n",
    "#   if (res.drift[2,1] < res.drift[2,3]) {\n",
    "#     cat(\"Cannot reject null of no constant at 5%\", \"\\n\")\n",
    "#   }else cat(\"Able to reject null of no constant at 5%\", \"\\n\")\n",
    "#   cat(\" \", \"\\n\")\n",
    "\n",
    "#   cat(\"## ADF with no deterministic ##\", \"\\n\")\n",
    "#   print(res.none)\n",
    "#   cat(\" \", \"\\n\")\n",
    "#   if (res.none[1,1] > res.none[1,3]) {\n",
    "#     cat(\"Cannot reject null of unit root at 5%\", \"\\n\")\n",
    "#   }else cat(\"Able to reject null of unit root at 5%\", \"\\n\")\n",
    "#   cat(\" \", \"\\n\")\n",
    "\n",
    "}"
   ]
  },
  {
   "cell_type": "code",
   "execution_count": null,
   "metadata": {},
   "outputs": [],
   "source": []
  },
  {
   "cell_type": "code",
   "execution_count": 8,
   "metadata": {},
   "outputs": [],
   "source": [
    "y = price[, 1]"
   ]
  },
  {
   "cell_type": "code",
   "execution_count": 12,
   "metadata": {},
   "outputs": [
    {
     "name": "stdout",
     "output_type": "stream",
     "text": [
      "  \n",
      "################# \n",
      "## ADF summary ## \n",
      "################# \n",
      "  \n"
     ]
    },
    {
     "data": {
      "text/html": [
       "<ol>\n",
       "\t<li><table>\n",
       "<caption>A matrix: 3 <U+00D7> 4 of type dbl</caption>\n",
       "<thead>\n",
       "\t<tr><th></th><th scope=col>statistic</th><th scope=col>1pct</th><th scope=col>5pct</th><th scope=col>10pct</th></tr>\n",
       "</thead>\n",
       "<tbody>\n",
       "\t<tr><th scope=row>pi</th><td>-3.55</td><td>-3.98</td><td>-3.42</td><td>-3.13</td></tr>\n",
       "\t<tr><th scope=row>varphi2</th><td> 4.37</td><td> 6.15</td><td> 4.71</td><td> 4.05</td></tr>\n",
       "\t<tr><th scope=row>varphi3</th><td> 6.30</td><td> 8.34</td><td> 6.30</td><td> 5.36</td></tr>\n",
       "</tbody>\n",
       "</table>\n",
       "</li>\n",
       "\t<li><table>\n",
       "<caption>A matrix: 2 × 4 of type dbl</caption>\n",
       "<thead>\n",
       "\t<tr><th></th><th scope=col>statistic</th><th scope=col>1pct</th><th scope=col>5pct</th><th scope=col>10pct</th></tr>\n",
       "</thead>\n",
       "<tbody>\n",
       "\t<tr><th scope=row>pi</th><td>-1.67</td><td>-3.44</td><td>-2.87</td><td>-2.57</td></tr>\n",
       "\t<tr><th scope=row>varphi1</th><td> 1.64</td><td> 6.47</td><td> 4.61</td><td> 3.79</td></tr>\n",
       "</tbody>\n",
       "</table>\n",
       "</li>\n",
       "\t<li><table>\n",
       "<caption>A matrix: 1 × 4 of type dbl</caption>\n",
       "<thead>\n",
       "\t<tr><th></th><th scope=col>statistic</th><th scope=col>1pct</th><th scope=col>5pct</th><th scope=col>10pct</th></tr>\n",
       "</thead>\n",
       "<tbody>\n",
       "\t<tr><th scope=row>pi</th><td>-0.02</td><td>-2.58</td><td>-1.95</td><td>-1.62</td></tr>\n",
       "</tbody>\n",
       "</table>\n",
       "</li>\n",
       "</ol>\n"
      ],
      "text/latex": [
       "\\begin{enumerate}\n",
       "\\item A matrix: 3 <U+00D7> 4 of type dbl\n",
       "\\begin{tabular}{r|llll}\n",
       "  & statistic & 1pct & 5pct & 10pct\\\\\n",
       "\\hline\n",
       "\tpi & -3.55 & -3.98 & -3.42 & -3.13\\\\\n",
       "\tvarphi2 &  4.37 &  6.15 &  4.71 &  4.05\\\\\n",
       "\tvarphi3 &  6.30 &  8.34 &  6.30 &  5.36\\\\\n",
       "\\end{tabular}\n",
       "\n",
       "\\item A matrix: 2 × 4 of type dbl\n",
       "\\begin{tabular}{r|llll}\n",
       "  & statistic & 1pct & 5pct & 10pct\\\\\n",
       "\\hline\n",
       "\tpi & -1.67 & -3.44 & -2.87 & -2.57\\\\\n",
       "\tvarphi1 &  1.64 &  6.47 &  4.61 &  3.79\\\\\n",
       "\\end{tabular}\n",
       "\n",
       "\\item A matrix: 1 × 4 of type dbl\n",
       "\\begin{tabular}{r|llll}\n",
       "  & statistic & 1pct & 5pct & 10pct\\\\\n",
       "\\hline\n",
       "\tpi & -0.02 & -2.58 & -1.95 & -1.62\\\\\n",
       "\\end{tabular}\n",
       "\n",
       "\\end{enumerate}\n"
      ],
      "text/markdown": [
       "1. \n",
       "A matrix: 3 <U+00D7> 4 of type dbl\n",
       "\n",
       "| <!--/--> | statistic | 1pct | 5pct | 10pct |\n",
       "|---|---|---|---|---|\n",
       "| pi | -3.55 | -3.98 | -3.42 | -3.13 |\n",
       "| varphi2 |  4.37 |  6.15 |  4.71 |  4.05 |\n",
       "| varphi3 |  6.30 |  8.34 |  6.30 |  5.36 |\n",
       "\n",
       "\n",
       "2. \n",
       "A matrix: 2 × 4 of type dbl\n",
       "\n",
       "| <!--/--> | statistic | 1pct | 5pct | 10pct |\n",
       "|---|---|---|---|---|\n",
       "| pi | -1.67 | -3.44 | -2.87 | -2.57 |\n",
       "| varphi1 |  1.64 |  6.47 |  4.61 |  3.79 |\n",
       "\n",
       "\n",
       "3. \n",
       "A matrix: 1 × 4 of type dbl\n",
       "\n",
       "| <!--/--> | statistic | 1pct | 5pct | 10pct |\n",
       "|---|---|---|---|---|\n",
       "| pi | -0.02 | -2.58 | -1.95 | -1.62 |\n",
       "\n",
       "\n",
       "\n",
       "\n"
      ],
      "text/plain": [
       "[[1]]\n",
       "        statistic  1pct  5pct 10pct\n",
       "pi          -3.55 -3.98 -3.42 -3.13\n",
       "varphi2      4.37  6.15  4.71  4.05\n",
       "varphi3      6.30  8.34  6.30  5.36\n",
       "\n",
       "[[2]]\n",
       "        statistic  1pct  5pct 10pct\n",
       "pi          -1.67 -3.44 -2.87 -2.57\n",
       "varphi1      1.64  6.47  4.61  3.79\n",
       "\n",
       "[[3]]\n",
       "   statistic  1pct  5pct 10pct\n",
       "pi     -0.02 -2.58 -1.95 -1.62\n"
      ]
     },
     "metadata": {},
     "output_type": "display_data"
    }
   ],
   "source": [
    "ur_adf_seq(y)"
   ]
  },
  {
   "cell_type": "code",
   "execution_count": 14,
   "metadata": {},
   "outputs": [],
   "source": [
    "ur.trend <- ur.df(y, type='trend', selectlags = c(\"AIC\"))"
   ]
  },
  {
   "cell_type": "code",
   "execution_count": 29,
   "metadata": {},
   "outputs": [
    {
     "data": {
      "text/html": [
       "-3.54825108294937"
      ],
      "text/latex": [
       "-3.54825108294937"
      ],
      "text/markdown": [
       "-3.54825108294937"
      ],
      "text/plain": [
       "[1] -3.548251"
      ]
     },
     "metadata": {},
     "output_type": "display_data"
    }
   ],
   "source": [
    "ur.trend@teststat[1]"
   ]
  },
  {
   "cell_type": "code",
   "execution_count": 15,
   "metadata": {},
   "outputs": [
    {
     "data": {
      "text/html": [
       "<style>\n",
       ".list-inline {list-style: none; margin:0; padding: 0}\n",
       ".list-inline>li {display: inline-block}\n",
       ".list-inline>li:not(:last-child)::after {content: \"\\00b7\"; padding: 0 .5ex}\n",
       "</style>\n",
       "<ol class=list-inline><li>'y'</li><li>'model'</li><li>'lags'</li><li>'cval'</li><li>'res'</li><li>'teststat'</li><li>'testreg'</li><li>'test.name'</li></ol>\n"
      ],
      "text/latex": [
       "\\begin{enumerate*}\n",
       "\\item 'y'\n",
       "\\item 'model'\n",
       "\\item 'lags'\n",
       "\\item 'cval'\n",
       "\\item 'res'\n",
       "\\item 'teststat'\n",
       "\\item 'testreg'\n",
       "\\item 'test.name'\n",
       "\\end{enumerate*}\n"
      ],
      "text/markdown": [
       "1. 'y'\n",
       "2. 'model'\n",
       "3. 'lags'\n",
       "4. 'cval'\n",
       "5. 'res'\n",
       "6. 'teststat'\n",
       "7. 'testreg'\n",
       "8. 'test.name'\n",
       "\n",
       "\n"
      ],
      "text/plain": [
       "[1] \"y\"         \"model\"     \"lags\"      \"cval\"      \"res\"       \"teststat\" \n",
       "[7] \"testreg\"   \"test.name\""
      ]
     },
     "metadata": {},
     "output_type": "display_data"
    }
   ],
   "source": [
    "slotNames(ur.trend)"
   ]
  },
  {
   "cell_type": "code",
   "execution_count": 30,
   "metadata": {},
   "outputs": [
    {
     "name": "stdout",
     "output_type": "stream",
     "text": [
      "List of 11\n",
      " $ call         : language lm(formula = z.diff ~ z.lag.1 + 1 + tt + z.diff.lag)\n",
      " $ terms        :Classes 'terms', 'formula'  language z.diff ~ z.lag.1 + 1 + tt + z.diff.lag\n",
      "  .. ..- attr(*, \"variables\")= language list(z.diff, z.lag.1, tt, z.diff.lag)\n",
      "  .. ..- attr(*, \"factors\")= int [1:4, 1:3] 0 1 0 0 0 0 1 0 0 0 ...\n",
      "  .. .. ..- attr(*, \"dimnames\")=List of 2\n",
      "  .. .. .. ..$ : chr [1:4] \"z.diff\" \"z.lag.1\" \"tt\" \"z.diff.lag\"\n",
      "  .. .. .. ..$ : chr [1:3] \"z.lag.1\" \"tt\" \"z.diff.lag\"\n",
      "  .. ..- attr(*, \"term.labels\")= chr [1:3] \"z.lag.1\" \"tt\" \"z.diff.lag\"\n",
      "  .. ..- attr(*, \"order\")= int [1:3] 1 1 1\n",
      "  .. ..- attr(*, \"intercept\")= int 1\n",
      "  .. ..- attr(*, \"response\")= int 1\n",
      "  .. ..- attr(*, \".Environment\")=<environment: 0x000000001db29bd8> \n",
      "  .. ..- attr(*, \"predvars\")= language list(z.diff, z.lag.1, tt, z.diff.lag)\n",
      "  .. ..- attr(*, \"dataClasses\")= Named chr [1:4] \"numeric\" \"numeric\" \"numeric\" \"numeric\"\n",
      "  .. .. ..- attr(*, \"names\")= chr [1:4] \"z.diff\" \"z.lag.1\" \"tt\" \"z.diff.lag\"\n",
      " $ residuals    : Named num [1:373] 101 102 133 280 488 ...\n",
      "  ..- attr(*, \"names\")= chr [1:373] \"1\" \"2\" \"3\" \"4\" ...\n",
      " $ coefficients : num [1:4, 1:4] 150.842 -0.0455 1.4855 0.333 62.0309 ...\n",
      "  ..- attr(*, \"dimnames\")=List of 2\n",
      "  .. ..$ : chr [1:4] \"(Intercept)\" \"z.lag.1\" \"tt\" \"z.diff.lag\"\n",
      "  .. ..$ : chr [1:4] \"Estimate\" \"Std. Error\" \"t value\" \"Pr(>|t|)\"\n",
      " $ aliased      : Named logi [1:4] FALSE FALSE FALSE FALSE\n",
      "  ..- attr(*, \"names\")= chr [1:4] \"(Intercept)\" \"z.lag.1\" \"tt\" \"z.diff.lag\"\n",
      " $ sigma        : num 473\n",
      " $ df           : int [1:3] 4 369 4\n",
      " $ r.squared    : num 0.126\n",
      " $ adj.r.squared: num 0.119\n",
      " $ fstatistic   : Named num [1:3] 17.7 3 369\n",
      "  ..- attr(*, \"names\")= chr [1:3] \"value\" \"numdf\" \"dendf\"\n",
      " $ cov.unscaled : num [1:4, 1:4] 1.72e-02 -2.16e-06 2.69e-05 8.05e-07 -2.16e-06 ...\n",
      "  ..- attr(*, \"dimnames\")=List of 2\n",
      "  .. ..$ : chr [1:4] \"(Intercept)\" \"z.lag.1\" \"tt\" \"z.diff.lag\"\n",
      "  .. ..$ : chr [1:4] \"(Intercept)\" \"z.lag.1\" \"tt\" \"z.diff.lag\"\n",
      " - attr(*, \"class\")= chr \"summary.lm\"\n"
     ]
    }
   ],
   "source": [
    "str(ur.trend@testreg)"
   ]
  },
  {
   "cell_type": "code",
   "execution_count": 34,
   "metadata": {},
   "outputs": [
    {
     "data": {
      "text/html": [
       "369"
      ],
      "text/latex": [
       "369"
      ],
      "text/markdown": [
       "369"
      ],
      "text/plain": [
       "[1] 369"
      ]
     },
     "metadata": {},
     "output_type": "display_data"
    }
   ],
   "source": [
    "ur.trend@testreg$df[2]"
   ]
  },
  {
   "cell_type": "code",
   "execution_count": 26,
   "metadata": {},
   "outputs": [
    {
     "data": {
      "text/html": [
       "0"
      ],
      "text/latex": [
       "0"
      ],
      "text/markdown": [
       "0"
      ],
      "text/plain": [
       "[1] 0"
      ]
     },
     "metadata": {},
     "output_type": "display_data"
    }
   ],
   "source": [
    "2*stats::pnorm(-abs(3.548))"
   ]
  },
  {
   "cell_type": "code",
   "execution_count": 27,
   "metadata": {},
   "outputs": [
    {
     "data": {
      "text/html": [
       "0.000438248253195032"
      ],
      "text/latex": [
       "0.000438248253195032"
      ],
      "text/markdown": [
       "0.000438248253195032"
      ],
      "text/plain": [
       "[1] 0.0004382483"
      ]
     },
     "metadata": {},
     "output_type": "display_data"
    }
   ],
   "source": [
    "2*stats::pt(-abs(3.548), 369)"
   ]
  },
  {
   "cell_type": "code",
   "execution_count": 2,
   "metadata": {},
   "outputs": [],
   "source": [
    "price = readRDS('../data/rice/rice_price_filled.rds')"
   ]
  },
  {
   "cell_type": "code",
   "execution_count": 1,
   "metadata": {},
   "outputs": [
    {
     "name": "stderr",
     "output_type": "stream",
     "text": [
      "Loading required package: pacman\n",
      "\n"
     ]
    }
   ],
   "source": [
    "source(\"../R/oaeTS.R\", encoding = \"UTF-8\")\n",
    "year_now = 2563\n",
    "\n",
    "options(\n",
    "  repr.plot.width=10,\n",
    "  repr.plot.height=6,\n",
    "  repr.plot.res=300\n",
    ")"
   ]
  },
  {
   "cell_type": "code",
   "execution_count": null,
   "metadata": {},
   "outputs": [],
   "source": []
  },
  {
   "cell_type": "code",
   "execution_count": 10,
   "metadata": {},
   "outputs": [
    {
     "data": {
      "text/html": [
       "<table>\n",
       "<caption>A Time Series: 6 × 26</caption>\n",
       "<thead>\n",
       "\t<tr><th></th><th scope=col>RHFG</th><th scope=col>RHFG_NR</th><th scope=col>RHFG_BR</th><th scope=col>RHFG_SI</th><th scope=col>RHFG_SU</th><th scope=col>RHFG_UR</th><th scope=col>RWFG</th><th scope=col>RWFG_NS</th><th scope=col>RWFG_KP</th><th scope=col>RWFG_PC</th><th scope=col>RWFG_PS</th><th scope=col>RWFG_SH</th><th scope=col>RGFG</th><th scope=col>RGFG_UN</th><th scope=col>RGFG_SN</th><th scope=col>RGFG_KK</th><th scope=col>RGFG_MS</th><th scope=col>RGFG_KL</th><th scope=col>RHWS</th><th scope=col>RWWS</th><th scope=col>RGWS</th><th scope=col>RHXB</th><th scope=col>RWXB</th><th scope=col>RGXB</th><th scope=col>d_foodcrisis</th><th scope=col>d_pledge</th></tr>\n",
       "</thead>\n",
       "<tbody>\n",
       "\t<tr><th scope=row>Oct 2019</th><td>9.698368</td><td>9.692952</td><td>9.714262</td><td>9.706560</td><td>9.694185</td><td>9.691531</td><td>8.977273</td><td>8.944681</td><td>8.945072</td><td>8.945724</td><td>8.937875</td><td>8.950403</td><td>9.606226</td><td>9.721126</td><td>9.760252</td><td>9.725437</td><td>9.682342</td><td>9.712206</td><td>10.48010</td><td>9.363266</td><td>10.55414</td><td>10.51180</td><td>9.451832</td><td>10.63612</td><td>0</td><td>0</td></tr>\n",
       "\t<tr><th scope=row>Nov 2019</th><td>9.569552</td><td>9.602112</td><td>9.587749</td><td>9.586789</td><td>9.613068</td><td>9.592742</td><td>8.972210</td><td>8.934060</td><td>8.933796</td><td>8.930362</td><td>8.908559</td><td>8.940629</td><td>9.547027</td><td>9.625294</td><td>9.653808</td><td>9.614605</td><td>9.585759</td><td>9.615805</td><td>10.41410</td><td>9.353301</td><td>10.52597</td><td>10.46402</td><td>9.443005</td><td>10.48123</td><td>0</td><td>0</td></tr>\n",
       "\t<tr><th scope=row>Dec 2019</th><td>9.512591</td><td>9.489864</td><td>9.497172</td><td>9.515101</td><td>9.517972</td><td>9.515322</td><td>8.949625</td><td>8.919988</td><td>8.897956</td><td>8.908830</td><td>8.911530</td><td>8.947416</td><td>9.520249</td><td>9.573037</td><td>9.624765</td><td>9.591991</td><td>9.574011</td><td>9.534740</td><td>10.34335</td><td>9.373970</td><td>10.48182</td><td>10.45268</td><td>9.467580</td><td>10.44256</td><td>0</td><td>0</td></tr>\n",
       "\t<tr><th scope=row>Jan 2020</th><td>9.529303</td><td>9.536762</td><td>9.530611</td><td>9.560716</td><td>9.536618</td><td>9.553363</td><td>8.956222</td><td>8.912204</td><td>8.910316</td><td>8.904630</td><td>8.925321</td><td>8.952347</td><td>9.565073</td><td>9.687009</td><td>9.627734</td><td>9.657715</td><td>9.660333</td><td>9.596759</td><td>10.34335</td><td>9.430571</td><td>10.48252</td><td>10.45108</td><td>9.517302</td><td>10.56501</td><td>0</td><td>0</td></tr>\n",
       "\t<tr><th scope=row>Feb 2020</th><td>9.540651</td><td>9.534234</td><td>9.535318</td><td>9.559729</td><td>9.526756</td><td>9.563248</td><td>9.007734</td><td>8.930230</td><td>8.927580</td><td>8.932873</td><td>8.937481</td><td>9.018211</td><td>9.597777</td><td>9.716375</td><td>9.594173</td><td>9.681156</td><td>9.715108</td><td>9.628590</td><td>10.34098</td><td>9.459665</td><td>10.46303</td><td>10.45344</td><td>9.561999</td><td>10.48222</td><td>0</td><td>0</td></tr>\n",
       "\t<tr><th scope=row>Mar 2020</th><td>9.542221</td><td>9.530871</td><td>9.536186</td><td>9.559543</td><td>9.524687</td><td>9.563384</td><td>9.021624</td><td>8.937446</td><td>8.930804</td><td>8.943172</td><td>8.940961</td><td>9.030471</td><td>9.603651</td><td>9.716712</td><td>9.581741</td><td>9.678454</td><td>9.717101</td><td>9.620330</td><td>10.33039</td><td>9.541303</td><td>10.39818</td><td>10.45488</td><td>9.668784</td><td>10.40334</td><td>0</td><td>0</td></tr>\n",
       "</tbody>\n",
       "</table>\n"
      ],
      "text/latex": [
       "A Time Series: 6 × 26\n",
       "\\begin{tabular}{r|llllllllllllllllllllllllll}\n",
       "  & RHFG & RHFG\\_NR & RHFG\\_BR & RHFG\\_SI & RHFG\\_SU & RHFG\\_UR & RWFG & RWFG\\_NS & RWFG\\_KP & RWFG\\_PC & RWFG\\_PS & RWFG\\_SH & RGFG & RGFG\\_UN & RGFG\\_SN & RGFG\\_KK & RGFG\\_MS & RGFG\\_KL & RHWS & RWWS & RGWS & RHXB & RWXB & RGXB & d\\_foodcrisis & d\\_pledge\\\\\n",
       "\\hline\n",
       "\tOct 2019 & 9.698368 & 9.692952 & 9.714262 & 9.706560 & 9.694185 & 9.691531 & 8.977273 & 8.944681 & 8.945072 & 8.945724 & 8.937875 & 8.950403 & 9.606226 & 9.721126 & 9.760252 & 9.725437 & 9.682342 & 9.712206 & 10.48010 & 9.363266 & 10.55414 & 10.51180 & 9.451832 & 10.63612 & 0 & 0\\\\\n",
       "\tNov 2019 & 9.569552 & 9.602112 & 9.587749 & 9.586789 & 9.613068 & 9.592742 & 8.972210 & 8.934060 & 8.933796 & 8.930362 & 8.908559 & 8.940629 & 9.547027 & 9.625294 & 9.653808 & 9.614605 & 9.585759 & 9.615805 & 10.41410 & 9.353301 & 10.52597 & 10.46402 & 9.443005 & 10.48123 & 0 & 0\\\\\n",
       "\tDec 2019 & 9.512591 & 9.489864 & 9.497172 & 9.515101 & 9.517972 & 9.515322 & 8.949625 & 8.919988 & 8.897956 & 8.908830 & 8.911530 & 8.947416 & 9.520249 & 9.573037 & 9.624765 & 9.591991 & 9.574011 & 9.534740 & 10.34335 & 9.373970 & 10.48182 & 10.45268 & 9.467580 & 10.44256 & 0 & 0\\\\\n",
       "\tJan 2020 & 9.529303 & 9.536762 & 9.530611 & 9.560716 & 9.536618 & 9.553363 & 8.956222 & 8.912204 & 8.910316 & 8.904630 & 8.925321 & 8.952347 & 9.565073 & 9.687009 & 9.627734 & 9.657715 & 9.660333 & 9.596759 & 10.34335 & 9.430571 & 10.48252 & 10.45108 & 9.517302 & 10.56501 & 0 & 0\\\\\n",
       "\tFeb 2020 & 9.540651 & 9.534234 & 9.535318 & 9.559729 & 9.526756 & 9.563248 & 9.007734 & 8.930230 & 8.927580 & 8.932873 & 8.937481 & 9.018211 & 9.597777 & 9.716375 & 9.594173 & 9.681156 & 9.715108 & 9.628590 & 10.34098 & 9.459665 & 10.46303 & 10.45344 & 9.561999 & 10.48222 & 0 & 0\\\\\n",
       "\tMar 2020 & 9.542221 & 9.530871 & 9.536186 & 9.559543 & 9.524687 & 9.563384 & 9.021624 & 8.937446 & 8.930804 & 8.943172 & 8.940961 & 9.030471 & 9.603651 & 9.716712 & 9.581741 & 9.678454 & 9.717101 & 9.620330 & 10.33039 & 9.541303 & 10.39818 & 10.45488 & 9.668784 & 10.40334 & 0 & 0\\\\\n",
       "\\end{tabular}\n"
      ],
      "text/markdown": [
       "\n",
       "A Time Series: 6 × 26\n",
       "\n",
       "| <!--/--> | RHFG | RHFG_NR | RHFG_BR | RHFG_SI | RHFG_SU | RHFG_UR | RWFG | RWFG_NS | RWFG_KP | RWFG_PC | RWFG_PS | RWFG_SH | RGFG | RGFG_UN | RGFG_SN | RGFG_KK | RGFG_MS | RGFG_KL | RHWS | RWWS | RGWS | RHXB | RWXB | RGXB | d_foodcrisis | d_pledge |\n",
       "|---|---|---|---|---|---|---|---|---|---|---|---|---|---|---|---|---|---|---|---|---|---|---|---|---|---|---|\n",
       "| Oct 2019 | 9.698368 | 9.692952 | 9.714262 | 9.706560 | 9.694185 | 9.691531 | 8.977273 | 8.944681 | 8.945072 | 8.945724 | 8.937875 | 8.950403 | 9.606226 | 9.721126 | 9.760252 | 9.725437 | 9.682342 | 9.712206 | 10.48010 | 9.363266 | 10.55414 | 10.51180 | 9.451832 | 10.63612 | 0 | 0 |\n",
       "| Nov 2019 | 9.569552 | 9.602112 | 9.587749 | 9.586789 | 9.613068 | 9.592742 | 8.972210 | 8.934060 | 8.933796 | 8.930362 | 8.908559 | 8.940629 | 9.547027 | 9.625294 | 9.653808 | 9.614605 | 9.585759 | 9.615805 | 10.41410 | 9.353301 | 10.52597 | 10.46402 | 9.443005 | 10.48123 | 0 | 0 |\n",
       "| Dec 2019 | 9.512591 | 9.489864 | 9.497172 | 9.515101 | 9.517972 | 9.515322 | 8.949625 | 8.919988 | 8.897956 | 8.908830 | 8.911530 | 8.947416 | 9.520249 | 9.573037 | 9.624765 | 9.591991 | 9.574011 | 9.534740 | 10.34335 | 9.373970 | 10.48182 | 10.45268 | 9.467580 | 10.44256 | 0 | 0 |\n",
       "| Jan 2020 | 9.529303 | 9.536762 | 9.530611 | 9.560716 | 9.536618 | 9.553363 | 8.956222 | 8.912204 | 8.910316 | 8.904630 | 8.925321 | 8.952347 | 9.565073 | 9.687009 | 9.627734 | 9.657715 | 9.660333 | 9.596759 | 10.34335 | 9.430571 | 10.48252 | 10.45108 | 9.517302 | 10.56501 | 0 | 0 |\n",
       "| Feb 2020 | 9.540651 | 9.534234 | 9.535318 | 9.559729 | 9.526756 | 9.563248 | 9.007734 | 8.930230 | 8.927580 | 8.932873 | 8.937481 | 9.018211 | 9.597777 | 9.716375 | 9.594173 | 9.681156 | 9.715108 | 9.628590 | 10.34098 | 9.459665 | 10.46303 | 10.45344 | 9.561999 | 10.48222 | 0 | 0 |\n",
       "| Mar 2020 | 9.542221 | 9.530871 | 9.536186 | 9.559543 | 9.524687 | 9.563384 | 9.021624 | 8.937446 | 8.930804 | 8.943172 | 8.940961 | 9.030471 | 9.603651 | 9.716712 | 9.581741 | 9.678454 | 9.717101 | 9.620330 | 10.33039 | 9.541303 | 10.39818 | 10.45488 | 9.668784 | 10.40334 | 0 | 0 |\n",
       "\n"
      ],
      "text/plain": [
       "         RHFG     RHFG_NR  RHFG_BR  RHFG_SI  RHFG_SU  RHFG_UR  RWFG    \n",
       "Oct 2019 9.698368 9.692952 9.714262 9.706560 9.694185 9.691531 8.977273\n",
       "Nov 2019 9.569552 9.602112 9.587749 9.586789 9.613068 9.592742 8.972210\n",
       "Dec 2019 9.512591 9.489864 9.497172 9.515101 9.517972 9.515322 8.949625\n",
       "Jan 2020 9.529303 9.536762 9.530611 9.560716 9.536618 9.553363 8.956222\n",
       "Feb 2020 9.540651 9.534234 9.535318 9.559729 9.526756 9.563248 9.007734\n",
       "Mar 2020 9.542221 9.530871 9.536186 9.559543 9.524687 9.563384 9.021624\n",
       "         RWFG_NS  RWFG_KP  RWFG_PC  RWFG_PS  RWFG_SH  RGFG     RGFG_UN \n",
       "Oct 2019 8.944681 8.945072 8.945724 8.937875 8.950403 9.606226 9.721126\n",
       "Nov 2019 8.934060 8.933796 8.930362 8.908559 8.940629 9.547027 9.625294\n",
       "Dec 2019 8.919988 8.897956 8.908830 8.911530 8.947416 9.520249 9.573037\n",
       "Jan 2020 8.912204 8.910316 8.904630 8.925321 8.952347 9.565073 9.687009\n",
       "Feb 2020 8.930230 8.927580 8.932873 8.937481 9.018211 9.597777 9.716375\n",
       "Mar 2020 8.937446 8.930804 8.943172 8.940961 9.030471 9.603651 9.716712\n",
       "         RGFG_SN  RGFG_KK  RGFG_MS  RGFG_KL  RHWS     RWWS     RGWS    \n",
       "Oct 2019 9.760252 9.725437 9.682342 9.712206 10.48010 9.363266 10.55414\n",
       "Nov 2019 9.653808 9.614605 9.585759 9.615805 10.41410 9.353301 10.52597\n",
       "Dec 2019 9.624765 9.591991 9.574011 9.534740 10.34335 9.373970 10.48182\n",
       "Jan 2020 9.627734 9.657715 9.660333 9.596759 10.34335 9.430571 10.48252\n",
       "Feb 2020 9.594173 9.681156 9.715108 9.628590 10.34098 9.459665 10.46303\n",
       "Mar 2020 9.581741 9.678454 9.717101 9.620330 10.33039 9.541303 10.39818\n",
       "         RHXB     RWXB     RGXB     d_foodcrisis d_pledge\n",
       "Oct 2019 10.51180 9.451832 10.63612 0            0       \n",
       "Nov 2019 10.46402 9.443005 10.48123 0            0       \n",
       "Dec 2019 10.45268 9.467580 10.44256 0            0       \n",
       "Jan 2020 10.45108 9.517302 10.56501 0            0       \n",
       "Feb 2020 10.45344 9.561999 10.48222 0            0       \n",
       "Mar 2020 10.45488 9.668784 10.40334 0            0       "
      ]
     },
     "metadata": {},
     "output_type": "display_data"
    }
   ],
   "source": [
    "price = readRDS('../data/rice/rice_price_filled.rds')\n",
    "var_names = colnames(price)\n",
    "colnames(price) = str_replace(colnames(price), \"_0\", \"\")\n",
    "price_xts = price %>% as.xts()\n",
    "price_log = price\n",
    "price_log[, startsWith(var_names, 'R')] = \n",
    "  price_log[, startsWith(var_names, 'R')] %>% log()\n",
    "tail(price_log)"
   ]
  },
  {
   "cell_type": "markdown",
   "metadata": {},
   "source": [
    "## Plot กราฟ ACF และ PACF"
   ]
  },
  {
   "cell_type": "code",
   "execution_count": 11,
   "metadata": {},
   "outputs": [],
   "source": [
    "plot_tsexplore = function(y, name = \"price\", ...){\n",
    "  \n",
    "  layout(matrix(c(1,1,2,3), 2, 2, byrow = TRUE),\n",
    "         widths=c(1,1), heights=c(1,.7))\n",
    "  par(mar = c(4, 2, 3, .2))\n",
    "  \n",
    "  plot(y, main = name  , ylab = \"\", xlab=\"Year\")\n",
    "  acf( y, main = \"ACF\" , ylab = \"\")\n",
    "  pacf(y, main = \"PACF\", ylab = \"\")\n",
    "}\n",
    "\n",
    "save_plot_tsexplore = function(data) {\n",
    "  names = colnames(data)\n",
    "  \n",
    "  for(i in seq_along(names)){\n",
    "    name = names[i]\n",
    "    y = data[, i] %>% na.omit()\n",
    "    \n",
    "    filename = paste0(\"../img/plot_\", name, \".png\")\n",
    "    png(filename = filename,\n",
    "      units = \"in\", \n",
    "      width = 5, \n",
    "      height = 4, \n",
    "      pointsize = 10, \n",
    "      res = 300)\n",
    "    \n",
    "    plot_tsexplore(y, name)\n",
    "    \n",
    "    dev.off()\n",
    "  }\n",
    "}"
   ]
  },
  {
   "cell_type": "code",
   "execution_count": 12,
   "metadata": {},
   "outputs": [
    {
     "data": {
      "image/png": "[encoded data removed]",
      "text/plain": [
       "Plot with title \"PACF\""
      ]
     },
     "metadata": {
      "image/png": {
       "height": 900,
       "width": 1500
      },
      "text/plain": {
       "height": 900,
       "width": 1500
      }
     },
     "output_type": "display_data"
    }
   ],
   "source": [
    "# ทดสอบ\n",
    "y = price[, 1] %>% na.omit()\n",
    "plot_tsexplore(y)"
   ]
  },
  {
   "cell_type": "code",
   "execution_count": 5,
   "metadata": {},
   "outputs": [],
   "source": [
    "# save_plot_tsexplore(price)"
   ]
  },
  {
   "cell_type": "markdown",
   "metadata": {},
   "source": [
    "## แยกข้อมูลราคาออกเป็นกลุ่ม"
   ]
  },
  {
   "cell_type": "code",
   "execution_count": 17,
   "metadata": {},
   "outputs": [],
   "source": [
    "rh   = price_log[, c('RHFG', 'RHWS', 'RHXB', \n",
    "                     'd_foodcrisis', 'd_pledge')] %>% na.omit()\n",
    "rw   = price_log[, c('RWFG', 'RWWS', 'RWXB',\n",
    "                     'd_foodcrisis', 'd_pledge')] %>% na.omit()\n",
    "rg   = price_log[, c('RGFG', 'RGWS', 'RGXB', \n",
    "                     'd_foodcrisis', 'd_pledge')] %>% na.omit()\n",
    "\n",
    "rhfg = price_log[, c('RHFG_NR', 'RHFG_BR', 'RHFG_SI', 'RHFG_SU', 'RHFG_UR',\n",
    "                     'd_foodcrisis', 'd_pledge')] %>% na.omit()\n",
    "rwfg = price_log[, c('RWFG_NS', 'RWFG_KP', 'RWFG_PC', 'RWFG_PS', 'RWFG_SH',\n",
    "                     'd_foodcrisis', 'd_pledge')] %>% na.omit()\n",
    "rgfg = price_log[, c('RGFG_UN', 'RGFG_SN', 'RGFG_KK', 'RGFG_MS', 'RGFG_KL', \n",
    "                     'd_foodcrisis', 'd_pledge')] %>% na.omit()\n",
    "\n",
    "rfg  = price_log[, c('RHFG', 'RWFG', 'RGFG', \n",
    "                     'd_foodcrisis', 'd_pledge')] %>% na.omit()\n",
    "\n",
    "rice_list = list(rh, rw, rg, rhfg, rwfg, rgfg, rfg) %>%\n",
    "  set_names(c('rh', 'rw', 'rg', 'rhfg', 'rwfg', 'rgfg', 'rfg'))"
   ]
  },
  {
   "cell_type": "markdown",
   "metadata": {},
   "source": [
    "## สร้าง helper function ในการทดสอบ stationary"
   ]
  },
  {
   "cell_type": "code",
   "execution_count": 15,
   "metadata": {},
   "outputs": [],
   "source": [
    "star_tstat = function (tstat, cval=NULL, pval=NULL) {\n",
    "  # cval need to be vector with name\n",
    "  rounded = format(tstat, digits = 2, nsmall=2)\n",
    "  \n",
    "  if (!is.null(cval)) {\n",
    "    x = case_when(\n",
    "     abs(tstat) >= abs(cval['cv01']) ~ paste0(rounded, '***'),\n",
    "     abs(tstat) >= abs(cval['cv05']) ~ paste0(rounded, '** '),\n",
    "     abs(tstat) >= abs(cval['cv10']) ~ paste0(rounded, '*  '),\n",
    "     TRUE ~ paste0(rounded, '   ') \n",
    "    )\n",
    "  } else if (!is.null(pval)) {\n",
    "    x = case_when(\n",
    "      pval <= 0.01 ~ paste0(rounded, '***'),\n",
    "      pval <= 0.05 ~ paste0(rounded, '** '),\n",
    "      pval <= 0.10 ~ paste0(rounded, '*  '),\n",
    "      TRUE ~ paste0(rounded, '   ')\n",
    "    )\n",
    "  }\n",
    "  \n",
    "  return(x)\n",
    "}\n",
    "\n",
    "\n",
    "report_test = function(ys, ur_test, differences, specs) {\n",
    "  \n",
    "  y_names = colnames(ys)\n",
    "  df = data.frame()\n",
    "  for (y_name in y_names) {\n",
    "    y = ys[, y_name]\n",
    "    df_ = data.frame()\n",
    "    for (n_diff in differences) {\n",
    "      for (spec in specs) {\n",
    "        res = ur_test(y, n_diff = n_diff, spec = spec)\n",
    "        df_ = df_ %>% rbind(res)\n",
    "      }\n",
    "    }\n",
    "    df_['variable'] = y_name \n",
    "    df = df %>% rbind(df_)\n",
    "  }\n",
    "  \n",
    "  return(df %>% select(variable, everything()))\n",
    "}"
   ]
  },
  {
   "cell_type": "markdown",
   "metadata": {
    "incorrectly_encoded_metadata": "toc-hr-collapsed=true toc-nb-collapsed=true"
   },
   "source": [
    "# ทดสอบ Structural Break"
   ]
  },
  {
   "cell_type": "markdown",
   "metadata": {},
   "source": [
    "## Zivot-Andrew 1 Break"
   ]
  },
  {
   "cell_type": "code",
   "execution_count": 8,
   "metadata": {},
   "outputs": [
    {
     "data": {
      "text/html": [
       "<pre class=language-r><code>function (y, model = c(\"intercept\", \"trend\", \"both\"), lag = NULL) \n",
       "NULL</code></pre>"
      ],
      "text/latex": [
       "\\begin{minted}{r}\n",
       "function (y, model = c(\"intercept\", \"trend\", \"both\"), lag = NULL) \n",
       "NULL\n",
       "\\end{minted}"
      ],
      "text/markdown": [
       "```r\n",
       "function (y, model = c(\"intercept\", \"trend\", \"both\"), lag = NULL) \n",
       "NULL\n",
       "```"
      ],
      "text/plain": [
       "function (y, model = c(\"intercept\", \"trend\", \"both\"), lag = NULL) \n",
       "NULL"
      ]
     },
     "metadata": {},
     "output_type": "display_data"
    },
    {
     "data": {
      "text/html": [
       "<style>\n",
       ".dl-inline {width: auto; margin:0; padding: 0}\n",
       ".dl-inline>dt, .dl-inline>dd {float: none; width: auto; display: inline-block}\n",
       ".dl-inline>dt::after {content: \":\\0020\"; padding-right: .5ex}\n",
       ".dl-inline>dt:not(:first-of-type) {padding-left: .5ex}\n",
       "</style><dl class=dl-inline><dt>y</dt><dd>'vector'</dd><dt>model</dt><dd>'character'</dd><dt>lag</dt><dd>'integer'</dd><dt>teststat</dt><dd>'numeric'</dd><dt>cval</dt><dd>'vector'</dd><dt>bpoint</dt><dd>'integer'</dd><dt>tstats</dt><dd>'vector'</dd><dt>res</dt><dd>'vector'</dd><dt>testreg</dt><dd>'ANY'</dd><dt>test.name</dt><dd>'character'</dd></dl>\n"
      ],
      "text/latex": [
       "\\begin{description*}\n",
       "\\item[y] 'vector'\n",
       "\\item[model] 'character'\n",
       "\\item[lag] 'integer'\n",
       "\\item[teststat] 'numeric'\n",
       "\\item[cval] 'vector'\n",
       "\\item[bpoint] 'integer'\n",
       "\\item[tstats] 'vector'\n",
       "\\item[res] 'vector'\n",
       "\\item[testreg] 'ANY'\n",
       "\\item[test.name] 'character'\n",
       "\\end{description*}\n"
      ],
      "text/markdown": [
       "y\n",
       ":   'vector'model\n",
       ":   'character'lag\n",
       ":   'integer'teststat\n",
       ":   'numeric'cval\n",
       ":   'vector'bpoint\n",
       ":   'integer'tstats\n",
       ":   'vector'res\n",
       ":   'vector'testreg\n",
       ":   'ANY'test.name\n",
       ":   'character'\n",
       "\n"
      ],
      "text/plain": [
       "          y       model         lag    teststat        cval      bpoint \n",
       "   \"vector\" \"character\"   \"integer\"   \"numeric\"    \"vector\"   \"integer\" \n",
       "     tstats         res     testreg   test.name \n",
       "   \"vector\"    \"vector\"       \"ANY\" \"character\" "
      ]
     },
     "metadata": {},
     "output_type": "display_data"
    }
   ],
   "source": [
    "args(ur.za)\n",
    "getSlots(\"ur.za\")"
   ]
  },
  {
   "cell_type": "code",
   "execution_count": null,
   "metadata": {},
   "outputs": [],
   "source": [
    "# for (lag in rev(0:10)) {\n",
    "#   obj = ur.za(y, model = \"intercept\", lag = lag)\n",
    "#   coef = summary(obj@testreg)$coefficients\n",
    "#   last_lag = if (obj@model == \"both\") nrow(coef)-2 else nrow(coef)-1\n",
    "#   if ( coef[last_lag, 4] < 0.05 ) break # test significant of the last lag\n",
    "# }\n",
    "\n",
    "# test = ur.za(y, model = \"both\", lag = 2)\n",
    "# summary(test@testreg)$coefficients\n",
    "\n",
    "# bpoint = test@'bpoint'\n",
    "# as.Date(y[bpoint])"
   ]
  },
  {
   "cell_type": "code",
   "execution_count": 9,
   "metadata": {},
   "outputs": [
    {
     "data": {
      "text/html": [
       "<table>\n",
       "<caption>A data.frame: 1 × 5</caption>\n",
       "<thead>\n",
       "\t<tr><th scope=col>difference</th><th scope=col>spec</th><th scope=col>ZA_nlag</th><th scope=col>ZA_tau</th><th scope=col>ZA_bpoint</th></tr>\n",
       "\t<tr><th scope=col>&lt;chr&gt;</th><th scope=col>&lt;chr&gt;</th><th scope=col>&lt;int&gt;</th><th scope=col>&lt;chr&gt;</th><th scope=col>&lt;date&gt;</th></tr>\n",
       "</thead>\n",
       "<tbody>\n",
       "\t<tr><td>d0</td><td>c</td><td>12</td><td>-4.66*  </td><td>2007-11-01</td></tr>\n",
       "</tbody>\n",
       "</table>\n"
      ],
      "text/latex": [
       "A data.frame: 1 × 5\n",
       "\\begin{tabular}{lllll}\n",
       " difference & spec & ZA\\_nlag & ZA\\_tau & ZA\\_bpoint\\\\\n",
       " <chr> & <chr> & <int> & <chr> & <date>\\\\\n",
       "\\hline\n",
       "\t d0 & c & 12 & -4.66*   & 2007-11-01\\\\\n",
       "\\end{tabular}\n"
      ],
      "text/markdown": [
       "\n",
       "A data.frame: 1 × 5\n",
       "\n",
       "| difference &lt;chr&gt; | spec &lt;chr&gt; | ZA_nlag &lt;int&gt; | ZA_tau &lt;chr&gt; | ZA_bpoint &lt;date&gt; |\n",
       "|---|---|---|---|---|\n",
       "| d0 | c | 12 | -4.66*   | 2007-11-01 |\n",
       "\n"
      ],
      "text/plain": [
       "  difference spec ZA_nlag ZA_tau   ZA_bpoint \n",
       "1 d0         c    12      -4.66*   2007-11-01"
      ]
     },
     "metadata": {},
     "output_type": "display_data"
    }
   ],
   "source": [
    "ur_za = function(y, n_diff = 0,\n",
    "                 spec = c(\"ct\", \"t\", \"c\"),\n",
    "                 max_lag = 12) {\n",
    "  \n",
    "  # 1 Set up\n",
    "  y = if (n_diff>0) diff(y, n_diff) %>% na.omit() else y %>% na.omit()\n",
    "  difference = paste0(\"d\", n_diff)\n",
    "  \n",
    "  spec = match.arg(spec)\n",
    "  model = case_when(\n",
    "    spec == \"ct\" ~ \"both\",\n",
    "    spec == \"t\"  ~ \"trend\",\n",
    "    spec == \"c\"  ~ \"intercept\",\n",
    "  )\n",
    "  \n",
    "  # 2 Estimation\n",
    "  for (lag in rev(0:max_lag)) {\n",
    "    obj = ur.za(y, model = model, lag = lag)\n",
    "    coef = summary(obj@testreg)$coefficients\n",
    "    last_lag = if (model == \"both\") nrow(coef)-2 else nrow(coef)-1  \n",
    "    if ( coef[last_lag, 4] < 0.05 ) break # test significant of the last lag\n",
    "  }\n",
    "  \n",
    "  # 3 Report\n",
    "  n_lag = obj@'lag'\n",
    "  tstat = obj@'teststat'\n",
    "  bpoint = obj@bpoint\n",
    "  cval = obj@'cval'\n",
    "  names(cval) = c('cv01', 'cv05', 'cv10')\n",
    "  ZA_bpoint = as.Date(index(as.xts(y))[bpoint])\n",
    "  ZA_nlag = n_lag\n",
    "  ZA_tau = star_tstat(tstat, cval)\n",
    "  \n",
    "  res = data.frame(difference, spec, ZA_nlag, ZA_tau, ZA_bpoint, \n",
    "                   stringsAsFactors = FALSE)\n",
    "  \n",
    "  return(res)\n",
    "}\n",
    "\n",
    "# test\n",
    "ur_za(y, spec = \"c\", max_lag=12)"
   ]
  },
  {
   "cell_type": "code",
   "execution_count": 11,
   "metadata": {},
   "outputs": [],
   "source": [
    "report_test(price_log,\n",
    "            ur_test = ur_za, \n",
    "            differences = c(0, 1), \n",
    "            specs = c(\"ct\", \"c\")\n",
    "           ) -> table_za\n",
    "\n",
    "write.xlsx2(table_za, '../result/result_za.xlsx', row.names = FALSE)"
   ]
  },
  {
   "cell_type": "code",
   "execution_count": 23,
   "metadata": {},
   "outputs": [
    {
     "data": {
      "text/html": [
       "<table>\n",
       "<caption>A data.frame: 96 × 6</caption>\n",
       "<thead>\n",
       "\t<tr><th scope=col>variable</th><th scope=col>difference</th><th scope=col>spec</th><th scope=col>ZA_nlag</th><th scope=col>ZA_tau</th><th scope=col>ZA_bpoint</th></tr>\n",
       "\t<tr><th scope=col>&lt;chr&gt;</th><th scope=col>&lt;chr&gt;</th><th scope=col>&lt;chr&gt;</th><th scope=col>&lt;int&gt;</th><th scope=col>&lt;chr&gt;</th><th scope=col>&lt;date&gt;</th></tr>\n",
       "</thead>\n",
       "<tbody>\n",
       "\t<tr><td>RHFG</td><td>d0</td><td>ct</td><td>12</td><td>-5.41** </td><td>2007-11-01</td></tr>\n",
       "\t<tr><td>RHFG</td><td>d0</td><td>c </td><td>12</td><td>-4.83** </td><td>2015-04-01</td></tr>\n",
       "\t<tr><td>RHFG</td><td>d1</td><td>ct</td><td>12</td><td>-5.11** </td><td>1997-08-01</td></tr>\n",
       "\t<tr><td>...</td><td>...</td><td>...</td><td>...</td><td>...</td><td>...</td></tr>\n",
       "\t<tr><td>RGXB</td><td>d0</td><td>c </td><td>11</td><td>-4.99** </td><td>2006-04-01</td></tr>\n",
       "\t<tr><td>RGXB</td><td>d1</td><td>ct</td><td>12</td><td>-4.21   </td><td>2007-09-01</td></tr>\n",
       "\t<tr><td>RGXB</td><td>d1</td><td>c </td><td>12</td><td>-3.95   </td><td>2018-03-01</td></tr>\n",
       "</tbody>\n",
       "</table>\n"
      ],
      "text/latex": [
       "A data.frame: 96 × 6\n",
       "\\begin{tabular}{llllll}\n",
       " variable & difference & spec & ZA\\_nlag & ZA\\_tau & ZA\\_bpoint\\\\\n",
       " <chr> & <chr> & <chr> & <int> & <chr> & <date>\\\\\n",
       "\\hline\n",
       "\t RHFG & d0 & ct & 12 & -5.41**  & 2007-11-01\\\\\n",
       "\t RHFG & d0 & c  & 12 & -4.83**  & 2015-04-01\\\\\n",
       "\t RHFG & d1 & ct & 12 & -5.11**  & 1997-08-01\\\\\n",
       "\t ... & ... & ... & ... & ... & ...\\\\\n",
       "\t RGXB & d0 & c  & 11 & -4.99**  & 2006-04-01\\\\\n",
       "\t RGXB & d1 & ct & 12 & -4.21    & 2007-09-01\\\\\n",
       "\t RGXB & d1 & c  & 12 & -3.95    & 2018-03-01\\\\\n",
       "\\end{tabular}\n"
      ],
      "text/markdown": [
       "\n",
       "A data.frame: 96 × 6\n",
       "\n",
       "| variable &lt;chr&gt; | difference &lt;chr&gt; | spec &lt;chr&gt; | ZA_nlag &lt;int&gt; | ZA_tau &lt;chr&gt; | ZA_bpoint &lt;date&gt; |\n",
       "|---|---|---|---|---|---|\n",
       "| RHFG | d0 | ct | 12 | -5.41**  | 2007-11-01 |\n",
       "| RHFG | d0 | c  | 12 | -4.83**  | 2015-04-01 |\n",
       "| RHFG | d1 | ct | 12 | -5.11**  | 1997-08-01 |\n",
       "| ... | ... | ... | ... | ... | ... |\n",
       "| RGXB | d0 | c  | 11 | -4.99**  | 2006-04-01 |\n",
       "| RGXB | d1 | ct | 12 | -4.21    | 2007-09-01 |\n",
       "| RGXB | d1 | c  | 12 | -3.95    | 2018-03-01 |\n",
       "\n"
      ],
      "text/plain": [
       "    variable difference spec ZA_nlag ZA_tau   ZA_bpoint \n",
       "1   RHFG     d0         ct   12      -5.41**  2007-11-01\n",
       "2   RHFG     d0         c    12      -4.83**  2015-04-01\n",
       "3   RHFG     d1         ct   12      -5.11**  1997-08-01\n",
       "... ...      ...        ...  ...     ...      ...       \n",
       "94  RGXB     d0         c    11      -4.99**  2006-04-01\n",
       "95  RGXB     d1         ct   12      -4.21    2007-09-01\n",
       "96  RGXB     d1         c    12      -3.95    2018-03-01"
      ]
     },
     "metadata": {},
     "output_type": "display_data"
    }
   ],
   "source": [
    "table_za\n",
    "# table_za %>% kable() %>% as.character() %>% display_html()"
   ]
  },
  {
   "cell_type": "markdown",
   "metadata": {},
   "source": [
    "## Lee Straz"
   ]
  },
  {
   "cell_type": "code",
   "execution_count": null,
   "metadata": {},
   "outputs": [],
   "source": [
    "source(\"y.R\")\n",
    "source(\"LeeStrazicichUnitRootTest.R\")\n",
    "source(\"LeeStrazicichUnitRootTestParallelization.R\")\n",
    "plot(y)\n",
    "\n",
    "\n",
    "library(foreach)\n",
    "library(doSNOW)\n",
    "library(parallel)\n",
    "\n",
    "#Define number of cores to use. By default the maximum available number minus one core is used\n",
    "cl <- makeCluster(max(1, detectCores() - 1))\n",
    "registerDoSNOW(cl)\n",
    "\n",
    "myBreaks <- 2\n",
    "# Assumed break in the series, \"crash\" - break in intercept; \"break\" - break in intercept and trend\n",
    "myModel <- \"break\"\n",
    "# Number of lags to be used in fixed specification or maximum number of lags, when using the GTOS method\n",
    "myLags <- 5\n",
    "\n",
    "myParallel_LS <- ur.ls.bootstrap(y=y , model = myModel, breaks = myBreaks, lags = myLags, \n",
    "                                 method = \"GTOS\", pn = 0.1, critval = \"bootstrap\", \n",
    "                                 print.results = \"print\")"
   ]
  },
  {
   "cell_type": "code",
   "execution_count": null,
   "metadata": {},
   "outputs": [],
   "source": [
    "#Bootstrap implementation used in this case is based on Residual Resampling\n",
    "# Steps involved\n",
    "# (1) estimation of the initial estimation of y.diff\n",
    "# (2) use the residuals from (1) to calculate the restricted residuals based on S.tilde\n",
    "# (3) draw a random sample from the residuals with replacement with the lenght of the original residuals - sample() available in R\n",
    "# (4) test regression with the pseudo sample y*, which was created with the resampled residuals\n",
    "# (5) repeat (3) and (4) n.times and save each resulting t-stat from the repetitions\n",
    "# \n",
    "# Bootstrap procedure needs to be done for values of y*, but also the minimum LM stat \n",
    "# is calculated for each series, so the test has to be applied to all replicated y* time series.\n",
    "# Bootstrap the distribution of the t-statistic based on the determined break dates\n",
    "\n",
    "#-----------------------------------------------------------------------------\n",
    "# Set the number of replications\n",
    "#-----------------------------------------------------------------------------\n",
    "\n",
    "n.sim <- 1000\n",
    "\n",
    "#-----------------------------------------------------------------------------\n",
    "# Initialize the parallelization framework\n",
    "#-----------------------------------------------------------------------------\n",
    "# \n",
    "library(foreach)\n",
    "library(doSNOW)\n",
    "library(parallel)\n",
    "\n",
    "cl <- makeCluster(max(1, detectCores() - 2))\n",
    "registerDoSNOW(cl)\n",
    "\n",
    "#Define variable y, which is the variable to be analysed\n",
    "myVariable <- y\n",
    "\n",
    "lagmatrix <- function(x, max.lag) {\n",
    "  embed(c(rep(NA, max.lag), x), max.lag+1)\n",
    "}\n",
    "\n",
    "#Add diffmatrix function\n",
    "diffmatrix <- function(x, max.diff = 1, max.lag = 1) {\n",
    "  #Add if condition to make it possible to differentiate between matrix and vector                  \n",
    "  if (is.vector(x) == TRUE ) {\n",
    "    myx <- embed(c(rep(NA,max.lag), diff(x,max.lag,max.diff)), max.diff)\n",
    "    colnames(myx) <- paste(\"v1.d\",max.diff, sep=\".\")\n",
    "    return(myx)\n",
    "  } else if (is.matrix(x) == TRUE) {\n",
    "    myx <- rbind(matrix(rep(NA,max.lag), ncol = ncol(x)), matrix(diff(x,max.lag,max.diff), ncol = ncol(x)))\n",
    "    mycolnames <- colnames(x)\n",
    "    colnames(myx) <- paste(mycolnames,\"d\",max.diff, sep=\".\")\n",
    "    return(myx)\n",
    "  } else if (as.integer(is.null(ncol(x))) == 0 ) {\n",
    "    #if matrix the result should be 0, if only a vector it should be 1\n",
    "    myx <- rbind(matrix(rep(NA,max.lag), ncol = ncol(x)), matrix(diff(x,max.lag,max.diff), ncol = ncol(x)))\n",
    "    mycolnames <- colnames(x)\n",
    "    colnames(myx) <- paste(mycolnames,\"d\",max.diff, sep=\".\")\n",
    "    return(myx)\n",
    "  }\n",
    "}\n",
    "\n",
    "n <- length(myVariable)\n",
    "trend <- 1:n\n",
    "breaks <- 2\n",
    "lags <- 1\n",
    "model <- \"break\"\n",
    "myVariable.diff <- diffmatrix(myVariable, max.diff = 1, max.lag = 1)\n",
    "\n",
    "# Run the test once to determine the values for the break dates\n",
    "# Definition of all the options needed\n",
    "test.results.y <- ur.ls.bootstrap(y = myVariable, \n",
    "                                  model = model, \n",
    "                                  breaks = breaks, \n",
    "                                  lags = lags, \n",
    "                                  method = \"GTOS\",\n",
    "                                  pn = 0.1, \n",
    "                                  critval = \"bootstrap\", \n",
    "                                  print.results = \"print\")\n",
    "\n",
    "# Define variable Z, which is either Dt or DTt, depending on the model used\n",
    "# Create Dt and DTt, depending on the breaks, found in the initial application of the LS test\n",
    "\n",
    "# Define break dates\n",
    "myBreak1 <- test.results.y[[1]]$`First break`\n",
    "myBreak2 <- test.results.y[[1]]$`Second break`"
   ]
  },
  {
   "cell_type": "code",
   "execution_count": null,
   "metadata": {},
   "outputs": [],
   "source": [
    "# Dummy with break in intercept and in trend\n",
    "Dt1 <- as.matrix(cbind(trend, trend >= (myBreak1 + 1)))\n",
    "DTt1 <- as.matrix(cbind(Dt1, c(rep(0, myBreak1), 1:(n - myBreak1))))\n",
    "colnames(Dt1) <- c(\"Trend\",\"D\")\n",
    "colnames(DTt1) <- c(\"Trend\",\"D\",\"DTt\")\n",
    "\n",
    "Dt2 <-  as.matrix(trend >= (myBreak2 + 1))\n",
    "DTt2 <- as.matrix(cbind(Dt2, c(rep(0, myBreak2), 1:(n - myBreak2))))\n",
    "colnames(Dt2) <- c(\"D2\")\n",
    "colnames(DTt2) <- c(\"D2\",\"DTt2\")\n",
    "\n",
    "Dt <- cbind(Dt1)\n",
    "DTt <- cbind(DTt1)\n",
    "\n",
    "# Combine all Dummies into one big matrix to make it easier to include in the regressions\n",
    "if (breaks == 1) {\n",
    "  Dt <- cbind(Dt1)\n",
    "  DTt <- cbind(DTt1)\n",
    "} else if (breaks == 2) {\n",
    "  Dt <- cbind(Dt1, Dt2)\n",
    "  DTt <- cbind(DTt1, DTt2)\n",
    "}\n",
    "\n",
    "if(model == \"crash\"){\n",
    "  Z <- Dt\n",
    "} else if (model == \"break\"){\n",
    "  Z <- DTt\n",
    "}\n",
    "\n",
    "Z.diff <- diffmatrix(Z, max.diff = 1, max.lag = 1)\n",
    "#Matrix of coefficients, which omits the NA values\n",
    "myZcoef <- na.omit(coef(lm(myVariable.diff ~ Z.diff)))\n",
    "\n",
    "# delta_1 from equation (7) of Chou 2007, which is needed for the manual calculation of S.tilde according to Chou 2007\n",
    "# equivalent results to the calculation with the cumulated sum\n",
    "delta_1 <- myVariable[1] - (Z[1,] %*% myZcoef)\n",
    "\n",
    "#Result is equivalent to the original S.tilde\n",
    "myS.tilde <- myVariable - as.vector(delta_1) - Z %*% myZcoef\n",
    "if (model == \"crash\") {\n",
    "  y.star <- as.vector(delta_1) + as.vector((Dt %*% myZcoef)) + sample(myS.tilde, size = length(myS.tilde), replace = TRUE)\n",
    "} else if (model == \"break\") {\n",
    "  y.star <- as.vector(delta_1) + as.vector((DTt %*% myZcoef)) + sample(myS.tilde, size = length(myS.tilde), replace = TRUE)\n",
    "}"
   ]
  },
  {
   "cell_type": "code",
   "execution_count": null,
   "metadata": {},
   "outputs": [],
   "source": [
    "y.star <- as.vector(delta_1) + \n",
    "  as.vector((DTt %*% myZcoef)) + \n",
    "  sample(myS.tilde, size = length(myS.tilde), replace = TRUE)"
   ]
  },
  {
   "cell_type": "code",
   "execution_count": null,
   "metadata": {},
   "outputs": [],
   "source": [
    "as.Date(index(as.xts(y))[311])"
   ]
  },
  {
   "cell_type": "code",
   "execution_count": null,
   "metadata": {},
   "outputs": [],
   "source": [
    "n = 200\n",
    "u = rnorm(n)\n",
    "trd = 1:n\n",
    "sumu = cumsum(u)\n",
    "y = 10 + 0.3*trd + sumu\n",
    "plot(y)"
   ]
  },
  {
   "cell_type": "code",
   "execution_count": null,
   "metadata": {},
   "outputs": [],
   "source": [
    "cval.one.constant = matrix(c(-4.239, -3.566, -3.211), nrow = 1, ncol = 3, byrow = TRUE)\n",
    "colnames(cval.one.constant) <- c(\"1%\",\"5%\",\"10%\")\n",
    "cval.one.constant"
   ]
  },
  {
   "cell_type": "code",
   "execution_count": null,
   "metadata": {},
   "outputs": [],
   "source": [
    "cval.one.crash = matrix(c(-4.239, -3.566, -3.211), nrow = 1, ncol = 3, byrow = TRUE)\n",
    "colnames(cval.one.crash) <- c(\"cv01\", \"cv05\", \"cv10\")\n",
    "\n",
    "cval.one.break <- matrix(c(.1, -5.11, -4.50, -4.21,\n",
    "                           .2, -5.07, -4.47, -4.20,\n",
    "                           .3, -5.15, -4.45, -4.18,\n",
    "                           .4, -5.05, -4.50, -4.18,\n",
    "                           .5, -5.11, -4.51, -4.17,\n",
    "                           .6, -5.05, -4.50, -4.18,\n",
    "                           .7, -5.15, -4.45, -4.18,\n",
    "                           .8, -5.07, -4.47, -4.20,\n",
    "                           .9, -5.11, -4.50, -4.21),\n",
    "                         nrow = 9, ncol = 4, byrow = TRUE)\n",
    "colnames(cval.one.break) <- c(\"lambda1\", \"cv01\", \"cv05\", \"cv10\")\n",
    "\n",
    "\n",
    "cval.two.crash = matrix(c(-4.545, -3.842, -3.504), nrow = 1, ncol = 3, byrow = TRUE)\n",
    "colnames(cval.two.crash) <- c(\"cv01\", \"cv05\", \"cv10\")\n",
    "\n",
    "cval.two.break = matrix(c(.2, .4, -6.16, -5.59, -5.27,\n",
    "                          .2, .6, -6.41, -5.74, -5.32,\n",
    "                          .2, .8, -6.33, -5.71, -5.33,\n",
    "                          .4, .6, -6.45, -5.67, -5.31,\n",
    "                          .4, .8, -6.42, -5.65, -5.32,\n",
    "                          .6, .8, -6.32, -5.73, -5.32),\n",
    "                        nrow = 6, ncol = 5, byrow = TRUE)\n",
    "colnames(cval.two.break) <- c(\"lambda1\", \"lambda2\", \"cv01\", \"cv05\", \"cv10\")"
   ]
  },
  {
   "cell_type": "code",
   "execution_count": null,
   "metadata": {},
   "outputs": [],
   "source": [
    "cval.one.trend[cval.one.trend[, 1] == 0.3, 2:4]"
   ]
  },
  {
   "cell_type": "code",
   "execution_count": null,
   "metadata": {},
   "outputs": [],
   "source": [
    "# y = price[, 1] %>% log()\n",
    "model <- \"break\"\n",
    "breaks <- 2\n",
    "lags <- 12\n",
    "\n",
    "test.results.y <- ur.ls.bootstrap(y = y, \n",
    "                                  model = model, \n",
    "                                  breaks = breaks, \n",
    "                                  lags = lags, \n",
    "                                  method = \"GTOS\",\n",
    "                                  pn = 0.1, \n",
    "                                  critval = \"theoretical\", \n",
    "                                  print.results = \"print\")\n",
    "\n",
    "test.results.y"
   ]
  },
  {
   "cell_type": "code",
   "execution_count": null,
   "metadata": {},
   "outputs": [],
   "source": [
    "library(interp)"
   ]
  },
  {
   "cell_type": "code",
   "execution_count": null,
   "metadata": {},
   "outputs": [],
   "source": [
    "p_load('pracma')"
   ]
  },
  {
   "cell_type": "code",
   "execution_count": null,
   "metadata": {},
   "outputs": [],
   "source": [
    "x <- c(0.5, 1, 2)\n",
    "y <- c(0.5, 1, 2)\n",
    "mgrid <- meshgrid(x, y)\n",
    "Z <- mgrid$X^2 + mgrid$Y^2\n",
    "# Z[2,1] <- NA\n",
    "# Z[3,1] <- NA\n",
    "# Z[3,2] <- NA\n",
    "xp <- yp <- linspace(-1, 1, 101)\n",
    "\n",
    "method <- \"nearest\"\n",
    "zp <- interp2(x, y, Z, 1.2, 1, method)\n",
    "zp"
   ]
  },
  {
   "cell_type": "code",
   "execution_count": null,
   "metadata": {},
   "outputs": [],
   "source": [
    "1.4**2 + 1"
   ]
  },
  {
   "cell_type": "code",
   "execution_count": null,
   "metadata": {},
   "outputs": [],
   "source": [
    "data(franke)\n",
    "plot(y ~ x, data = akima, main = \"akima example data\")\n",
    "with(akima, text(x, y, formatC(z,dig=2), adj = -0.1))\n",
    "\n",
    "## linear interpolation\n",
    "akima.li <- interp(akima$x, akima$y, akima$z)"
   ]
  },
  {
   "cell_type": "code",
   "execution_count": null,
   "metadata": {},
   "outputs": [],
   "source": [
    "x = 1:10\n",
    "y = 1:10\n",
    "z = x+y\n",
    "\n",
    "akima.li = interp(x, y, z)"
   ]
  },
  {
   "cell_type": "code",
   "execution_count": null,
   "metadata": {},
   "outputs": [],
   "source": [
    "example(interp)"
   ]
  },
  {
   "cell_type": "code",
   "execution_count": null,
   "metadata": {},
   "outputs": [],
   "source": [
    "# str(test.results.y)"
   ]
  },
  {
   "cell_type": "code",
   "execution_count": null,
   "metadata": {},
   "outputs": [],
   "source": [
    "ur.kpss(y)"
   ]
  },
  {
   "cell_type": "code",
   "execution_count": null,
   "metadata": {},
   "outputs": [],
   "source": [
    "args(ur.df)"
   ]
  },
  {
   "cell_type": "code",
   "execution_count": null,
   "metadata": {},
   "outputs": [],
   "source": [
    "test@cval"
   ]
  },
  {
   "cell_type": "code",
   "execution_count": null,
   "metadata": {},
   "outputs": [],
   "source": [
    "test = ur.df(y, type = \"trend\")\n",
    "summary(test)"
   ]
  },
  {
   "cell_type": "code",
   "execution_count": null,
   "metadata": {},
   "outputs": [],
   "source": [
    "summary(ur.pp(y))"
   ]
  },
  {
   "cell_type": "code",
   "execution_count": null,
   "metadata": {},
   "outputs": [],
   "source": [
    "colnames(boot.y) = c(\"t-stat\",\"First break\", \"Second break\", \"Runtime\")\n",
    "boot.y"
   ]
  },
  {
   "cell_type": "code",
   "execution_count": null,
   "metadata": {},
   "outputs": [],
   "source": [
    "#Loop for the actual boot strapping procedure\n",
    "model <- \"break\"\n",
    "breaks <- 2\n",
    "lags <- 1\n",
    "y.star <- as.vector(delta_1) + \n",
    "  as.vector((Z %*% myZcoef)) + \n",
    "  sample(myS.tilde, size = length(myS.tilde), replace = TRUE)\n",
    "\n",
    "boot.y <- foreach(i=1:20, .combine = rbind, .packages = 'foreach') %dopar%\n",
    "  test.stat <- ur.ls.bootstrap(y = y.star, \n",
    "                               model = model, \n",
    "                               breaks = breaks,\n",
    "                               lags = lags,\n",
    "                               method = \"Fixed\",\n",
    "                               pn = 0.1, \n",
    "                               critval = \"bootstrap\", \n",
    "                               print.results = \"silent\")\n",
    "  \n",
    "  if (breaks == 2) {\n",
    "    return(list(c(unlist(test.stat[[1]]$`t-stat`)), \n",
    "                c(unlist(test.stat[[1]]$`First break`)),\n",
    "                c(unlist(test.stat[[1]]$`Second break`)),\n",
    "                c(as.numeric(test.stat[[1]]$Runtime, units = \"mins\")))\n",
    "          )\n",
    "  } else if (breaks == 1){\n",
    "    return(c(c(unlist(test.stat[[1]]$`t-stat`)), \n",
    "             c(unlist(test.stat[[1]]$`First break`)), \n",
    "             c(as.numeric(test.stat[[1]]$Runtime, units = \"mins\")))\n",
    "          )\n",
    "  }\n",
    "}"
   ]
  },
  {
   "cell_type": "code",
   "execution_count": null,
   "metadata": {},
   "outputs": [],
   "source": [
    "#Calculate the critical values, based on the distribution of the test statistic\n",
    "hist(unlist(boot.y[,\"t-stat\"]), freq = FALSE)\n",
    "quantile(unlist(boot.y[,\"t-stat\"]), c(.01, .05, .1, .25, .5, .75, .95, .99))\n",
    "quantile(unlist(boot.y[,\"First break\"]), c(.01, .05, .1, .25, .5, .75, .95))\n",
    "quantile(unlist(boot.y[,\"Second break\"]), c(.01, .05, .1, .25, .5, .75, .95))"
   ]
  },
  {
   "cell_type": "code",
   "execution_count": null,
   "metadata": {},
   "outputs": [],
   "source": [
    "hist(unlist(boot.y[,\"First break\"]), freq = FALSE)"
   ]
  },
  {
   "cell_type": "markdown",
   "metadata": {
    "incorrectly_encoded_metadata": "toc-hr-collapsed=true toc-nb-collapsed=true"
   },
   "source": [
    "# ทดสอบ Seasonal Unit Root"
   ]
  },
  {
   "cell_type": "markdown",
   "metadata": {},
   "source": [
    "## HEGY Test"
   ]
  },
  {
   "cell_type": "code",
   "execution_count": 18,
   "metadata": {},
   "outputs": [
    {
     "data": {
      "text/html": [
       "<pre class=language-r><code>function (x, deterministic = c(1, 0, 0), lag.method = c(\"fixed\", \n",
       "<span style=white-space:pre-wrap>    \"AIC\", \"BIC\", \"AICc\"), maxlag = 0, pvalue = c(\"RS\", \"bootstrap\", </span>\n",
       "<span style=white-space:pre-wrap>    \"raw\"), rs.nobsreg = 15, boot.args = list(seed = 123, lag.method = lag.method[1], </span>\n",
       "<span style=white-space:pre-wrap>    maxlag = maxlag, byseason = FALSE, nb = 1000, BTdim = c(100, </span>\n",
       "<span style=white-space:pre-wrap>        10), debug.tid = -1)) </span>\n",
       "NULL</code></pre>"
      ],
      "text/latex": [
       "\\begin{minted}{r}\n",
       "function (x, deterministic = c(1, 0, 0), lag.method = c(\"fixed\", \n",
       "    \"AIC\", \"BIC\", \"AICc\"), maxlag = 0, pvalue = c(\"RS\", \"bootstrap\", \n",
       "    \"raw\"), rs.nobsreg = 15, boot.args = list(seed = 123, lag.method = lag.method{[}1{]}, \n",
       "    maxlag = maxlag, byseason = FALSE, nb = 1000, BTdim = c(100, \n",
       "        10), debug.tid = -1)) \n",
       "NULL\n",
       "\\end{minted}"
      ],
      "text/markdown": [
       "```r\n",
       "function (x, deterministic = c(1, 0, 0), lag.method = c(\"fixed\", \n",
       "    \"AIC\", \"BIC\", \"AICc\"), maxlag = 0, pvalue = c(\"RS\", \"bootstrap\", \n",
       "    \"raw\"), rs.nobsreg = 15, boot.args = list(seed = 123, lag.method = lag.method[1], \n",
       "    maxlag = maxlag, byseason = FALSE, nb = 1000, BTdim = c(100, \n",
       "        10), debug.tid = -1)) \n",
       "NULL\n",
       "```"
      ],
      "text/plain": [
       "function (x, deterministic = c(1, 0, 0), lag.method = c(\"fixed\", \n",
       "    \"AIC\", \"BIC\", \"AICc\"), maxlag = 0, pvalue = c(\"RS\", \"bootstrap\", \n",
       "    \"raw\"), rs.nobsreg = 15, boot.args = list(seed = 123, lag.method = lag.method[1], \n",
       "    maxlag = maxlag, byseason = FALSE, nb = 1000, BTdim = c(100, \n",
       "        10), debug.tid = -1)) \n",
       "NULL"
      ]
     },
     "metadata": {},
     "output_type": "display_data"
    }
   ],
   "source": [
    "args(hegy.test)"
   ]
  },
  {
   "cell_type": "code",
   "execution_count": 26,
   "metadata": {},
   "outputs": [
    {
     "data": {
      "text/html": [
       "<style>\n",
       ".list-inline {list-style: none; margin:0; padding: 0}\n",
       ".list-inline>li {display: inline-block}\n",
       ".list-inline>li:not(:last-child)::after {content: \"\\00b7\"; padding: 0 .5ex}\n",
       "</style>\n",
       "<ol class=list-inline><li>'statistics'</li><li>'pvalues'</li><li>'method'</li><li>'data.name'</li><li>'fitted.model'</li><li>'lag.method'</li><li>'lag.order'</li><li>'strdet'</li><li>'type.pvalue'</li><li>'bootstrap'</li><li>'boot.chosen.lags'</li><li>'pvlabels'</li></ol>\n"
      ],
      "text/latex": [
       "\\begin{enumerate*}\n",
       "\\item 'statistics'\n",
       "\\item 'pvalues'\n",
       "\\item 'method'\n",
       "\\item 'data.name'\n",
       "\\item 'fitted.model'\n",
       "\\item 'lag.method'\n",
       "\\item 'lag.order'\n",
       "\\item 'strdet'\n",
       "\\item 'type.pvalue'\n",
       "\\item 'bootstrap'\n",
       "\\item 'boot.chosen.lags'\n",
       "\\item 'pvlabels'\n",
       "\\end{enumerate*}\n"
      ],
      "text/markdown": [
       "1. 'statistics'\n",
       "2. 'pvalues'\n",
       "3. 'method'\n",
       "4. 'data.name'\n",
       "5. 'fitted.model'\n",
       "6. 'lag.method'\n",
       "7. 'lag.order'\n",
       "8. 'strdet'\n",
       "9. 'type.pvalue'\n",
       "10. 'bootstrap'\n",
       "11. 'boot.chosen.lags'\n",
       "12. 'pvlabels'\n",
       "\n",
       "\n"
      ],
      "text/plain": [
       " [1] \"statistics\"       \"pvalues\"          \"method\"           \"data.name\"       \n",
       " [5] \"fitted.model\"     \"lag.method\"       \"lag.order\"        \"strdet\"          \n",
       " [9] \"type.pvalue\"      \"bootstrap\"        \"boot.chosen.lags\" \"pvlabels\"        "
      ]
     },
     "metadata": {},
     "output_type": "display_data"
    }
   ],
   "source": [
    "test = hegy.test(y)\n",
    "names(test)"
   ]
  },
  {
   "cell_type": "code",
   "execution_count": 19,
   "metadata": {},
   "outputs": [
    {
     "data": {
      "text/html": [
       "<table>\n",
       "<caption>A data.frame: 1 × 12</caption>\n",
       "<thead>\n",
       "\t<tr><th scope=col>difference</th><th scope=col>spec</th><th scope=col>nlag</th><th scope=col>t_1</th><th scope=col>t_2</th><th scope=col>F_3.4</th><th scope=col>F_5.6</th><th scope=col>F_7.8</th><th scope=col>F_9.10</th><th scope=col>F_11.12</th><th scope=col>F_2.12</th><th scope=col>F_1.12</th></tr>\n",
       "\t<tr><th scope=col>&lt;chr&gt;</th><th scope=col>&lt;chr&gt;</th><th scope=col>&lt;dbl&gt;</th><th scope=col>&lt;chr&gt;</th><th scope=col>&lt;chr&gt;</th><th scope=col>&lt;chr&gt;</th><th scope=col>&lt;chr&gt;</th><th scope=col>&lt;chr&gt;</th><th scope=col>&lt;chr&gt;</th><th scope=col>&lt;chr&gt;</th><th scope=col>&lt;chr&gt;</th><th scope=col>&lt;chr&gt;</th></tr>\n",
       "</thead>\n",
       "<tbody>\n",
       "\t<tr><td>d0</td><td>cs</td><td>0</td><td> -1.35   </td><td> -5.48***</td><td> 24.86***</td><td> 29.91***</td><td> 39.93***</td><td> 36.61***</td><td> 35.83***</td><td>543.76***</td><td>498.63***</td></tr>\n",
       "</tbody>\n",
       "</table>\n"
      ],
      "text/latex": [
       "A data.frame: 1 × 12\n",
       "\\begin{tabular}{llllllllllll}\n",
       " difference & spec & nlag & t\\_1 & t\\_2 & F\\_3.4 & F\\_5.6 & F\\_7.8 & F\\_9.10 & F\\_11.12 & F\\_2.12 & F\\_1.12\\\\\n",
       " <chr> & <chr> & <dbl> & <chr> & <chr> & <chr> & <chr> & <chr> & <chr> & <chr> & <chr> & <chr>\\\\\n",
       "\\hline\n",
       "\t d0 & cs & 0 &  -1.35    &  -5.48*** &  24.86*** &  29.91*** &  39.93*** &  36.61*** &  35.83*** & 543.76*** & 498.63***\\\\\n",
       "\\end{tabular}\n"
      ],
      "text/markdown": [
       "\n",
       "A data.frame: 1 × 12\n",
       "\n",
       "| difference &lt;chr&gt; | spec &lt;chr&gt; | nlag &lt;dbl&gt; | t_1 &lt;chr&gt; | t_2 &lt;chr&gt; | F_3.4 &lt;chr&gt; | F_5.6 &lt;chr&gt; | F_7.8 &lt;chr&gt; | F_9.10 &lt;chr&gt; | F_11.12 &lt;chr&gt; | F_2.12 &lt;chr&gt; | F_1.12 &lt;chr&gt; |\n",
       "|---|---|---|---|---|---|---|---|---|---|---|---|\n",
       "| d0 | cs | 0 |  -1.35    |  -5.48*** |  24.86*** |  29.91*** |  39.93*** |  36.61*** |  35.83*** | 543.76*** | 498.63*** |\n",
       "\n"
      ],
      "text/plain": [
       "  difference spec nlag t_1       t_2       F_3.4     F_5.6     F_7.8    \n",
       "1 d0         cs   0     -1.35     -5.48***  24.86***  29.91***  39.93***\n",
       "  F_9.10    F_11.12   F_2.12    F_1.12   \n",
       "1  36.61***  35.83*** 543.76*** 498.63***"
      ]
     },
     "metadata": {},
     "output_type": "display_data"
    }
   ],
   "source": [
    "ur_hegy = function(y, n_diff = 0,\n",
    "                   spec = c(\"cts\", \"ct\", \"cs\", \"c\"),\n",
    "                   max_lag = 12) {\n",
    "  \n",
    "  # 1 Set up\n",
    "  y = if (n_diff>0) diff(y, n_diff) %>% na.omit() else y %>% na.omit()\n",
    "  difference = paste0(\"d\", n_diff)\n",
    "  \n",
    "  spec = match.arg(spec)\n",
    "  deterministic = case_when(\n",
    "    spec == \"cts\" ~ c(1,1,1),\n",
    "    spec == \"ct\"  ~ c(1,1,0),\n",
    "    spec == \"cs\"  ~ c(1,0,1),\n",
    "    spec == \"c\"   ~ c(1,0,0),\n",
    "  )\n",
    "  \n",
    "  # 2 Estimation\n",
    "  obj = hegy.test(y, \n",
    "                  deterministic = deterministic, \n",
    "                  maxlag = max_lag,\n",
    "                  lag.method = \"AIC\", \n",
    "                  pvalue = \"RS\"\n",
    "                 )\n",
    "  \n",
    "  # 3 Report\n",
    "  tstat = obj$statistics\n",
    "  pval = obj$pvalues\n",
    "  nlag = obj$lag.order\n",
    "  \n",
    "  test_star = star_tstat(tstat, pval=pval)\n",
    "  names(test_star) = names(tstat)\n",
    "  \n",
    "  res = data.frame(difference, spec, nlag, t(test_star),\n",
    "                   stringsAsFactors = FALSE)\n",
    "  \n",
    "  return(res)\n",
    "}\n",
    "\n",
    "# test\n",
    "ur_hegy(y, spec = \"cs\")"
   ]
  },
  {
   "cell_type": "code",
   "execution_count": 21,
   "metadata": {},
   "outputs": [],
   "source": [
    "report_test(price_log, \n",
    "            ur_test = ur_hegy, \n",
    "            differences = c(0, 12), \n",
    "            specs = c(\"cts\", \"ct\", \"cs\", \"c\")\n",
    "           ) -> table_hegy\n",
    "\n",
    "write.xlsx2(table_hegy, '../result/result_hegy.xlsx', row.names = FALSE)"
   ]
  },
  {
   "cell_type": "code",
   "execution_count": 22,
   "metadata": {},
   "outputs": [
    {
     "data": {
      "text/html": [
       "<table>\n",
       "<caption>A data.frame: 192 × 13</caption>\n",
       "<thead>\n",
       "\t<tr><th scope=col>variable</th><th scope=col>difference</th><th scope=col>spec</th><th scope=col>nlag</th><th scope=col>t_1</th><th scope=col>t_2</th><th scope=col>F_3.4</th><th scope=col>F_5.6</th><th scope=col>F_7.8</th><th scope=col>F_9.10</th><th scope=col>F_11.12</th><th scope=col>F_2.12</th><th scope=col>F_1.12</th></tr>\n",
       "\t<tr><th scope=col>&lt;chr&gt;</th><th scope=col>&lt;chr&gt;</th><th scope=col>&lt;chr&gt;</th><th scope=col>&lt;dbl&gt;</th><th scope=col>&lt;chr&gt;</th><th scope=col>&lt;chr&gt;</th><th scope=col>&lt;chr&gt;</th><th scope=col>&lt;chr&gt;</th><th scope=col>&lt;chr&gt;</th><th scope=col>&lt;chr&gt;</th><th scope=col>&lt;chr&gt;</th><th scope=col>&lt;chr&gt;</th><th scope=col>&lt;chr&gt;</th></tr>\n",
       "</thead>\n",
       "<tbody>\n",
       "\t<tr><td>RHFG</td><td>d0</td><td>cts</td><td>2</td><td>-3.04*  </td><td>-4.35***</td><td>22.45***</td><td>26.35***</td><td>23.87***</td><td>20.31***</td><td>21.26***</td><td>24.32***</td><td>24.35***</td></tr>\n",
       "\t<tr><td>RHFG</td><td>d0</td><td>ct </td><td>2</td><td>-3.39** </td><td>-4.31***</td><td>16.22***</td><td>14.24***</td><td>15.02***</td><td>15.90***</td><td>20.82***</td><td>17.79***</td><td>18.16***</td></tr>\n",
       "\t<tr><td>RHFG</td><td>d0</td><td>cs </td><td>2</td><td>-1.35   </td><td>-4.31***</td><td>24.55***</td><td>27.83***</td><td>24.30***</td><td>20.14***</td><td>20.95***</td><td>25.00***</td><td>23.29***</td></tr>\n",
       "\t<tr><td>...</td><td>...</td><td>...</td><td>...</td><td>...</td><td>...</td><td>...</td><td>...</td><td>...</td><td>...</td><td>...</td><td>...</td><td>...</td></tr>\n",
       "\t<tr><td>RGXB</td><td>d12</td><td>ct</td><td>9</td><td>-5.35***</td><td>-2.81***</td><td>24.59***</td><td>27.15***</td><td> 9.85***</td><td>22.99***</td><td> 8.98***</td><td>37.84***</td><td>42.72***</td></tr>\n",
       "\t<tr><td>RGXB</td><td>d12</td><td>cs</td><td>9</td><td>-4.63***</td><td>-2.74** </td><td>21.87***</td><td>25.19***</td><td> 8.75***</td><td>20.50***</td><td> 8.45***</td><td>34.97***</td><td>38.57***</td></tr>\n",
       "\t<tr><td>RGXB</td><td>d12</td><td>c </td><td>9</td><td>-4.80***</td><td>-2.85***</td><td>23.27***</td><td>26.74***</td><td> 9.44***</td><td>21.94***</td><td> 9.28***</td><td>37.39***</td><td>41.27***</td></tr>\n",
       "</tbody>\n",
       "</table>\n"
      ],
      "text/latex": [
       "A data.frame: 192 × 13\n",
       "\\begin{tabular}{lllllllllllll}\n",
       " variable & difference & spec & nlag & t\\_1 & t\\_2 & F\\_3.4 & F\\_5.6 & F\\_7.8 & F\\_9.10 & F\\_11.12 & F\\_2.12 & F\\_1.12\\\\\n",
       " <chr> & <chr> & <chr> & <dbl> & <chr> & <chr> & <chr> & <chr> & <chr> & <chr> & <chr> & <chr> & <chr>\\\\\n",
       "\\hline\n",
       "\t RHFG & d0 & cts & 2 & -3.04*   & -4.35*** & 22.45*** & 26.35*** & 23.87*** & 20.31*** & 21.26*** & 24.32*** & 24.35***\\\\\n",
       "\t RHFG & d0 & ct  & 2 & -3.39**  & -4.31*** & 16.22*** & 14.24*** & 15.02*** & 15.90*** & 20.82*** & 17.79*** & 18.16***\\\\\n",
       "\t RHFG & d0 & cs  & 2 & -1.35    & -4.31*** & 24.55*** & 27.83*** & 24.30*** & 20.14*** & 20.95*** & 25.00*** & 23.29***\\\\\n",
       "\t ... & ... & ... & ... & ... & ... & ... & ... & ... & ... & ... & ... & ...\\\\\n",
       "\t RGXB & d12 & ct & 9 & -5.35*** & -2.81*** & 24.59*** & 27.15*** &  9.85*** & 22.99*** &  8.98*** & 37.84*** & 42.72***\\\\\n",
       "\t RGXB & d12 & cs & 9 & -4.63*** & -2.74**  & 21.87*** & 25.19*** &  8.75*** & 20.50*** &  8.45*** & 34.97*** & 38.57***\\\\\n",
       "\t RGXB & d12 & c  & 9 & -4.80*** & -2.85*** & 23.27*** & 26.74*** &  9.44*** & 21.94*** &  9.28*** & 37.39*** & 41.27***\\\\\n",
       "\\end{tabular}\n"
      ],
      "text/markdown": [
       "\n",
       "A data.frame: 192 × 13\n",
       "\n",
       "| variable &lt;chr&gt; | difference &lt;chr&gt; | spec &lt;chr&gt; | nlag &lt;dbl&gt; | t_1 &lt;chr&gt; | t_2 &lt;chr&gt; | F_3.4 &lt;chr&gt; | F_5.6 &lt;chr&gt; | F_7.8 &lt;chr&gt; | F_9.10 &lt;chr&gt; | F_11.12 &lt;chr&gt; | F_2.12 &lt;chr&gt; | F_1.12 &lt;chr&gt; |\n",
       "|---|---|---|---|---|---|---|---|---|---|---|---|---|\n",
       "| RHFG | d0 | cts | 2 | -3.04*   | -4.35*** | 22.45*** | 26.35*** | 23.87*** | 20.31*** | 21.26*** | 24.32*** | 24.35*** |\n",
       "| RHFG | d0 | ct  | 2 | -3.39**  | -4.31*** | 16.22*** | 14.24*** | 15.02*** | 15.90*** | 20.82*** | 17.79*** | 18.16*** |\n",
       "| RHFG | d0 | cs  | 2 | -1.35    | -4.31*** | 24.55*** | 27.83*** | 24.30*** | 20.14*** | 20.95*** | 25.00*** | 23.29*** |\n",
       "| ... | ... | ... | ... | ... | ... | ... | ... | ... | ... | ... | ... | ... |\n",
       "| RGXB | d12 | ct | 9 | -5.35*** | -2.81*** | 24.59*** | 27.15*** |  9.85*** | 22.99*** |  8.98*** | 37.84*** | 42.72*** |\n",
       "| RGXB | d12 | cs | 9 | -4.63*** | -2.74**  | 21.87*** | 25.19*** |  8.75*** | 20.50*** |  8.45*** | 34.97*** | 38.57*** |\n",
       "| RGXB | d12 | c  | 9 | -4.80*** | -2.85*** | 23.27*** | 26.74*** |  9.44*** | 21.94*** |  9.28*** | 37.39*** | 41.27*** |\n",
       "\n"
      ],
      "text/plain": [
       "    variable difference spec nlag t_1      t_2      F_3.4    F_5.6    F_7.8   \n",
       "1   RHFG     d0         cts  2    -3.04*   -4.35*** 22.45*** 26.35*** 23.87***\n",
       "2   RHFG     d0         ct   2    -3.39**  -4.31*** 16.22*** 14.24*** 15.02***\n",
       "3   RHFG     d0         cs   2    -1.35    -4.31*** 24.55*** 27.83*** 24.30***\n",
       "... ...      ...        ...  ...  ...      ...      ...      ...      ...     \n",
       "190 RGXB     d12        ct   9    -5.35*** -2.81*** 24.59*** 27.15***  9.85***\n",
       "191 RGXB     d12        cs   9    -4.63*** -2.74**  21.87*** 25.19***  8.75***\n",
       "192 RGXB     d12        c    9    -4.80*** -2.85*** 23.27*** 26.74***  9.44***\n",
       "    F_9.10   F_11.12  F_2.12   F_1.12  \n",
       "1   20.31*** 21.26*** 24.32*** 24.35***\n",
       "2   15.90*** 20.82*** 17.79*** 18.16***\n",
       "3   20.14*** 20.95*** 25.00*** 23.29***\n",
       "... ...      ...      ...      ...     \n",
       "190 22.99***  8.98*** 37.84*** 42.72***\n",
       "191 20.50***  8.45*** 34.97*** 38.57***\n",
       "192 21.94***  9.28*** 37.39*** 41.27***"
      ]
     },
     "metadata": {},
     "output_type": "display_data"
    }
   ],
   "source": [
    "table_hegy\n",
    "# table_hegy %>% kable() %>% as.character() %>% display_html()"
   ]
  },
  {
   "cell_type": "markdown",
   "metadata": {},
   "source": [
    "## CH Test"
   ]
  },
  {
   "cell_type": "code",
   "execution_count": 24,
   "metadata": {},
   "outputs": [
    {
     "data": {
      "text/html": [
       "<pre class=language-r><code>function (x, type = c(\"dummy\", \"trigonometric\"), lag1 = FALSE, \n",
       "<span style=white-space:pre-wrap>    NW.order = NULL, sid = NULL, xreg = NULL, pvalue = c(\"RS\", </span>\n",
       "<span style=white-space:pre-wrap>        \"raw\"), rs.nobsreg = 13) </span>\n",
       "NULL</code></pre>"
      ],
      "text/latex": [
       "\\begin{minted}{r}\n",
       "function (x, type = c(\"dummy\", \"trigonometric\"), lag1 = FALSE, \n",
       "    NW.order = NULL, sid = NULL, xreg = NULL, pvalue = c(\"RS\", \n",
       "        \"raw\"), rs.nobsreg = 13) \n",
       "NULL\n",
       "\\end{minted}"
      ],
      "text/markdown": [
       "```r\n",
       "function (x, type = c(\"dummy\", \"trigonometric\"), lag1 = FALSE, \n",
       "    NW.order = NULL, sid = NULL, xreg = NULL, pvalue = c(\"RS\", \n",
       "        \"raw\"), rs.nobsreg = 13) \n",
       "NULL\n",
       "```"
      ],
      "text/plain": [
       "function (x, type = c(\"dummy\", \"trigonometric\"), lag1 = FALSE, \n",
       "    NW.order = NULL, sid = NULL, xreg = NULL, pvalue = c(\"RS\", \n",
       "        \"raw\"), rs.nobsreg = 13) \n",
       "NULL"
      ]
     },
     "metadata": {},
     "output_type": "display_data"
    }
   ],
   "source": [
    "args(ch.test)"
   ]
  },
  {
   "cell_type": "code",
   "execution_count": 25,
   "metadata": {},
   "outputs": [
    {
     "data": {
      "text/html": [
       "<style>\n",
       ".list-inline {list-style: none; margin:0; padding: 0}\n",
       ".list-inline>li {display: inline-block}\n",
       ".list-inline>li:not(:last-child)::after {content: \"\\00b7\"; padding: 0 .5ex}\n",
       "</style>\n",
       "<ol class=list-inline><li>'statistics'</li><li>'pvalues'</li><li>'method'</li><li>'data.name'</li><li>'type'</li><li>'fitted.model'</li><li>'NW.order'</li><li>'lag1'</li><li>'isNullxreg'</li><li>'type.pvalue'</li><li>'pvlabels'</li></ol>\n"
      ],
      "text/latex": [
       "\\begin{enumerate*}\n",
       "\\item 'statistics'\n",
       "\\item 'pvalues'\n",
       "\\item 'method'\n",
       "\\item 'data.name'\n",
       "\\item 'type'\n",
       "\\item 'fitted.model'\n",
       "\\item 'NW.order'\n",
       "\\item 'lag1'\n",
       "\\item 'isNullxreg'\n",
       "\\item 'type.pvalue'\n",
       "\\item 'pvlabels'\n",
       "\\end{enumerate*}\n"
      ],
      "text/markdown": [
       "1. 'statistics'\n",
       "2. 'pvalues'\n",
       "3. 'method'\n",
       "4. 'data.name'\n",
       "5. 'type'\n",
       "6. 'fitted.model'\n",
       "7. 'NW.order'\n",
       "8. 'lag1'\n",
       "9. 'isNullxreg'\n",
       "10. 'type.pvalue'\n",
       "11. 'pvlabels'\n",
       "\n",
       "\n"
      ],
      "text/plain": [
       " [1] \"statistics\"   \"pvalues\"      \"method\"       \"data.name\"    \"type\"        \n",
       " [6] \"fitted.model\" \"NW.order\"     \"lag1\"         \"isNullxreg\"   \"type.pvalue\" \n",
       "[11] \"pvlabels\"    "
      ]
     },
     "metadata": {},
     "output_type": "display_data"
    }
   ],
   "source": [
    "test = ch.test(y, type=\"trigonometric\")\n",
    "names(test)"
   ]
  },
  {
   "cell_type": "code",
   "execution_count": 27,
   "metadata": {},
   "outputs": [
    {
     "data": {
      "text/html": [
       "<table>\n",
       "<caption>A data.frame: 1 × 10</caption>\n",
       "<thead>\n",
       "\t<tr><th scope=col>difference</th><th scope=col>spec</th><th scope=col>nlag</th><th scope=col>pi16</th><th scope=col>pi26</th><th scope=col>pi36</th><th scope=col>pi46</th><th scope=col>pi56</th><th scope=col>pi</th><th scope=col>joint</th></tr>\n",
       "\t<tr><th scope=col>&lt;chr&gt;</th><th scope=col>&lt;chr&gt;</th><th scope=col>&lt;dbl&gt;</th><th scope=col>&lt;chr&gt;</th><th scope=col>&lt;chr&gt;</th><th scope=col>&lt;chr&gt;</th><th scope=col>&lt;chr&gt;</th><th scope=col>&lt;chr&gt;</th><th scope=col>&lt;chr&gt;</th><th scope=col>&lt;chr&gt;</th></tr>\n",
       "</thead>\n",
       "<tbody>\n",
       "\t<tr><td>d0</td><td>lag1</td><td>12</td><td>0.12   </td><td>0.32   </td><td>0.25   </td><td>0.24   </td><td>0.36   </td><td>0.25   </td><td>1.39   </td></tr>\n",
       "</tbody>\n",
       "</table>\n"
      ],
      "text/latex": [
       "A data.frame: 1 × 10\n",
       "\\begin{tabular}{llllllllll}\n",
       " difference & spec & nlag & pi16 & pi26 & pi36 & pi46 & pi56 & pi & joint\\\\\n",
       " <chr> & <chr> & <dbl> & <chr> & <chr> & <chr> & <chr> & <chr> & <chr> & <chr>\\\\\n",
       "\\hline\n",
       "\t d0 & lag1 & 12 & 0.12    & 0.32    & 0.25    & 0.24    & 0.36    & 0.25    & 1.39   \\\\\n",
       "\\end{tabular}\n"
      ],
      "text/markdown": [
       "\n",
       "A data.frame: 1 × 10\n",
       "\n",
       "| difference &lt;chr&gt; | spec &lt;chr&gt; | nlag &lt;dbl&gt; | pi16 &lt;chr&gt; | pi26 &lt;chr&gt; | pi36 &lt;chr&gt; | pi46 &lt;chr&gt; | pi56 &lt;chr&gt; | pi &lt;chr&gt; | joint &lt;chr&gt; |\n",
       "|---|---|---|---|---|---|---|---|---|---|\n",
       "| d0 | lag1 | 12 | 0.12    | 0.32    | 0.25    | 0.24    | 0.36    | 0.25    | 1.39    |\n",
       "\n"
      ],
      "text/plain": [
       "  difference spec nlag pi16    pi26    pi36    pi46    pi56    pi      joint  \n",
       "1 d0         lag1 12   0.12    0.32    0.25    0.24    0.36    0.25    1.39   "
      ]
     },
     "metadata": {},
     "output_type": "display_data"
    }
   ],
   "source": [
    "ur_ch = function(y, n_diff = 0,\n",
    "                 spec = c(\"lag1\", \"lag0\"),\n",
    "                 max_lag = 12) {\n",
    "  \n",
    "  # 1 Set up\n",
    "  y = if (n_diff>0) diff(y, n_diff) %>% na.omit() else y %>% na.omit()\n",
    "  difference = paste0(\"d\", n_diff)\n",
    "  \n",
    "  spec = match.arg(spec)\n",
    "  lag1 = case_when(\n",
    "    spec == \"lag1\" ~ TRUE,\n",
    "    spec == \"lag0\" ~ FALSE,\n",
    "  )\n",
    "  \n",
    "  # 2 Estimation\n",
    "  obj = ch.test(y, \n",
    "                type = \"trigonometric\",\n",
    "                lag1 = lag1, \n",
    "                NW.order = max_lag,\n",
    "                pvalue = \"RS\"\n",
    "               )\n",
    "  \n",
    "  # 3 Report\n",
    "  tstat = obj$statistics\n",
    "  names(tstat)= c(\"pi16\", \"pi26\", \"pi36\", \n",
    "                  \"pi46\", \"pi56\", \"pi\", \"joint\")\n",
    "  pval = obj$pvalues\n",
    "  nlag = obj$NW.order\n",
    "  \n",
    "  test_star = star_tstat(tstat, pval=pval)\n",
    "  names(test_star) = names(tstat)\n",
    "  \n",
    "  res = data.frame(difference, spec, nlag, t(test_star),\n",
    "                   stringsAsFactors = FALSE)\n",
    "  \n",
    "  return(res)\n",
    "}\n",
    "\n",
    "# test\n",
    "ur_ch(y, spec = \"lag1\")"
   ]
  },
  {
   "cell_type": "code",
   "execution_count": 30,
   "metadata": {},
   "outputs": [],
   "source": [
    "report_test(price_log, \n",
    "            ur_test = ur_ch, \n",
    "            differences = c(0, 12), \n",
    "            specs = c(\"lag1\")\n",
    "           ) -> table_ch\n",
    "\n",
    "write.xlsx2(table_ch, '../result/result_ch.xlsx', row.names = FALSE)"
   ]
  },
  {
   "cell_type": "code",
   "execution_count": 31,
   "metadata": {},
   "outputs": [
    {
     "data": {
      "text/html": [
       "<table>\n",
       "<caption>A data.frame: 48 × 11</caption>\n",
       "<thead>\n",
       "\t<tr><th scope=col>variable</th><th scope=col>difference</th><th scope=col>spec</th><th scope=col>nlag</th><th scope=col>pi16</th><th scope=col>pi26</th><th scope=col>pi36</th><th scope=col>pi46</th><th scope=col>pi56</th><th scope=col>pi</th><th scope=col>joint</th></tr>\n",
       "\t<tr><th scope=col>&lt;chr&gt;</th><th scope=col>&lt;chr&gt;</th><th scope=col>&lt;chr&gt;</th><th scope=col>&lt;dbl&gt;</th><th scope=col>&lt;chr&gt;</th><th scope=col>&lt;chr&gt;</th><th scope=col>&lt;chr&gt;</th><th scope=col>&lt;chr&gt;</th><th scope=col>&lt;chr&gt;</th><th scope=col>&lt;chr&gt;</th><th scope=col>&lt;chr&gt;</th></tr>\n",
       "</thead>\n",
       "<tbody>\n",
       "\t<tr><td>RHFG   </td><td>d0 </td><td>lag1</td><td>12</td><td>0.38    </td><td>0.53    </td><td>0.84**  </td><td>0.83**  </td><td>0.45    </td><td>0.32    </td><td>2.20    </td></tr>\n",
       "\t<tr><td>RHFG   </td><td>d12</td><td>lag1</td><td>12</td><td>0.084   </td><td>0.048   </td><td>0.057   </td><td>0.058   </td><td>0.058   </td><td>0.020   </td><td>0.317   </td></tr>\n",
       "\t<tr><td>RHFG_NR</td><td>d0 </td><td>lag1</td><td>12</td><td>0.49    </td><td>0.59    </td><td>0.53    </td><td>0.50    </td><td>0.34    </td><td>0.19    </td><td>1.59    </td></tr>\n",
       "\t<tr><td>...</td><td>...</td><td>...</td><td>...</td><td>...</td><td>...</td><td>...</td><td>...</td><td>...</td><td>...</td><td>...</td></tr>\n",
       "\t<tr><td>RWXB</td><td>d12</td><td>lag1</td><td>12</td><td>0.104   </td><td>0.153   </td><td>0.079   </td><td>0.075   </td><td>0.120   </td><td>0.030   </td><td>0.767   </td></tr>\n",
       "\t<tr><td>RGXB</td><td>d0 </td><td>lag1</td><td>12</td><td>0.096   </td><td>0.141   </td><td>0.258   </td><td>0.702*  </td><td>0.445   </td><td>0.067   </td><td>1.607   </td></tr>\n",
       "\t<tr><td>RGXB</td><td>d12</td><td>lag1</td><td>12</td><td>0.11    </td><td>0.11    </td><td>0.28    </td><td>0.26    </td><td>0.25    </td><td>0.11    </td><td>0.96    </td></tr>\n",
       "</tbody>\n",
       "</table>\n"
      ],
      "text/latex": [
       "A data.frame: 48 × 11\n",
       "\\begin{tabular}{lllllllllll}\n",
       " variable & difference & spec & nlag & pi16 & pi26 & pi36 & pi46 & pi56 & pi & joint\\\\\n",
       " <chr> & <chr> & <chr> & <dbl> & <chr> & <chr> & <chr> & <chr> & <chr> & <chr> & <chr>\\\\\n",
       "\\hline\n",
       "\t RHFG    & d0  & lag1 & 12 & 0.38     & 0.53     & 0.84**   & 0.83**   & 0.45     & 0.32     & 2.20    \\\\\n",
       "\t RHFG    & d12 & lag1 & 12 & 0.084    & 0.048    & 0.057    & 0.058    & 0.058    & 0.020    & 0.317   \\\\\n",
       "\t RHFG\\_NR & d0  & lag1 & 12 & 0.49     & 0.59     & 0.53     & 0.50     & 0.34     & 0.19     & 1.59    \\\\\n",
       "\t ... & ... & ... & ... & ... & ... & ... & ... & ... & ... & ...\\\\\n",
       "\t RWXB & d12 & lag1 & 12 & 0.104    & 0.153    & 0.079    & 0.075    & 0.120    & 0.030    & 0.767   \\\\\n",
       "\t RGXB & d0  & lag1 & 12 & 0.096    & 0.141    & 0.258    & 0.702*   & 0.445    & 0.067    & 1.607   \\\\\n",
       "\t RGXB & d12 & lag1 & 12 & 0.11     & 0.11     & 0.28     & 0.26     & 0.25     & 0.11     & 0.96    \\\\\n",
       "\\end{tabular}\n"
      ],
      "text/markdown": [
       "\n",
       "A data.frame: 48 × 11\n",
       "\n",
       "| variable &lt;chr&gt; | difference &lt;chr&gt; | spec &lt;chr&gt; | nlag &lt;dbl&gt; | pi16 &lt;chr&gt; | pi26 &lt;chr&gt; | pi36 &lt;chr&gt; | pi46 &lt;chr&gt; | pi56 &lt;chr&gt; | pi &lt;chr&gt; | joint &lt;chr&gt; |\n",
       "|---|---|---|---|---|---|---|---|---|---|---|\n",
       "| RHFG    | d0  | lag1 | 12 | 0.38     | 0.53     | 0.84**   | 0.83**   | 0.45     | 0.32     | 2.20     |\n",
       "| RHFG    | d12 | lag1 | 12 | 0.084    | 0.048    | 0.057    | 0.058    | 0.058    | 0.020    | 0.317    |\n",
       "| RHFG_NR | d0  | lag1 | 12 | 0.49     | 0.59     | 0.53     | 0.50     | 0.34     | 0.19     | 1.59     |\n",
       "| ... | ... | ... | ... | ... | ... | ... | ... | ... | ... | ... |\n",
       "| RWXB | d12 | lag1 | 12 | 0.104    | 0.153    | 0.079    | 0.075    | 0.120    | 0.030    | 0.767    |\n",
       "| RGXB | d0  | lag1 | 12 | 0.096    | 0.141    | 0.258    | 0.702*   | 0.445    | 0.067    | 1.607    |\n",
       "| RGXB | d12 | lag1 | 12 | 0.11     | 0.11     | 0.28     | 0.26     | 0.25     | 0.11     | 0.96     |\n",
       "\n"
      ],
      "text/plain": [
       "    variable difference spec nlag pi16     pi26     pi36     pi46     pi56    \n",
       "1   RHFG     d0         lag1 12   0.38     0.53     0.84**   0.83**   0.45    \n",
       "2   RHFG     d12        lag1 12   0.084    0.048    0.057    0.058    0.058   \n",
       "3   RHFG_NR  d0         lag1 12   0.49     0.59     0.53     0.50     0.34    \n",
       "... ...      ...        ...  ...  ...      ...      ...      ...      ...     \n",
       "46  RWXB     d12        lag1 12   0.104    0.153    0.079    0.075    0.120   \n",
       "47  RGXB     d0         lag1 12   0.096    0.141    0.258    0.702*   0.445   \n",
       "48  RGXB     d12        lag1 12   0.11     0.11     0.28     0.26     0.25    \n",
       "    pi       joint   \n",
       "1   0.32     2.20    \n",
       "2   0.020    0.317   \n",
       "3   0.19     1.59    \n",
       "... ...      ...     \n",
       "46  0.030    0.767   \n",
       "47  0.067    1.607   \n",
       "48  0.11     0.96    "
      ]
     },
     "metadata": {},
     "output_type": "display_data"
    }
   ],
   "source": [
    "table_ch"
   ]
  },
  {
   "cell_type": "markdown",
   "metadata": {},
   "source": [
    "# ทดสอบ Unit Root"
   ]
  },
  {
   "cell_type": "markdown",
   "metadata": {},
   "source": [
    "## ADF"
   ]
  },
  {
   "cell_type": "code",
   "execution_count": 32,
   "metadata": {},
   "outputs": [
    {
     "data": {
      "text/html": [
       "<pre class=language-r><code>function (y, type = c(\"none\", \"drift\", \"trend\"), lags = 1, selectlags = c(\"Fixed\", \n",
       "<span style=white-space:pre-wrap>    \"AIC\", \"BIC\")) </span>\n",
       "NULL</code></pre>"
      ],
      "text/latex": [
       "\\begin{minted}{r}\n",
       "function (y, type = c(\"none\", \"drift\", \"trend\"), lags = 1, selectlags = c(\"Fixed\", \n",
       "    \"AIC\", \"BIC\")) \n",
       "NULL\n",
       "\\end{minted}"
      ],
      "text/markdown": [
       "```r\n",
       "function (y, type = c(\"none\", \"drift\", \"trend\"), lags = 1, selectlags = c(\"Fixed\", \n",
       "    \"AIC\", \"BIC\")) \n",
       "NULL\n",
       "```"
      ],
      "text/plain": [
       "function (y, type = c(\"none\", \"drift\", \"trend\"), lags = 1, selectlags = c(\"Fixed\", \n",
       "    \"AIC\", \"BIC\")) \n",
       "NULL"
      ]
     },
     "metadata": {},
     "output_type": "display_data"
    },
    {
     "data": {
      "text/html": [
       "<style>\n",
       ".dl-inline {width: auto; margin:0; padding: 0}\n",
       ".dl-inline>dt, .dl-inline>dd {float: none; width: auto; display: inline-block}\n",
       ".dl-inline>dt::after {content: \":\\0020\"; padding-right: .5ex}\n",
       ".dl-inline>dt:not(:first-of-type) {padding-left: .5ex}\n",
       "</style><dl class=dl-inline><dt>y</dt><dd>'vector'</dd><dt>model</dt><dd>'character'</dd><dt>lags</dt><dd>'integer'</dd><dt>cval</dt><dd>'matrix'</dd><dt>res</dt><dd>'vector'</dd><dt>teststat</dt><dd>'matrix'</dd><dt>testreg</dt><dd>'ANY'</dd><dt>test.name</dt><dd>'character'</dd></dl>\n"
      ],
      "text/latex": [
       "\\begin{description*}\n",
       "\\item[y] 'vector'\n",
       "\\item[model] 'character'\n",
       "\\item[lags] 'integer'\n",
       "\\item[cval] 'matrix'\n",
       "\\item[res] 'vector'\n",
       "\\item[teststat] 'matrix'\n",
       "\\item[testreg] 'ANY'\n",
       "\\item[test.name] 'character'\n",
       "\\end{description*}\n"
      ],
      "text/markdown": [
       "y\n",
       ":   'vector'model\n",
       ":   'character'lags\n",
       ":   'integer'cval\n",
       ":   'matrix'res\n",
       ":   'vector'teststat\n",
       ":   'matrix'testreg\n",
       ":   'ANY'test.name\n",
       ":   'character'\n",
       "\n"
      ],
      "text/plain": [
       "          y       model        lags        cval         res    teststat \n",
       "   \"vector\" \"character\"   \"integer\"    \"matrix\"    \"vector\"    \"matrix\" \n",
       "    testreg   test.name \n",
       "      \"ANY\" \"character\" "
      ]
     },
     "metadata": {},
     "output_type": "display_data"
    }
   ],
   "source": [
    "args(ur.df)\n",
    "getSlots(\"ur.df\")"
   ]
  },
  {
   "cell_type": "code",
   "execution_count": 33,
   "metadata": {},
   "outputs": [
    {
     "data": {
      "text/html": [
       "<table>\n",
       "<caption>A data.frame: 1 × 5</caption>\n",
       "<thead>\n",
       "\t<tr><th scope=col>difference</th><th scope=col>spec</th><th scope=col>ADF_nlag</th><th scope=col>ADF_tau</th><th scope=col>ADF_phi</th></tr>\n",
       "\t<tr><th scope=col>&lt;chr&gt;</th><th scope=col>&lt;chr&gt;</th><th scope=col>&lt;dbl&gt;</th><th scope=col>&lt;chr&gt;</th><th scope=col>&lt;chr&gt;</th></tr>\n",
       "</thead>\n",
       "<tbody>\n",
       "\t<tr><td>d0</td><td>ct</td><td>12</td><td>-3.41*  </td><td>5.82*  </td></tr>\n",
       "</tbody>\n",
       "</table>\n"
      ],
      "text/latex": [
       "A data.frame: 1 × 5\n",
       "\\begin{tabular}{lllll}\n",
       " difference & spec & ADF\\_nlag & ADF\\_tau & ADF\\_phi\\\\\n",
       " <chr> & <chr> & <dbl> & <chr> & <chr>\\\\\n",
       "\\hline\n",
       "\t d0 & ct & 12 & -3.41*   & 5.82*  \\\\\n",
       "\\end{tabular}\n"
      ],
      "text/markdown": [
       "\n",
       "A data.frame: 1 × 5\n",
       "\n",
       "| difference &lt;chr&gt; | spec &lt;chr&gt; | ADF_nlag &lt;dbl&gt; | ADF_tau &lt;chr&gt; | ADF_phi &lt;chr&gt; |\n",
       "|---|---|---|---|---|\n",
       "| d0 | ct | 12 | -3.41*   | 5.82*   |\n",
       "\n"
      ],
      "text/plain": [
       "  difference spec ADF_nlag ADF_tau  ADF_phi\n",
       "1 d0         ct   12       -3.41*   5.82*  "
      ]
     },
     "metadata": {},
     "output_type": "display_data"
    }
   ],
   "source": [
    "ur_adf = function(y, n_diff = 0,\n",
    "                  spec = c(\"ct\", \"c\", \"n\"),\n",
    "                  max_lag = 12) {\n",
    "  \n",
    "  # 1 Set up\n",
    "  y = if (n_diff>0) diff(y, n_diff) %>% na.omit() else y %>% na.omit()\n",
    "  difference = paste0(\"d\", n_diff)\n",
    "  \n",
    "  spec = match.arg(spec)\n",
    "  type = case_when(\n",
    "    spec == \"ct\" ~ \"trend\",\n",
    "    spec == \"c\"  ~ \"drift\",\n",
    "    spec == \"n\"  ~ \"none\",\n",
    "  )\n",
    "  \n",
    "  # 2 Estimation\n",
    "  for (lag in rev(0:max_lag)) {\n",
    "    obj = ur.df(y, type = type, lags = lag, selectlags = \"Fixed\")\n",
    "    coef = obj@testreg$coefficients\n",
    "    if ( 0.05 > coef[nrow(coef), 4] ) break # test significant of the last lag\n",
    "  }\n",
    "  \n",
    "  # 3 Report\n",
    "  n_coef = (obj@'testreg'$'coefficients') %>% nrow()\n",
    "  model = obj@'model'\n",
    "  n_lag = case_when(\n",
    "    model == \"none\"  ~ n_coef-1,\n",
    "    model == \"drift\" ~ n_coef-2,\n",
    "    model == \"trend\" ~ n_coef-3,\n",
    "  )\n",
    "  \n",
    "  tstat = obj@'teststat' %>% t()\n",
    "  \n",
    "  cval = obj@'cval'\n",
    "  colnames(cval) = c('cv01', 'cv05', 'cv10')\n",
    "  \n",
    "  tau = tstat[1]\n",
    "  cval_tau  = cval[1,]\n",
    "  \n",
    "  phi = if(model != \"none\") tstat[nrow(tstat)] else NA\n",
    "  cval_phi = if(model != \"none\") cval[nrow(tstat),] else NA\n",
    "  \n",
    "  ADF_nlag = n_lag\n",
    "  ADF_tau = star_tstat(tau, cval_tau)\n",
    "  ADF_phi = star_tstat(phi, cval_phi)\n",
    "  \n",
    "  res = data.frame(difference, spec, ADF_nlag, ADF_tau, ADF_phi, \n",
    "                   stringsAsFactors = FALSE)\n",
    "  \n",
    "  return(res)\n",
    "}\n",
    "\n",
    "# test\n",
    "ur_adf(y, spec = \"ct\", max_lag=12)"
   ]
  },
  {
   "cell_type": "markdown",
   "metadata": {},
   "source": [
    "## PP"
   ]
  },
  {
   "cell_type": "code",
   "execution_count": 35,
   "metadata": {},
   "outputs": [
    {
     "data": {
      "text/html": [
       "<pre class=language-r><code>function (x, type = c(\"Z-alpha\", \"Z-tau\"), model = c(\"constant\", \n",
       "<span style=white-space:pre-wrap>    \"trend\"), lags = c(\"short\", \"long\"), use.lag = NULL) </span>\n",
       "NULL</code></pre>"
      ],
      "text/latex": [
       "\\begin{minted}{r}\n",
       "function (x, type = c(\"Z-alpha\", \"Z-tau\"), model = c(\"constant\", \n",
       "    \"trend\"), lags = c(\"short\", \"long\"), use.lag = NULL) \n",
       "NULL\n",
       "\\end{minted}"
      ],
      "text/markdown": [
       "```r\n",
       "function (x, type = c(\"Z-alpha\", \"Z-tau\"), model = c(\"constant\", \n",
       "    \"trend\"), lags = c(\"short\", \"long\"), use.lag = NULL) \n",
       "NULL\n",
       "```"
      ],
      "text/plain": [
       "function (x, type = c(\"Z-alpha\", \"Z-tau\"), model = c(\"constant\", \n",
       "    \"trend\"), lags = c(\"short\", \"long\"), use.lag = NULL) \n",
       "NULL"
      ]
     },
     "metadata": {},
     "output_type": "display_data"
    },
    {
     "data": {
      "text/html": [
       "<style>\n",
       ".dl-inline {width: auto; margin:0; padding: 0}\n",
       ".dl-inline>dt, .dl-inline>dd {float: none; width: auto; display: inline-block}\n",
       ".dl-inline>dt::after {content: \":\\0020\"; padding-right: .5ex}\n",
       ".dl-inline>dt:not(:first-of-type) {padding-left: .5ex}\n",
       "</style><dl class=dl-inline><dt>y</dt><dd>'vector'</dd><dt>type</dt><dd>'character'</dd><dt>model</dt><dd>'character'</dd><dt>lag</dt><dd>'integer'</dd><dt>cval</dt><dd>'matrix'</dd><dt>teststat</dt><dd>'numeric'</dd><dt>testreg</dt><dd>'ANY'</dd><dt>auxstat</dt><dd>'matrix'</dd><dt>res</dt><dd>'vector'</dd><dt>test.name</dt><dd>'character'</dd></dl>\n"
      ],
      "text/latex": [
       "\\begin{description*}\n",
       "\\item[y] 'vector'\n",
       "\\item[type] 'character'\n",
       "\\item[model] 'character'\n",
       "\\item[lag] 'integer'\n",
       "\\item[cval] 'matrix'\n",
       "\\item[teststat] 'numeric'\n",
       "\\item[testreg] 'ANY'\n",
       "\\item[auxstat] 'matrix'\n",
       "\\item[res] 'vector'\n",
       "\\item[test.name] 'character'\n",
       "\\end{description*}\n"
      ],
      "text/markdown": [
       "y\n",
       ":   'vector'type\n",
       ":   'character'model\n",
       ":   'character'lag\n",
       ":   'integer'cval\n",
       ":   'matrix'teststat\n",
       ":   'numeric'testreg\n",
       ":   'ANY'auxstat\n",
       ":   'matrix'res\n",
       ":   'vector'test.name\n",
       ":   'character'\n",
       "\n"
      ],
      "text/plain": [
       "          y        type       model         lag        cval    teststat \n",
       "   \"vector\" \"character\" \"character\"   \"integer\"    \"matrix\"   \"numeric\" \n",
       "    testreg     auxstat         res   test.name \n",
       "      \"ANY\"    \"matrix\"    \"vector\" \"character\" "
      ]
     },
     "metadata": {},
     "output_type": "display_data"
    }
   ],
   "source": [
    "args(ur.pp)\n",
    "getSlots(\"ur.pp\")"
   ]
  },
  {
   "cell_type": "code",
   "execution_count": 34,
   "metadata": {},
   "outputs": [
    {
     "data": {
      "text/html": [
       "<table>\n",
       "<caption>A data.frame: 1 × 4</caption>\n",
       "<thead>\n",
       "\t<tr><th scope=col>difference</th><th scope=col>spec</th><th scope=col>PP_nlag</th><th scope=col>PP_zta</th></tr>\n",
       "\t<tr><th scope=col>&lt;chr&gt;</th><th scope=col>&lt;chr&gt;</th><th scope=col>&lt;int&gt;</th><th scope=col>&lt;chr&gt;</th></tr>\n",
       "</thead>\n",
       "<tbody>\n",
       "\t<tr><td>d0</td><td>ct</td><td>16</td><td>-2.96   </td></tr>\n",
       "</tbody>\n",
       "</table>\n"
      ],
      "text/latex": [
       "A data.frame: 1 × 4\n",
       "\\begin{tabular}{llll}\n",
       " difference & spec & PP\\_nlag & PP\\_zta\\\\\n",
       " <chr> & <chr> & <int> & <chr>\\\\\n",
       "\\hline\n",
       "\t d0 & ct & 16 & -2.96   \\\\\n",
       "\\end{tabular}\n"
      ],
      "text/markdown": [
       "\n",
       "A data.frame: 1 × 4\n",
       "\n",
       "| difference &lt;chr&gt; | spec &lt;chr&gt; | PP_nlag &lt;int&gt; | PP_zta &lt;chr&gt; |\n",
       "|---|---|---|---|\n",
       "| d0 | ct | 16 | -2.96    |\n",
       "\n"
      ],
      "text/plain": [
       "  difference spec PP_nlag PP_zta  \n",
       "1 d0         ct   16      -2.96   "
      ]
     },
     "metadata": {},
     "output_type": "display_data"
    }
   ],
   "source": [
    "ur_pp = function(y, n_diff = 0,\n",
    "                 spec = c(\"ct\", \"c\"),\n",
    "                 lag_method = c(\"long\", \"short\")) {\n",
    "  \n",
    "  # 1 Set up\n",
    "  y = if (n_diff>0) diff(y, n_diff) %>% na.omit() else y %>% na.omit()\n",
    "  difference = paste0(\"d\", n_diff)\n",
    "  \n",
    "  spec = match.arg(spec)\n",
    "  model = case_when(\n",
    "    spec == \"ct\" ~ \"trend\",\n",
    "    spec == \"c\"  ~ \"constant\"\n",
    "  )\n",
    "  \n",
    "  lag_method = match.arg(lag_method)\n",
    "  \n",
    "  # 2 Estimation\n",
    "  obj = ur.pp(y, type = \"Z-tau\", model = model, lags = lag_method)\n",
    "  \n",
    "  # 3 Report\n",
    "  model = obj@'model'\n",
    "  n_lag = obj@'lag'\n",
    "  tstat = obj@'teststat'\n",
    "  cval = obj@'cval'\n",
    "  colnames(cval) = c('cv01', 'cv05', 'cv10')\n",
    "  cval = cval[1,]\n",
    "  \n",
    "  PP_nlag = n_lag\n",
    "  PP_zta = star_tstat(tstat, cval) # zta means Z-tau-alpha\n",
    "  \n",
    "  res = data.frame(difference, spec, PP_nlag, PP_zta, \n",
    "                   stringsAsFactors = FALSE)\n",
    "\n",
    "  return(res)\n",
    "}\n",
    "\n",
    "# test\n",
    "ur_pp(y, spec=\"ct\")"
   ]
  },
  {
   "cell_type": "markdown",
   "metadata": {},
   "source": [
    "## DFGLS"
   ]
  },
  {
   "cell_type": "code",
   "execution_count": 36,
   "metadata": {},
   "outputs": [
    {
     "data": {
      "text/html": [
       "<pre class=language-r><code>function (y, type = c(\"DF-GLS\", \"P-test\"), model = c(\"constant\", \n",
       "<span style=white-space:pre-wrap>    \"trend\"), lag.max = 4) </span>\n",
       "NULL</code></pre>"
      ],
      "text/latex": [
       "\\begin{minted}{r}\n",
       "function (y, type = c(\"DF-GLS\", \"P-test\"), model = c(\"constant\", \n",
       "    \"trend\"), lag.max = 4) \n",
       "NULL\n",
       "\\end{minted}"
      ],
      "text/markdown": [
       "```r\n",
       "function (y, type = c(\"DF-GLS\", \"P-test\"), model = c(\"constant\", \n",
       "    \"trend\"), lag.max = 4) \n",
       "NULL\n",
       "```"
      ],
      "text/plain": [
       "function (y, type = c(\"DF-GLS\", \"P-test\"), model = c(\"constant\", \n",
       "    \"trend\"), lag.max = 4) \n",
       "NULL"
      ]
     },
     "metadata": {},
     "output_type": "display_data"
    },
    {
     "data": {
      "text/html": [
       "<style>\n",
       ".dl-inline {width: auto; margin:0; padding: 0}\n",
       ".dl-inline>dt, .dl-inline>dd {float: none; width: auto; display: inline-block}\n",
       ".dl-inline>dt::after {content: \":\\0020\"; padding-right: .5ex}\n",
       ".dl-inline>dt:not(:first-of-type) {padding-left: .5ex}\n",
       "</style><dl class=dl-inline><dt>y</dt><dd>'vector'</dd><dt>yd</dt><dd>'vector'</dd><dt>type</dt><dd>'character'</dd><dt>model</dt><dd>'character'</dd><dt>lag</dt><dd>'integer'</dd><dt>cval</dt><dd>'matrix'</dd><dt>teststat</dt><dd>'numeric'</dd><dt>testreg</dt><dd>'ANY'</dd><dt>test.name</dt><dd>'character'</dd></dl>\n"
      ],
      "text/latex": [
       "\\begin{description*}\n",
       "\\item[y] 'vector'\n",
       "\\item[yd] 'vector'\n",
       "\\item[type] 'character'\n",
       "\\item[model] 'character'\n",
       "\\item[lag] 'integer'\n",
       "\\item[cval] 'matrix'\n",
       "\\item[teststat] 'numeric'\n",
       "\\item[testreg] 'ANY'\n",
       "\\item[test.name] 'character'\n",
       "\\end{description*}\n"
      ],
      "text/markdown": [
       "y\n",
       ":   'vector'yd\n",
       ":   'vector'type\n",
       ":   'character'model\n",
       ":   'character'lag\n",
       ":   'integer'cval\n",
       ":   'matrix'teststat\n",
       ":   'numeric'testreg\n",
       ":   'ANY'test.name\n",
       ":   'character'\n",
       "\n"
      ],
      "text/plain": [
       "          y          yd        type       model         lag        cval \n",
       "   \"vector\"    \"vector\" \"character\" \"character\"   \"integer\"    \"matrix\" \n",
       "   teststat     testreg   test.name \n",
       "  \"numeric\"       \"ANY\" \"character\" "
      ]
     },
     "metadata": {},
     "output_type": "display_data"
    }
   ],
   "source": [
    "args(ur.ers)\n",
    "getSlots(\"ur.ers\")"
   ]
  },
  {
   "cell_type": "code",
   "execution_count": 37,
   "metadata": {},
   "outputs": [
    {
     "data": {
      "text/html": [
       "<table>\n",
       "<caption>A data.frame: 1 × 4</caption>\n",
       "<thead>\n",
       "\t<tr><th scope=col>difference</th><th scope=col>spec</th><th scope=col>DFGLS_nlag</th><th scope=col>DFGLS_tau</th></tr>\n",
       "\t<tr><th scope=col>&lt;chr&gt;</th><th scope=col>&lt;chr&gt;</th><th scope=col>&lt;int&gt;</th><th scope=col>&lt;chr&gt;</th></tr>\n",
       "</thead>\n",
       "<tbody>\n",
       "\t<tr><td>d0</td><td>c</td><td>12</td><td>-0.51   </td></tr>\n",
       "</tbody>\n",
       "</table>\n"
      ],
      "text/latex": [
       "A data.frame: 1 × 4\n",
       "\\begin{tabular}{llll}\n",
       " difference & spec & DFGLS\\_nlag & DFGLS\\_tau\\\\\n",
       " <chr> & <chr> & <int> & <chr>\\\\\n",
       "\\hline\n",
       "\t d0 & c & 12 & -0.51   \\\\\n",
       "\\end{tabular}\n"
      ],
      "text/markdown": [
       "\n",
       "A data.frame: 1 × 4\n",
       "\n",
       "| difference &lt;chr&gt; | spec &lt;chr&gt; | DFGLS_nlag &lt;int&gt; | DFGLS_tau &lt;chr&gt; |\n",
       "|---|---|---|---|\n",
       "| d0 | c | 12 | -0.51    |\n",
       "\n"
      ],
      "text/plain": [
       "  difference spec DFGLS_nlag DFGLS_tau\n",
       "1 d0         c    12         -0.51    "
      ]
     },
     "metadata": {},
     "output_type": "display_data"
    }
   ],
   "source": [
    "ur_dfgls = function(y, n_diff = 0,\n",
    "                    spec = c(\"ct\", \"c\", \"n\"),\n",
    "                    max_lag = 12) {\n",
    "  \n",
    "  # 1 Set up\n",
    "  y = if (n_diff>0) diff(y, n_diff) %>% na.omit() else y %>% na.omit()\n",
    "  difference = paste0(\"d\", n_diff)\n",
    "  \n",
    "  spec = match.arg(spec)\n",
    "  model = case_when(\n",
    "    spec == \"ct\" ~ \"trend\",\n",
    "    spec == \"c\"  ~ \"constant\",\n",
    "  )\n",
    "  \n",
    "  # 2 Estimation\n",
    "  for (lag in rev(0:max_lag)) {\n",
    "    obj = ur.ers(y, type = \"DF-GLS\", model = model, lag.max = lag) # model = \"trend\"\n",
    "    coef = obj@testreg$coefficients\n",
    "    if ( 0.05 > coef[nrow(coef), 4] ) break # test significant of the last lag\n",
    "  }\n",
    "  \n",
    "  # 3 Report\n",
    "  type = obj@'type'\n",
    "  model = obj@'model'\n",
    "  n_lag = obj@'lag'\n",
    "  tstat = obj@'teststat'\n",
    "  cval = obj@'cval'\n",
    "  colnames(cval) = c('cv01', 'cv05', 'cv10')\n",
    "  cval = cval[1,]\n",
    "  \n",
    "  DFGLS_nlag = n_lag\n",
    "  DFGLS_tau = star_tstat(tstat, cval)\n",
    "  \n",
    "  res = data.frame(difference, spec, DFGLS_nlag, DFGLS_tau, \n",
    "                   stringsAsFactors = FALSE)\n",
    "\n",
    "  return(res)\n",
    "}\n",
    "\n",
    "# test\n",
    "ur_dfgls(y, spec = \"c\", max_lag=12)"
   ]
  },
  {
   "cell_type": "markdown",
   "metadata": {},
   "source": [
    "## KPSS"
   ]
  },
  {
   "cell_type": "code",
   "execution_count": 38,
   "metadata": {},
   "outputs": [
    {
     "data": {
      "text/html": [
       "<pre class=language-r><code>function (y, type = c(\"mu\", \"tau\"), lags = c(\"short\", \"long\", \n",
       "<span style=white-space:pre-wrap>    \"nil\"), use.lag = NULL) </span>\n",
       "NULL</code></pre>"
      ],
      "text/latex": [
       "\\begin{minted}{r}\n",
       "function (y, type = c(\"mu\", \"tau\"), lags = c(\"short\", \"long\", \n",
       "    \"nil\"), use.lag = NULL) \n",
       "NULL\n",
       "\\end{minted}"
      ],
      "text/markdown": [
       "```r\n",
       "function (y, type = c(\"mu\", \"tau\"), lags = c(\"short\", \"long\", \n",
       "    \"nil\"), use.lag = NULL) \n",
       "NULL\n",
       "```"
      ],
      "text/plain": [
       "function (y, type = c(\"mu\", \"tau\"), lags = c(\"short\", \"long\", \n",
       "    \"nil\"), use.lag = NULL) \n",
       "NULL"
      ]
     },
     "metadata": {},
     "output_type": "display_data"
    },
    {
     "data": {
      "text/html": [
       "<style>\n",
       ".dl-inline {width: auto; margin:0; padding: 0}\n",
       ".dl-inline>dt, .dl-inline>dd {float: none; width: auto; display: inline-block}\n",
       ".dl-inline>dt::after {content: \":\\0020\"; padding-right: .5ex}\n",
       ".dl-inline>dt:not(:first-of-type) {padding-left: .5ex}\n",
       "</style><dl class=dl-inline><dt>y</dt><dd>'vector'</dd><dt>type</dt><dd>'character'</dd><dt>lag</dt><dd>'integer'</dd><dt>cval</dt><dd>'matrix'</dd><dt>teststat</dt><dd>'numeric'</dd><dt>res</dt><dd>'vector'</dd><dt>test.name</dt><dd>'character'</dd></dl>\n"
      ],
      "text/latex": [
       "\\begin{description*}\n",
       "\\item[y] 'vector'\n",
       "\\item[type] 'character'\n",
       "\\item[lag] 'integer'\n",
       "\\item[cval] 'matrix'\n",
       "\\item[teststat] 'numeric'\n",
       "\\item[res] 'vector'\n",
       "\\item[test.name] 'character'\n",
       "\\end{description*}\n"
      ],
      "text/markdown": [
       "y\n",
       ":   'vector'type\n",
       ":   'character'lag\n",
       ":   'integer'cval\n",
       ":   'matrix'teststat\n",
       ":   'numeric'res\n",
       ":   'vector'test.name\n",
       ":   'character'\n",
       "\n"
      ],
      "text/plain": [
       "          y        type         lag        cval    teststat         res \n",
       "   \"vector\" \"character\"   \"integer\"    \"matrix\"   \"numeric\"    \"vector\" \n",
       "  test.name \n",
       "\"character\" "
      ]
     },
     "metadata": {},
     "output_type": "display_data"
    }
   ],
   "source": [
    "args(ur.kpss)\n",
    "getSlots(\"ur.kpss\") # mu = constant tau = constant with trend"
   ]
  },
  {
   "cell_type": "code",
   "execution_count": 39,
   "metadata": {},
   "outputs": [
    {
     "data": {
      "text/html": [
       "<table>\n",
       "<caption>A data.frame: 1 × 4</caption>\n",
       "<thead>\n",
       "\t<tr><th scope=col>difference</th><th scope=col>spec</th><th scope=col>KPSS_nlag</th><th scope=col>KPSS_tau</th></tr>\n",
       "\t<tr><th scope=col>&lt;chr&gt;</th><th scope=col>&lt;chr&gt;</th><th scope=col>&lt;int&gt;</th><th scope=col>&lt;chr&gt;</th></tr>\n",
       "</thead>\n",
       "<tbody>\n",
       "\t<tr><td>d0</td><td>ct</td><td>16</td><td>0.12   </td></tr>\n",
       "</tbody>\n",
       "</table>\n"
      ],
      "text/latex": [
       "A data.frame: 1 × 4\n",
       "\\begin{tabular}{llll}\n",
       " difference & spec & KPSS\\_nlag & KPSS\\_tau\\\\\n",
       " <chr> & <chr> & <int> & <chr>\\\\\n",
       "\\hline\n",
       "\t d0 & ct & 16 & 0.12   \\\\\n",
       "\\end{tabular}\n"
      ],
      "text/markdown": [
       "\n",
       "A data.frame: 1 × 4\n",
       "\n",
       "| difference &lt;chr&gt; | spec &lt;chr&gt; | KPSS_nlag &lt;int&gt; | KPSS_tau &lt;chr&gt; |\n",
       "|---|---|---|---|\n",
       "| d0 | ct | 16 | 0.12    |\n",
       "\n"
      ],
      "text/plain": [
       "  difference spec KPSS_nlag KPSS_tau\n",
       "1 d0         ct   16        0.12    "
      ]
     },
     "metadata": {},
     "output_type": "display_data"
    }
   ],
   "source": [
    "ur_kpss = function(y, n_diff = 0,\n",
    "                   spec = c(\"ct\", \"c\"),\n",
    "                   lag_method = c(\"long\", \"short\")) {\n",
    "  \n",
    "  # 1 Set up\n",
    "  y = if (n_diff>0) diff(y, n_diff) %>% na.omit() else y %>% na.omit()\n",
    "  difference = paste0(\"d\", n_diff)\n",
    "  \n",
    "  spec = match.arg(spec)\n",
    "  type = case_when(\n",
    "    spec == \"ct\" ~ \"tau\",\n",
    "    spec == \"c\"  ~ \"mu\",\n",
    "  )\n",
    "  \n",
    "  lag_method = match.arg(lag_method)\n",
    "  \n",
    "  # 2 Estimation\n",
    "  obj = ur.kpss(y, type = type, lags = lag_method)\n",
    "  \n",
    "  # 3 Report\n",
    "  n_lag = obj@'lag'\n",
    "  tstat = obj@'teststat'\n",
    "  cval = obj@'cval'\n",
    "  colnames(cval) = c('cv10', 'cv05', 'cv025', 'cv01')\n",
    "  cval = cval[, c(4, 2, 1)] # rearrange\n",
    "  \n",
    "  KPSS_nlag = n_lag\n",
    "  KPSS_tau = star_tstat(tstat, cval) # zta means Z-tau-alpha\n",
    "  \n",
    "  res = data.frame(difference, spec, KPSS_nlag, KPSS_tau, \n",
    "                   stringsAsFactors = FALSE)\n",
    "\n",
    "  return(res)\n",
    "}\n",
    "\n",
    "# test\n",
    "ur_kpss(y, spec=\"ct\")"
   ]
  },
  {
   "cell_type": "markdown",
   "metadata": {},
   "source": [
    "## All tests"
   ]
  },
  {
   "cell_type": "code",
   "execution_count": 41,
   "metadata": {},
   "outputs": [],
   "source": [
    "ur_tests = list(ur_adf, ur_dfgls, ur_pp, ur_kpss)\n",
    "\n",
    "lapply(ur_tests,\n",
    "       report_test, \n",
    "       ys = price_log,\n",
    "       differences = c(0, 1), \n",
    "       specs = c(\"ct\", \"c\")\n",
    "      ) %>% reduce(merge) -> table_ur\n",
    "\n",
    "write.xlsx2(table_ur, '../result/result_ur.xlsx', row.names = FALSE)"
   ]
  },
  {
   "cell_type": "code",
   "execution_count": 42,
   "metadata": {},
   "outputs": [
    {
     "data": {
      "text/html": [
       "<table>\n",
       "<caption>A data.frame: 96 × 12</caption>\n",
       "<thead>\n",
       "\t<tr><th scope=col>variable</th><th scope=col>difference</th><th scope=col>spec</th><th scope=col>ADF_nlag</th><th scope=col>ADF_tau</th><th scope=col>ADF_phi</th><th scope=col>DFGLS_nlag</th><th scope=col>DFGLS_tau</th><th scope=col>PP_nlag</th><th scope=col>PP_zta</th><th scope=col>KPSS_nlag</th><th scope=col>KPSS_tau</th></tr>\n",
       "\t<tr><th scope=col>&lt;chr&gt;</th><th scope=col>&lt;chr&gt;</th><th scope=col>&lt;chr&gt;</th><th scope=col>&lt;dbl&gt;</th><th scope=col>&lt;chr&gt;</th><th scope=col>&lt;chr&gt;</th><th scope=col>&lt;int&gt;</th><th scope=col>&lt;chr&gt;</th><th scope=col>&lt;int&gt;</th><th scope=col>&lt;chr&gt;</th><th scope=col>&lt;int&gt;</th><th scope=col>&lt;chr&gt;</th></tr>\n",
       "</thead>\n",
       "<tbody>\n",
       "\t<tr><td>RGFG</td><td>d0</td><td>c </td><td>12</td><td>-1.90   </td><td>2.21    </td><td>12</td><td>-0.46   </td><td>16</td><td>-1.29    </td><td>16</td><td>2.02*** </td></tr>\n",
       "\t<tr><td>RGFG</td><td>d0</td><td>ct</td><td>12</td><td>-5.09***</td><td>12.95***</td><td>12</td><td>-5.06***</td><td>16</td><td>-3.23*   </td><td>16</td><td>0.12    </td></tr>\n",
       "\t<tr><td>RGFG</td><td>d1</td><td>c </td><td>12</td><td>-4.02***</td><td>8.11*** </td><td>12</td><td>-3.28***</td><td>16</td><td>-13.22***</td><td>16</td><td>0.028   </td></tr>\n",
       "\t<tr><td>...</td><td>...</td><td>...</td><td>...</td><td>...</td><td>...</td><td>...</td><td>...</td><td>...</td><td>...</td><td>...</td><td>...</td></tr>\n",
       "\t<tr><td>RWXB</td><td>d0</td><td>ct</td><td>1</td><td>-2.76   </td><td>3.85    </td><td>1</td><td>-2.14   </td><td>14</td><td>-2.37   </td><td>14</td><td>0.27*** </td></tr>\n",
       "\t<tr><td>RWXB</td><td>d1</td><td>c </td><td>0</td><td>-9.18***</td><td>42.13***</td><td>9</td><td>-1.52   </td><td>14</td><td>-8.58***</td><td>14</td><td>0.13    </td></tr>\n",
       "\t<tr><td>RWXB</td><td>d1</td><td>ct</td><td>0</td><td>-9.15***</td><td>41.98***</td><td>8</td><td>-3.03** </td><td>14</td><td>-8.52***</td><td>14</td><td>0.059   </td></tr>\n",
       "</tbody>\n",
       "</table>\n"
      ],
      "text/latex": [
       "A data.frame: 96 × 12\n",
       "\\begin{tabular}{llllllllllll}\n",
       " variable & difference & spec & ADF\\_nlag & ADF\\_tau & ADF\\_phi & DFGLS\\_nlag & DFGLS\\_tau & PP\\_nlag & PP\\_zta & KPSS\\_nlag & KPSS\\_tau\\\\\n",
       " <chr> & <chr> & <chr> & <dbl> & <chr> & <chr> & <int> & <chr> & <int> & <chr> & <int> & <chr>\\\\\n",
       "\\hline\n",
       "\t RGFG & d0 & c  & 12 & -1.90    & 2.21     & 12 & -0.46    & 16 & -1.29     & 16 & 2.02*** \\\\\n",
       "\t RGFG & d0 & ct & 12 & -5.09*** & 12.95*** & 12 & -5.06*** & 16 & -3.23*    & 16 & 0.12    \\\\\n",
       "\t RGFG & d1 & c  & 12 & -4.02*** & 8.11***  & 12 & -3.28*** & 16 & -13.22*** & 16 & 0.028   \\\\\n",
       "\t ... & ... & ... & ... & ... & ... & ... & ... & ... & ... & ... & ...\\\\\n",
       "\t RWXB & d0 & ct & 1 & -2.76    & 3.85     & 1 & -2.14    & 14 & -2.37    & 14 & 0.27*** \\\\\n",
       "\t RWXB & d1 & c  & 0 & -9.18*** & 42.13*** & 9 & -1.52    & 14 & -8.58*** & 14 & 0.13    \\\\\n",
       "\t RWXB & d1 & ct & 0 & -9.15*** & 41.98*** & 8 & -3.03**  & 14 & -8.52*** & 14 & 0.059   \\\\\n",
       "\\end{tabular}\n"
      ],
      "text/markdown": [
       "\n",
       "A data.frame: 96 × 12\n",
       "\n",
       "| variable &lt;chr&gt; | difference &lt;chr&gt; | spec &lt;chr&gt; | ADF_nlag &lt;dbl&gt; | ADF_tau &lt;chr&gt; | ADF_phi &lt;chr&gt; | DFGLS_nlag &lt;int&gt; | DFGLS_tau &lt;chr&gt; | PP_nlag &lt;int&gt; | PP_zta &lt;chr&gt; | KPSS_nlag &lt;int&gt; | KPSS_tau &lt;chr&gt; |\n",
       "|---|---|---|---|---|---|---|---|---|---|---|---|\n",
       "| RGFG | d0 | c  | 12 | -1.90    | 2.21     | 12 | -0.46    | 16 | -1.29     | 16 | 2.02***  |\n",
       "| RGFG | d0 | ct | 12 | -5.09*** | 12.95*** | 12 | -5.06*** | 16 | -3.23*    | 16 | 0.12     |\n",
       "| RGFG | d1 | c  | 12 | -4.02*** | 8.11***  | 12 | -3.28*** | 16 | -13.22*** | 16 | 0.028    |\n",
       "| ... | ... | ... | ... | ... | ... | ... | ... | ... | ... | ... | ... |\n",
       "| RWXB | d0 | ct | 1 | -2.76    | 3.85     | 1 | -2.14    | 14 | -2.37    | 14 | 0.27***  |\n",
       "| RWXB | d1 | c  | 0 | -9.18*** | 42.13*** | 9 | -1.52    | 14 | -8.58*** | 14 | 0.13     |\n",
       "| RWXB | d1 | ct | 0 | -9.15*** | 41.98*** | 8 | -3.03**  | 14 | -8.52*** | 14 | 0.059    |\n",
       "\n"
      ],
      "text/plain": [
       "    variable difference spec ADF_nlag ADF_tau  ADF_phi  DFGLS_nlag DFGLS_tau\n",
       "1   RGFG     d0         c    12       -1.90    2.21     12         -0.46    \n",
       "2   RGFG     d0         ct   12       -5.09*** 12.95*** 12         -5.06*** \n",
       "3   RGFG     d1         c    12       -4.02*** 8.11***  12         -3.28*** \n",
       "... ...      ...        ...  ...      ...      ...      ...        ...      \n",
       "94  RWXB     d0         ct   1        -2.76    3.85     1          -2.14    \n",
       "95  RWXB     d1         c    0        -9.18*** 42.13*** 9          -1.52    \n",
       "96  RWXB     d1         ct   0        -9.15*** 41.98*** 8          -3.03**  \n",
       "    PP_nlag PP_zta    KPSS_nlag KPSS_tau\n",
       "1   16      -1.29     16        2.02*** \n",
       "2   16      -3.23*    16        0.12    \n",
       "3   16      -13.22*** 16        0.028   \n",
       "... ...     ...       ...       ...     \n",
       "94  14      -2.37     14        0.27*** \n",
       "95  14      -8.58***  14        0.13    \n",
       "96  14      -8.52***  14        0.059   "
      ]
     },
     "metadata": {},
     "output_type": "display_data"
    }
   ],
   "source": [
    "table_ur\n",
    "# table_ur %>% kable() %>% as.character() %>% display_html() \n",
    "# ur_result = ur_report(price)\n",
    "# write_csv(ur_result, '../result/unit_root_table.csv')\n",
    "# res_ch = uroot::ch.test(y, type =\"dummy\", pvalue = \"raw\")\n",
    "# res_hegy = uroot::hegy.test(y, deterministic = c(1,1,1), lag.method=\"AIC\")"
   ]
  },
  {
   "cell_type": "markdown",
   "metadata": {},
   "source": [
    "# ทดสอบ Cointegration"
   ]
  },
  {
   "cell_type": "code",
   "execution_count": 18,
   "metadata": {},
   "outputs": [
    {
     "data": {
      "text/html": [
       "<pre class=language-r><code>function (x, type = c(\"eigen\", \"trace\"), ecdet = c(\"none\", \"const\", \n",
       "<span style=white-space:pre-wrap>    \"trend\"), K = 2, spec = c(\"longrun\", \"transitory\"), season = NULL, </span>\n",
       "<span style=white-space:pre-wrap>    dumvar = NULL) </span>\n",
       "NULL</code></pre>"
      ],
      "text/latex": [
       "\\begin{minted}{r}\n",
       "function (x, type = c(\"eigen\", \"trace\"), ecdet = c(\"none\", \"const\", \n",
       "    \"trend\"), K = 2, spec = c(\"longrun\", \"transitory\"), season = NULL, \n",
       "    dumvar = NULL) \n",
       "NULL\n",
       "\\end{minted}"
      ],
      "text/markdown": [
       "```r\n",
       "function (x, type = c(\"eigen\", \"trace\"), ecdet = c(\"none\", \"const\", \n",
       "    \"trend\"), K = 2, spec = c(\"longrun\", \"transitory\"), season = NULL, \n",
       "    dumvar = NULL) \n",
       "NULL\n",
       "```"
      ],
      "text/plain": [
       "function (x, type = c(\"eigen\", \"trace\"), ecdet = c(\"none\", \"const\", \n",
       "    \"trend\"), K = 2, spec = c(\"longrun\", \"transitory\"), season = NULL, \n",
       "    dumvar = NULL) \n",
       "NULL"
      ]
     },
     "metadata": {},
     "output_type": "display_data"
    },
    {
     "data": {
      "text/html": [
       "<style>\n",
       ".dl-inline {width: auto; margin:0; padding: 0}\n",
       ".dl-inline>dt, .dl-inline>dd {float: none; width: auto; display: inline-block}\n",
       ".dl-inline>dt::after {content: \":\\0020\"; padding-right: .5ex}\n",
       ".dl-inline>dt:not(:first-of-type) {padding-left: .5ex}\n",
       "</style><dl class=dl-inline><dt>x</dt><dd>'ANY'</dd><dt>Z0</dt><dd>'matrix'</dd><dt>Z1</dt><dd>'matrix'</dd><dt>ZK</dt><dd>'matrix'</dd><dt>type</dt><dd>'character'</dd><dt>model</dt><dd>'character'</dd><dt>ecdet</dt><dd>'character'</dd><dt>lag</dt><dd>'integer'</dd><dt>P</dt><dd>'integer'</dd><dt>season</dt><dd>'ANY'</dd><dt>dumvar</dt><dd>'ANY'</dd><dt>cval</dt><dd>'ANY'</dd><dt>teststat</dt><dd>'ANY'</dd><dt>lambda</dt><dd>'vector'</dd><dt>Vorg</dt><dd>'matrix'</dd><dt>V</dt><dd>'matrix'</dd><dt>W</dt><dd>'matrix'</dd><dt>PI</dt><dd>'matrix'</dd><dt>DELTA</dt><dd>'matrix'</dd><dt>GAMMA</dt><dd>'matrix'</dd><dt>R0</dt><dd>'matrix'</dd><dt>RK</dt><dd>'matrix'</dd><dt>bp</dt><dd>'ANY'</dd><dt>spec</dt><dd>'character'</dd><dt>call</dt><dd>'call'</dd><dt>test.name</dt><dd>'character'</dd></dl>\n"
      ],
      "text/latex": [
       "\\begin{description*}\n",
       "\\item[x] 'ANY'\n",
       "\\item[Z0] 'matrix'\n",
       "\\item[Z1] 'matrix'\n",
       "\\item[ZK] 'matrix'\n",
       "\\item[type] 'character'\n",
       "\\item[model] 'character'\n",
       "\\item[ecdet] 'character'\n",
       "\\item[lag] 'integer'\n",
       "\\item[P] 'integer'\n",
       "\\item[season] 'ANY'\n",
       "\\item[dumvar] 'ANY'\n",
       "\\item[cval] 'ANY'\n",
       "\\item[teststat] 'ANY'\n",
       "\\item[lambda] 'vector'\n",
       "\\item[Vorg] 'matrix'\n",
       "\\item[V] 'matrix'\n",
       "\\item[W] 'matrix'\n",
       "\\item[PI] 'matrix'\n",
       "\\item[DELTA] 'matrix'\n",
       "\\item[GAMMA] 'matrix'\n",
       "\\item[R0] 'matrix'\n",
       "\\item[RK] 'matrix'\n",
       "\\item[bp] 'ANY'\n",
       "\\item[spec] 'character'\n",
       "\\item[call] 'call'\n",
       "\\item[test.name] 'character'\n",
       "\\end{description*}\n"
      ],
      "text/markdown": [
       "x\n",
       ":   'ANY'Z0\n",
       ":   'matrix'Z1\n",
       ":   'matrix'ZK\n",
       ":   'matrix'type\n",
       ":   'character'model\n",
       ":   'character'ecdet\n",
       ":   'character'lag\n",
       ":   'integer'P\n",
       ":   'integer'season\n",
       ":   'ANY'dumvar\n",
       ":   'ANY'cval\n",
       ":   'ANY'teststat\n",
       ":   'ANY'lambda\n",
       ":   'vector'Vorg\n",
       ":   'matrix'V\n",
       ":   'matrix'W\n",
       ":   'matrix'PI\n",
       ":   'matrix'DELTA\n",
       ":   'matrix'GAMMA\n",
       ":   'matrix'R0\n",
       ":   'matrix'RK\n",
       ":   'matrix'bp\n",
       ":   'ANY'spec\n",
       ":   'character'call\n",
       ":   'call'test.name\n",
       ":   'character'\n",
       "\n"
      ],
      "text/plain": [
       "          x          Z0          Z1          ZK        type       model \n",
       "      \"ANY\"    \"matrix\"    \"matrix\"    \"matrix\" \"character\" \"character\" \n",
       "      ecdet         lag           P      season      dumvar        cval \n",
       "\"character\"   \"integer\"   \"integer\"       \"ANY\"       \"ANY\"       \"ANY\" \n",
       "   teststat      lambda        Vorg           V           W          PI \n",
       "      \"ANY\"    \"vector\"    \"matrix\"    \"matrix\"    \"matrix\"    \"matrix\" \n",
       "      DELTA       GAMMA          R0          RK          bp        spec \n",
       "   \"matrix\"    \"matrix\"    \"matrix\"    \"matrix\"       \"ANY\" \"character\" \n",
       "       call   test.name \n",
       "     \"call\" \"character\" "
      ]
     },
     "metadata": {},
     "output_type": "display_data"
    }
   ],
   "source": [
    "args(ca.jo)\n",
    "getSlots(\"ca.jo\")"
   ]
  },
  {
   "cell_type": "code",
   "execution_count": 72,
   "metadata": {},
   "outputs": [],
   "source": [
    "ca_jo = function(data, include_dum = TRUE, type = 'trace',\n",
    "                 ecdet = 'trend', spec = 'transitory', ...) {\n",
    "  n_var = ncol(data) - 2\n",
    "  endo = data[, 1:n_var]\n",
    "  dum = data[, (n_var+1):ncol(data)]\n",
    "  dumvar = if(include_dum == TRUE) dum else NULL\n",
    "  \n",
    "  res = ca.jo(\n",
    "    x = endo,\n",
    "    type = type, \n",
    "    ecdet = ecdet,\n",
    "    spec = spec,\n",
    "    dumvar = dum,\n",
    "    ...\n",
    "  )\n",
    "\n",
    "  return(res)\n",
    "}"
   ]
  },
  {
   "cell_type": "code",
   "execution_count": 73,
   "metadata": {},
   "outputs": [
    {
     "data": {
      "text/plain": [
       "\n",
       "##################################################### \n",
       "# Johansen-Procedure Unit Root / Cointegration Test # \n",
       "##################################################### \n",
       "\n",
       "The value of the test statistic is: 5.863 27.5624 61.9062 \n"
      ]
     },
     "metadata": {},
     "output_type": "display_data"
    }
   ],
   "source": [
    "ca_jo(rice_list[[1]])"
   ]
  },
  {
   "cell_type": "code",
   "execution_count": 75,
   "metadata": {},
   "outputs": [],
   "source": [
    "result_cajo = rice_list %>%\n",
    "  map(ca_jo)"
   ]
  },
  {
   "cell_type": "code",
   "execution_count": 78,
   "metadata": {},
   "outputs": [
    {
     "data": {
      "text/plain": [
       "$rh\n",
       "\n",
       "###################### \n",
       "# Johansen-Procedure # \n",
       "###################### \n",
       "\n",
       "Test type: trace statistic , with linear trend in cointegration \n",
       "\n",
       "Eigenvalues (lambda):\n",
       "[1] 1.542492e-01 1.004410e-01 2.819493e-02 2.321737e-18\n",
       "\n",
       "Values of teststatistic and critical values of test:\n",
       "\n",
       "          test 10pct  5pct  1pct\n",
       "r <= 2 |  5.86 10.49 12.25 16.26\n",
       "r <= 1 | 27.56 22.76 25.32 30.45\n",
       "r = 0  | 61.91 39.06 42.44 48.45\n",
       "\n",
       "Eigenvectors, normalised to first column:\n",
       "(These are the cointegration relations)\n",
       "\n",
       "               RHFG.l1       RHWS.l1      RHXB.l1    trend.l1\n",
       "RHFG.l1   1.0000000000  1.0000000000  1.000000000  1.00000000\n",
       "RHWS.l1  -1.2470163139  1.4777436724 -1.301016759  0.69977887\n",
       "RHXB.l1   0.2999195289 -2.0843346900 -1.285675991 -1.37528412\n",
       "trend.l1  0.0004406211 -0.0005475334  0.006005925 -0.01445594\n",
       "\n",
       "Weights W:\n",
       "(This is the loading matrix)\n",
       "\n",
       "           RHFG.l1     RHWS.l1    RHXB.l1      trend.l1\n",
       "RHFG.d -0.16218295 -0.06286233 0.01262062  2.070520e-15\n",
       "RHWS.d -0.01242251 -0.02846757 0.02306221 -9.463658e-16\n",
       "RHXB.d -0.13939901  0.03038053 0.01846641  4.252003e-15\n",
       "\n",
       "\n",
       "$rw\n",
       "\n",
       "###################### \n",
       "# Johansen-Procedure # \n",
       "###################### \n",
       "\n",
       "Test type: trace statistic , with linear trend in cointegration \n",
       "\n",
       "Eigenvalues (lambda):\n",
       "[1] 0.20636397 0.17510160 0.07323633 0.00000000\n",
       "\n",
       "Values of teststatistic and critical values of test:\n",
       "\n",
       "           test 10pct  5pct  1pct\n",
       "r <= 2 |  15.59 10.49 12.25 16.26\n",
       "r <= 1 |  55.05 22.76 25.32 30.45\n",
       "r = 0  | 102.43 39.06 42.44 48.45\n",
       "\n",
       "Eigenvectors, normalised to first column:\n",
       "(These are the cointegration relations)\n",
       "\n",
       "               RWFG.l1       RWWS.l1      RWXB.l1     trend.l1\n",
       "RWFG.l1   1.0000000000  1.0000000000  1.000000000  1.000000000\n",
       "RWWS.l1   1.7699172956 -1.1537481685 -2.172355263  0.706223445\n",
       "RWXB.l1  -2.1736420099  0.1846510653  1.690857230 -1.446074104\n",
       "trend.l1  0.0003091499 -0.0008283467 -0.002296727 -0.006198314\n",
       "\n",
       "Weights W:\n",
       "(This is the loading matrix)\n",
       "\n",
       "          RWFG.l1     RWWS.l1     RWXB.l1      trend.l1\n",
       "RWFG.d -0.2703462 -0.07445171 -0.05095377 -5.185353e-14\n",
       "RWWS.d -0.2350619  0.31523107 -0.05616526 -9.045768e-14\n",
       "RWXB.d -0.1028474  0.23669122 -0.07445263 -3.761939e-14\n",
       "\n",
       "\n",
       "$rg\n",
       "\n",
       "###################### \n",
       "# Johansen-Procedure # \n",
       "###################### \n",
       "\n",
       "Test type: trace statistic , with linear trend in cointegration \n",
       "\n",
       "Eigenvalues (lambda):\n",
       "[1] 1.373435e-01 9.792866e-02 3.404535e-02 6.938894e-18\n",
       "\n",
       "Values of teststatistic and critical values of test:\n",
       "\n",
       "          test 10pct  5pct  1pct\n",
       "r <= 2 |  7.10 10.49 12.25 16.26\n",
       "r <= 1 | 28.23 22.76 25.32 30.45\n",
       "r = 0  | 58.51 39.06 42.44 48.45\n",
       "\n",
       "Eigenvectors, normalised to first column:\n",
       "(These are the cointegration relations)\n",
       "\n",
       "              RGFG.l1      RGWS.l1      RGXB.l1    trend.l1\n",
       "RGFG.l1   1.000000000  1.000000000  1.000000000  1.00000000\n",
       "RGWS.l1   0.113588488 -1.853865700  0.142260469 -0.98241850\n",
       "RGXB.l1  -1.235313533  0.739876288 -0.101469156  0.13574103\n",
       "trend.l1  0.001014112  0.001488882 -0.003212192 -0.01428525\n",
       "\n",
       "Weights W:\n",
       "(This is the loading matrix)\n",
       "\n",
       "            RGFG.l1     RGWS.l1     RGXB.l1      trend.l1\n",
       "RGFG.d -0.011718868 -0.04767648 -0.04035900 -3.374780e-16\n",
       "RGWS.d  0.003330245  0.08146469 -0.04283772  1.213377e-15\n",
       "RGXB.d  0.202322251  0.02735135 -0.03490452 -4.589646e-15\n",
       "\n",
       "\n",
       "$rhfg\n",
       "\n",
       "###################### \n",
       "# Johansen-Procedure # \n",
       "###################### \n",
       "\n",
       "Test type: trace statistic , with linear trend in cointegration \n",
       "\n",
       "Eigenvalues (lambda):\n",
       "[1] 2.911898e-01 1.997240e-01 1.821537e-01 1.252624e-01 3.085110e-02\n",
       "[6] 3.469447e-18\n",
       "\n",
       "Values of teststatistic and critical values of test:\n",
       "\n",
       "           test 10pct  5pct  1pct\n",
       "r <= 4 |  10.18 10.49 12.25 16.26\n",
       "r <= 3 |  53.68 22.76 25.32 30.45\n",
       "r <= 2 | 119.03 39.06 42.44 48.45\n",
       "r <= 1 | 191.44 59.14 62.99 70.05\n",
       "r = 0  | 303.29 83.20 87.31 96.58\n",
       "\n",
       "Eigenvectors, normalised to first column:\n",
       "(These are the cointegration relations)\n",
       "\n",
       "              RHFG_NR.l1    RHFG_BR.l1    RHFG_SI.l1    RHFG_SU.l1  RHFG_UR.l1\n",
       "RHFG_NR.l1  1.0000000000  1.0000000000  1.0000000000  1.0000000000  1.00000000\n",
       "RHFG_BR.l1 -0.7527317663  2.5603708983  0.8399072636 -2.8166150696  4.96188491\n",
       "RHFG_SI.l1  0.3472853471 -2.9074706158  1.0605600913 -0.3388793375 -2.08099143\n",
       "RHFG_SU.l1 -1.0900421282 -1.0788224986 -1.6582187571  2.6324005948 -3.75004547\n",
       "RHFG_UR.l1  0.5275103558  0.3239083179 -1.2128983013 -0.3688595761  3.02345038\n",
       "trend.l1   -0.0001711689  0.0002702576 -0.0001520253 -0.0003186558 -0.01044751\n",
       "              trend.l1\n",
       "RHFG_NR.l1  1.00000000\n",
       "RHFG_BR.l1  0.11651336\n",
       "RHFG_SI.l1 -1.85019514\n",
       "RHFG_SU.l1  1.78029070\n",
       "RHFG_UR.l1  0.01452885\n",
       "trend.l1   -0.02007712\n",
       "\n",
       "Weights W:\n",
       "(This is the loading matrix)\n",
       "\n",
       "           RHFG_NR.l1  RHFG_BR.l1  RHFG_SI.l1  RHFG_SU.l1   RHFG_UR.l1\n",
       "RHFG_NR.d -0.06296925 -0.05199805 -0.18090732 -0.10300844 -0.009223298\n",
       "RHFG_BR.d  0.28184170 -0.01148050 -0.15811479 -0.01807360 -0.012226158\n",
       "RHFG_SI.d  0.07158192  0.13439092 -0.18109122 -0.03914156 -0.011542304\n",
       "RHFG_SU.d  0.32820984  0.02103351 -0.11980963 -0.10068843 -0.010787457\n",
       "RHFG_UR.d -0.10764951  0.05549670  0.05917804 -0.05598538 -0.012869139\n",
       "               trend.l1\n",
       "RHFG_NR.d -7.313754e-15\n",
       "RHFG_BR.d -1.221530e-14\n",
       "RHFG_SI.d -1.472760e-14\n",
       "RHFG_SU.d -1.775064e-14\n",
       "RHFG_UR.d  2.774292e-15\n",
       "\n",
       "\n",
       "$rwfg\n",
       "\n",
       "###################### \n",
       "# Johansen-Procedure # \n",
       "###################### \n",
       "\n",
       "Test type: trace statistic , with linear trend in cointegration \n",
       "\n",
       "Eigenvalues (lambda):\n",
       "[1] 0.31330958 0.23041162 0.18088928 0.17701228 0.08155196 0.00000000\n",
       "\n",
       "Values of teststatistic and critical values of test:\n",
       "\n",
       "           test 10pct  5pct  1pct\n",
       "r <= 4 |  13.44 10.49 12.25 16.26\n",
       "r <= 3 |  44.22 22.76 25.32 30.45\n",
       "r <= 2 |  75.75 39.06 42.44 48.45\n",
       "r <= 1 | 117.13 59.14 62.99 70.05\n",
       "r = 0  | 176.52 83.20 87.31 96.58\n",
       "\n",
       "Eigenvectors, normalised to first column:\n",
       "(These are the cointegration relations)\n",
       "\n",
       "              RWFG_NS.l1    RWFG_KP.l1    RWFG_PC.l1    RWFG_PS.l1\n",
       "RWFG_NS.l1  1.0000000000  1.0000000000  1.0000000000  1.000000e+00\n",
       "RWFG_KP.l1 -2.1813041793  0.6547827478 -1.2180348490  4.175917e+01\n",
       "RWFG_PC.l1  2.5445027475 -1.3539814532 -0.0385684510 -1.939967e+01\n",
       "RWFG_PS.l1 -1.0804102997 -0.3067864091  0.3461021358 -8.613563e-01\n",
       "RWFG_SH.l1 -0.3901686494 -0.0170036373 -0.1097737145 -2.314317e+01\n",
       "trend.l1    0.0003840664  0.0001286006  0.0001478661  6.321982e-04\n",
       "              RWFG_SH.l1    trend.l1\n",
       "RWFG_NS.l1  1.0000000000  1.00000000\n",
       "RWFG_KP.l1 -1.0464899586  0.28038014\n",
       "RWFG_PC.l1  0.1824172480 -0.51948053\n",
       "RWFG_PS.l1 -0.0544582321 -0.01844774\n",
       "RWFG_SH.l1  0.4340673080 -1.21530001\n",
       "trend.l1    0.0004796031 -0.01374987\n",
       "\n",
       "Weights W:\n",
       "(This is the loading matrix)\n",
       "\n",
       "             RWFG_NS.l1  RWFG_KP.l1 RWFG_PC.l1   RWFG_PS.l1 RWFG_SH.l1\n",
       "RWFG_NS.d -4.384474e-05 -0.01166554  0.1002932 -0.007469187 -0.1674317\n",
       "RWFG_KP.d  8.320062e-02  0.18463521  0.2667691 -0.009909417 -0.1497566\n",
       "RWFG_PC.d -5.008587e-02  0.34603674  0.1844856 -0.007455349 -0.1631355\n",
       "RWFG_PS.d  1.655131e-01  0.33498286 -0.1088049 -0.008817292 -0.1544911\n",
       "RWFG_SH.d  2.147912e-01  0.16067680  0.3256378  0.006943988 -0.1759204\n",
       "               trend.l1\n",
       "RWFG_NS.d -3.835749e-14\n",
       "RWFG_KP.d -3.068676e-14\n",
       "RWFG_PC.d  7.016325e-14\n",
       "RWFG_PS.d -5.989754e-15\n",
       "RWFG_SH.d  3.565049e-14\n",
       "\n",
       "\n",
       "$rgfg\n",
       "\n",
       "###################### \n",
       "# Johansen-Procedure # \n",
       "###################### \n",
       "\n",
       "Test type: trace statistic , with linear trend in cointegration \n",
       "\n",
       "Eigenvalues (lambda):\n",
       "[1]  2.810475e-01  2.304393e-01  1.569323e-01  1.307956e-01  2.650596e-02\n",
       "[6] -3.469447e-18\n",
       "\n",
       "Values of teststatistic and critical values of test:\n",
       "\n",
       "           test 10pct  5pct  1pct\n",
       "r <= 4 |   7.44 10.49 12.25 16.26\n",
       "r <= 3 |  46.27 22.76 25.32 30.45\n",
       "r <= 2 |  93.56 39.06 42.44 48.45\n",
       "r <= 1 | 166.11 59.14 62.99 70.05\n",
       "r = 0  | 257.51 83.20 87.31 96.58\n",
       "\n",
       "Eigenvectors, normalised to first column:\n",
       "(These are the cointegration relations)\n",
       "\n",
       "              RGFG_UN.l1    RGFG_SN.l1   RGFG_KK.l1    RGFG_MS.l1  RGFG_KL.l1\n",
       "RGFG_UN.l1  1.0000000000   1.000000000  1.000000000   1.000000000  1.00000000\n",
       "RGFG_SN.l1 -1.5165544519   4.819359245 -0.205023730   5.494641766  0.19108878\n",
       "RGFG_KK.l1  0.8588518574  31.001832381 -0.701348686  -7.598133242  0.78105502\n",
       "RGFG_MS.l1 -2.5532238914 -19.947687373  1.022397890 -10.889206696  4.40746719\n",
       "RGFG_KL.l1  2.3035368931 -16.931354451 -1.129395419  12.286954394 -2.59759090\n",
       "trend.l1    0.0003468025   0.001546254 -0.000127581  -0.001344693 -0.01625333\n",
       "               trend.l1\n",
       "RGFG_UN.l1   1.00000000\n",
       "RGFG_SN.l1 -12.73647071\n",
       "RGFG_KK.l1   9.84545927\n",
       "RGFG_MS.l1  30.20797139\n",
       "RGFG_KL.l1 -20.27042492\n",
       "trend.l1     0.08256419\n",
       "\n",
       "Weights W:\n",
       "(This is the loading matrix)\n",
       "\n",
       "           RGFG_UN.l1  RGFG_SN.l1  RGFG_KK.l1   RGFG_MS.l1   RGFG_KL.l1\n",
       "RGFG_UN.d -0.15384277 0.007549221 -0.05568396 -0.004317019 -0.010385698\n",
       "RGFG_SN.d  0.07433251 0.004215553  0.15280014 -0.016488726 -0.010145494\n",
       "RGFG_KK.d -0.12235757 0.005352935  0.22897046  0.009792151 -0.007101007\n",
       "RGFG_MS.d -0.02326195 0.019531319  0.18374122  0.010797254 -0.006876043\n",
       "RGFG_KL.d -0.14494834 0.018230395  0.22207551 -0.001241541 -0.005654221\n",
       "              trend.l1\n",
       "RGFG_UN.d 1.432095e-15\n",
       "RGFG_SN.d 1.559234e-15\n",
       "RGFG_KK.d 4.443058e-16\n",
       "RGFG_MS.d 3.488710e-15\n",
       "RGFG_KL.d 3.375396e-15\n",
       "\n",
       "\n",
       "$rfg\n",
       "\n",
       "###################### \n",
       "# Johansen-Procedure # \n",
       "###################### \n",
       "\n",
       "Test type: trace statistic , with linear trend in cointegration \n",
       "\n",
       "Eigenvalues (lambda):\n",
       "[1] 0.05946297 0.04960299 0.03855960 0.00000000\n",
       "\n",
       "Values of teststatistic and critical values of test:\n",
       "\n",
       "          test 10pct  5pct  1pct\n",
       "r <= 2 | 14.67 10.49 12.25 16.26\n",
       "r <= 1 | 33.64 22.76 25.32 30.45\n",
       "r = 0  | 56.51 39.06 42.44 48.45\n",
       "\n",
       "Eigenvectors, normalised to first column:\n",
       "(These are the cointegration relations)\n",
       "\n",
       "              RHFG.l1      RWFG.l1      RGFG.l1    trend.l1\n",
       "RHFG.l1   1.000000000  1.000000000  1.000000000  1.00000000\n",
       "RWFG.l1  -1.126035273  1.388804130 -0.695039793 -0.01658187\n",
       "RGFG.l1   0.310884901 -0.687753783 -1.485080187 -0.51618205\n",
       "trend.l1 -0.002143545 -0.003890384  0.004002465 -0.01304710\n",
       "\n",
       "Weights W:\n",
       "(This is the loading matrix)\n",
       "\n",
       "           RHFG.l1     RWFG.l1     RGFG.l1      trend.l1\n",
       "RHFG.d -0.05254016 -0.02250019 0.005464436 -3.875069e-16\n",
       "RWFG.d  0.02375220 -0.02855665 0.005428222  1.084354e-15\n",
       "RGFG.d -0.01060811 -0.01023329 0.032286800 -6.229146e-16\n",
       "\n"
      ]
     },
     "metadata": {},
     "output_type": "display_data"
    }
   ],
   "source": [
    "result_cajo %>% map(summary)"
   ]
  },
  {
   "cell_type": "code",
   "execution_count": 47,
   "metadata": {},
   "outputs": [],
   "source": [
    "var_names = colnames(rice_list[[1]])\n",
    "dum_names = c('d_foodcrisis', 'd_pledge')\n",
    "var_names = var_names[!(var_names %in% dum_names)]"
   ]
  },
  {
   "cell_type": "code",
   "execution_count": 51,
   "metadata": {},
   "outputs": [],
   "source": [
    "endo = rice_list[[1]][, var_names]\n",
    "dum = rice_list[[1]][, dum_names]"
   ]
  },
  {
   "cell_type": "code",
   "execution_count": 81,
   "metadata": {},
   "outputs": [],
   "source": [
    "saveRDS(rice_list, '../data/rice/rice_price_list.rds')"
   ]
  },
  {
   "cell_type": "code",
   "execution_count": 55,
   "metadata": {},
   "outputs": [
    {
     "data": {
      "text/plain": [
       "\n",
       "###################### \n",
       "# Johansen-Procedure # \n",
       "###################### \n",
       "\n",
       "Test type: trace statistic , with linear trend in cointegration \n",
       "\n",
       "Eigenvalues (lambda):\n",
       "[1] 1.128115e-01 7.940060e-02 2.345141e-02 3.469447e-18\n",
       "\n",
       "Values of teststatistic and critical values of test:\n",
       "\n",
       "          test 10pct  5pct  1pct\n",
       "r <= 2 |  4.86 10.49 12.25 16.26\n",
       "r <= 1 | 21.82 22.76 25.32 30.45\n",
       "r = 0  | 46.36 39.06 42.44 48.45\n",
       "\n",
       "Eigenvectors, normalised to first column:\n",
       "(These are the cointegration relations)\n",
       "\n",
       "              RHFG.l1       RHWS.l1     RHXB.l1    trend.l1\n",
       "RHFG.l1   1.000000000  1.0000000000  1.00000000  1.00000000\n",
       "RHWS.l1  -2.790655568 -0.1200511727 -4.25402632 -0.06922186\n",
       "RHXB.l1   1.593474891 -0.8084959062 -6.61879018 -0.36271786\n",
       "trend.l1  0.001361309  0.0004787167  0.02966762 -0.01090255\n",
       "\n",
       "Weights W:\n",
       "(This is the loading matrix)\n",
       "\n",
       "           RHFG.l1       RHWS.l1     RHXB.l1      trend.l1\n",
       "RHFG.d -0.02048203 -0.1101282851 0.002550517 -1.009245e-15\n",
       "RHWS.d  0.02211338 -0.0006403358 0.003317889  3.935739e-15\n",
       "RHXB.d -0.06219097  0.0283253837 0.002782611 -1.265826e-14\n"
      ]
     },
     "metadata": {},
     "output_type": "display_data"
    }
   ],
   "source": [
    "ca.jo(\n",
    "  x = endo,\n",
    "  type =\"trace\", \n",
    "  ecdet = \"trend\",\n",
    "  spec = 'transitory'\n",
    ") %>% summary()"
   ]
  },
  {
   "cell_type": "code",
   "execution_count": 54,
   "metadata": {},
   "outputs": [
    {
     "data": {
      "text/plain": [
       "\n",
       "###################### \n",
       "# Johansen-Procedure # \n",
       "###################### \n",
       "\n",
       "Test type: trace statistic , with linear trend in cointegration \n",
       "\n",
       "Eigenvalues (lambda):\n",
       "[1] 1.542492e-01 1.004410e-01 2.819493e-02 2.321737e-18\n",
       "\n",
       "Values of teststatistic and critical values of test:\n",
       "\n",
       "          test 10pct  5pct  1pct\n",
       "r <= 2 |  5.86 10.49 12.25 16.26\n",
       "r <= 1 | 27.56 22.76 25.32 30.45\n",
       "r = 0  | 61.91 39.06 42.44 48.45\n",
       "\n",
       "Eigenvectors, normalised to first column:\n",
       "(These are the cointegration relations)\n",
       "\n",
       "               RHFG.l1       RHWS.l1      RHXB.l1    trend.l1\n",
       "RHFG.l1   1.0000000000  1.0000000000  1.000000000  1.00000000\n",
       "RHWS.l1  -1.2470163139  1.4777436724 -1.301016759  0.69977887\n",
       "RHXB.l1   0.2999195289 -2.0843346900 -1.285675991 -1.37528412\n",
       "trend.l1  0.0004406211 -0.0005475334  0.006005925 -0.01445594\n",
       "\n",
       "Weights W:\n",
       "(This is the loading matrix)\n",
       "\n",
       "           RHFG.l1     RHWS.l1    RHXB.l1      trend.l1\n",
       "RHFG.d -0.16218295 -0.06286233 0.01262062  2.070520e-15\n",
       "RHWS.d -0.01242251 -0.02846757 0.02306221 -9.463658e-16\n",
       "RHXB.d -0.13939901  0.03038053 0.01846641  4.252003e-15\n"
      ]
     },
     "metadata": {},
     "output_type": "display_data"
    }
   ],
   "source": [
    "ca.jo(\n",
    "  x = endo,\n",
    "  type =\"trace\", \n",
    "  ecdet = \"trend\",\n",
    "  spec = 'transitory',\n",
    "  dumvar = dum\n",
    ") %>% summary()"
   ]
  },
  {
   "cell_type": "code",
   "execution_count": 61,
   "metadata": {},
   "outputs": [],
   "source": [
    "result_cajo = rice_list %>%\n",
    "  map(\n",
    "    rice_list\n",
    "    ca.jo,\n",
    "    type =\"trace\", \n",
    "    ecdet = \"trend\",\n",
    "    spec = 'transitory',\n",
    "    dumvar = \n",
    "  )"
   ]
  },
  {
   "cell_type": "code",
   "execution_count": 62,
   "metadata": {},
   "outputs": [
    {
     "data": {
      "text/plain": [
       "$rh\n",
       "\n",
       "###################### \n",
       "# Johansen-Procedure # \n",
       "###################### \n",
       "\n",
       "Test type: trace statistic , with linear trend in cointegration \n",
       "\n",
       "Eigenvalues (lambda):\n",
       "[1] 1.128115e-01 7.940060e-02 2.345141e-02 3.469447e-18\n",
       "\n",
       "Values of teststatistic and critical values of test:\n",
       "\n",
       "          test 10pct  5pct  1pct\n",
       "r <= 2 |  4.86 10.49 12.25 16.26\n",
       "r <= 1 | 21.82 22.76 25.32 30.45\n",
       "r = 0  | 46.36 39.06 42.44 48.45\n",
       "\n",
       "Eigenvectors, normalised to first column:\n",
       "(These are the cointegration relations)\n",
       "\n",
       "              RHFG.l1       RHWS.l1     RHXB.l1    trend.l1\n",
       "RHFG.l1   1.000000000  1.0000000000  1.00000000  1.00000000\n",
       "RHWS.l1  -2.790655568 -0.1200511727 -4.25402632 -0.06922186\n",
       "RHXB.l1   1.593474891 -0.8084959062 -6.61879018 -0.36271786\n",
       "trend.l1  0.001361309  0.0004787167  0.02966762 -0.01090255\n",
       "\n",
       "Weights W:\n",
       "(This is the loading matrix)\n",
       "\n",
       "           RHFG.l1       RHWS.l1     RHXB.l1      trend.l1\n",
       "RHFG.d -0.02048203 -0.1101282851 0.002550517 -1.009245e-15\n",
       "RHWS.d  0.02211338 -0.0006403358 0.003317889  3.935739e-15\n",
       "RHXB.d -0.06219097  0.0283253837 0.002782611 -1.265826e-14\n",
       "\n",
       "\n",
       "$rw\n",
       "\n",
       "###################### \n",
       "# Johansen-Procedure # \n",
       "###################### \n",
       "\n",
       "Test type: trace statistic , with linear trend in cointegration \n",
       "\n",
       "Eigenvalues (lambda):\n",
       "[1] 1.720717e-01 1.205676e-01 2.882167e-02 2.127780e-17\n",
       "\n",
       "Values of teststatistic and critical values of test:\n",
       "\n",
       "          test 10pct  5pct  1pct\n",
       "r <= 2 |  6.00 10.49 12.25 16.26\n",
       "r <= 1 | 32.33 22.76 25.32 30.45\n",
       "r = 0  | 71.04 39.06 42.44 48.45\n",
       "\n",
       "Eigenvectors, normalised to first column:\n",
       "(These are the cointegration relations)\n",
       "\n",
       "              RWFG.l1       RWWS.l1      RWXB.l1      trend.l1\n",
       "RWFG.l1   1.000000000  1.0000000000  1.000000000  1.0000000000\n",
       "RWWS.l1  -1.673682458  1.3563503167 -4.197750781 -0.0003651884\n",
       "RWXB.l1   0.635635522 -1.8989376902  4.625149495 -0.6110600006\n",
       "trend.l1 -0.001082199  0.0002265453 -0.003706105 -0.0054614327\n",
       "\n",
       "Weights W:\n",
       "(This is the loading matrix)\n",
       "\n",
       "           RWFG.l1     RWWS.l1     RWXB.l1      trend.l1\n",
       "RWFG.d -0.06429698 -0.16560434 -0.01115718 -6.178811e-14\n",
       "RWWS.d  0.23616948 -0.10473005 -0.01497427 -2.094245e-13\n",
       "RWXB.d  0.11906510 -0.03229331 -0.01781605 -6.670639e-14\n",
       "\n",
       "\n",
       "$rg\n",
       "\n",
       "###################### \n",
       "# Johansen-Procedure # \n",
       "###################### \n",
       "\n",
       "Test type: trace statistic , with linear trend in cointegration \n",
       "\n",
       "Eigenvalues (lambda):\n",
       "[1]  1.308203e-01  9.358010e-02  3.449224e-02 -6.938894e-18\n",
       "\n",
       "Values of teststatistic and critical values of test:\n",
       "\n",
       "          test 10pct  5pct  1pct\n",
       "r <= 2 |  7.20 10.49 12.25 16.26\n",
       "r <= 1 | 27.34 22.76 25.32 30.45\n",
       "r = 0  | 56.08 39.06 42.44 48.45\n",
       "\n",
       "Eigenvectors, normalised to first column:\n",
       "(These are the cointegration relations)\n",
       "\n",
       "              RGFG.l1      RGWS.l1      RGXB.l1    trend.l1\n",
       "RGFG.l1   1.000000000  1.000000000  1.000000000  1.00000000\n",
       "RGWS.l1   0.085338601 -2.167190540  0.232741011 -1.93779951\n",
       "RGXB.l1  -1.232969096  0.997482139 -0.040888512  1.23721538\n",
       "trend.l1  0.001037827  0.001849325 -0.003799954 -0.01979896\n",
       "\n",
       "Weights W:\n",
       "(This is the loading matrix)\n",
       "\n",
       "            RGFG.l1     RGWS.l1     RGXB.l1      trend.l1\n",
       "RGFG.d -0.011922867 -0.03733076 -0.03307182  1.487936e-15\n",
       "RGWS.d  0.008964655  0.06832934 -0.03451346 -3.187506e-15\n",
       "RGXB.d  0.195520189  0.02025015 -0.02804471 -5.809326e-16\n",
       "\n",
       "\n",
       "$rhfg\n",
       "\n",
       "###################### \n",
       "# Johansen-Procedure # \n",
       "###################### \n",
       "\n",
       "Test type: trace statistic , with linear trend in cointegration \n",
       "\n",
       "Eigenvalues (lambda):\n",
       "[1] 0.28130122 0.19955490 0.18200446 0.12022210 0.02174485 0.00000000\n",
       "\n",
       "Values of teststatistic and critical values of test:\n",
       "\n",
       "           test 10pct  5pct  1pct\n",
       "r <= 4 |   7.15 10.49 12.25 16.26\n",
       "r <= 3 |  48.77 22.76 25.32 30.45\n",
       "r <= 2 | 114.06 39.06 42.44 48.45\n",
       "r <= 1 | 186.41 59.14 62.99 70.05\n",
       "r = 0  | 293.76 83.20 87.31 96.58\n",
       "\n",
       "Eigenvectors, normalised to first column:\n",
       "(These are the cointegration relations)\n",
       "\n",
       "              RHFG_NR.l1    RHFG_BR.l1    RHFG_SI.l1    RHFG_SU.l1   RHFG_UR.l1\n",
       "RHFG_NR.l1  1.0000000000  1.0000000000  1.0000000000  1.0000000000  1.000000000\n",
       "RHFG_BR.l1 -0.6386684403  3.0101162511  1.1462591106 -2.8138731514  2.241989124\n",
       "RHFG_SI.l1  0.3182149651 -3.5633560727  1.0274372801 -0.3188433634 -2.517307769\n",
       "RHFG_SU.l1 -1.0962333642 -1.0683445745 -1.8263793572  2.6446158838 -0.339480759\n",
       "RHFG_UR.l1  0.4576162716  0.4872866234 -1.3376549891 -0.4432725962  2.509964079\n",
       "trend.l1   -0.0001851303  0.0003644795 -0.0001023442 -0.0002055978 -0.009888564\n",
       "              trend.l1\n",
       "RHFG_NR.l1  1.00000000\n",
       "RHFG_BR.l1  0.77333298\n",
       "RHFG_SI.l1 -1.00342507\n",
       "RHFG_SU.l1 -0.08696995\n",
       "RHFG_UR.l1  0.10261322\n",
       "trend.l1   -0.01337259\n",
       "\n",
       "Weights W:\n",
       "(This is the loading matrix)\n",
       "\n",
       "           RHFG_NR.l1   RHFG_BR.l1  RHFG_SI.l1    RHFG_SU.l1   RHFG_UR.l1\n",
       "RHFG_NR.d -0.08515079 -0.037740481 -0.15559855 -0.0869356162 -0.008579228\n",
       "RHFG_BR.d  0.27971019 -0.007689328 -0.14298097  0.0001500787 -0.010750445\n",
       "RHFG_SI.d  0.06890440  0.117303977 -0.14729664 -0.0194273842 -0.010310408\n",
       "RHFG_SU.d  0.33134289  0.018772449 -0.10332680 -0.0810207360 -0.009859383\n",
       "RHFG_UR.d -0.09945005  0.044098120  0.07096044 -0.0267125485 -0.011337549\n",
       "               trend.l1\n",
       "RHFG_NR.d  1.720347e-14\n",
       "RHFG_BR.d  2.165097e-14\n",
       "RHFG_SI.d -1.837903e-14\n",
       "RHFG_SU.d  3.354570e-15\n",
       "RHFG_UR.d -2.310487e-14\n",
       "\n",
       "\n",
       "$rwfg\n",
       "\n",
       "###################### \n",
       "# Johansen-Procedure # \n",
       "###################### \n",
       "\n",
       "Test type: trace statistic , with linear trend in cointegration \n",
       "\n",
       "Eigenvalues (lambda):\n",
       "[1] 2.478694e-01 2.106992e-01 1.841446e-01 1.551023e-01 7.953393e-02\n",
       "[6] 1.387779e-17\n",
       "\n",
       "Values of teststatistic and critical values of test:\n",
       "\n",
       "           test 10pct  5pct  1pct\n",
       "r <= 4 |  13.09 10.49 12.25 16.26\n",
       "r <= 3 |  39.72 22.76 25.32 30.45\n",
       "r <= 2 |  71.88 39.06 42.44 48.45\n",
       "r <= 1 | 109.26 59.14 62.99 70.05\n",
       "r = 0  | 154.27 83.20 87.31 96.58\n",
       "\n",
       "Eigenvectors, normalised to first column:\n",
       "(These are the cointegration relations)\n",
       "\n",
       "              RWFG_NS.l1    RWFG_KP.l1    RWFG_PC.l1    RWFG_PS.l1   RWFG_SH.l1\n",
       "RWFG_NS.l1  1.0000000000  1.0000000000  1.0000000000  1.0000000000  1.000000000\n",
       "RWFG_KP.l1  5.3230200122 -0.2879689852 -0.6076355967 -3.2927452686 -0.258593604\n",
       "RWFG_PC.l1 -6.5584643053 -0.3893550488 -0.3126141151  0.3647317055 -0.380877058\n",
       "RWFG_PS.l1  0.2245672046 -0.3340899723  0.3792262690  0.9181430402  0.283593795\n",
       "RWFG_SH.l1 -0.0511295849  0.0169943422 -0.5128398643  1.0240019794  0.114049179\n",
       "trend.l1   -0.0001898299  0.0001770252  0.0001324118  0.0000311639  0.001380843\n",
       "               trend.l1\n",
       "RWFG_NS.l1  1.000000000\n",
       "RWFG_KP.l1 -0.485439038\n",
       "RWFG_PC.l1 -0.434514467\n",
       "RWFG_PS.l1  0.312726989\n",
       "RWFG_SH.l1 -0.044094541\n",
       "trend.l1   -0.005734815\n",
       "\n",
       "Weights W:\n",
       "(This is the loading matrix)\n",
       "\n",
       "             RWFG_NS.l1 RWFG_KP.l1  RWFG_PC.l1  RWFG_PS.l1  RWFG_SH.l1\n",
       "RWFG_NS.d -0.0009659532 -0.1400547  0.02929248  0.04058552 -0.10707294\n",
       "RWFG_KP.d -0.0189499155  0.2247335  0.08142686  0.07985746 -0.10681214\n",
       "RWFG_PC.d  0.0750323659  0.1185168  0.07726754  0.05663826 -0.10754777\n",
       "RWFG_PS.d -0.0160911360  0.3647770 -0.14389518 -0.01328402 -0.10990574\n",
       "RWFG_SH.d -0.0433501632  0.2120137  0.42495818 -0.11989181 -0.09595877\n",
       "               trend.l1\n",
       "RWFG_NS.d  1.575266e-14\n",
       "RWFG_KP.d  3.457390e-14\n",
       "RWFG_PC.d -9.003360e-14\n",
       "RWFG_PS.d  7.567970e-14\n",
       "RWFG_SH.d -1.852611e-13\n",
       "\n",
       "\n",
       "$rgfg\n",
       "\n",
       "###################### \n",
       "# Johansen-Procedure # \n",
       "###################### \n",
       "\n",
       "Test type: trace statistic , with linear trend in cointegration \n",
       "\n",
       "Eigenvalues (lambda):\n",
       "[1] 0.26999539 0.22872473 0.15596300 0.13251352 0.02757966 0.00000000\n",
       "\n",
       "Values of teststatistic and critical values of test:\n",
       "\n",
       "           test 10pct  5pct  1pct\n",
       "r <= 4 |   7.75 10.49 12.25 16.26\n",
       "r <= 3 |  47.12 22.76 25.32 30.45\n",
       "r <= 2 |  94.09 39.06 42.44 48.45\n",
       "r <= 1 | 166.03 59.14 62.99 70.05\n",
       "r = 0  | 253.20 83.20 87.31 96.58\n",
       "\n",
       "Eigenvectors, normalised to first column:\n",
       "(These are the cointegration relations)\n",
       "\n",
       "              RGFG_UN.l1    RGFG_SN.l1    RGFG_KK.l1    RGFG_MS.l1  RGFG_KL.l1\n",
       "RGFG_UN.l1  1.0000000000  1.0000000000  1.0000000000   1.000000000  1.00000000\n",
       "RGFG_SN.l1 -1.5332476282  0.9453376576 -0.2015463329   7.840580099  0.50349753\n",
       "RGFG_KK.l1  0.3039007749  9.2879779539 -0.9074701021 -12.623038076  0.39013216\n",
       "RGFG_MS.l1 -2.1344732913 -6.8504392041  1.1981284494 -14.211203523  1.82213201\n",
       "RGFG_KL.l1  2.4630976397 -4.3233683014 -1.1176625030  18.221037485 -1.29077170\n",
       "trend.l1    0.0002899089  0.0004631392 -0.0001178225  -0.001586409 -0.01068733\n",
       "              trend.l1\n",
       "RGFG_UN.l1  1.00000000\n",
       "RGFG_SN.l1 -3.17333869\n",
       "RGFG_KK.l1  2.72320472\n",
       "RGFG_MS.l1  6.55791507\n",
       "RGFG_KL.l1 -5.21065965\n",
       "trend.l1    0.03109247\n",
       "\n",
       "Weights W:\n",
       "(This is the loading matrix)\n",
       "\n",
       "           RGFG_UN.l1 RGFG_SN.l1  RGFG_KK.l1   RGFG_MS.l1   RGFG_KL.l1\n",
       "RGFG_UN.d -0.16536246 0.01516210 -0.04867562 -0.002399065 -0.015609236\n",
       "RGFG_SN.d  0.06720936 0.01755232  0.14620617 -0.011199866 -0.015294258\n",
       "RGFG_KK.d -0.12316282 0.01856506  0.22257804  0.007322936 -0.010416131\n",
       "RGFG_MS.d -0.04788108 0.06733106  0.16725061  0.007336638 -0.010111683\n",
       "RGFG_KL.d -0.16592146 0.05617794  0.20765323 -0.001057090 -0.008356906\n",
       "              trend.l1\n",
       "RGFG_UN.d 1.021059e-14\n",
       "RGFG_SN.d 3.516986e-15\n",
       "RGFG_KK.d 1.174075e-14\n",
       "RGFG_MS.d 4.586252e-15\n",
       "RGFG_KL.d 1.751019e-14\n",
       "\n",
       "\n",
       "$rfg\n",
       "\n",
       "###################### \n",
       "# Johansen-Procedure # \n",
       "###################### \n",
       "\n",
       "Test type: trace statistic , with linear trend in cointegration \n",
       "\n",
       "Eigenvalues (lambda):\n",
       "[1] 5.670245e-02 3.855866e-02 2.606428e-02 6.938894e-18\n",
       "\n",
       "Values of teststatistic and critical values of test:\n",
       "\n",
       "          test 10pct  5pct  1pct\n",
       "r <= 2 |  9.85 10.49 12.25 16.26\n",
       "r <= 1 | 24.52 22.76 25.32 30.45\n",
       "r = 0  | 46.29 39.06 42.44 48.45\n",
       "\n",
       "Eigenvectors, normalised to first column:\n",
       "(These are the cointegration relations)\n",
       "\n",
       "              RHFG.l1      RWFG.l1      RGFG.l1    trend.l1\n",
       "RHFG.l1   1.000000000  1.000000000  1.000000000  1.00000000\n",
       "RWFG.l1  -1.227654888 -0.062417220  0.979221829  0.56614423\n",
       "RGFG.l1   0.193379160 -1.875638391 -0.300577400 -0.89574298\n",
       "trend.l1 -0.001525016  0.004166077 -0.004960422 -0.03204091\n",
       "\n",
       "Weights W:\n",
       "(This is the loading matrix)\n",
       "\n",
       "            RHFG.l1      RWFG.l1     RGFG.l1      trend.l1\n",
       "RHFG.d -0.042591622  0.002521320 -0.02019450 -2.605985e-17\n",
       "RWFG.d  0.033623696 -0.002070721 -0.02142711  4.607389e-17\n",
       "RGFG.d  0.004420992  0.025608083 -0.01326440 -1.272507e-16\n",
       "\n"
      ]
     },
     "metadata": {},
     "output_type": "display_data"
    }
   ],
   "source": [
    "result_cajo %>%\n",
    "  map(summary)"
   ]
  },
  {
   "cell_type": "code",
   "execution_count": null,
   "metadata": {},
   "outputs": [],
   "source": []
  }
 ],
 "metadata": {
  "jupytext": {
   "formats": "ipynb,Rmd"
  },
  "kernelspec": {
   "display_name": "R",
   "language": "R",
   "name": "ir"
  },
  "language_info": {
   "codemirror_mode": "r",
   "file_extension": ".r",
   "mimetype": "text/x-r-source",
   "name": "R",
   "pygments_lexer": "r",
   "version": "4.0.0"
  },
  "toc-autonumbering": true,
  "toc-showtags": false
 },
 "nbformat": 4,
 "nbformat_minor": 4
}
