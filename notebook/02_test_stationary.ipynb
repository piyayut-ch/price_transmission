{
 "cells": [
  {
   "cell_type": "markdown",
   "metadata": {},
   "source": [
    "# โหลด R packages และ ข้อมูล"
   ]
  },
  {
   "cell_type": "code",
   "execution_count": 6,
   "metadata": {},
   "outputs": [],
   "source": [
    "if (!require(\"pacman\")) install.packages(\"pacman\")\n",
    "pkgs = c('urca', 'vars', 'tidyverse', 'xts')\n",
    "pacman::p_load(pkgs, character.only=TRUE)"
   ]
  },
  {
   "cell_type": "code",
   "execution_count": null,
   "metadata": {},
   "outputs": [],
   "source": [
    "source(\"../R/oaeTS.R\", encoding = \"UTF-8\")\n",
    "year_now = 2563\n",
    "\n",
    "options(\n",
    "  repr.plot.width=10,\n",
    "  repr.plot.height=6,\n",
    "  repr.plot.res=300\n",
    ")"
   ]
  },
  {
   "cell_type": "code",
   "execution_count": 7,
   "metadata": {},
   "outputs": [
    {
     "data": {
      "text/html": [
       "<table>\n",
       "<caption>A matrix: 6 × 26 of type dbl</caption>\n",
       "<thead>\n",
       "\t<tr><th></th><th scope=col>RHFG</th><th scope=col>RHFG_NR</th><th scope=col>RHFG_BR</th><th scope=col>RHFG_SI</th><th scope=col>RHFG_SU</th><th scope=col>RHFG_UR</th><th scope=col>RWFG</th><th scope=col>RWFG_NS</th><th scope=col>RWFG_KP</th><th scope=col>RWFG_PC</th><th scope=col>RWFG_PS</th><th scope=col>RWFG_SH</th><th scope=col>RGFG</th><th scope=col>RGFG_UN</th><th scope=col>RGFG_SN</th><th scope=col>RGFG_KK</th><th scope=col>RGFG_MS</th><th scope=col>RGFG_KL</th><th scope=col>RHWS</th><th scope=col>RWWS</th><th scope=col>RGWS</th><th scope=col>RHXB</th><th scope=col>RWXB</th><th scope=col>RGXB</th><th scope=col>d_foodcrisis</th><th scope=col>d_pledge</th></tr>\n",
       "</thead>\n",
       "<tbody>\n",
       "\t<tr><th scope=row>[370,]</th><td>9.698368</td><td>9.692952</td><td>9.714262</td><td>9.706560</td><td>9.694185</td><td>9.691531</td><td>8.977273</td><td>8.944681</td><td>8.945072</td><td>8.945724</td><td>8.937875</td><td>8.950403</td><td>9.606226</td><td>9.721126</td><td>9.760252</td><td>9.725437</td><td>9.682342</td><td>9.712206</td><td>10.48010</td><td>9.363266</td><td>10.55414</td><td>10.51180</td><td>9.451832</td><td>10.63612</td><td>0</td><td>0</td></tr>\n",
       "\t<tr><th scope=row>[371,]</th><td>9.569552</td><td>9.602112</td><td>9.587749</td><td>9.586789</td><td>9.613068</td><td>9.592742</td><td>8.972210</td><td>8.934060</td><td>8.933796</td><td>8.930362</td><td>8.908559</td><td>8.940629</td><td>9.547027</td><td>9.625294</td><td>9.653808</td><td>9.614605</td><td>9.585759</td><td>9.615805</td><td>10.41410</td><td>9.353301</td><td>10.52597</td><td>10.46402</td><td>9.443005</td><td>10.48123</td><td>0</td><td>0</td></tr>\n",
       "\t<tr><th scope=row>[372,]</th><td>9.512591</td><td>9.489864</td><td>9.497172</td><td>9.515101</td><td>9.517972</td><td>9.515322</td><td>8.949625</td><td>8.919988</td><td>8.897956</td><td>8.908830</td><td>8.911530</td><td>8.947416</td><td>9.520249</td><td>9.573037</td><td>9.624765</td><td>9.591991</td><td>9.574011</td><td>9.534740</td><td>10.34335</td><td>9.373970</td><td>10.48182</td><td>10.45268</td><td>9.467580</td><td>10.44256</td><td>0</td><td>0</td></tr>\n",
       "\t<tr><th scope=row>[373,]</th><td>9.529303</td><td>9.536762</td><td>9.530611</td><td>9.560716</td><td>9.536618</td><td>9.553363</td><td>8.956222</td><td>8.912204</td><td>8.910316</td><td>8.904630</td><td>8.925321</td><td>8.952347</td><td>9.565073</td><td>9.687009</td><td>9.627734</td><td>9.657715</td><td>9.660333</td><td>9.596759</td><td>10.34335</td><td>9.430571</td><td>10.48252</td><td>10.45108</td><td>9.517302</td><td>10.56501</td><td>0</td><td>0</td></tr>\n",
       "\t<tr><th scope=row>[374,]</th><td>9.540651</td><td>9.534234</td><td>9.535318</td><td>9.559729</td><td>9.526756</td><td>9.563248</td><td>9.007734</td><td>8.930230</td><td>8.927580</td><td>8.932873</td><td>8.937481</td><td>9.018211</td><td>9.597777</td><td>9.716375</td><td>9.594173</td><td>9.681156</td><td>9.715108</td><td>9.628590</td><td>10.34098</td><td>9.459665</td><td>10.46303</td><td>10.45344</td><td>9.561999</td><td>10.48222</td><td>0</td><td>0</td></tr>\n",
       "\t<tr><th scope=row>[375,]</th><td>9.542221</td><td>9.530871</td><td>9.536186</td><td>9.559543</td><td>9.524687</td><td>9.563384</td><td>9.021624</td><td>8.937446</td><td>8.930804</td><td>8.943172</td><td>8.940961</td><td>9.030471</td><td>9.603651</td><td>9.716712</td><td>9.581741</td><td>9.678454</td><td>9.717101</td><td>9.620330</td><td>10.33039</td><td>9.541303</td><td>10.39818</td><td>10.45488</td><td>9.668784</td><td>10.40334</td><td>0</td><td>0</td></tr>\n",
       "</tbody>\n",
       "</table>\n"
      ],
      "text/latex": [
       "A matrix: 6 × 26 of type dbl\n",
       "\\begin{tabular}{r|llllllllllllllllllllllllll}\n",
       "  & RHFG & RHFG\\_NR & RHFG\\_BR & RHFG\\_SI & RHFG\\_SU & RHFG\\_UR & RWFG & RWFG\\_NS & RWFG\\_KP & RWFG\\_PC & RWFG\\_PS & RWFG\\_SH & RGFG & RGFG\\_UN & RGFG\\_SN & RGFG\\_KK & RGFG\\_MS & RGFG\\_KL & RHWS & RWWS & RGWS & RHXB & RWXB & RGXB & d\\_foodcrisis & d\\_pledge\\\\\n",
       "\\hline\n",
       "\t{[}370,{]} & 9.698368 & 9.692952 & 9.714262 & 9.706560 & 9.694185 & 9.691531 & 8.977273 & 8.944681 & 8.945072 & 8.945724 & 8.937875 & 8.950403 & 9.606226 & 9.721126 & 9.760252 & 9.725437 & 9.682342 & 9.712206 & 10.48010 & 9.363266 & 10.55414 & 10.51180 & 9.451832 & 10.63612 & 0 & 0\\\\\n",
       "\t{[}371,{]} & 9.569552 & 9.602112 & 9.587749 & 9.586789 & 9.613068 & 9.592742 & 8.972210 & 8.934060 & 8.933796 & 8.930362 & 8.908559 & 8.940629 & 9.547027 & 9.625294 & 9.653808 & 9.614605 & 9.585759 & 9.615805 & 10.41410 & 9.353301 & 10.52597 & 10.46402 & 9.443005 & 10.48123 & 0 & 0\\\\\n",
       "\t{[}372,{]} & 9.512591 & 9.489864 & 9.497172 & 9.515101 & 9.517972 & 9.515322 & 8.949625 & 8.919988 & 8.897956 & 8.908830 & 8.911530 & 8.947416 & 9.520249 & 9.573037 & 9.624765 & 9.591991 & 9.574011 & 9.534740 & 10.34335 & 9.373970 & 10.48182 & 10.45268 & 9.467580 & 10.44256 & 0 & 0\\\\\n",
       "\t{[}373,{]} & 9.529303 & 9.536762 & 9.530611 & 9.560716 & 9.536618 & 9.553363 & 8.956222 & 8.912204 & 8.910316 & 8.904630 & 8.925321 & 8.952347 & 9.565073 & 9.687009 & 9.627734 & 9.657715 & 9.660333 & 9.596759 & 10.34335 & 9.430571 & 10.48252 & 10.45108 & 9.517302 & 10.56501 & 0 & 0\\\\\n",
       "\t{[}374,{]} & 9.540651 & 9.534234 & 9.535318 & 9.559729 & 9.526756 & 9.563248 & 9.007734 & 8.930230 & 8.927580 & 8.932873 & 8.937481 & 9.018211 & 9.597777 & 9.716375 & 9.594173 & 9.681156 & 9.715108 & 9.628590 & 10.34098 & 9.459665 & 10.46303 & 10.45344 & 9.561999 & 10.48222 & 0 & 0\\\\\n",
       "\t{[}375,{]} & 9.542221 & 9.530871 & 9.536186 & 9.559543 & 9.524687 & 9.563384 & 9.021624 & 8.937446 & 8.930804 & 8.943172 & 8.940961 & 9.030471 & 9.603651 & 9.716712 & 9.581741 & 9.678454 & 9.717101 & 9.620330 & 10.33039 & 9.541303 & 10.39818 & 10.45488 & 9.668784 & 10.40334 & 0 & 0\\\\\n",
       "\\end{tabular}\n"
      ],
      "text/markdown": [
       "\n",
       "A matrix: 6 × 26 of type dbl\n",
       "\n",
       "| <!--/--> | RHFG | RHFG_NR | RHFG_BR | RHFG_SI | RHFG_SU | RHFG_UR | RWFG | RWFG_NS | RWFG_KP | RWFG_PC | RWFG_PS | RWFG_SH | RGFG | RGFG_UN | RGFG_SN | RGFG_KK | RGFG_MS | RGFG_KL | RHWS | RWWS | RGWS | RHXB | RWXB | RGXB | d_foodcrisis | d_pledge |\n",
       "|---|---|---|---|---|---|---|---|---|---|---|---|---|---|---|---|---|---|---|---|---|---|---|---|---|---|---|\n",
       "| [370,] | 9.698368 | 9.692952 | 9.714262 | 9.706560 | 9.694185 | 9.691531 | 8.977273 | 8.944681 | 8.945072 | 8.945724 | 8.937875 | 8.950403 | 9.606226 | 9.721126 | 9.760252 | 9.725437 | 9.682342 | 9.712206 | 10.48010 | 9.363266 | 10.55414 | 10.51180 | 9.451832 | 10.63612 | 0 | 0 |\n",
       "| [371,] | 9.569552 | 9.602112 | 9.587749 | 9.586789 | 9.613068 | 9.592742 | 8.972210 | 8.934060 | 8.933796 | 8.930362 | 8.908559 | 8.940629 | 9.547027 | 9.625294 | 9.653808 | 9.614605 | 9.585759 | 9.615805 | 10.41410 | 9.353301 | 10.52597 | 10.46402 | 9.443005 | 10.48123 | 0 | 0 |\n",
       "| [372,] | 9.512591 | 9.489864 | 9.497172 | 9.515101 | 9.517972 | 9.515322 | 8.949625 | 8.919988 | 8.897956 | 8.908830 | 8.911530 | 8.947416 | 9.520249 | 9.573037 | 9.624765 | 9.591991 | 9.574011 | 9.534740 | 10.34335 | 9.373970 | 10.48182 | 10.45268 | 9.467580 | 10.44256 | 0 | 0 |\n",
       "| [373,] | 9.529303 | 9.536762 | 9.530611 | 9.560716 | 9.536618 | 9.553363 | 8.956222 | 8.912204 | 8.910316 | 8.904630 | 8.925321 | 8.952347 | 9.565073 | 9.687009 | 9.627734 | 9.657715 | 9.660333 | 9.596759 | 10.34335 | 9.430571 | 10.48252 | 10.45108 | 9.517302 | 10.56501 | 0 | 0 |\n",
       "| [374,] | 9.540651 | 9.534234 | 9.535318 | 9.559729 | 9.526756 | 9.563248 | 9.007734 | 8.930230 | 8.927580 | 8.932873 | 8.937481 | 9.018211 | 9.597777 | 9.716375 | 9.594173 | 9.681156 | 9.715108 | 9.628590 | 10.34098 | 9.459665 | 10.46303 | 10.45344 | 9.561999 | 10.48222 | 0 | 0 |\n",
       "| [375,] | 9.542221 | 9.530871 | 9.536186 | 9.559543 | 9.524687 | 9.563384 | 9.021624 | 8.937446 | 8.930804 | 8.943172 | 8.940961 | 9.030471 | 9.603651 | 9.716712 | 9.581741 | 9.678454 | 9.717101 | 9.620330 | 10.33039 | 9.541303 | 10.39818 | 10.45488 | 9.668784 | 10.40334 | 0 | 0 |\n",
       "\n"
      ],
      "text/plain": [
       "       RHFG     RHFG_NR  RHFG_BR  RHFG_SI  RHFG_SU  RHFG_UR  RWFG     RWFG_NS \n",
       "[370,] 9.698368 9.692952 9.714262 9.706560 9.694185 9.691531 8.977273 8.944681\n",
       "[371,] 9.569552 9.602112 9.587749 9.586789 9.613068 9.592742 8.972210 8.934060\n",
       "[372,] 9.512591 9.489864 9.497172 9.515101 9.517972 9.515322 8.949625 8.919988\n",
       "[373,] 9.529303 9.536762 9.530611 9.560716 9.536618 9.553363 8.956222 8.912204\n",
       "[374,] 9.540651 9.534234 9.535318 9.559729 9.526756 9.563248 9.007734 8.930230\n",
       "[375,] 9.542221 9.530871 9.536186 9.559543 9.524687 9.563384 9.021624 8.937446\n",
       "       RWFG_KP  RWFG_PC  RWFG_PS  RWFG_SH  RGFG     RGFG_UN  RGFG_SN  RGFG_KK \n",
       "[370,] 8.945072 8.945724 8.937875 8.950403 9.606226 9.721126 9.760252 9.725437\n",
       "[371,] 8.933796 8.930362 8.908559 8.940629 9.547027 9.625294 9.653808 9.614605\n",
       "[372,] 8.897956 8.908830 8.911530 8.947416 9.520249 9.573037 9.624765 9.591991\n",
       "[373,] 8.910316 8.904630 8.925321 8.952347 9.565073 9.687009 9.627734 9.657715\n",
       "[374,] 8.927580 8.932873 8.937481 9.018211 9.597777 9.716375 9.594173 9.681156\n",
       "[375,] 8.930804 8.943172 8.940961 9.030471 9.603651 9.716712 9.581741 9.678454\n",
       "       RGFG_MS  RGFG_KL  RHWS     RWWS     RGWS     RHXB     RWXB     RGXB    \n",
       "[370,] 9.682342 9.712206 10.48010 9.363266 10.55414 10.51180 9.451832 10.63612\n",
       "[371,] 9.585759 9.615805 10.41410 9.353301 10.52597 10.46402 9.443005 10.48123\n",
       "[372,] 9.574011 9.534740 10.34335 9.373970 10.48182 10.45268 9.467580 10.44256\n",
       "[373,] 9.660333 9.596759 10.34335 9.430571 10.48252 10.45108 9.517302 10.56501\n",
       "[374,] 9.715108 9.628590 10.34098 9.459665 10.46303 10.45344 9.561999 10.48222\n",
       "[375,] 9.717101 9.620330 10.33039 9.541303 10.39818 10.45488 9.668784 10.40334\n",
       "       d_foodcrisis d_pledge\n",
       "[370,] 0            0       \n",
       "[371,] 0            0       \n",
       "[372,] 0            0       \n",
       "[373,] 0            0       \n",
       "[374,] 0            0       \n",
       "[375,] 0            0       "
      ]
     },
     "metadata": {},
     "output_type": "display_data"
    }
   ],
   "source": [
    "price = readRDS('../data/price_rice_filled.rds')\n",
    "var_names = colnames(price)\n",
    "colnames(price) = str_replace(colnames(price), \"_0\", \"\")\n",
    "price_xts = price %>% as.xts()\n",
    "price_log = price\n",
    "price_log[, startsWith(var_names, 'R')] = \n",
    "  price_log[, startsWith(var_names, 'R')] %>% log()\n",
    "tail(price_log)"
   ]
  },
  {
   "cell_type": "code",
   "execution_count": 79,
   "metadata": {},
   "outputs": [],
   "source": [
    "y = price_log[, 'RHFG'] %>% window(start = 1990)\n",
    "\n",
    "ur_adf = function(y, n_diff = 0, ...) {\n",
    "  \n",
    "  y = if(n_diff == 0) y else diff(y, n_diff)\n",
    "  \n",
    "  ur.trend = ur.df(y, type='trend', selectlags = \"AIC\", ...)\n",
    "  ur.drift = ur.df(y, type='drift', selectlags = \"AIC\", ...)\n",
    "  ur.none  = ur.df(y, type='none', selectlags = \"AIC\", ...)\n",
    "\n",
    "  tstat.trend = ur.trend@teststat\n",
    "  tstat.drift = ur.drift@teststat\n",
    "  tstat.none  = ur.none@teststat\n",
    "\n",
    "  cv.trend = ur.trend@cval\n",
    "  cv.drift = ur.drift@cval\n",
    "  cv.none  = ur.none@cval\n",
    "\n",
    "  df_test = rbind(\n",
    "    cbind(t(tstat.trend), cv.trend),\n",
    "    cbind(t(tstat.drift), cv.drift),\n",
    "    cbind(t(tstat.none) , cv.none)\n",
    "  ) %>% \n",
    "  as.data.frame() %>%\n",
    "  rownames_to_column(\"hypo\") %>%\n",
    "  mutate(\n",
    "    result = ifelse(abs(statistic) >= abs(`5pct`), 'Reject', 'Accept'),\n",
    "    level = paste0('d', n_diff)\n",
    "  ) %>%\n",
    "  filter(str_starts(hypo, 'tau')) %>%\n",
    "  select(hypo, level, everything())\n",
    "  \n",
    "  return(df_test)\n",
    "}"
   ]
  },
  {
   "cell_type": "code",
   "execution_count": 94,
   "metadata": {},
   "outputs": [
    {
     "data": {
      "text/html": [
       "<table>\n",
       "<caption>A data.frame: 6 × 7</caption>\n",
       "<thead>\n",
       "\t<tr><th scope=col>hypo</th><th scope=col>statistic</th><th scope=col>1pct</th><th scope=col>5pct</th><th scope=col>10pct</th><th scope=col>result</th><th scope=col>level</th></tr>\n",
       "\t<tr><th scope=col>&lt;chr&gt;</th><th scope=col>&lt;dbl&gt;</th><th scope=col>&lt;dbl&gt;</th><th scope=col>&lt;dbl&gt;</th><th scope=col>&lt;dbl&gt;</th><th scope=col>&lt;chr&gt;</th><th scope=col>&lt;chr&gt;</th></tr>\n",
       "</thead>\n",
       "<tbody>\n",
       "\t<tr><td>tau3</td><td>-2.8231544</td><td>-3.99</td><td>-3.43</td><td>-3.13</td><td>Accept</td><td>d0</td></tr>\n",
       "\t<tr><td>tau2</td><td>-2.5364805</td><td>-3.46</td><td>-2.88</td><td>-2.57</td><td>Accept</td><td>d0</td></tr>\n",
       "\t<tr><td>tau1</td><td> 0.2963414</td><td>-2.58</td><td>-1.95</td><td>-1.62</td><td>Accept</td><td>d0</td></tr>\n",
       "\t<tr><td>tau3</td><td>-8.4952862</td><td>-3.99</td><td>-3.43</td><td>-3.13</td><td>Reject</td><td>d1</td></tr>\n",
       "\t<tr><td>tau2</td><td>-8.5211827</td><td>-3.46</td><td>-2.88</td><td>-2.57</td><td>Reject</td><td>d1</td></tr>\n",
       "\t<tr><td>tau1</td><td>-8.5343629</td><td>-2.58</td><td>-1.95</td><td>-1.62</td><td>Reject</td><td>d1</td></tr>\n",
       "</tbody>\n",
       "</table>\n"
      ],
      "text/latex": [
       "A data.frame: 6 × 7\n",
       "\\begin{tabular}{lllllll}\n",
       " hypo & statistic & 1pct & 5pct & 10pct & result & level\\\\\n",
       " <chr> & <dbl> & <dbl> & <dbl> & <dbl> & <chr> & <chr>\\\\\n",
       "\\hline\n",
       "\t tau3 & -2.8231544 & -3.99 & -3.43 & -3.13 & Accept & d0\\\\\n",
       "\t tau2 & -2.5364805 & -3.46 & -2.88 & -2.57 & Accept & d0\\\\\n",
       "\t tau1 &  0.2963414 & -2.58 & -1.95 & -1.62 & Accept & d0\\\\\n",
       "\t tau3 & -8.4952862 & -3.99 & -3.43 & -3.13 & Reject & d1\\\\\n",
       "\t tau2 & -8.5211827 & -3.46 & -2.88 & -2.57 & Reject & d1\\\\\n",
       "\t tau1 & -8.5343629 & -2.58 & -1.95 & -1.62 & Reject & d1\\\\\n",
       "\\end{tabular}\n"
      ],
      "text/markdown": [
       "\n",
       "A data.frame: 6 × 7\n",
       "\n",
       "| hypo &lt;chr&gt; | statistic &lt;dbl&gt; | 1pct &lt;dbl&gt; | 5pct &lt;dbl&gt; | 10pct &lt;dbl&gt; | result &lt;chr&gt; | level &lt;chr&gt; |\n",
       "|---|---|---|---|---|---|---|\n",
       "| tau3 | -2.8231544 | -3.99 | -3.43 | -3.13 | Accept | d0 |\n",
       "| tau2 | -2.5364805 | -3.46 | -2.88 | -2.57 | Accept | d0 |\n",
       "| tau1 |  0.2963414 | -2.58 | -1.95 | -1.62 | Accept | d0 |\n",
       "| tau3 | -8.4952862 | -3.99 | -3.43 | -3.13 | Reject | d1 |\n",
       "| tau2 | -8.5211827 | -3.46 | -2.88 | -2.57 | Reject | d1 |\n",
       "| tau1 | -8.5343629 | -2.58 | -1.95 | -1.62 | Reject | d1 |\n",
       "\n"
      ],
      "text/plain": [
       "  hypo statistic  1pct  5pct  10pct result level\n",
       "1 tau3 -2.8231544 -3.99 -3.43 -3.13 Accept d0   \n",
       "2 tau2 -2.5364805 -3.46 -2.88 -2.57 Accept d0   \n",
       "3 tau1  0.2963414 -2.58 -1.95 -1.62 Accept d0   \n",
       "4 tau3 -8.4952862 -3.99 -3.43 -3.13 Reject d1   \n",
       "5 tau2 -8.5211827 -3.46 -2.88 -2.57 Reject d1   \n",
       "6 tau1 -8.5343629 -2.58 -1.95 -1.62 Reject d1   "
      ]
     },
     "metadata": {},
     "output_type": "display_data"
    }
   ],
   "source": [
    "# y = price_log[, 'RHXB'] %>% window(start = 2007)\n",
    "# y = price_log[, 'RHWS'] %>% window(start = 2007)\n",
    "y = price_log[, 'RGXB'] %>% window(start = 2007)\n",
    "\n",
    "rbind(ur_adf(y, 0), ur_adf(y, 1))"
   ]
  },
  {
   "cell_type": "code",
   "execution_count": 95,
   "metadata": {},
   "outputs": [
    {
     "data": {
      "image/png": "[encoded data removed]",
      "text/plain": [
       "plot without title"
      ]
     },
     "metadata": {
      "image/png": {
       "height": 600,
       "width": 1500
      },
      "text/plain": {
       "height": 600,
       "width": 1500
      }
     },
     "output_type": "display_data"
    }
   ],
   "source": [
    "plot(y)"
   ]
  },
  {
   "cell_type": "code",
   "execution_count": null,
   "metadata": {},
   "outputs": [],
   "source": []
  }
 ],
 "metadata": {
  "jupytext": {
   "formats": "ipynb,Rmd"
  },
  "kernelspec": {
   "display_name": "R",
   "language": "R",
   "name": "ir"
  },
  "language_info": {
   "codemirror_mode": "r",
   "file_extension": ".r",
   "mimetype": "text/x-r-source",
   "name": "R",
   "pygments_lexer": "r",
   "version": "4.0.2"
  },
  "toc-autonumbering": false,
  "toc-showtags": false
 },
 "nbformat": 4,
 "nbformat_minor": 4
}
